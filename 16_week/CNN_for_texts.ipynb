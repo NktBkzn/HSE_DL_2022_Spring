{
  "nbformat": 4,
  "nbformat_minor": 0,
  "metadata": {
    "accelerator": "GPU",
    "colab": {
      "name": "CNN_for_texts.ipynb",
      "provenance": [],
      "collapsed_sections": []
    },
    "kernelspec": {
      "display_name": "Python 3",
      "language": "python",
      "name": "python3"
    },
    "language_info": {
      "codemirror_mode": {
        "name": "ipython",
        "version": 3
      },
      "file_extension": ".py",
      "mimetype": "text/x-python",
      "name": "python",
      "nbconvert_exporter": "python",
      "pygments_lexer": "ipython3",
      "version": "3.5.2"
    },
    "widgets": {
      "application/vnd.jupyter.widget-state+json": {
        "6e897461e322425c8466b3f6a28a6cd5": {
          "model_module": "@jupyter-widgets/controls",
          "model_name": "HBoxModel",
          "model_module_version": "1.5.0",
          "state": {
            "_dom_classes": [],
            "_model_module": "@jupyter-widgets/controls",
            "_model_module_version": "1.5.0",
            "_model_name": "HBoxModel",
            "_view_count": null,
            "_view_module": "@jupyter-widgets/controls",
            "_view_module_version": "1.5.0",
            "_view_name": "HBoxView",
            "box_style": "",
            "children": [
              "IPY_MODEL_c1783a87766e45b18f7522c400a505ce",
              "IPY_MODEL_26c7d22a01da44be85eb20ba72c37d3c",
              "IPY_MODEL_b24142ee219d4341b872c45a56f94244"
            ],
            "layout": "IPY_MODEL_6334c7c5847f4d53b921b4bc429e9946"
          }
        },
        "c1783a87766e45b18f7522c400a505ce": {
          "model_module": "@jupyter-widgets/controls",
          "model_name": "HTMLModel",
          "model_module_version": "1.5.0",
          "state": {
            "_dom_classes": [],
            "_model_module": "@jupyter-widgets/controls",
            "_model_module_version": "1.5.0",
            "_model_name": "HTMLModel",
            "_view_count": null,
            "_view_module": "@jupyter-widgets/controls",
            "_view_module_version": "1.5.0",
            "_view_name": "HTMLView",
            "description": "",
            "description_tooltip": null,
            "layout": "IPY_MODEL_6c5f7f7ff1c04a4985d24c46e44d1adc",
            "placeholder": "​",
            "style": "IPY_MODEL_c06f238a526144c8bf2c6c2a85e56ff2",
            "value": ""
          }
        },
        "26c7d22a01da44be85eb20ba72c37d3c": {
          "model_module": "@jupyter-widgets/controls",
          "model_name": "FloatProgressModel",
          "model_module_version": "1.5.0",
          "state": {
            "_dom_classes": [],
            "_model_module": "@jupyter-widgets/controls",
            "_model_module_version": "1.5.0",
            "_model_name": "FloatProgressModel",
            "_view_count": null,
            "_view_module": "@jupyter-widgets/controls",
            "_view_module_version": "1.5.0",
            "_view_name": "ProgressView",
            "bar_style": "success",
            "description": "",
            "description_tooltip": null,
            "layout": "IPY_MODEL_86a9fb933dfb4a0cb041dfe623c0696a",
            "max": 1,
            "min": 0,
            "orientation": "horizontal",
            "style": "IPY_MODEL_7d25ddc41aa34c0f8e1050e6c7bfdf93",
            "value": 1
          }
        },
        "b24142ee219d4341b872c45a56f94244": {
          "model_module": "@jupyter-widgets/controls",
          "model_name": "HTMLModel",
          "model_module_version": "1.5.0",
          "state": {
            "_dom_classes": [],
            "_model_module": "@jupyter-widgets/controls",
            "_model_module_version": "1.5.0",
            "_model_name": "HTMLModel",
            "_view_count": null,
            "_view_module": "@jupyter-widgets/controls",
            "_view_module_version": "1.5.0",
            "_view_name": "HTMLView",
            "description": "",
            "description_tooltip": null,
            "layout": "IPY_MODEL_698ee487448b45008c7ee53a6442d6c1",
            "placeholder": "​",
            "style": "IPY_MODEL_82775a1f5d29460584deb6908c04e991",
            "value": " 765/? [01:50&lt;00:00,  8.88it/s]"
          }
        },
        "6334c7c5847f4d53b921b4bc429e9946": {
          "model_module": "@jupyter-widgets/base",
          "model_name": "LayoutModel",
          "model_module_version": "1.2.0",
          "state": {
            "_model_module": "@jupyter-widgets/base",
            "_model_module_version": "1.2.0",
            "_model_name": "LayoutModel",
            "_view_count": null,
            "_view_module": "@jupyter-widgets/base",
            "_view_module_version": "1.2.0",
            "_view_name": "LayoutView",
            "align_content": null,
            "align_items": null,
            "align_self": null,
            "border": null,
            "bottom": null,
            "display": null,
            "flex": null,
            "flex_flow": null,
            "grid_area": null,
            "grid_auto_columns": null,
            "grid_auto_flow": null,
            "grid_auto_rows": null,
            "grid_column": null,
            "grid_gap": null,
            "grid_row": null,
            "grid_template_areas": null,
            "grid_template_columns": null,
            "grid_template_rows": null,
            "height": null,
            "justify_content": null,
            "justify_items": null,
            "left": null,
            "margin": null,
            "max_height": null,
            "max_width": null,
            "min_height": null,
            "min_width": null,
            "object_fit": null,
            "object_position": null,
            "order": null,
            "overflow": null,
            "overflow_x": null,
            "overflow_y": null,
            "padding": null,
            "right": null,
            "top": null,
            "visibility": null,
            "width": null
          }
        },
        "6c5f7f7ff1c04a4985d24c46e44d1adc": {
          "model_module": "@jupyter-widgets/base",
          "model_name": "LayoutModel",
          "model_module_version": "1.2.0",
          "state": {
            "_model_module": "@jupyter-widgets/base",
            "_model_module_version": "1.2.0",
            "_model_name": "LayoutModel",
            "_view_count": null,
            "_view_module": "@jupyter-widgets/base",
            "_view_module_version": "1.2.0",
            "_view_name": "LayoutView",
            "align_content": null,
            "align_items": null,
            "align_self": null,
            "border": null,
            "bottom": null,
            "display": null,
            "flex": null,
            "flex_flow": null,
            "grid_area": null,
            "grid_auto_columns": null,
            "grid_auto_flow": null,
            "grid_auto_rows": null,
            "grid_column": null,
            "grid_gap": null,
            "grid_row": null,
            "grid_template_areas": null,
            "grid_template_columns": null,
            "grid_template_rows": null,
            "height": null,
            "justify_content": null,
            "justify_items": null,
            "left": null,
            "margin": null,
            "max_height": null,
            "max_width": null,
            "min_height": null,
            "min_width": null,
            "object_fit": null,
            "object_position": null,
            "order": null,
            "overflow": null,
            "overflow_x": null,
            "overflow_y": null,
            "padding": null,
            "right": null,
            "top": null,
            "visibility": null,
            "width": null
          }
        },
        "c06f238a526144c8bf2c6c2a85e56ff2": {
          "model_module": "@jupyter-widgets/controls",
          "model_name": "DescriptionStyleModel",
          "model_module_version": "1.5.0",
          "state": {
            "_model_module": "@jupyter-widgets/controls",
            "_model_module_version": "1.5.0",
            "_model_name": "DescriptionStyleModel",
            "_view_count": null,
            "_view_module": "@jupyter-widgets/base",
            "_view_module_version": "1.2.0",
            "_view_name": "StyleView",
            "description_width": ""
          }
        },
        "86a9fb933dfb4a0cb041dfe623c0696a": {
          "model_module": "@jupyter-widgets/base",
          "model_name": "LayoutModel",
          "model_module_version": "1.2.0",
          "state": {
            "_model_module": "@jupyter-widgets/base",
            "_model_module_version": "1.2.0",
            "_model_name": "LayoutModel",
            "_view_count": null,
            "_view_module": "@jupyter-widgets/base",
            "_view_module_version": "1.2.0",
            "_view_name": "LayoutView",
            "align_content": null,
            "align_items": null,
            "align_self": null,
            "border": null,
            "bottom": null,
            "display": null,
            "flex": null,
            "flex_flow": null,
            "grid_area": null,
            "grid_auto_columns": null,
            "grid_auto_flow": null,
            "grid_auto_rows": null,
            "grid_column": null,
            "grid_gap": null,
            "grid_row": null,
            "grid_template_areas": null,
            "grid_template_columns": null,
            "grid_template_rows": null,
            "height": null,
            "justify_content": null,
            "justify_items": null,
            "left": null,
            "margin": null,
            "max_height": null,
            "max_width": null,
            "min_height": null,
            "min_width": null,
            "object_fit": null,
            "object_position": null,
            "order": null,
            "overflow": null,
            "overflow_x": null,
            "overflow_y": null,
            "padding": null,
            "right": null,
            "top": null,
            "visibility": null,
            "width": "20px"
          }
        },
        "7d25ddc41aa34c0f8e1050e6c7bfdf93": {
          "model_module": "@jupyter-widgets/controls",
          "model_name": "ProgressStyleModel",
          "model_module_version": "1.5.0",
          "state": {
            "_model_module": "@jupyter-widgets/controls",
            "_model_module_version": "1.5.0",
            "_model_name": "ProgressStyleModel",
            "_view_count": null,
            "_view_module": "@jupyter-widgets/base",
            "_view_module_version": "1.2.0",
            "_view_name": "StyleView",
            "bar_color": null,
            "description_width": ""
          }
        },
        "698ee487448b45008c7ee53a6442d6c1": {
          "model_module": "@jupyter-widgets/base",
          "model_name": "LayoutModel",
          "model_module_version": "1.2.0",
          "state": {
            "_model_module": "@jupyter-widgets/base",
            "_model_module_version": "1.2.0",
            "_model_name": "LayoutModel",
            "_view_count": null,
            "_view_module": "@jupyter-widgets/base",
            "_view_module_version": "1.2.0",
            "_view_name": "LayoutView",
            "align_content": null,
            "align_items": null,
            "align_self": null,
            "border": null,
            "bottom": null,
            "display": null,
            "flex": null,
            "flex_flow": null,
            "grid_area": null,
            "grid_auto_columns": null,
            "grid_auto_flow": null,
            "grid_auto_rows": null,
            "grid_column": null,
            "grid_gap": null,
            "grid_row": null,
            "grid_template_areas": null,
            "grid_template_columns": null,
            "grid_template_rows": null,
            "height": null,
            "justify_content": null,
            "justify_items": null,
            "left": null,
            "margin": null,
            "max_height": null,
            "max_width": null,
            "min_height": null,
            "min_width": null,
            "object_fit": null,
            "object_position": null,
            "order": null,
            "overflow": null,
            "overflow_x": null,
            "overflow_y": null,
            "padding": null,
            "right": null,
            "top": null,
            "visibility": null,
            "width": null
          }
        },
        "82775a1f5d29460584deb6908c04e991": {
          "model_module": "@jupyter-widgets/controls",
          "model_name": "DescriptionStyleModel",
          "model_module_version": "1.5.0",
          "state": {
            "_model_module": "@jupyter-widgets/controls",
            "_model_module_version": "1.5.0",
            "_model_name": "DescriptionStyleModel",
            "_view_count": null,
            "_view_module": "@jupyter-widgets/base",
            "_view_module_version": "1.2.0",
            "_view_name": "StyleView",
            "description_width": ""
          }
        },
        "f988d1347b714f1996352dbb15e6fc45": {
          "model_module": "@jupyter-widgets/controls",
          "model_name": "HBoxModel",
          "model_module_version": "1.5.0",
          "state": {
            "_dom_classes": [],
            "_model_module": "@jupyter-widgets/controls",
            "_model_module_version": "1.5.0",
            "_model_name": "HBoxModel",
            "_view_count": null,
            "_view_module": "@jupyter-widgets/controls",
            "_view_module_version": "1.5.0",
            "_view_name": "HBoxView",
            "box_style": "",
            "children": [
              "IPY_MODEL_25f807340d624fe68ac5ee467a781d7e",
              "IPY_MODEL_7979ed9ca03e44c289c9ec89bdc3acac",
              "IPY_MODEL_d172499f5a8141619d6bc3aedc4288c8"
            ],
            "layout": "IPY_MODEL_2d32d0045bc54c2db6f0f4da6d727648"
          }
        },
        "25f807340d624fe68ac5ee467a781d7e": {
          "model_module": "@jupyter-widgets/controls",
          "model_name": "HTMLModel",
          "model_module_version": "1.5.0",
          "state": {
            "_dom_classes": [],
            "_model_module": "@jupyter-widgets/controls",
            "_model_module_version": "1.5.0",
            "_model_name": "HTMLModel",
            "_view_count": null,
            "_view_module": "@jupyter-widgets/controls",
            "_view_module_version": "1.5.0",
            "_view_name": "HTMLView",
            "description": "",
            "description_tooltip": null,
            "layout": "IPY_MODEL_076b9a122a71432e9f3917e407cdeec0",
            "placeholder": "​",
            "style": "IPY_MODEL_0404291b8e624d41acb9e4ec8046be87",
            "value": ""
          }
        },
        "7979ed9ca03e44c289c9ec89bdc3acac": {
          "model_module": "@jupyter-widgets/controls",
          "model_name": "FloatProgressModel",
          "model_module_version": "1.5.0",
          "state": {
            "_dom_classes": [],
            "_model_module": "@jupyter-widgets/controls",
            "_model_module_version": "1.5.0",
            "_model_name": "FloatProgressModel",
            "_view_count": null,
            "_view_module": "@jupyter-widgets/controls",
            "_view_module_version": "1.5.0",
            "_view_name": "ProgressView",
            "bar_style": "success",
            "description": "",
            "description_tooltip": null,
            "layout": "IPY_MODEL_1a0ca3f0d89e4bb8bd302ca00f4fdeee",
            "max": 1,
            "min": 0,
            "orientation": "horizontal",
            "style": "IPY_MODEL_e30256ce51fe40e89741ea78719908f6",
            "value": 1
          }
        },
        "d172499f5a8141619d6bc3aedc4288c8": {
          "model_module": "@jupyter-widgets/controls",
          "model_name": "HTMLModel",
          "model_module_version": "1.5.0",
          "state": {
            "_dom_classes": [],
            "_model_module": "@jupyter-widgets/controls",
            "_model_module_version": "1.5.0",
            "_model_name": "HTMLModel",
            "_view_count": null,
            "_view_module": "@jupyter-widgets/controls",
            "_view_module_version": "1.5.0",
            "_view_name": "HTMLView",
            "description": "",
            "description_tooltip": null,
            "layout": "IPY_MODEL_6225a112ce0948deb34b01498a2325d0",
            "placeholder": "​",
            "style": "IPY_MODEL_3d8082e87b78457c832e85d51b31f555",
            "value": " 765/? [00:53&lt;00:00, 15.86it/s]"
          }
        },
        "2d32d0045bc54c2db6f0f4da6d727648": {
          "model_module": "@jupyter-widgets/base",
          "model_name": "LayoutModel",
          "model_module_version": "1.2.0",
          "state": {
            "_model_module": "@jupyter-widgets/base",
            "_model_module_version": "1.2.0",
            "_model_name": "LayoutModel",
            "_view_count": null,
            "_view_module": "@jupyter-widgets/base",
            "_view_module_version": "1.2.0",
            "_view_name": "LayoutView",
            "align_content": null,
            "align_items": null,
            "align_self": null,
            "border": null,
            "bottom": null,
            "display": null,
            "flex": null,
            "flex_flow": null,
            "grid_area": null,
            "grid_auto_columns": null,
            "grid_auto_flow": null,
            "grid_auto_rows": null,
            "grid_column": null,
            "grid_gap": null,
            "grid_row": null,
            "grid_template_areas": null,
            "grid_template_columns": null,
            "grid_template_rows": null,
            "height": null,
            "justify_content": null,
            "justify_items": null,
            "left": null,
            "margin": null,
            "max_height": null,
            "max_width": null,
            "min_height": null,
            "min_width": null,
            "object_fit": null,
            "object_position": null,
            "order": null,
            "overflow": null,
            "overflow_x": null,
            "overflow_y": null,
            "padding": null,
            "right": null,
            "top": null,
            "visibility": null,
            "width": null
          }
        },
        "076b9a122a71432e9f3917e407cdeec0": {
          "model_module": "@jupyter-widgets/base",
          "model_name": "LayoutModel",
          "model_module_version": "1.2.0",
          "state": {
            "_model_module": "@jupyter-widgets/base",
            "_model_module_version": "1.2.0",
            "_model_name": "LayoutModel",
            "_view_count": null,
            "_view_module": "@jupyter-widgets/base",
            "_view_module_version": "1.2.0",
            "_view_name": "LayoutView",
            "align_content": null,
            "align_items": null,
            "align_self": null,
            "border": null,
            "bottom": null,
            "display": null,
            "flex": null,
            "flex_flow": null,
            "grid_area": null,
            "grid_auto_columns": null,
            "grid_auto_flow": null,
            "grid_auto_rows": null,
            "grid_column": null,
            "grid_gap": null,
            "grid_row": null,
            "grid_template_areas": null,
            "grid_template_columns": null,
            "grid_template_rows": null,
            "height": null,
            "justify_content": null,
            "justify_items": null,
            "left": null,
            "margin": null,
            "max_height": null,
            "max_width": null,
            "min_height": null,
            "min_width": null,
            "object_fit": null,
            "object_position": null,
            "order": null,
            "overflow": null,
            "overflow_x": null,
            "overflow_y": null,
            "padding": null,
            "right": null,
            "top": null,
            "visibility": null,
            "width": null
          }
        },
        "0404291b8e624d41acb9e4ec8046be87": {
          "model_module": "@jupyter-widgets/controls",
          "model_name": "DescriptionStyleModel",
          "model_module_version": "1.5.0",
          "state": {
            "_model_module": "@jupyter-widgets/controls",
            "_model_module_version": "1.5.0",
            "_model_name": "DescriptionStyleModel",
            "_view_count": null,
            "_view_module": "@jupyter-widgets/base",
            "_view_module_version": "1.2.0",
            "_view_name": "StyleView",
            "description_width": ""
          }
        },
        "1a0ca3f0d89e4bb8bd302ca00f4fdeee": {
          "model_module": "@jupyter-widgets/base",
          "model_name": "LayoutModel",
          "model_module_version": "1.2.0",
          "state": {
            "_model_module": "@jupyter-widgets/base",
            "_model_module_version": "1.2.0",
            "_model_name": "LayoutModel",
            "_view_count": null,
            "_view_module": "@jupyter-widgets/base",
            "_view_module_version": "1.2.0",
            "_view_name": "LayoutView",
            "align_content": null,
            "align_items": null,
            "align_self": null,
            "border": null,
            "bottom": null,
            "display": null,
            "flex": null,
            "flex_flow": null,
            "grid_area": null,
            "grid_auto_columns": null,
            "grid_auto_flow": null,
            "grid_auto_rows": null,
            "grid_column": null,
            "grid_gap": null,
            "grid_row": null,
            "grid_template_areas": null,
            "grid_template_columns": null,
            "grid_template_rows": null,
            "height": null,
            "justify_content": null,
            "justify_items": null,
            "left": null,
            "margin": null,
            "max_height": null,
            "max_width": null,
            "min_height": null,
            "min_width": null,
            "object_fit": null,
            "object_position": null,
            "order": null,
            "overflow": null,
            "overflow_x": null,
            "overflow_y": null,
            "padding": null,
            "right": null,
            "top": null,
            "visibility": null,
            "width": "20px"
          }
        },
        "e30256ce51fe40e89741ea78719908f6": {
          "model_module": "@jupyter-widgets/controls",
          "model_name": "ProgressStyleModel",
          "model_module_version": "1.5.0",
          "state": {
            "_model_module": "@jupyter-widgets/controls",
            "_model_module_version": "1.5.0",
            "_model_name": "ProgressStyleModel",
            "_view_count": null,
            "_view_module": "@jupyter-widgets/base",
            "_view_module_version": "1.2.0",
            "_view_name": "StyleView",
            "bar_color": null,
            "description_width": ""
          }
        },
        "6225a112ce0948deb34b01498a2325d0": {
          "model_module": "@jupyter-widgets/base",
          "model_name": "LayoutModel",
          "model_module_version": "1.2.0",
          "state": {
            "_model_module": "@jupyter-widgets/base",
            "_model_module_version": "1.2.0",
            "_model_name": "LayoutModel",
            "_view_count": null,
            "_view_module": "@jupyter-widgets/base",
            "_view_module_version": "1.2.0",
            "_view_name": "LayoutView",
            "align_content": null,
            "align_items": null,
            "align_self": null,
            "border": null,
            "bottom": null,
            "display": null,
            "flex": null,
            "flex_flow": null,
            "grid_area": null,
            "grid_auto_columns": null,
            "grid_auto_flow": null,
            "grid_auto_rows": null,
            "grid_column": null,
            "grid_gap": null,
            "grid_row": null,
            "grid_template_areas": null,
            "grid_template_columns": null,
            "grid_template_rows": null,
            "height": null,
            "justify_content": null,
            "justify_items": null,
            "left": null,
            "margin": null,
            "max_height": null,
            "max_width": null,
            "min_height": null,
            "min_width": null,
            "object_fit": null,
            "object_position": null,
            "order": null,
            "overflow": null,
            "overflow_x": null,
            "overflow_y": null,
            "padding": null,
            "right": null,
            "top": null,
            "visibility": null,
            "width": null
          }
        },
        "3d8082e87b78457c832e85d51b31f555": {
          "model_module": "@jupyter-widgets/controls",
          "model_name": "DescriptionStyleModel",
          "model_module_version": "1.5.0",
          "state": {
            "_model_module": "@jupyter-widgets/controls",
            "_model_module_version": "1.5.0",
            "_model_name": "DescriptionStyleModel",
            "_view_count": null,
            "_view_module": "@jupyter-widgets/base",
            "_view_module_version": "1.2.0",
            "_view_name": "StyleView",
            "description_width": ""
          }
        },
        "8cf0f0209ad747d4a6314ad3d8ef6a8e": {
          "model_module": "@jupyter-widgets/controls",
          "model_name": "HBoxModel",
          "model_module_version": "1.5.0",
          "state": {
            "_dom_classes": [],
            "_model_module": "@jupyter-widgets/controls",
            "_model_module_version": "1.5.0",
            "_model_name": "HBoxModel",
            "_view_count": null,
            "_view_module": "@jupyter-widgets/controls",
            "_view_module_version": "1.5.0",
            "_view_name": "HBoxView",
            "box_style": "",
            "children": [
              "IPY_MODEL_f51d58035624463e83e4a8fc7ad8b103",
              "IPY_MODEL_915bdfead5734383aa8bec76dee88fcd",
              "IPY_MODEL_7e9b52155f3e4d49aea931962bf13af9"
            ],
            "layout": "IPY_MODEL_a29f5dc12f9a4985840a03684d40a76f"
          }
        },
        "f51d58035624463e83e4a8fc7ad8b103": {
          "model_module": "@jupyter-widgets/controls",
          "model_name": "HTMLModel",
          "model_module_version": "1.5.0",
          "state": {
            "_dom_classes": [],
            "_model_module": "@jupyter-widgets/controls",
            "_model_module_version": "1.5.0",
            "_model_name": "HTMLModel",
            "_view_count": null,
            "_view_module": "@jupyter-widgets/controls",
            "_view_module_version": "1.5.0",
            "_view_name": "HTMLView",
            "description": "",
            "description_tooltip": null,
            "layout": "IPY_MODEL_ad562e0fc40c465cb6681377a51fefc1",
            "placeholder": "​",
            "style": "IPY_MODEL_adefcb45a71444a0a7ff2137561dd5ba",
            "value": ""
          }
        },
        "915bdfead5734383aa8bec76dee88fcd": {
          "model_module": "@jupyter-widgets/controls",
          "model_name": "FloatProgressModel",
          "model_module_version": "1.5.0",
          "state": {
            "_dom_classes": [],
            "_model_module": "@jupyter-widgets/controls",
            "_model_module_version": "1.5.0",
            "_model_name": "FloatProgressModel",
            "_view_count": null,
            "_view_module": "@jupyter-widgets/controls",
            "_view_module_version": "1.5.0",
            "_view_name": "ProgressView",
            "bar_style": "success",
            "description": "",
            "description_tooltip": null,
            "layout": "IPY_MODEL_61f4a2abb02a47e38ed06b043b2ff472",
            "max": 1,
            "min": 0,
            "orientation": "horizontal",
            "style": "IPY_MODEL_2dfd154964724943b1fffa58b4c1da69",
            "value": 1
          }
        },
        "7e9b52155f3e4d49aea931962bf13af9": {
          "model_module": "@jupyter-widgets/controls",
          "model_name": "HTMLModel",
          "model_module_version": "1.5.0",
          "state": {
            "_dom_classes": [],
            "_model_module": "@jupyter-widgets/controls",
            "_model_module_version": "1.5.0",
            "_model_name": "HTMLModel",
            "_view_count": null,
            "_view_module": "@jupyter-widgets/controls",
            "_view_module_version": "1.5.0",
            "_view_name": "HTMLView",
            "description": "",
            "description_tooltip": null,
            "layout": "IPY_MODEL_ec1dc68e6b804f10b0f9a31c91ea735e",
            "placeholder": "​",
            "style": "IPY_MODEL_f79a07ac010645148627f4612e8626c1",
            "value": " 192/? [00:13&lt;00:00, 14.70it/s]"
          }
        },
        "a29f5dc12f9a4985840a03684d40a76f": {
          "model_module": "@jupyter-widgets/base",
          "model_name": "LayoutModel",
          "model_module_version": "1.2.0",
          "state": {
            "_model_module": "@jupyter-widgets/base",
            "_model_module_version": "1.2.0",
            "_model_name": "LayoutModel",
            "_view_count": null,
            "_view_module": "@jupyter-widgets/base",
            "_view_module_version": "1.2.0",
            "_view_name": "LayoutView",
            "align_content": null,
            "align_items": null,
            "align_self": null,
            "border": null,
            "bottom": null,
            "display": null,
            "flex": null,
            "flex_flow": null,
            "grid_area": null,
            "grid_auto_columns": null,
            "grid_auto_flow": null,
            "grid_auto_rows": null,
            "grid_column": null,
            "grid_gap": null,
            "grid_row": null,
            "grid_template_areas": null,
            "grid_template_columns": null,
            "grid_template_rows": null,
            "height": null,
            "justify_content": null,
            "justify_items": null,
            "left": null,
            "margin": null,
            "max_height": null,
            "max_width": null,
            "min_height": null,
            "min_width": null,
            "object_fit": null,
            "object_position": null,
            "order": null,
            "overflow": null,
            "overflow_x": null,
            "overflow_y": null,
            "padding": null,
            "right": null,
            "top": null,
            "visibility": null,
            "width": null
          }
        },
        "ad562e0fc40c465cb6681377a51fefc1": {
          "model_module": "@jupyter-widgets/base",
          "model_name": "LayoutModel",
          "model_module_version": "1.2.0",
          "state": {
            "_model_module": "@jupyter-widgets/base",
            "_model_module_version": "1.2.0",
            "_model_name": "LayoutModel",
            "_view_count": null,
            "_view_module": "@jupyter-widgets/base",
            "_view_module_version": "1.2.0",
            "_view_name": "LayoutView",
            "align_content": null,
            "align_items": null,
            "align_self": null,
            "border": null,
            "bottom": null,
            "display": null,
            "flex": null,
            "flex_flow": null,
            "grid_area": null,
            "grid_auto_columns": null,
            "grid_auto_flow": null,
            "grid_auto_rows": null,
            "grid_column": null,
            "grid_gap": null,
            "grid_row": null,
            "grid_template_areas": null,
            "grid_template_columns": null,
            "grid_template_rows": null,
            "height": null,
            "justify_content": null,
            "justify_items": null,
            "left": null,
            "margin": null,
            "max_height": null,
            "max_width": null,
            "min_height": null,
            "min_width": null,
            "object_fit": null,
            "object_position": null,
            "order": null,
            "overflow": null,
            "overflow_x": null,
            "overflow_y": null,
            "padding": null,
            "right": null,
            "top": null,
            "visibility": null,
            "width": null
          }
        },
        "adefcb45a71444a0a7ff2137561dd5ba": {
          "model_module": "@jupyter-widgets/controls",
          "model_name": "DescriptionStyleModel",
          "model_module_version": "1.5.0",
          "state": {
            "_model_module": "@jupyter-widgets/controls",
            "_model_module_version": "1.5.0",
            "_model_name": "DescriptionStyleModel",
            "_view_count": null,
            "_view_module": "@jupyter-widgets/base",
            "_view_module_version": "1.2.0",
            "_view_name": "StyleView",
            "description_width": ""
          }
        },
        "61f4a2abb02a47e38ed06b043b2ff472": {
          "model_module": "@jupyter-widgets/base",
          "model_name": "LayoutModel",
          "model_module_version": "1.2.0",
          "state": {
            "_model_module": "@jupyter-widgets/base",
            "_model_module_version": "1.2.0",
            "_model_name": "LayoutModel",
            "_view_count": null,
            "_view_module": "@jupyter-widgets/base",
            "_view_module_version": "1.2.0",
            "_view_name": "LayoutView",
            "align_content": null,
            "align_items": null,
            "align_self": null,
            "border": null,
            "bottom": null,
            "display": null,
            "flex": null,
            "flex_flow": null,
            "grid_area": null,
            "grid_auto_columns": null,
            "grid_auto_flow": null,
            "grid_auto_rows": null,
            "grid_column": null,
            "grid_gap": null,
            "grid_row": null,
            "grid_template_areas": null,
            "grid_template_columns": null,
            "grid_template_rows": null,
            "height": null,
            "justify_content": null,
            "justify_items": null,
            "left": null,
            "margin": null,
            "max_height": null,
            "max_width": null,
            "min_height": null,
            "min_width": null,
            "object_fit": null,
            "object_position": null,
            "order": null,
            "overflow": null,
            "overflow_x": null,
            "overflow_y": null,
            "padding": null,
            "right": null,
            "top": null,
            "visibility": null,
            "width": "20px"
          }
        },
        "2dfd154964724943b1fffa58b4c1da69": {
          "model_module": "@jupyter-widgets/controls",
          "model_name": "ProgressStyleModel",
          "model_module_version": "1.5.0",
          "state": {
            "_model_module": "@jupyter-widgets/controls",
            "_model_module_version": "1.5.0",
            "_model_name": "ProgressStyleModel",
            "_view_count": null,
            "_view_module": "@jupyter-widgets/base",
            "_view_module_version": "1.2.0",
            "_view_name": "StyleView",
            "bar_color": null,
            "description_width": ""
          }
        },
        "ec1dc68e6b804f10b0f9a31c91ea735e": {
          "model_module": "@jupyter-widgets/base",
          "model_name": "LayoutModel",
          "model_module_version": "1.2.0",
          "state": {
            "_model_module": "@jupyter-widgets/base",
            "_model_module_version": "1.2.0",
            "_model_name": "LayoutModel",
            "_view_count": null,
            "_view_module": "@jupyter-widgets/base",
            "_view_module_version": "1.2.0",
            "_view_name": "LayoutView",
            "align_content": null,
            "align_items": null,
            "align_self": null,
            "border": null,
            "bottom": null,
            "display": null,
            "flex": null,
            "flex_flow": null,
            "grid_area": null,
            "grid_auto_columns": null,
            "grid_auto_flow": null,
            "grid_auto_rows": null,
            "grid_column": null,
            "grid_gap": null,
            "grid_row": null,
            "grid_template_areas": null,
            "grid_template_columns": null,
            "grid_template_rows": null,
            "height": null,
            "justify_content": null,
            "justify_items": null,
            "left": null,
            "margin": null,
            "max_height": null,
            "max_width": null,
            "min_height": null,
            "min_width": null,
            "object_fit": null,
            "object_position": null,
            "order": null,
            "overflow": null,
            "overflow_x": null,
            "overflow_y": null,
            "padding": null,
            "right": null,
            "top": null,
            "visibility": null,
            "width": null
          }
        },
        "f79a07ac010645148627f4612e8626c1": {
          "model_module": "@jupyter-widgets/controls",
          "model_name": "DescriptionStyleModel",
          "model_module_version": "1.5.0",
          "state": {
            "_model_module": "@jupyter-widgets/controls",
            "_model_module_version": "1.5.0",
            "_model_name": "DescriptionStyleModel",
            "_view_count": null,
            "_view_module": "@jupyter-widgets/base",
            "_view_module_version": "1.2.0",
            "_view_name": "StyleView",
            "description_width": ""
          }
        },
        "ea9edc2ee313473b95c494a20579639c": {
          "model_module": "@jupyter-widgets/controls",
          "model_name": "HBoxModel",
          "model_module_version": "1.5.0",
          "state": {
            "_dom_classes": [],
            "_model_module": "@jupyter-widgets/controls",
            "_model_module_version": "1.5.0",
            "_model_name": "HBoxModel",
            "_view_count": null,
            "_view_module": "@jupyter-widgets/controls",
            "_view_module_version": "1.5.0",
            "_view_name": "HBoxView",
            "box_style": "",
            "children": [
              "IPY_MODEL_d8b7185d864b470280ca8ea8bd1885fe",
              "IPY_MODEL_9f72e72e8cfd47d5bea71d90a61ba20a",
              "IPY_MODEL_2e5a10f9b8ee400c98d2dde3110c6f76"
            ],
            "layout": "IPY_MODEL_7a92d0913b124ab68c8990bd13f8a7fa"
          }
        },
        "d8b7185d864b470280ca8ea8bd1885fe": {
          "model_module": "@jupyter-widgets/controls",
          "model_name": "HTMLModel",
          "model_module_version": "1.5.0",
          "state": {
            "_dom_classes": [],
            "_model_module": "@jupyter-widgets/controls",
            "_model_module_version": "1.5.0",
            "_model_name": "HTMLModel",
            "_view_count": null,
            "_view_module": "@jupyter-widgets/controls",
            "_view_module_version": "1.5.0",
            "_view_name": "HTMLView",
            "description": "",
            "description_tooltip": null,
            "layout": "IPY_MODEL_f396f723755f4c7b9690604fac945b7d",
            "placeholder": "​",
            "style": "IPY_MODEL_1949e780a72a42399a5dee7b8591fc34",
            "value": "100%"
          }
        },
        "9f72e72e8cfd47d5bea71d90a61ba20a": {
          "model_module": "@jupyter-widgets/controls",
          "model_name": "FloatProgressModel",
          "model_module_version": "1.5.0",
          "state": {
            "_dom_classes": [],
            "_model_module": "@jupyter-widgets/controls",
            "_model_module_version": "1.5.0",
            "_model_name": "FloatProgressModel",
            "_view_count": null,
            "_view_module": "@jupyter-widgets/controls",
            "_view_module_version": "1.5.0",
            "_view_name": "ProgressView",
            "bar_style": "success",
            "description": "",
            "description_tooltip": null,
            "layout": "IPY_MODEL_39b8ab034ebe49d79cafb69a301cf6e6",
            "max": 10,
            "min": 0,
            "orientation": "horizontal",
            "style": "IPY_MODEL_4f30d0510915432999bc4fac047fc6c0",
            "value": 10
          }
        },
        "2e5a10f9b8ee400c98d2dde3110c6f76": {
          "model_module": "@jupyter-widgets/controls",
          "model_name": "HTMLModel",
          "model_module_version": "1.5.0",
          "state": {
            "_dom_classes": [],
            "_model_module": "@jupyter-widgets/controls",
            "_model_module_version": "1.5.0",
            "_model_name": "HTMLModel",
            "_view_count": null,
            "_view_module": "@jupyter-widgets/controls",
            "_view_module_version": "1.5.0",
            "_view_name": "HTMLView",
            "description": "",
            "description_tooltip": null,
            "layout": "IPY_MODEL_d5be9325d8644569b65862548664b3d6",
            "placeholder": "​",
            "style": "IPY_MODEL_be61dca1498549c8a44098ef6e51a50e",
            "value": " 10/10 [13:27&lt;00:00, 82.45s/it]"
          }
        },
        "7a92d0913b124ab68c8990bd13f8a7fa": {
          "model_module": "@jupyter-widgets/base",
          "model_name": "LayoutModel",
          "model_module_version": "1.2.0",
          "state": {
            "_model_module": "@jupyter-widgets/base",
            "_model_module_version": "1.2.0",
            "_model_name": "LayoutModel",
            "_view_count": null,
            "_view_module": "@jupyter-widgets/base",
            "_view_module_version": "1.2.0",
            "_view_name": "LayoutView",
            "align_content": null,
            "align_items": null,
            "align_self": null,
            "border": null,
            "bottom": null,
            "display": null,
            "flex": null,
            "flex_flow": null,
            "grid_area": null,
            "grid_auto_columns": null,
            "grid_auto_flow": null,
            "grid_auto_rows": null,
            "grid_column": null,
            "grid_gap": null,
            "grid_row": null,
            "grid_template_areas": null,
            "grid_template_columns": null,
            "grid_template_rows": null,
            "height": null,
            "justify_content": null,
            "justify_items": null,
            "left": null,
            "margin": null,
            "max_height": null,
            "max_width": null,
            "min_height": null,
            "min_width": null,
            "object_fit": null,
            "object_position": null,
            "order": null,
            "overflow": null,
            "overflow_x": null,
            "overflow_y": null,
            "padding": null,
            "right": null,
            "top": null,
            "visibility": null,
            "width": null
          }
        },
        "f396f723755f4c7b9690604fac945b7d": {
          "model_module": "@jupyter-widgets/base",
          "model_name": "LayoutModel",
          "model_module_version": "1.2.0",
          "state": {
            "_model_module": "@jupyter-widgets/base",
            "_model_module_version": "1.2.0",
            "_model_name": "LayoutModel",
            "_view_count": null,
            "_view_module": "@jupyter-widgets/base",
            "_view_module_version": "1.2.0",
            "_view_name": "LayoutView",
            "align_content": null,
            "align_items": null,
            "align_self": null,
            "border": null,
            "bottom": null,
            "display": null,
            "flex": null,
            "flex_flow": null,
            "grid_area": null,
            "grid_auto_columns": null,
            "grid_auto_flow": null,
            "grid_auto_rows": null,
            "grid_column": null,
            "grid_gap": null,
            "grid_row": null,
            "grid_template_areas": null,
            "grid_template_columns": null,
            "grid_template_rows": null,
            "height": null,
            "justify_content": null,
            "justify_items": null,
            "left": null,
            "margin": null,
            "max_height": null,
            "max_width": null,
            "min_height": null,
            "min_width": null,
            "object_fit": null,
            "object_position": null,
            "order": null,
            "overflow": null,
            "overflow_x": null,
            "overflow_y": null,
            "padding": null,
            "right": null,
            "top": null,
            "visibility": null,
            "width": null
          }
        },
        "1949e780a72a42399a5dee7b8591fc34": {
          "model_module": "@jupyter-widgets/controls",
          "model_name": "DescriptionStyleModel",
          "model_module_version": "1.5.0",
          "state": {
            "_model_module": "@jupyter-widgets/controls",
            "_model_module_version": "1.5.0",
            "_model_name": "DescriptionStyleModel",
            "_view_count": null,
            "_view_module": "@jupyter-widgets/base",
            "_view_module_version": "1.2.0",
            "_view_name": "StyleView",
            "description_width": ""
          }
        },
        "39b8ab034ebe49d79cafb69a301cf6e6": {
          "model_module": "@jupyter-widgets/base",
          "model_name": "LayoutModel",
          "model_module_version": "1.2.0",
          "state": {
            "_model_module": "@jupyter-widgets/base",
            "_model_module_version": "1.2.0",
            "_model_name": "LayoutModel",
            "_view_count": null,
            "_view_module": "@jupyter-widgets/base",
            "_view_module_version": "1.2.0",
            "_view_name": "LayoutView",
            "align_content": null,
            "align_items": null,
            "align_self": null,
            "border": null,
            "bottom": null,
            "display": null,
            "flex": null,
            "flex_flow": null,
            "grid_area": null,
            "grid_auto_columns": null,
            "grid_auto_flow": null,
            "grid_auto_rows": null,
            "grid_column": null,
            "grid_gap": null,
            "grid_row": null,
            "grid_template_areas": null,
            "grid_template_columns": null,
            "grid_template_rows": null,
            "height": null,
            "justify_content": null,
            "justify_items": null,
            "left": null,
            "margin": null,
            "max_height": null,
            "max_width": null,
            "min_height": null,
            "min_width": null,
            "object_fit": null,
            "object_position": null,
            "order": null,
            "overflow": null,
            "overflow_x": null,
            "overflow_y": null,
            "padding": null,
            "right": null,
            "top": null,
            "visibility": null,
            "width": null
          }
        },
        "4f30d0510915432999bc4fac047fc6c0": {
          "model_module": "@jupyter-widgets/controls",
          "model_name": "ProgressStyleModel",
          "model_module_version": "1.5.0",
          "state": {
            "_model_module": "@jupyter-widgets/controls",
            "_model_module_version": "1.5.0",
            "_model_name": "ProgressStyleModel",
            "_view_count": null,
            "_view_module": "@jupyter-widgets/base",
            "_view_module_version": "1.2.0",
            "_view_name": "StyleView",
            "bar_color": null,
            "description_width": ""
          }
        },
        "d5be9325d8644569b65862548664b3d6": {
          "model_module": "@jupyter-widgets/base",
          "model_name": "LayoutModel",
          "model_module_version": "1.2.0",
          "state": {
            "_model_module": "@jupyter-widgets/base",
            "_model_module_version": "1.2.0",
            "_model_name": "LayoutModel",
            "_view_count": null,
            "_view_module": "@jupyter-widgets/base",
            "_view_module_version": "1.2.0",
            "_view_name": "LayoutView",
            "align_content": null,
            "align_items": null,
            "align_self": null,
            "border": null,
            "bottom": null,
            "display": null,
            "flex": null,
            "flex_flow": null,
            "grid_area": null,
            "grid_auto_columns": null,
            "grid_auto_flow": null,
            "grid_auto_rows": null,
            "grid_column": null,
            "grid_gap": null,
            "grid_row": null,
            "grid_template_areas": null,
            "grid_template_columns": null,
            "grid_template_rows": null,
            "height": null,
            "justify_content": null,
            "justify_items": null,
            "left": null,
            "margin": null,
            "max_height": null,
            "max_width": null,
            "min_height": null,
            "min_width": null,
            "object_fit": null,
            "object_position": null,
            "order": null,
            "overflow": null,
            "overflow_x": null,
            "overflow_y": null,
            "padding": null,
            "right": null,
            "top": null,
            "visibility": null,
            "width": null
          }
        },
        "be61dca1498549c8a44098ef6e51a50e": {
          "model_module": "@jupyter-widgets/controls",
          "model_name": "DescriptionStyleModel",
          "model_module_version": "1.5.0",
          "state": {
            "_model_module": "@jupyter-widgets/controls",
            "_model_module_version": "1.5.0",
            "_model_name": "DescriptionStyleModel",
            "_view_count": null,
            "_view_module": "@jupyter-widgets/base",
            "_view_module_version": "1.2.0",
            "_view_name": "StyleView",
            "description_width": ""
          }
        },
        "3ffb60e776f84948a8fefd0e307533b4": {
          "model_module": "@jupyter-widgets/controls",
          "model_name": "HBoxModel",
          "model_module_version": "1.5.0",
          "state": {
            "_dom_classes": [],
            "_model_module": "@jupyter-widgets/controls",
            "_model_module_version": "1.5.0",
            "_model_name": "HBoxModel",
            "_view_count": null,
            "_view_module": "@jupyter-widgets/controls",
            "_view_module_version": "1.5.0",
            "_view_name": "HBoxView",
            "box_style": "",
            "children": [
              "IPY_MODEL_f2328658e7904b6bac6fe744a56782fd",
              "IPY_MODEL_323e67778a38470bbb8891e9679beead",
              "IPY_MODEL_28909a2710804ca69922983016b9714a"
            ],
            "layout": "IPY_MODEL_84da08f3f56c4e1fb7e6929e3e6266b1"
          }
        },
        "f2328658e7904b6bac6fe744a56782fd": {
          "model_module": "@jupyter-widgets/controls",
          "model_name": "HTMLModel",
          "model_module_version": "1.5.0",
          "state": {
            "_dom_classes": [],
            "_model_module": "@jupyter-widgets/controls",
            "_model_module_version": "1.5.0",
            "_model_name": "HTMLModel",
            "_view_count": null,
            "_view_module": "@jupyter-widgets/controls",
            "_view_module_version": "1.5.0",
            "_view_name": "HTMLView",
            "description": "",
            "description_tooltip": null,
            "layout": "IPY_MODEL_eed0a59e60c94446b94c6c22e5dc42bc",
            "placeholder": "​",
            "style": "IPY_MODEL_dd0c1d4d7b584f96a8c7f75aeb8fd8e9",
            "value": "100%"
          }
        },
        "323e67778a38470bbb8891e9679beead": {
          "model_module": "@jupyter-widgets/controls",
          "model_name": "FloatProgressModel",
          "model_module_version": "1.5.0",
          "state": {
            "_dom_classes": [],
            "_model_module": "@jupyter-widgets/controls",
            "_model_module_version": "1.5.0",
            "_model_name": "FloatProgressModel",
            "_view_count": null,
            "_view_module": "@jupyter-widgets/controls",
            "_view_module_version": "1.5.0",
            "_view_name": "ProgressView",
            "bar_style": "success",
            "description": "",
            "description_tooltip": null,
            "layout": "IPY_MODEL_7a08018d71344252a20d59fc1316ef24",
            "max": 10,
            "min": 0,
            "orientation": "horizontal",
            "style": "IPY_MODEL_2f9c6638fda844f1ac6253902d4afaf8",
            "value": 10
          }
        },
        "28909a2710804ca69922983016b9714a": {
          "model_module": "@jupyter-widgets/controls",
          "model_name": "HTMLModel",
          "model_module_version": "1.5.0",
          "state": {
            "_dom_classes": [],
            "_model_module": "@jupyter-widgets/controls",
            "_model_module_version": "1.5.0",
            "_model_name": "HTMLModel",
            "_view_count": null,
            "_view_module": "@jupyter-widgets/controls",
            "_view_module_version": "1.5.0",
            "_view_name": "HTMLView",
            "description": "",
            "description_tooltip": null,
            "layout": "IPY_MODEL_6e225d5d21294f5abb217e480421b04e",
            "placeholder": "​",
            "style": "IPY_MODEL_59b399d69e294429917df69023a3e8a2",
            "value": " 10/10 [14:20&lt;00:00, 85.50s/it]"
          }
        },
        "84da08f3f56c4e1fb7e6929e3e6266b1": {
          "model_module": "@jupyter-widgets/base",
          "model_name": "LayoutModel",
          "model_module_version": "1.2.0",
          "state": {
            "_model_module": "@jupyter-widgets/base",
            "_model_module_version": "1.2.0",
            "_model_name": "LayoutModel",
            "_view_count": null,
            "_view_module": "@jupyter-widgets/base",
            "_view_module_version": "1.2.0",
            "_view_name": "LayoutView",
            "align_content": null,
            "align_items": null,
            "align_self": null,
            "border": null,
            "bottom": null,
            "display": null,
            "flex": null,
            "flex_flow": null,
            "grid_area": null,
            "grid_auto_columns": null,
            "grid_auto_flow": null,
            "grid_auto_rows": null,
            "grid_column": null,
            "grid_gap": null,
            "grid_row": null,
            "grid_template_areas": null,
            "grid_template_columns": null,
            "grid_template_rows": null,
            "height": null,
            "justify_content": null,
            "justify_items": null,
            "left": null,
            "margin": null,
            "max_height": null,
            "max_width": null,
            "min_height": null,
            "min_width": null,
            "object_fit": null,
            "object_position": null,
            "order": null,
            "overflow": null,
            "overflow_x": null,
            "overflow_y": null,
            "padding": null,
            "right": null,
            "top": null,
            "visibility": null,
            "width": null
          }
        },
        "eed0a59e60c94446b94c6c22e5dc42bc": {
          "model_module": "@jupyter-widgets/base",
          "model_name": "LayoutModel",
          "model_module_version": "1.2.0",
          "state": {
            "_model_module": "@jupyter-widgets/base",
            "_model_module_version": "1.2.0",
            "_model_name": "LayoutModel",
            "_view_count": null,
            "_view_module": "@jupyter-widgets/base",
            "_view_module_version": "1.2.0",
            "_view_name": "LayoutView",
            "align_content": null,
            "align_items": null,
            "align_self": null,
            "border": null,
            "bottom": null,
            "display": null,
            "flex": null,
            "flex_flow": null,
            "grid_area": null,
            "grid_auto_columns": null,
            "grid_auto_flow": null,
            "grid_auto_rows": null,
            "grid_column": null,
            "grid_gap": null,
            "grid_row": null,
            "grid_template_areas": null,
            "grid_template_columns": null,
            "grid_template_rows": null,
            "height": null,
            "justify_content": null,
            "justify_items": null,
            "left": null,
            "margin": null,
            "max_height": null,
            "max_width": null,
            "min_height": null,
            "min_width": null,
            "object_fit": null,
            "object_position": null,
            "order": null,
            "overflow": null,
            "overflow_x": null,
            "overflow_y": null,
            "padding": null,
            "right": null,
            "top": null,
            "visibility": null,
            "width": null
          }
        },
        "dd0c1d4d7b584f96a8c7f75aeb8fd8e9": {
          "model_module": "@jupyter-widgets/controls",
          "model_name": "DescriptionStyleModel",
          "model_module_version": "1.5.0",
          "state": {
            "_model_module": "@jupyter-widgets/controls",
            "_model_module_version": "1.5.0",
            "_model_name": "DescriptionStyleModel",
            "_view_count": null,
            "_view_module": "@jupyter-widgets/base",
            "_view_module_version": "1.2.0",
            "_view_name": "StyleView",
            "description_width": ""
          }
        },
        "7a08018d71344252a20d59fc1316ef24": {
          "model_module": "@jupyter-widgets/base",
          "model_name": "LayoutModel",
          "model_module_version": "1.2.0",
          "state": {
            "_model_module": "@jupyter-widgets/base",
            "_model_module_version": "1.2.0",
            "_model_name": "LayoutModel",
            "_view_count": null,
            "_view_module": "@jupyter-widgets/base",
            "_view_module_version": "1.2.0",
            "_view_name": "LayoutView",
            "align_content": null,
            "align_items": null,
            "align_self": null,
            "border": null,
            "bottom": null,
            "display": null,
            "flex": null,
            "flex_flow": null,
            "grid_area": null,
            "grid_auto_columns": null,
            "grid_auto_flow": null,
            "grid_auto_rows": null,
            "grid_column": null,
            "grid_gap": null,
            "grid_row": null,
            "grid_template_areas": null,
            "grid_template_columns": null,
            "grid_template_rows": null,
            "height": null,
            "justify_content": null,
            "justify_items": null,
            "left": null,
            "margin": null,
            "max_height": null,
            "max_width": null,
            "min_height": null,
            "min_width": null,
            "object_fit": null,
            "object_position": null,
            "order": null,
            "overflow": null,
            "overflow_x": null,
            "overflow_y": null,
            "padding": null,
            "right": null,
            "top": null,
            "visibility": null,
            "width": null
          }
        },
        "2f9c6638fda844f1ac6253902d4afaf8": {
          "model_module": "@jupyter-widgets/controls",
          "model_name": "ProgressStyleModel",
          "model_module_version": "1.5.0",
          "state": {
            "_model_module": "@jupyter-widgets/controls",
            "_model_module_version": "1.5.0",
            "_model_name": "ProgressStyleModel",
            "_view_count": null,
            "_view_module": "@jupyter-widgets/base",
            "_view_module_version": "1.2.0",
            "_view_name": "StyleView",
            "bar_color": null,
            "description_width": ""
          }
        },
        "6e225d5d21294f5abb217e480421b04e": {
          "model_module": "@jupyter-widgets/base",
          "model_name": "LayoutModel",
          "model_module_version": "1.2.0",
          "state": {
            "_model_module": "@jupyter-widgets/base",
            "_model_module_version": "1.2.0",
            "_model_name": "LayoutModel",
            "_view_count": null,
            "_view_module": "@jupyter-widgets/base",
            "_view_module_version": "1.2.0",
            "_view_name": "LayoutView",
            "align_content": null,
            "align_items": null,
            "align_self": null,
            "border": null,
            "bottom": null,
            "display": null,
            "flex": null,
            "flex_flow": null,
            "grid_area": null,
            "grid_auto_columns": null,
            "grid_auto_flow": null,
            "grid_auto_rows": null,
            "grid_column": null,
            "grid_gap": null,
            "grid_row": null,
            "grid_template_areas": null,
            "grid_template_columns": null,
            "grid_template_rows": null,
            "height": null,
            "justify_content": null,
            "justify_items": null,
            "left": null,
            "margin": null,
            "max_height": null,
            "max_width": null,
            "min_height": null,
            "min_width": null,
            "object_fit": null,
            "object_position": null,
            "order": null,
            "overflow": null,
            "overflow_x": null,
            "overflow_y": null,
            "padding": null,
            "right": null,
            "top": null,
            "visibility": null,
            "width": null
          }
        },
        "59b399d69e294429917df69023a3e8a2": {
          "model_module": "@jupyter-widgets/controls",
          "model_name": "DescriptionStyleModel",
          "model_module_version": "1.5.0",
          "state": {
            "_model_module": "@jupyter-widgets/controls",
            "_model_module_version": "1.5.0",
            "_model_name": "DescriptionStyleModel",
            "_view_count": null,
            "_view_module": "@jupyter-widgets/base",
            "_view_module_version": "1.2.0",
            "_view_name": "StyleView",
            "description_width": ""
          }
        },
        "bd70be703aa14a20bebdcf456dbe8526": {
          "model_module": "@jupyter-widgets/controls",
          "model_name": "HBoxModel",
          "model_module_version": "1.5.0",
          "state": {
            "_dom_classes": [],
            "_model_module": "@jupyter-widgets/controls",
            "_model_module_version": "1.5.0",
            "_model_name": "HBoxModel",
            "_view_count": null,
            "_view_module": "@jupyter-widgets/controls",
            "_view_module_version": "1.5.0",
            "_view_name": "HBoxView",
            "box_style": "",
            "children": [
              "IPY_MODEL_e6147b453b174c7e817bfaf23432bcf0",
              "IPY_MODEL_792ef988714c4d2e986847f7cd478427",
              "IPY_MODEL_5894e1e05e3c43fdb8a8bb29524def87"
            ],
            "layout": "IPY_MODEL_c43d67ddaccb425da48cea4cfbe8c113"
          }
        },
        "e6147b453b174c7e817bfaf23432bcf0": {
          "model_module": "@jupyter-widgets/controls",
          "model_name": "HTMLModel",
          "model_module_version": "1.5.0",
          "state": {
            "_dom_classes": [],
            "_model_module": "@jupyter-widgets/controls",
            "_model_module_version": "1.5.0",
            "_model_name": "HTMLModel",
            "_view_count": null,
            "_view_module": "@jupyter-widgets/controls",
            "_view_module_version": "1.5.0",
            "_view_name": "HTMLView",
            "description": "",
            "description_tooltip": null,
            "layout": "IPY_MODEL_50f5e53b94554163b771542d469d61de",
            "placeholder": "​",
            "style": "IPY_MODEL_0c9f2340b6d849f98c45dd7d5f185425",
            "value": "100%"
          }
        },
        "792ef988714c4d2e986847f7cd478427": {
          "model_module": "@jupyter-widgets/controls",
          "model_name": "FloatProgressModel",
          "model_module_version": "1.5.0",
          "state": {
            "_dom_classes": [],
            "_model_module": "@jupyter-widgets/controls",
            "_model_module_version": "1.5.0",
            "_model_name": "FloatProgressModel",
            "_view_count": null,
            "_view_module": "@jupyter-widgets/controls",
            "_view_module_version": "1.5.0",
            "_view_name": "ProgressView",
            "bar_style": "success",
            "description": "",
            "description_tooltip": null,
            "layout": "IPY_MODEL_c01bd51c61424885a1fdb88f71a7352f",
            "max": 15,
            "min": 0,
            "orientation": "horizontal",
            "style": "IPY_MODEL_782b992b1e684699bca66b2756cb3d40",
            "value": 15
          }
        },
        "5894e1e05e3c43fdb8a8bb29524def87": {
          "model_module": "@jupyter-widgets/controls",
          "model_name": "HTMLModel",
          "model_module_version": "1.5.0",
          "state": {
            "_dom_classes": [],
            "_model_module": "@jupyter-widgets/controls",
            "_model_module_version": "1.5.0",
            "_model_name": "HTMLModel",
            "_view_count": null,
            "_view_module": "@jupyter-widgets/controls",
            "_view_module_version": "1.5.0",
            "_view_name": "HTMLView",
            "description": "",
            "description_tooltip": null,
            "layout": "IPY_MODEL_c5028d145b7449cf979bd559ab0e601a",
            "placeholder": "​",
            "style": "IPY_MODEL_5349ecb712cb44bd807f7d4fc225ef0c",
            "value": " 15/15 [21:03&lt;00:00, 83.93s/it]"
          }
        },
        "c43d67ddaccb425da48cea4cfbe8c113": {
          "model_module": "@jupyter-widgets/base",
          "model_name": "LayoutModel",
          "model_module_version": "1.2.0",
          "state": {
            "_model_module": "@jupyter-widgets/base",
            "_model_module_version": "1.2.0",
            "_model_name": "LayoutModel",
            "_view_count": null,
            "_view_module": "@jupyter-widgets/base",
            "_view_module_version": "1.2.0",
            "_view_name": "LayoutView",
            "align_content": null,
            "align_items": null,
            "align_self": null,
            "border": null,
            "bottom": null,
            "display": null,
            "flex": null,
            "flex_flow": null,
            "grid_area": null,
            "grid_auto_columns": null,
            "grid_auto_flow": null,
            "grid_auto_rows": null,
            "grid_column": null,
            "grid_gap": null,
            "grid_row": null,
            "grid_template_areas": null,
            "grid_template_columns": null,
            "grid_template_rows": null,
            "height": null,
            "justify_content": null,
            "justify_items": null,
            "left": null,
            "margin": null,
            "max_height": null,
            "max_width": null,
            "min_height": null,
            "min_width": null,
            "object_fit": null,
            "object_position": null,
            "order": null,
            "overflow": null,
            "overflow_x": null,
            "overflow_y": null,
            "padding": null,
            "right": null,
            "top": null,
            "visibility": null,
            "width": null
          }
        },
        "50f5e53b94554163b771542d469d61de": {
          "model_module": "@jupyter-widgets/base",
          "model_name": "LayoutModel",
          "model_module_version": "1.2.0",
          "state": {
            "_model_module": "@jupyter-widgets/base",
            "_model_module_version": "1.2.0",
            "_model_name": "LayoutModel",
            "_view_count": null,
            "_view_module": "@jupyter-widgets/base",
            "_view_module_version": "1.2.0",
            "_view_name": "LayoutView",
            "align_content": null,
            "align_items": null,
            "align_self": null,
            "border": null,
            "bottom": null,
            "display": null,
            "flex": null,
            "flex_flow": null,
            "grid_area": null,
            "grid_auto_columns": null,
            "grid_auto_flow": null,
            "grid_auto_rows": null,
            "grid_column": null,
            "grid_gap": null,
            "grid_row": null,
            "grid_template_areas": null,
            "grid_template_columns": null,
            "grid_template_rows": null,
            "height": null,
            "justify_content": null,
            "justify_items": null,
            "left": null,
            "margin": null,
            "max_height": null,
            "max_width": null,
            "min_height": null,
            "min_width": null,
            "object_fit": null,
            "object_position": null,
            "order": null,
            "overflow": null,
            "overflow_x": null,
            "overflow_y": null,
            "padding": null,
            "right": null,
            "top": null,
            "visibility": null,
            "width": null
          }
        },
        "0c9f2340b6d849f98c45dd7d5f185425": {
          "model_module": "@jupyter-widgets/controls",
          "model_name": "DescriptionStyleModel",
          "model_module_version": "1.5.0",
          "state": {
            "_model_module": "@jupyter-widgets/controls",
            "_model_module_version": "1.5.0",
            "_model_name": "DescriptionStyleModel",
            "_view_count": null,
            "_view_module": "@jupyter-widgets/base",
            "_view_module_version": "1.2.0",
            "_view_name": "StyleView",
            "description_width": ""
          }
        },
        "c01bd51c61424885a1fdb88f71a7352f": {
          "model_module": "@jupyter-widgets/base",
          "model_name": "LayoutModel",
          "model_module_version": "1.2.0",
          "state": {
            "_model_module": "@jupyter-widgets/base",
            "_model_module_version": "1.2.0",
            "_model_name": "LayoutModel",
            "_view_count": null,
            "_view_module": "@jupyter-widgets/base",
            "_view_module_version": "1.2.0",
            "_view_name": "LayoutView",
            "align_content": null,
            "align_items": null,
            "align_self": null,
            "border": null,
            "bottom": null,
            "display": null,
            "flex": null,
            "flex_flow": null,
            "grid_area": null,
            "grid_auto_columns": null,
            "grid_auto_flow": null,
            "grid_auto_rows": null,
            "grid_column": null,
            "grid_gap": null,
            "grid_row": null,
            "grid_template_areas": null,
            "grid_template_columns": null,
            "grid_template_rows": null,
            "height": null,
            "justify_content": null,
            "justify_items": null,
            "left": null,
            "margin": null,
            "max_height": null,
            "max_width": null,
            "min_height": null,
            "min_width": null,
            "object_fit": null,
            "object_position": null,
            "order": null,
            "overflow": null,
            "overflow_x": null,
            "overflow_y": null,
            "padding": null,
            "right": null,
            "top": null,
            "visibility": null,
            "width": null
          }
        },
        "782b992b1e684699bca66b2756cb3d40": {
          "model_module": "@jupyter-widgets/controls",
          "model_name": "ProgressStyleModel",
          "model_module_version": "1.5.0",
          "state": {
            "_model_module": "@jupyter-widgets/controls",
            "_model_module_version": "1.5.0",
            "_model_name": "ProgressStyleModel",
            "_view_count": null,
            "_view_module": "@jupyter-widgets/base",
            "_view_module_version": "1.2.0",
            "_view_name": "StyleView",
            "bar_color": null,
            "description_width": ""
          }
        },
        "c5028d145b7449cf979bd559ab0e601a": {
          "model_module": "@jupyter-widgets/base",
          "model_name": "LayoutModel",
          "model_module_version": "1.2.0",
          "state": {
            "_model_module": "@jupyter-widgets/base",
            "_model_module_version": "1.2.0",
            "_model_name": "LayoutModel",
            "_view_count": null,
            "_view_module": "@jupyter-widgets/base",
            "_view_module_version": "1.2.0",
            "_view_name": "LayoutView",
            "align_content": null,
            "align_items": null,
            "align_self": null,
            "border": null,
            "bottom": null,
            "display": null,
            "flex": null,
            "flex_flow": null,
            "grid_area": null,
            "grid_auto_columns": null,
            "grid_auto_flow": null,
            "grid_auto_rows": null,
            "grid_column": null,
            "grid_gap": null,
            "grid_row": null,
            "grid_template_areas": null,
            "grid_template_columns": null,
            "grid_template_rows": null,
            "height": null,
            "justify_content": null,
            "justify_items": null,
            "left": null,
            "margin": null,
            "max_height": null,
            "max_width": null,
            "min_height": null,
            "min_width": null,
            "object_fit": null,
            "object_position": null,
            "order": null,
            "overflow": null,
            "overflow_x": null,
            "overflow_y": null,
            "padding": null,
            "right": null,
            "top": null,
            "visibility": null,
            "width": null
          }
        },
        "5349ecb712cb44bd807f7d4fc225ef0c": {
          "model_module": "@jupyter-widgets/controls",
          "model_name": "DescriptionStyleModel",
          "model_module_version": "1.5.0",
          "state": {
            "_model_module": "@jupyter-widgets/controls",
            "_model_module_version": "1.5.0",
            "_model_name": "DescriptionStyleModel",
            "_view_count": null,
            "_view_module": "@jupyter-widgets/base",
            "_view_module_version": "1.2.0",
            "_view_name": "StyleView",
            "description_width": ""
          }
        }
      }
    }
  },
  "cells": [
    {
      "cell_type": "markdown",
      "metadata": {
        "id": "13pL--6rycN3"
      },
      "source": [
        "## Practice 02: Dealing with texts using CNN\n",
        "\n",
        "Today we're gonna apply the newly learned tools for the task of predicting job salary.\n",
        "\n",
        "<img src=\"https://storage.googleapis.com/kaggle-competitions/kaggle/3342/logos/front_page.png\" width=400px>\n",
        "\n",
        "Based on YSDA [materials](https://github.com/yandexdataschool/nlp_course/blob/master/week02_classification/seminar.ipynb). _Special thanks to [Oleg Vasilev](https://github.com/Omrigan/) for the core assignment idea._"
      ]
    },
    {
      "cell_type": "code",
      "metadata": {
        "id": "P8zS7m-gycN5"
      },
      "source": [
        "import numpy as np\n",
        "import pandas as pd\n",
        "import matplotlib.pyplot as plt\n",
        "%matplotlib inline"
      ],
      "execution_count": 1,
      "outputs": []
    },
    {
      "cell_type": "markdown",
      "metadata": {
        "id": "34x92vWQycN_"
      },
      "source": [
        "### About the challenge\n",
        "For starters, let's download and unpack the data from [here](https://www.dropbox.com/s/5msc5ix7ndyba10/Train_rev1.csv.tar.gz?dl=0). \n",
        "\n",
        "You can also get it from [yadisk url](https://yadi.sk/d/vVEOWPFY3NruT7) the competition [page](https://www.kaggle.com/c/job-salary-prediction/data) (pick `Train_rev1.*`)."
      ]
    },
    {
      "cell_type": "code",
      "metadata": {
        "colab": {
          "base_uri": "https://localhost:8080/"
        },
        "id": "vwN72gd4ycOA",
        "outputId": "a0f19ad0-b122-48e8-d4e7-aac1cee55131"
      },
      "source": [
        "# Do this only once\n",
        "!curl -L \"https://www.dropbox.com/s/5msc5ix7ndyba10/Train_rev1.csv.tar.gz?dl=1\" -o Train_rev1.csv.tar.gz\n",
        "!tar -xvzf ./Train_rev1.csv.tar.gz"
      ],
      "execution_count": 2,
      "outputs": [
        {
          "output_type": "stream",
          "name": "stdout",
          "text": [
            "  % Total    % Received % Xferd  Average Speed   Time    Time     Time  Current\n",
            "                                 Dload  Upload   Total   Spent    Left  Speed\n",
            "100   145    0   145    0     0    336      0 --:--:-- --:--:-- --:--:--   336\n",
            "100   342  100   342    0     0    384      0 --:--:-- --:--:-- --:--:--   384\n",
            "100  119M  100  119M    0     0  9942k      0  0:00:12  0:00:12 --:--:-- 15.4M\n",
            "Train_rev1.csv\n"
          ]
        }
      ]
    },
    {
      "cell_type": "code",
      "metadata": {
        "colab": {
          "base_uri": "https://localhost:8080/"
        },
        "id": "qtnVxLnlNQJF",
        "outputId": "53b818b9-a4c0-431a-da67-80c9199d604a"
      },
      "source": [
        "data = pd.read_csv(\"./Train_rev1.csv\", index_col=None)\n",
        "data.shape"
      ],
      "execution_count": 3,
      "outputs": [
        {
          "output_type": "execute_result",
          "data": {
            "text/plain": [
              "(244768, 12)"
            ]
          },
          "metadata": {},
          "execution_count": 3
        }
      ]
    },
    {
      "cell_type": "markdown",
      "metadata": {
        "id": "z7kznuJfycOH"
      },
      "source": [
        "One problem with salary prediction is that it's oddly distributed: there are many people who are paid standard salaries and a few that get tons o money. The distribution is fat-tailed on the right side, which is inconvenient for MSE minimization.\n",
        "\n",
        "There are several techniques to combat this: using a different loss function, predicting log-target instead of raw target or even replacing targets with their percentiles among all salaries in the training set. We gonna use logarithm for now.\n",
        "\n",
        "_You can read more [in the official description](https://www.kaggle.com/c/job-salary-prediction#description)._"
      ]
    },
    {
      "cell_type": "code",
      "metadata": {
        "colab": {
          "base_uri": "https://localhost:8080/",
          "height": 265
        },
        "id": "UuuKIKfrycOH",
        "outputId": "0d08c9e5-5929-4c63-c3fc-83d2b0efcd5a"
      },
      "source": [
        "data['Log1pSalary'] = np.log1p(data['SalaryNormalized']).astype('float32')\n",
        "\n",
        "plt.figure(figsize=[8, 4])\n",
        "plt.subplot(1, 2, 1)\n",
        "plt.hist(data[\"SalaryNormalized\"], bins=20);\n",
        "\n",
        "plt.subplot(1, 2, 2)\n",
        "plt.hist(data['Log1pSalary'], bins=20);"
      ],
      "execution_count": 4,
      "outputs": [
        {
          "output_type": "display_data",
          "data": {
            "text/plain": [
              "<Figure size 576x288 with 2 Axes>"
            ],
            "image/png": "[encoded data removed]"
          },
          "metadata": {
            "needs_background": "light"
          }
        }
      ]
    },
    {
      "cell_type": "markdown",
      "metadata": {
        "id": "Fcu-qmHRycOK"
      },
      "source": [
        "Our task is to predict one number, __Log1pSalary__.\n",
        "\n",
        "To do so, our model can access a number of features:\n",
        "* Free text: __`Title`__ and  __`FullDescription`__\n",
        "* Categorical: __`Category`__, __`Company`__, __`LocationNormalized`__, __`ContractType`__, and __`ContractTime`__."
      ]
    },
    {
      "cell_type": "code",
      "metadata": {
        "colab": {
          "base_uri": "https://localhost:8080/",
          "height": 239
        },
        "id": "p9vyA_erycOK",
        "outputId": "934e7bfd-1ba5-4b1e-a895-409238f3ece4"
      },
      "source": [
        "text_columns = [\"Title\", \"FullDescription\"]\n",
        "categorical_columns = [\"Category\", \"Company\", \"LocationNormalized\", \"ContractType\", \"ContractTime\"]\n",
        "target_column = \"Log1pSalary\"\n",
        "\n",
        "data[categorical_columns] = data[categorical_columns].fillna('NaN') # cast missing values to string \"NaN\"\n",
        "\n",
        "data.sample(3)"
      ],
      "execution_count": 5,
      "outputs": [
        {
          "output_type": "execute_result",
          "data": {
            "text/plain": [
              "              Id                                              Title  \\\n",
              "205314  72117201    QCF/Apprenticeship Assessor  Health Social Care   \n",
              "65945   68711986                                     BRANCH MANAGER   \n",
              "112941  69731086  NAV Support Analyst ****k Yorkshire, Manufactu...   \n",
              "\n",
              "                                          FullDescription  \\\n",
              "205314  QCF/Apprenticeship Assessor  Health & Social C...   \n",
              "65945   BRANCH MANAGER An established travel reservati...   \n",
              "112941  MS Dynamics NAV Support Analyst, ****k, N. Yor...   \n",
              "\n",
              "                                             LocationRaw LocationNormalized  \\\n",
              "205314                            Lancashire, North West         Lancashire   \n",
              "65945                      East London London South East  South East London   \n",
              "112941  Keighley West Yorkshire Yorkshire and the Humber           Keighley   \n",
              "\n",
              "       ContractType ContractTime                           Company  \\\n",
              "205314          NaN    permanent  Strawberry Recruitment Solutions   \n",
              "65945           NaN    permanent          Prospects4Leisure Travel   \n",
              "112941          NaN    permanent                               NaN   \n",
              "\n",
              "             Category                       SalaryRaw  SalaryNormalized  \\\n",
              "205314  Teaching Jobs                     24000/annum             24000   \n",
              "65945     Travel Jobs  Up to 25,000 per annum OTE 30k             25000   \n",
              "112941        IT Jobs                           40000             40000   \n",
              "\n",
              "              SourceName  Log1pSalary  \n",
              "205314  cv-library.co.uk    10.085851  \n",
              "65945      totaljobs.com    10.126671  \n",
              "112941  technojobs.co.uk    10.596660  "
            ],
            "text/html": [
              "\n",
              "  <div id=\"df-4bfd3c2d-0984-4e20-95a6-b702ae63c911\">\n",
              "    <div class=\"colab-df-container\">\n",
              "      <div>\n",
              "<style scoped>\n",
              "    .dataframe tbody tr th:only-of-type {\n",
              "        vertical-align: middle;\n",
              "    }\n",
              "\n",
              "    .dataframe tbody tr th {\n",
              "        vertical-align: top;\n",
              "    }\n",
              "\n",
              "    .dataframe thead th {\n",
              "        text-align: right;\n",
              "    }\n",
              "</style>\n",
              "<table border=\"1\" class=\"dataframe\">\n",
              "  <thead>\n",
              "    <tr style=\"text-align: right;\">\n",
              "      <th></th>\n",
              "      <th>Id</th>\n",
              "      <th>Title</th>\n",
              "      <th>FullDescription</th>\n",
              "      <th>LocationRaw</th>\n",
              "      <th>LocationNormalized</th>\n",
              "      <th>ContractType</th>\n",
              "      <th>ContractTime</th>\n",
              "      <th>Company</th>\n",
              "      <th>Category</th>\n",
              "      <th>SalaryRaw</th>\n",
              "      <th>SalaryNormalized</th>\n",
              "      <th>SourceName</th>\n",
              "      <th>Log1pSalary</th>\n",
              "    </tr>\n",
              "  </thead>\n",
              "  <tbody>\n",
              "    <tr>\n",
              "      <th>205314</th>\n",
              "      <td>72117201</td>\n",
              "      <td>QCF/Apprenticeship Assessor  Health Social Care</td>\n",
              "      <td>QCF/Apprenticeship Assessor  Health &amp; Social C...</td>\n",
              "      <td>Lancashire, North West</td>\n",
              "      <td>Lancashire</td>\n",
              "      <td>NaN</td>\n",
              "      <td>permanent</td>\n",
              "      <td>Strawberry Recruitment Solutions</td>\n",
              "      <td>Teaching Jobs</td>\n",
              "      <td>24000/annum</td>\n",
              "      <td>24000</td>\n",
              "      <td>cv-library.co.uk</td>\n",
              "      <td>10.085851</td>\n",
              "    </tr>\n",
              "    <tr>\n",
              "      <th>65945</th>\n",
              "      <td>68711986</td>\n",
              "      <td>BRANCH MANAGER</td>\n",
              "      <td>BRANCH MANAGER An established travel reservati...</td>\n",
              "      <td>East London London South East</td>\n",
              "      <td>South East London</td>\n",
              "      <td>NaN</td>\n",
              "      <td>permanent</td>\n",
              "      <td>Prospects4Leisure Travel</td>\n",
              "      <td>Travel Jobs</td>\n",
              "      <td>Up to 25,000 per annum OTE 30k</td>\n",
              "      <td>25000</td>\n",
              "      <td>totaljobs.com</td>\n",
              "      <td>10.126671</td>\n",
              "    </tr>\n",
              "    <tr>\n",
              "      <th>112941</th>\n",
              "      <td>69731086</td>\n",
              "      <td>NAV Support Analyst ****k Yorkshire, Manufactu...</td>\n",
              "      <td>MS Dynamics NAV Support Analyst, ****k, N. Yor...</td>\n",
              "      <td>Keighley West Yorkshire Yorkshire and the Humber</td>\n",
              "      <td>Keighley</td>\n",
              "      <td>NaN</td>\n",
              "      <td>permanent</td>\n",
              "      <td>NaN</td>\n",
              "      <td>IT Jobs</td>\n",
              "      <td>40000</td>\n",
              "      <td>40000</td>\n",
              "      <td>technojobs.co.uk</td>\n",
              "      <td>10.596660</td>\n",
              "    </tr>\n",
              "  </tbody>\n",
              "</table>\n",
              "</div>\n",
              "      <button class=\"colab-df-convert\" onclick=\"convertToInteractive('df-4bfd3c2d-0984-4e20-95a6-b702ae63c911')\"\n",
              "              title=\"Convert this dataframe to an interactive table.\"\n",
              "              style=\"display:none;\">\n",
              "        \n",
              "  <svg xmlns=\"http://www.w3.org/2000/svg\" height=\"24px\"viewBox=\"0 0 24 24\"\n",
              "       width=\"24px\">\n",
              "    <path d=\"M0 0h24v24H0V0z\" fill=\"none\"/>\n",
              "    <path d=\"M18.56 5.44l.94 2.06.94-2.06 2.06-.94-2.06-.94-.94-2.06-.94 2.06-2.06.94zm-11 1L8.5 8.5l.94-2.06 2.06-.94-2.06-.94L8.5 2.5l-.94 2.06-2.06.94zm10 10l.94 2.06.94-2.06 2.06-.94-2.06-.94-.94-2.06-.94 2.06-2.06.94z\"/><path d=\"M17.41 7.96l-1.37-1.37c-.4-.4-.92-.59-1.43-.59-.52 0-1.04.2-1.43.59L10.3 9.45l-7.72 7.72c-.78.78-.78 2.05 0 2.83L4 21.41c.39.39.9.59 1.41.59.51 0 1.02-.2 1.41-.59l7.78-7.78 2.81-2.81c.8-.78.8-2.07 0-2.86zM5.41 20L4 18.59l7.72-7.72 1.47 1.35L5.41 20z\"/>\n",
              "  </svg>\n",
              "      </button>\n",
              "      \n",
              "  <style>\n",
              "    .colab-df-container {\n",
              "      display:flex;\n",
              "      flex-wrap:wrap;\n",
              "      gap: 12px;\n",
              "    }\n",
              "\n",
              "    .colab-df-convert {\n",
              "      background-color: #E8F0FE;\n",
              "      border: none;\n",
              "      border-radius: 50%;\n",
              "      cursor: pointer;\n",
              "      display: none;\n",
              "      fill: #1967D2;\n",
              "      height: 32px;\n",
              "      padding: 0 0 0 0;\n",
              "      width: 32px;\n",
              "    }\n",
              "\n",
              "    .colab-df-convert:hover {\n",
              "      background-color: #E2EBFA;\n",
              "      box-shadow: 0px 1px 2px rgba(60, 64, 67, 0.3), 0px 1px 3px 1px rgba(60, 64, 67, 0.15);\n",
              "      fill: #174EA6;\n",
              "    }\n",
              "\n",
              "    [theme=dark] .colab-df-convert {\n",
              "      background-color: #3B4455;\n",
              "      fill: #D2E3FC;\n",
              "    }\n",
              "\n",
              "    [theme=dark] .colab-df-convert:hover {\n",
              "      background-color: #434B5C;\n",
              "      box-shadow: 0px 1px 3px 1px rgba(0, 0, 0, 0.15);\n",
              "      filter: drop-shadow(0px 1px 2px rgba(0, 0, 0, 0.3));\n",
              "      fill: #FFFFFF;\n",
              "    }\n",
              "  </style>\n",
              "\n",
              "      <script>\n",
              "        const buttonEl =\n",
              "          document.querySelector('#df-4bfd3c2d-0984-4e20-95a6-b702ae63c911 button.colab-df-convert');\n",
              "        buttonEl.style.display =\n",
              "          google.colab.kernel.accessAllowed ? 'block' : 'none';\n",
              "\n",
              "        async function convertToInteractive(key) {\n",
              "          const element = document.querySelector('#df-4bfd3c2d-0984-4e20-95a6-b702ae63c911');\n",
              "          const dataTable =\n",
              "            await google.colab.kernel.invokeFunction('convertToInteractive',\n",
              "                                                     [key], {});\n",
              "          if (!dataTable) return;\n",
              "\n",
              "          const docLinkHtml = 'Like what you see? Visit the ' +\n",
              "            '<a target=\"_blank\" href=https://colab.research.google.com/notebooks/data_table.ipynb>data table notebook</a>'\n",
              "            + ' to learn more about interactive tables.';\n",
              "          element.innerHTML = '';\n",
              "          dataTable['output_type'] = 'display_data';\n",
              "          await google.colab.output.renderOutput(dataTable, element);\n",
              "          const docLink = document.createElement('div');\n",
              "          docLink.innerHTML = docLinkHtml;\n",
              "          element.appendChild(docLink);\n",
              "        }\n",
              "      </script>\n",
              "    </div>\n",
              "  </div>\n",
              "  "
            ]
          },
          "metadata": {},
          "execution_count": 5
        }
      ]
    },
    {
      "cell_type": "markdown",
      "metadata": {
        "id": "IUdclucmycON"
      },
      "source": [
        "### Preprocessing text data\n",
        "\n",
        "Just like last week, applying NLP to a problem begins from tokenization: splitting raw text into sequences of tokens (words, punctuation, etc).\n",
        "\n",
        "__Your task__ is to lowercase and tokenize all texts under `Title` and `FullDescription` columns. Store the tokenized data as a __space-separated__ string of tokens for performance reasons.\n",
        "\n",
        "It's okay to use nltk tokenizers. Assertions were designed for WordPunctTokenizer, slight deviations are okay."
      ]
    },
    {
      "cell_type": "code",
      "metadata": {
        "colab": {
          "base_uri": "https://localhost:8080/"
        },
        "id": "YzeOxD_aycOO",
        "outputId": "44acaa9c-c484-45ad-dd96-7a6e7c504a45"
      },
      "source": [
        "print(\"Raw text:\")\n",
        "print(data[\"FullDescription\"][2::100000])"
      ],
      "execution_count": 6,
      "outputs": [
        {
          "output_type": "stream",
          "name": "stdout",
          "text": [
            "Raw text:\n",
            "2         Mathematical Modeller / Simulation Analyst / O...\n",
            "100002    A successful and high achieving specialist sch...\n",
            "200002    Web Designer  HTML, CSS, JavaScript, Photoshop...\n",
            "Name: FullDescription, dtype: object\n"
          ]
        }
      ]
    },
    {
      "cell_type": "code",
      "metadata": {
        "id": "RUWkpd7PycOQ"
      },
      "source": [
        "import nltk\n",
        "tokenizer = nltk.tokenize.WordPunctTokenizer()\n",
        "\n",
        "# see task above\n",
        "def normalize(text):\n",
        "    # <YOUR CODE HERE>\n",
        "    text = str(text).lower()\n",
        "    tokens = tokenizer.tokenize(text)\n",
        "    return ' '.join(tokens)\n",
        "\n",
        "data[text_columns] = data[text_columns].applymap(normalize)"
      ],
      "execution_count": 7,
      "outputs": []
    },
    {
      "cell_type": "markdown",
      "metadata": {
        "id": "o3pQdHihycOT"
      },
      "source": [
        "Now we can assume that our text is a space-separated list of tokens:"
      ]
    },
    {
      "cell_type": "code",
      "metadata": {
        "colab": {
          "base_uri": "https://localhost:8080/"
        },
        "id": "Gs-6lnS_ycOU",
        "outputId": "81fc57b3-5c43-4a7c-e37c-d5aaa84e2d1b"
      },
      "source": [
        "print(\"Tokenized:\")\n",
        "print(data[\"FullDescription\"][2::100000])\n",
        "assert data[\"FullDescription\"][2][:50] == 'mathematical modeller / simulation analyst / opera'\n",
        "assert data[\"Title\"][54321] == 'international digital account manager ( german )'"
      ],
      "execution_count": 8,
      "outputs": [
        {
          "output_type": "stream",
          "name": "stdout",
          "text": [
            "Tokenized:\n",
            "2         mathematical modeller / simulation analyst / o...\n",
            "100002    a successful and high achieving specialist sch...\n",
            "200002    web designer html , css , javascript , photosh...\n",
            "Name: FullDescription, dtype: object\n"
          ]
        }
      ]
    },
    {
      "cell_type": "markdown",
      "metadata": {
        "id": "ouE3L2hyycOX"
      },
      "source": [
        "Not all words are equally useful. Some of them are typos or rare words that are only present a few times. \n",
        "\n",
        "Let's count how many times is each word present in the data so that we can build a \"white list\" of known words."
      ]
    },
    {
      "cell_type": "code",
      "metadata": {
        "id": "iC7hBwwjycOX"
      },
      "source": [
        "# Count how many times does each token occur in both \"Title\" and \"FullDescription\" in total\n",
        "# build a dictionary { token -> it's count }\n",
        "from collections import Counter\n",
        "from tqdm import tqdm as tqdm\n",
        "\n",
        "\n",
        "# <YOUR CODE HERE>\n",
        "token_counts = Counter()\n",
        "for sent in data[text_columns].values.flatten():\n",
        "    token_counts.update(sent.split(' '))  # make joined words splitted back\n",
        "# hint: you may or may not want to use collections.Counter"
      ],
      "execution_count": 9,
      "outputs": []
    },
    {
      "cell_type": "code",
      "metadata": {
        "colab": {
          "base_uri": "https://localhost:8080/"
        },
        "id": "GiOWbc15ycOb",
        "outputId": "4f97323a-24c0-42c4-b145-143f7c0c7fc5"
      },
      "source": [
        "print(\"Total unique tokens :\", len(token_counts))\n",
        "print('\\n'.join(map(str, token_counts.most_common(n=5))))\n",
        "print('...')\n",
        "print('\\n'.join(map(str, token_counts.most_common()[-3:])))\n",
        "\n",
        "assert token_counts.most_common(1)[0][1] in  range(2600000, 2700000)\n",
        "assert len(token_counts) in range(200000, 210000)\n",
        "print('Correct!')"
      ],
      "execution_count": 10,
      "outputs": [
        {
          "output_type": "stream",
          "name": "stdout",
          "text": [
            "Total unique tokens : 202704\n",
            "('and', 2657388)\n",
            "('.', 2523216)\n",
            "(',', 2318606)\n",
            "('the', 2080994)\n",
            "('to', 2019884)\n",
            "...\n",
            "('stephanietraveltraderecruitmnt', 1)\n",
            "('ruabon', 1)\n",
            "('lowehays', 1)\n",
            "Correct!\n"
          ]
        }
      ]
    },
    {
      "cell_type": "code",
      "metadata": {
        "colab": {
          "base_uri": "https://localhost:8080/",
          "height": 279
        },
        "id": "nd5v3BNfycOf",
        "outputId": "c978f2af-0285-42e0-a4ff-fe22062ba58a"
      },
      "source": [
        "# Let's see how many words are there for each count\n",
        "plt.hist(list(token_counts.values()), range=[0, 10**4], bins=50, log=True)\n",
        "plt.xlabel(\"Word counts\");"
      ],
      "execution_count": 11,
      "outputs": [
        {
          "output_type": "display_data",
          "data": {
            "text/plain": [
              "<Figure size 432x288 with 1 Axes>"
            ],
            "image/png": "[encoded data removed]"
          },
          "metadata": {
            "needs_background": "light"
          }
        }
      ]
    },
    {
      "cell_type": "markdown",
      "metadata": {
        "id": "znuXxeghycOh"
      },
      "source": [
        "Now filter tokens a list of all tokens that occur at least 10 times."
      ]
    },
    {
      "cell_type": "code",
      "metadata": {
        "colab": {
          "base_uri": "https://localhost:8080/"
        },
        "id": "X0O90UKQpG-h",
        "outputId": "0c74c7ea-2c66-441f-f245-ac1e2b83dd6c"
      },
      "source": [
        "token_counts"
      ],
      "execution_count": 12,
      "outputs": [
        {
          "output_type": "execute_result",
          "data": {
            "text/plain": [
              "Counter({'engineering': 68563,\n",
              "         'systems': 77071,\n",
              "         'analyst': 34427,\n",
              "         'dorking': 260,\n",
              "         'surrey': 8237,\n",
              "         'salary': 93465,\n",
              "         '****': 681869,\n",
              "         'k': 77920,\n",
              "         'our': 223441,\n",
              "         'client': 198691,\n",
              "         'is': 599665,\n",
              "         'located': 7667,\n",
              "         'in': 1035792,\n",
              "         ',': 2318606,\n",
              "         'and': 2657388,\n",
              "         'are': 428534,\n",
              "         'looking': 155766,\n",
              "         'for': 867233,\n",
              "         'provides': 11180,\n",
              "         'specialist': 41160,\n",
              "         'software': 74918,\n",
              "         'development': 168938,\n",
              "         'keywords': 4554,\n",
              "         'mathematical': 1033,\n",
              "         'modelling': 6534,\n",
              "         'risk': 26638,\n",
              "         'analysis': 34076,\n",
              "         'system': 35689,\n",
              "         'optimisation': 2801,\n",
              "         'miser': 8,\n",
              "         'pioneeer': 1,\n",
              "         'stress': 1855,\n",
              "         'engineer': 94623,\n",
              "         'glasgow': 3333,\n",
              "         'to': 2019884,\n",
              "         'we': 238825,\n",
              "         're': 17471,\n",
              "         'currently': 54542,\n",
              "         'talented': 10676,\n",
              "         'engineers': 18116,\n",
              "         'join': 94014,\n",
              "         'growing': 29370,\n",
              "         'team': 271843,\n",
              "         'at': 171875,\n",
              "         'a': 1521925,\n",
              "         'variety': 18978,\n",
              "         'of': 1426213,\n",
              "         'levels': 32207,\n",
              "         '.': 2523216,\n",
              "         'the': 2080994,\n",
              "         'roles': 21092,\n",
              "         'ideally': 47835,\n",
              "         'suited': 1886,\n",
              "         'high': 95158,\n",
              "         'calibre': 4170,\n",
              "         'graduates': 3828,\n",
              "         'with': 728884,\n",
              "         'any': 57234,\n",
              "         'level': 75153,\n",
              "         'appropriate': 28510,\n",
              "         'experience': 429019,\n",
              "         'so': 41459,\n",
              "         'that': 200655,\n",
              "         'can': 79276,\n",
              "         'give': 10290,\n",
              "         'you': 694177,\n",
              "         'opportunity': 131569,\n",
              "         'use': 33350,\n",
              "         'your': 275371,\n",
              "         'technical': 91480,\n",
              "         'skills': 236248,\n",
              "         'provide': 78218,\n",
              "         'quality': 81264,\n",
              "         'input': 6399,\n",
              "         'aerospace': 6295,\n",
              "         'projects': 69344,\n",
              "         'spanning': 696,\n",
              "         'both': 52768,\n",
              "         'aerostructures': 64,\n",
              "         'aeroengines': 17,\n",
              "         'return': 17440,\n",
              "         'expect': 7820,\n",
              "         'good': 90594,\n",
              "         'career': 74275,\n",
              "         'opportunities': 74416,\n",
              "         'chance': 10996,\n",
              "         'advancement': 1283,\n",
              "         'personal': 27708,\n",
              "         'professional': 58703,\n",
              "         'support': 161650,\n",
              "         'while': 6042,\n",
              "         'gain': 8397,\n",
              "         'chartership': 290,\n",
              "         'some': 38110,\n",
              "         'possibly': 1578,\n",
              "         'travel': 40058,\n",
              "         'or': 329512,\n",
              "         'work': 280280,\n",
              "         'other': 81835,\n",
              "         'offices': 14200,\n",
              "         'outside': 6243,\n",
              "         'uk': 163958,\n",
              "         'requirements': 71837,\n",
              "         'will': 652403,\n",
              "         'need': 58950,\n",
              "         'have': 361514,\n",
              "         'degree': 32728,\n",
              "         'includes': 9854,\n",
              "         'structural': 3689,\n",
              "         '(': 234419,\n",
              "         'such': 36699,\n",
              "         'as': 472859,\n",
              "         'aeronautical': 156,\n",
              "         'mechanical': 28561,\n",
              "         'automotive': 15059,\n",
              "         'civil': 7924,\n",
              "         ')': 185958,\n",
              "         'environment': 92623,\n",
              "         'relevant': 45878,\n",
              "         'but': 53699,\n",
              "         'not': 89962,\n",
              "         'limited': 20080,\n",
              "         'sector': 37688,\n",
              "         'demonstrate': 26735,\n",
              "         'least': 20143,\n",
              "         'one': 66314,\n",
              "         'more': 66618,\n",
              "         'following': 42968,\n",
              "         'areas': 31599,\n",
              "         ':': 415648,\n",
              "         '/': 554003,\n",
              "         'composite': 552,\n",
              "         'industry': 59732,\n",
              "         'linear': 274,\n",
              "         'nonlinear': 115,\n",
              "         'finite': 436,\n",
              "         'element': 2223,\n",
              "         'fatigue': 212,\n",
              "         'damage': 576,\n",
              "         'tolerance': 412,\n",
              "         'dynamics': 8189,\n",
              "         'thermal': 1149,\n",
              "         'also': 88122,\n",
              "         'be': 625163,\n",
              "         'expected': 17460,\n",
              "         'qualities': 3508,\n",
              "         'strong': 100515,\n",
              "         'desire': 10135,\n",
              "         'progress': 21248,\n",
              "         'quickly': 7983,\n",
              "         'position': 85879,\n",
              "         'leadership': 18881,\n",
              "         'approach': 26638,\n",
              "         'communication': 64587,\n",
              "         'written': 21794,\n",
              "         'verbal': 11929,\n",
              "         'commercial': 56187,\n",
              "         'awareness': 10646,\n",
              "         'working': 222783,\n",
              "         'being': 31460,\n",
              "         'comfortable': 6535,\n",
              "         'international': 25486,\n",
              "         'teams': 33998,\n",
              "         'self': 12629,\n",
              "         'managing': 52178,\n",
              "         'please': 171870,\n",
              "         'note': 17847,\n",
              "         'security': 24682,\n",
              "         'clearance': 3604,\n",
              "         'required': 137902,\n",
              "         'this': 497002,\n",
              "         'role': 292680,\n",
              "         'simulation': 1314,\n",
              "         'modeller': 551,\n",
              "         'operational': 17419,\n",
              "         'basingstoke': 1938,\n",
              "         'hampshire': 5322,\n",
              "         'up': 77492,\n",
              "         'aae': 6,\n",
              "         'pension': 26455,\n",
              "         'contribution': 4251,\n",
              "         'private': 18475,\n",
              "         'medical': 17575,\n",
              "         'dental': 3800,\n",
              "         'an': 442713,\n",
              "         'independent': 10640,\n",
              "         'consultancy': 26888,\n",
              "         'firm': 19844,\n",
              "         'which': 56478,\n",
              "         'has': 90339,\n",
              "         'data': 58657,\n",
              "         '35': 2122,\n",
              "         'years': 60231,\n",
              "         'require': 21596,\n",
              "         'successful': 116666,\n",
              "         'candidate': 96280,\n",
              "         'their': 185011,\n",
              "         'ability': 103776,\n",
              "         'analyse': 5727,\n",
              "         'problem': 13469,\n",
              "         'arrive': 296,\n",
              "         'solution': 11372,\n",
              "         'varying': 1490,\n",
              "         'available': 38627,\n",
              "         'essential': 76496,\n",
              "         'thorough': 4895,\n",
              "         'knowledge': 113417,\n",
              "         'excel': 19179,\n",
              "         'proven': 42896,\n",
              "         'utilise': 2595,\n",
              "         'create': 13261,\n",
              "         'powerful': 386,\n",
              "         'decision': 7049,\n",
              "         'models': 5183,\n",
              "         'techniques': 11606,\n",
              "         'discrete': 117,\n",
              "         'event': 5246,\n",
              "         'sd': 359,\n",
              "         'scientific': 3415,\n",
              "         'background': 43015,\n",
              "         'minimum': 25833,\n",
              "         'qualified': 44397,\n",
              "         'analytical': 13830,\n",
              "         'solving': 9877,\n",
              "         'starter': 1824,\n",
              "         'develop': 66712,\n",
              "         'solid': 12591,\n",
              "         'relationships': 35979,\n",
              "         'addition': 11093,\n",
              "         'formal': 3963,\n",
              "         'qualifications': 29023,\n",
              "         'excellent': 144946,\n",
              "         'energetic': 3223,\n",
              "         'enterprising': 206,\n",
              "         'determination': 3022,\n",
              "         'succeed': 8762,\n",
              "         'they': 103373,\n",
              "         'build': 29127,\n",
              "         'internally': 4047,\n",
              "         'colleagues': 11461,\n",
              "         'most': 26956,\n",
              "         'importantly': 1605,\n",
              "         'externally': 2779,\n",
              "         'clients': 89241,\n",
              "         'must': 125095,\n",
              "         'independently': 5459,\n",
              "         'deliver': 34767,\n",
              "         'against': 7865,\n",
              "         'challenging': 14591,\n",
              "         'demands': 3501,\n",
              "         'worldwide': 7130,\n",
              "         'therefore': 11177,\n",
              "         'prepared': 5089,\n",
              "         'undertake': 13246,\n",
              "         'sites': 13624,\n",
              "         'short': 8032,\n",
              "         'periods': 1656,\n",
              "         'time': 73882,\n",
              "         'physics': 1896,\n",
              "         'mathematics': 2513,\n",
              "         'research': 22180,\n",
              "         'highly': 46022,\n",
              "         'respected': 5403,\n",
              "         'providing': 45876,\n",
              "         'pioneer': 381,\n",
              "         'maths': 6541,\n",
              "         'asset': 6481,\n",
              "         'management': 190344,\n",
              "         'water': 8259,\n",
              "         'access': 15216,\n",
              "         'vba': 1242,\n",
              "         'sql': 35681,\n",
              "         'negotiable': 3868,\n",
              "         'location': 33240,\n",
              "         'cover': 20494,\n",
              "         'wide': 17802,\n",
              "         'topics': 495,\n",
              "         'typically': 2111,\n",
              "         'small': 19430,\n",
              "         'offer': 48426,\n",
              "         'intellectually': 124,\n",
              "         'undertaken': 2630,\n",
              "         'within': 217418,\n",
              "         'supportive': 5602,\n",
              "         'where': 41382,\n",
              "         'nurtured': 115,\n",
              "         'rewarded': 5066,\n",
              "         'on': 394777,\n",
              "         'deterioration': 65,\n",
              "         'failure': 840,\n",
              "         'consequences': 97,\n",
              "         'including': 90178,\n",
              "         'uploading': 309,\n",
              "         'these': 24185,\n",
              "         'onto': 2964,\n",
              "         'industryleading': 326,\n",
              "         'optimal': 614,\n",
              "         'stats': 604,\n",
              "         'it': 117555,\n",
              "         'needed': 11889,\n",
              "         'previous': 42532,\n",
              "         'would': 78824,\n",
              "         'advantage': 18757,\n",
              "         'candidates': 82291,\n",
              "         'should': 36329,\n",
              "         'honours': 461,\n",
              "         'numerate': 2256,\n",
              "         'discipline': 8041,\n",
              "         'i': 24948,\n",
              "         'e': 23689,\n",
              "         ';': 99508,\n",
              "         'science': 11202,\n",
              "         'computing': 2068,\n",
              "         'first': 27747,\n",
              "         'class': 14814,\n",
              "         'phd': 1680,\n",
              "         'masters': 1028,\n",
              "         'meng': 248,\n",
              "         'graduate': 27328,\n",
              "         'key': 83709,\n",
              "         'leakage': 176,\n",
              "         'senior': 87513,\n",
              "         'subsea': 1237,\n",
              "         'pipeline': 3009,\n",
              "         'integrity': 4456,\n",
              "         'globally': 3373,\n",
              "         'renowned': 4358,\n",
              "         'training': 92149,\n",
              "         'company': 177583,\n",
              "         'oil': 7573,\n",
              "         'manage': 54906,\n",
              "         'internal': 37638,\n",
              "         'external': 23098,\n",
              "         'inspection': 4672,\n",
              "         'plans': 25616,\n",
              "         'plan': 23995,\n",
              "         'remedial': 621,\n",
              "         'preventative': 1874,\n",
              "         'maintenance': 39507,\n",
              "         'implement': 13087,\n",
              "         'apply': 113066,\n",
              "         'update': 5759,\n",
              "         'databases': 5697,\n",
              "         'spreadsheets': 1320,\n",
              "         'assist': 30853,\n",
              "         'operators': 1895,\n",
              "         'project': 102963,\n",
              "         'assurance': 11065,\n",
              "         'procedure': 2847,\n",
              "         'reviews': 8190,\n",
              "         'handle': 4169,\n",
              "         'consulting': 7295,\n",
              "         'assessments': 7636,\n",
              "         'presentations': 5100,\n",
              "         'responsible': 66996,\n",
              "         'representation': 588,\n",
              "         'offshore': 3649,\n",
              "         'prepare': 9224,\n",
              "         'proposals': 5302,\n",
              "         'tenders': 2342,\n",
              "         'write': 3932,\n",
              "         'reports': 27194,\n",
              "         'specifications': 8879,\n",
              "         'using': 37619,\n",
              "         'various': 16732,\n",
              "         'types': 2889,\n",
              "         'mathcad': 175,\n",
              "         'abaqus': 123,\n",
              "         'olga': 9,\n",
              "         'orcaflex': 30,\n",
              "         'present': 6814,\n",
              "         's': 151120,\n",
              "         'courses': 4194,\n",
              "         'sales': 229086,\n",
              "         'customer': 115173,\n",
              "         'relationship': 11173,\n",
              "         '10': 7534,\n",
              "         'pipelines': 305,\n",
              "         'design': 96089,\n",
              "         'construction': 16679,\n",
              "         'controls': 8120,\n",
              "         'corrosion': 227,\n",
              "         'decommissioning': 411,\n",
              "         'structures': 3321,\n",
              "         'aeronautics': 25,\n",
              "         'naval': 804,\n",
              "         'architecture': 7676,\n",
              "         'preferably': 12961,\n",
              "         'full': 74724,\n",
              "         'clean': 6138,\n",
              "         'driving': 23155,\n",
              "         'license': 5003,\n",
              "         'if': 127675,\n",
              "         'exposure': 12448,\n",
              "         '&': 68651,\n",
              "         'gas': 11677,\n",
              "         'love': 6495,\n",
              "         'hear': 10758,\n",
              "         'from': 162263,\n",
              "         'send': 37491,\n",
              "         'cv': 87495,\n",
              "         'now': 42568,\n",
              "         'recruitment': 123310,\n",
              "         'consultant': 44396,\n",
              "         'industrial': 9498,\n",
              "         'driv': 9,\n",
              "         'live': 23550,\n",
              "         'vacancy': 39291,\n",
              "         'generic': 474,\n",
              "         'advertisement': 1294,\n",
              "         'do': 44983,\n",
              "         'want': 16960,\n",
              "         'earn': 7163,\n",
              "         'basic': 33754,\n",
              "         'uncapped': 8238,\n",
              "         'ote': 17425,\n",
              "         'national': 19187,\n",
              "         'recruiter': 4428,\n",
              "         'who': 117642,\n",
              "         'expanding': 16830,\n",
              "         'recruiting': 25743,\n",
              "         'job': 156315,\n",
              "         '?': 69860,\n",
              "         'experienced': 70973,\n",
              "         'business': 275975,\n",
              "         'executive': 46396,\n",
              "         'wants': 3969,\n",
              "         'innovative': 16119,\n",
              "         'genuine': 5977,\n",
              "         'prospects': 8010,\n",
              "         '5': 23724,\n",
              "         '%': 15810,\n",
              "         'home': 51109,\n",
              "         'grown': 2552,\n",
              "         'dynamic': 17848,\n",
              "         'based': 108473,\n",
              "         'manchester': 11754,\n",
              "         'top': 17989,\n",
              "         'performing': 4828,\n",
              "         'locations': 7294,\n",
              "         'earning': 4127,\n",
              "         'potential': 24035,\n",
              "         '30': 4719,\n",
              "         'commission': 14008,\n",
              "         'achievers': 511,\n",
              "         'details': 30686,\n",
              "         'generating': 4860,\n",
              "         'my': 47999,\n",
              "         'divisions': 2801,\n",
              "         'across': 61711,\n",
              "         'branches': 2217,\n",
              "         'all': 216046,\n",
              "         'leading': 90732,\n",
              "         'websites': 4569,\n",
              "         'over': 40131,\n",
              "         'annual': 13549,\n",
              "         'investment': 11600,\n",
              "         'why': 5314,\n",
              "         'make': 28400,\n",
              "         'harder': 211,\n",
              "         'comprehensive': 8851,\n",
              "         'administration': 23092,\n",
              "         'back': 11353,\n",
              "         'every': 20347,\n",
              "         'established': 32403,\n",
              "         'bespoke': 7197,\n",
              "         'database': 18256,\n",
              "         'generate': 5700,\n",
              "         'existing': 30540,\n",
              "         'new': 129924,\n",
              "         'inter': 330,\n",
              "         'division': 10363,\n",
              "         'cross': 5309,\n",
              "         'fertilisation': 10,\n",
              "         'closely': 19604,\n",
              "         '8': 5448,\n",
              "         'complete': 16253,\n",
              "         'corporate': 20131,\n",
              "         'ho': 100,\n",
              "         'psl': 306,\n",
              "         'own': 41378,\n",
              "         'desk': 6724,\n",
              "         'achieve': 20586,\n",
              "         'daily': 16411,\n",
              "         'weekly': 9973,\n",
              "         'monthly': 15088,\n",
              "         'targets': 27644,\n",
              "         'person': 29599,\n",
              "         'energy': 13255,\n",
              "         'competitive': 27823,\n",
              "         'streak': 99,\n",
              "         'beat': 154,\n",
              "         'competition': 1262,\n",
              "         'appearance': 1378,\n",
              "         'sustainable': 2179,\n",
              "         'positive': 14840,\n",
              "         'mental': 6472,\n",
              "         'attitude': 14262,\n",
              "         'able': 88710,\n",
              "         'exceeding': 2749,\n",
              "         'focussed': 4074,\n",
              "         'listening': 1848,\n",
              "         'natural': 3388,\n",
              "         'confidence': 10351,\n",
              "         'naturally': 1156,\n",
              "         'player': 12857,\n",
              "         'committed': 19007,\n",
              "         'success': 22967,\n",
              "         '2': 27739,\n",
              "         'benefits': 72055,\n",
              "         'scheme': 29765,\n",
              "         'award': 10697,\n",
              "         'winning': 11728,\n",
              "         'academy': 2561,\n",
              "         'incentives': 3732,\n",
              "         'awards': 4002,\n",
              "         'building': 31861,\n",
              "         'feel': 14227,\n",
              "         'drive': 26488,\n",
              "         'fast': 20852,\n",
              "         'paced': 10104,\n",
              "         'rewards': 5562,\n",
              "         'then': 34637,\n",
              "         'call': 46708,\n",
              "         'email': 46112,\n",
              "         'fro': 48,\n",
              "         'informal': 3714,\n",
              "         'discreet': 234,\n",
              "         'discussion': 4272,\n",
              "         'forwarded': 1143,\n",
              "         'without': 7883,\n",
              "         'authorisation': 806,\n",
              "         'code': 8144,\n",
              "         'blue': 7433,\n",
              "         'nearly': 992,\n",
              "         'vacancies': 16450,\n",
              "         'sectors': 17227,\n",
              "         'whole': 4939,\n",
              "         'positions': 15138,\n",
              "         'include': 61843,\n",
              "         'junior': 14683,\n",
              "         'trainee': 7805,\n",
              "         'consultants': 18154,\n",
              "         'leaders': 5754,\n",
              "         'account': 52155,\n",
              "         'managers': 32977,\n",
              "         'branch': 8406,\n",
              "         'directors': 5788,\n",
              "         'covered': 1287,\n",
              "         'finance': 32441,\n",
              "         'accountancy': 3871,\n",
              "         'banking': 9548,\n",
              "         'legal': 20357,\n",
              "         'hr': 30268,\n",
              "         'markets': 10185,\n",
              "         'office': 55390,\n",
              "         'hospitality': 7182,\n",
              "         'catering': 6595,\n",
              "         'public': 16187,\n",
              "         'care': 94612,\n",
              "         'education': 25333,\n",
              "         't': 22027,\n",
              "         '.,': 874,\n",
              "         'telecoms': 4191,\n",
              "         'media': 26417,\n",
              "         'pharmaceutical': 5529,\n",
              "         'well': 85141,\n",
              "         'diverse': 7984,\n",
              "         'search': 12058,\n",
              "         'supply': 24921,\n",
              "         'chain': 9003,\n",
              "         'trades': 1190,\n",
              "         'labour': 2069,\n",
              "         'exceptional': 15650,\n",
              "         'agency': 71180,\n",
              "         'hasn': 104,\n",
              "         'shrunk': 2,\n",
              "         'current': 30536,\n",
              "         'market': 55552,\n",
              "         'bit': 954,\n",
              "         'seeking': 33307,\n",
              "         'nononsense': 9,\n",
              "         'skilled': 9450,\n",
              "         'couple': 945,\n",
              "         'under': 20616,\n",
              "         'belt': 808,\n",
              "         'specialise': 5734,\n",
              "         'placing': 2703,\n",
              "         'highcalibre': 166,\n",
              "         'white': 2778,\n",
              "         'collar': 410,\n",
              "         'temp': 2553,\n",
              "         'perm': 3202,\n",
              "         'basis': 29434,\n",
              "         'servicefocus': 1,\n",
              "         'definately': 8,\n",
              "         'afraid': 768,\n",
              "         'pick': 1543,\n",
              "         'phone': 12391,\n",
              "         'acting': 28632,\n",
              "         'leads': 8057,\n",
              "         'referrals': 2409,\n",
              "         'like': 27466,\n",
              "         'matching': 1351,\n",
              "         'cvinterviewplacement': 1,\n",
              "         'ratios': 162,\n",
              "         'impressive': 3985,\n",
              "         'here': 6242,\n",
              "         'real': 14422,\n",
              "         'aboveaverage': 1,\n",
              "         'package': 39047,\n",
              "         'car': 29861,\n",
              "         'allowan': 1,\n",
              "         'bonus': 32321,\n",
              "         '22': 1181,\n",
              "         '%(': 1,\n",
              "         'alloowance': 1,\n",
              "         'additional': 16069,\n",
              "         'quarterly': 3484,\n",
              "         'bonuses': 3772,\n",
              "         'sensible': 221,\n",
              "         'atmosphere': 3339,\n",
              "         'serious': 1158,\n",
              "         'competitor': 2024,\n",
              "         'marketplace': 2284,\n",
              "         'take': 38888,\n",
              "         'interest': 16259,\n",
              "         'people': 64943,\n",
              "         'contact': 75816,\n",
              "         'donna': 123,\n",
              "         'turner': 1279,\n",
              "         'billing': 2157,\n",
              "         'figures': 1564,\n",
              "         'hand': 3322,\n",
              "         'cables': 342,\n",
              "         'cable': 893,\n",
              "         'issues': 30361,\n",
              "         'related': 22679,\n",
              "         'someone': 22120,\n",
              "         '1015': 104,\n",
              "         'significant': 12662,\n",
              "         'industries': 6913,\n",
              "         'developing': 39474,\n",
              "         'methods': 6612,\n",
              "         'fea': 807,\n",
              "         'cfd': 473,\n",
              "         'staff': 70155,\n",
              "         'expert': 8890,\n",
              "         'proactive': 14289,\n",
              "         'interpersonal': 12484,\n",
              "         'chartered': 3780,\n",
              "         'towards': 10721,\n",
              "         'qualification': 24880,\n",
              "         'offers': 21399,\n",
              "         'extremely': 7043,\n",
              "         'health': 48700,\n",
              "         'membership': 5653,\n",
              "         'sponsorship': 2491,\n",
              "         'relocation': 2601,\n",
              "         'mortgage': 3564,\n",
              "         'advisor': 16299,\n",
              "         'east': 20244,\n",
              "         'midlands': 11141,\n",
              "         'results': 16102,\n",
              "         'driven': 20859,\n",
              "         'start': 26954,\n",
              "         'financial': 58550,\n",
              "         'services': 108393,\n",
              "         'proud': 3414,\n",
              "         'estate': 7249,\n",
              "         'agent': 4881,\n",
              "         'unbeatable': 261,\n",
              "         'local': 23414,\n",
              "         'reputation': 11911,\n",
              "         'service': 145467,\n",
              "         'each': 17505,\n",
              "         'accommodate': 785,\n",
              "         'needs': 38528,\n",
              "         'learn': 12166,\n",
              "         'whilst': 19363,\n",
              "         'achieving': 8236,\n",
              "         'shared': 2596,\n",
              "         'goals': 7219,\n",
              "         'capable': 6649,\n",
              "         'effectively': 21065,\n",
              "         'pressure': 11663,\n",
              "         'target': 11586,\n",
              "         'orientated': 4530,\n",
              "         'successfully': 6506,\n",
              "         'cemap': 641,\n",
              "         'evaluate': 3428,\n",
              "         'fantastic': 36680,\n",
              "         'programme': 22976,\n",
              "         'funding': 2729,\n",
              "         'once': 4364,\n",
              "         'fully': 16629,\n",
              "         'achievable': 1258,\n",
              "         'progression': 20671,\n",
              "         'thresholds': 76,\n",
              "         'put': 5096,\n",
              "         'place': 16673,\n",
              "         'track': 30749,\n",
              "         'record': 33667,\n",
              "         'abilities': 4291,\n",
              "         'setting': 12428,\n",
              "         'suitable': 17658,\n",
              "         'enthusiasm': 6193,\n",
              "         'qualify': 1527,\n",
              "         'applicants': 37882,\n",
              "         'advise': 4602,\n",
              "         'purchasing': 5581,\n",
              "         'friendly': 14133,\n",
              "         'refined': 193,\n",
              "         'attention': 14258,\n",
              "         'detail': 20953,\n",
              "         'licence': 12546,\n",
              "         'motivated': 20636,\n",
              "         'individual': 33783,\n",
              "         'learning': 21342,\n",
              "         'load': 2932,\n",
              "         'organisational': 11476,\n",
              "         'belper': 68,\n",
              "         'ilkeston': 62,\n",
              "         'eastwood': 21,\n",
              "         'derby': 1943,\n",
              "         'leicester': 3015,\n",
              "         'mansfield': 426,\n",
              "         'melbourne': 104,\n",
              "         'ripley': 44,\n",
              "         'phamaceutical': 6,\n",
              "         'c': 63121,\n",
              "         'oxfordshire': 3071,\n",
              "         '****/****/': 1067,\n",
              "         'mg': 40,\n",
              "         'execution': 4038,\n",
              "         'continuous': 10404,\n",
              "         'improvement': 15867,\n",
              "         'compliance': 20241,\n",
              "         'too': 3135,\n",
              "         'subprojects': 26,\n",
              "         'introduction': 3173,\n",
              "         'products': 49232,\n",
              "         'processes': 29381,\n",
              "         'order': 27431,\n",
              "         'meet': 28205,\n",
              "         'strategic': 15047,\n",
              "         'jointly': 219,\n",
              "         'fo': 95,\n",
              "         'reporting': 39801,\n",
              "         'designated': 2385,\n",
              "         'capital': 5532,\n",
              "         'expenses': 3811,\n",
              "         'actual': 1206,\n",
              "         'vs': 409,\n",
              "         'associated': 9920,\n",
              "         'implementation': 21024,\n",
              "         'process': 54000,\n",
              "         'equipment': 28660,\n",
              "         'modifications': 978,\n",
              "         'responsibilities': 46735,\n",
              "         'tasks': 17745,\n",
              "         'deliverables': 3119,\n",
              "         'agreed': 13277,\n",
              "         'cost': 18348,\n",
              "         'responsbile': 8,\n",
              "         'validation': 3441,\n",
              "         'material': 5277,\n",
              "         'remediation': 582,\n",
              "         'activity': 11045,\n",
              "         'maintain': 35221,\n",
              "         'effectiveness': 3067,\n",
              "         'accordance': 12931,\n",
              "         'effective': 28727,\n",
              "         'liaison': 7116,\n",
              "         'functions': 7655,\n",
              "         'suppliers': 14750,\n",
              "         'regulatory': 9775,\n",
              "         'bodies': 2001,\n",
              "         'improvements': 7735,\n",
              "         'understanding': 53235,\n",
              "         'drawings': 6797,\n",
              "         'dealing': 17593,\n",
              "         'subcontractors': 2464,\n",
              "         'regulated': 2675,\n",
              "         'manufacturing': 30722,\n",
              "         'bsc': 1600,\n",
              "         'hnc': 4415,\n",
              "         'principal': 6936,\n",
              "         'bristol': 7836,\n",
              "         'progressive': 5783,\n",
              "         'rapidly': 8181,\n",
              "         'organisation': 50323,\n",
              "         'end': 24484,\n",
              "         'prime': 1347,\n",
              "         'involved': 17938,\n",
              "         'exciting': 41760,\n",
              "         'world': 23635,\n",
              "         'ownership': 6770,\n",
              "         'lead': 43949,\n",
              "         'others': 10880,\n",
              "         'post': 27315,\n",
              "         'challenged': 666,\n",
              "         'contribute': 10486,\n",
              "         'growth': 30610,\n",
              "         'reward': 5690,\n",
              "         'above': 18216,\n",
              "         'recognised': 11159,\n",
              "         'lightweight': 50,\n",
              "         'solutions': 53530,\n",
              "         'objectives': 13753,\n",
              "         'advantageous': 11351,\n",
              "         'covering': 14770,\n",
              "         'aero': 116,\n",
              "         'engines': 922,\n",
              "         'demonstrable': 7542,\n",
              "         'disciplines': 4052,\n",
              "         'laminates': 33,\n",
              "         'static': 599,\n",
              "         'bolted': 33,\n",
              "         'bonded': 34,\n",
              "         'joints': 32,\n",
              "         'buckling': 11,\n",
              "         'sandwich': 104,\n",
              "         'normal': 1874,\n",
              "         'hours': 47717,\n",
              "         'may': 32135,\n",
              "         'composites': 223,\n",
              "         'metallic': 167,\n",
              "         'dep': 227,\n",
              "         'exp': 841,\n",
              "         'avon': 755,\n",
              "         'south': 22276,\n",
              "         'west': 25034,\n",
              "         'chef': 31881,\n",
              "         'de': 11144,\n",
              "         'partie': 9314,\n",
              "         'restaurant': 18943,\n",
              "         'tips': 1768,\n",
              "         'area': 50454,\n",
              "         'passionate': 13988,\n",
              "         'about': 43325,\n",
              "         'fresh': 7408,\n",
              "         'produce': 14630,\n",
              "         'standard': 20450,\n",
              "         'brigade': 1712,\n",
              "         'chefs': 3302,\n",
              "         'serves': 878,\n",
              "         'covers': 2130,\n",
              "         'lunch': 2328,\n",
              "         'set': 19820,\n",
              "         'menu': 2323,\n",
              "         'evening': 2081,\n",
              "         'la': 925,\n",
              "         'carte': 295,\n",
              "         'run': 8368,\n",
              "         'section': 3690,\n",
              "         'trained': 6122,\n",
              "         'keeping': 5765,\n",
              "         'space': 4465,\n",
              "         'tidy': 1341,\n",
              "         'times': 19228,\n",
              "         'parties': 4453,\n",
              "         'applying': 15334,\n",
              "         'already': 9095,\n",
              "         'food': 29401,\n",
              "         'busy': 20098,\n",
              "         'right': 32710,\n",
              "         'uniform': 2914,\n",
              "         'provided': 17649,\n",
              "         'meals': 3236,\n",
              "         'duty': 4140,\n",
              "         '–': 30359,\n",
              "         'paid': 10199,\n",
              "         'interested': 24898,\n",
              "         'information': 71975,\n",
              "         'temporary': 22984,\n",
              "         'assignments': 3724,\n",
              "         'by': 116464,\n",
              "         'clicking': 1683,\n",
              "         \"'\": 123716,\n",
              "         'button': 6311,\n",
              "         'below': 9817,\n",
              "         'tony': 413,\n",
              "         'papa': 105,\n",
              "         'his': 2843,\n",
              "         'utmost': 575,\n",
              "         'employment': 81976,\n",
              "         'line': 36520,\n",
              "         'asylum': 1423,\n",
              "         'immigration': 3079,\n",
              "         'act': 16640,\n",
              "         'eligible': 15126,\n",
              "         'documented': 2486,\n",
              "         'evidence': 6490,\n",
              "         'eligibility': 4624,\n",
              "         'part': 66474,\n",
              "         'was': 70096,\n",
              "         'originally': 66286,\n",
              "         'posted': 67055,\n",
              "         'www': 87603,\n",
              "         'caterer': 4494,\n",
              "         'com': 87759,\n",
              "         'jobseeking': 66875,\n",
              "         'chefdepartieawardwinningrestaurantexcellenttips_job': 1,\n",
              "         'supplier': 14007,\n",
              "         'precision': 2260,\n",
              "         'machined': 364,\n",
              "         'components': 7159,\n",
              "         'integrated': 5303,\n",
              "         'kits': 225,\n",
              "         'parts': 8837,\n",
              "         'assemblies': 1051,\n",
              "         'due': 36979,\n",
              "         'large': 35428,\n",
              "         'increase': 8369,\n",
              "         'workload': 6721,\n",
              "         'manager': 235225,\n",
              "         'documentation': 17720,\n",
              "         'fulfil': 2559,\n",
              "         'customers': 59209,\n",
              "         'specific': 20546,\n",
              "         'contracts': 14615,\n",
              "         'maintaining': 20902,\n",
              "         'storage': 5143,\n",
              "         'retrieval': 275,\n",
              "         'audit': 11842,\n",
              "         'schedule': 4420,\n",
              "         'audits': 5024,\n",
              "         'checking': 3913,\n",
              "         'vendor': 3152,\n",
              "         'supplied': 1682,\n",
              "         'ensure': 97374,\n",
              "         'complies': 1484,\n",
              "         'express': 2425,\n",
              "         'accurate': 14861,\n",
              "         'legible': 168,\n",
              "         'packs': 1839,\n",
              "         'qa': 6122,\n",
              "         'iso9001': 833,\n",
              "         ':****': 1960,\n",
              "         'certification': 3890,\n",
              "         'certificates': 1352,\n",
              "         'conformance': 367,\n",
              "         'checked': 587,\n",
              "         'matrix': 1149,\n",
              "         'applicable': 4069,\n",
              "         'concessions': 375,\n",
              "         'referenced': 83,\n",
              "         'verify': 707,\n",
              "         'approve': 601,\n",
              "         'receipt': 1871,\n",
              "         'resolve': 5322,\n",
              "         'discrepancies': 491,\n",
              "         'non': 3581,\n",
              "         'raise': 2448,\n",
              "         'submit': 5772,\n",
              "         'reject': 116,\n",
              "         'store': 17232,\n",
              "         'responses': 2092,\n",
              "         'received': 5095,\n",
              "         'auditing': 2239,\n",
              "         'carry': 12712,\n",
              "         'out': 55224,\n",
              "         'when': 25467,\n",
              "         'identify': 17022,\n",
              "         'report': 15881,\n",
              "         'nonconformances': 215,\n",
              "         'corrective': 1914,\n",
              "         'actions': 5568,\n",
              "         'close': 9144,\n",
              "         'them': 29026,\n",
              "         'rejects': 44,\n",
              "         'action': 6597,\n",
              "         'submitted': 1779,\n",
              "         'department': 28900,\n",
              "         'similar': 23565,\n",
              "         'familiar': 3841,\n",
              "         'range': 48961,\n",
              "         'facing': 8252,\n",
              "         'discuss': 12355,\n",
              "         'vendors': 2470,\n",
              "         'highlyskilled': 106,\n",
              "         'controlsrelated': 2,\n",
              "         'concerns': 1494,\n",
              "         'charge': 3959,\n",
              "         'organising': 4111,\n",
              "         'ensuring': 44614,\n",
              "         'calculations': 2253,\n",
              "         'review': 17382,\n",
              "         'designs': 6751,\n",
              "         'assistance': 6927,\n",
              "         'problems': 11295,\n",
              "         'come': 11249,\n",
              "         '15': 2474,\n",
              "         'installation': 8617,\n",
              "         'operation': 11371,\n",
              "         'almost': 1288,\n",
              "         'production': 33060,\n",
              "         'brilliant': 2199,\n",
              "         'very': 39242,\n",
              "         ...})"
            ]
          },
          "metadata": {},
          "execution_count": 12
        }
      ]
    },
    {
      "cell_type": "code",
      "metadata": {
        "id": "SeNFBWx5ycOh"
      },
      "source": [
        "min_count = 10\n",
        "\n",
        "# tokens from token_counts keys that had at least min_count occurrences throughout the dataset\n",
        "tokens = [token for token, cnt in token_counts.items() if cnt >= min_count]# <YOUR CODE HERE>"
      ],
      "execution_count": 13,
      "outputs": []
    },
    {
      "cell_type": "code",
      "metadata": {
        "colab": {
          "base_uri": "https://localhost:8080/"
        },
        "id": "RATIRyPKycOk",
        "outputId": "33850da3-ef06-4ff8-d30c-4ef27106e194"
      },
      "source": [
        "# Add a special tokens for unknown and empty words\n",
        "UNK, PAD = \"UNK\", \"PAD\"\n",
        "tokens = [UNK, PAD] + sorted(tokens)\n",
        "print(\"Vocabulary size:\", len(tokens))\n",
        "\n",
        "assert type(tokens) == list\n",
        "assert len(tokens) in range(32000, 35000)\n",
        "assert 'me' in tokens\n",
        "assert UNK in tokens\n",
        "print(\"Correct!\")"
      ],
      "execution_count": 14,
      "outputs": [
        {
          "output_type": "stream",
          "name": "stdout",
          "text": [
            "Vocabulary size: 34158\n",
            "Correct!\n"
          ]
        }
      ]
    },
    {
      "cell_type": "markdown",
      "metadata": {
        "id": "cqEsgbjZycOo"
      },
      "source": [
        "Build an inverse token index: a dictionary from token(string) to it's index in `tokens` (int)"
      ]
    },
    {
      "cell_type": "code",
      "metadata": {
        "id": "L60lo1l_ycOq"
      },
      "source": [
        "# You have already done that ;)\n",
        "\n",
        "token_to_id = {token: idx for idx, token in enumerate(tokens)} # <YOUR CODE HERE>"
      ],
      "execution_count": 15,
      "outputs": []
    },
    {
      "cell_type": "code",
      "metadata": {
        "colab": {
          "base_uri": "https://localhost:8080/"
        },
        "id": "DeAoVo4mycOr",
        "outputId": "796ab3e4-ad33-4068-e248-83b1e49356dd"
      },
      "source": [
        "assert isinstance(token_to_id, dict)\n",
        "assert len(token_to_id) == len(tokens)\n",
        "for tok in tokens:\n",
        "    assert tokens[token_to_id[tok]] == tok\n",
        "\n",
        "print(\"Correct!\")"
      ],
      "execution_count": 16,
      "outputs": [
        {
          "output_type": "stream",
          "name": "stdout",
          "text": [
            "Correct!\n"
          ]
        }
      ]
    },
    {
      "cell_type": "markdown",
      "metadata": {
        "id": "cmJAkq3gycOv"
      },
      "source": [
        "And finally, let's use the vocabulary you've built to map text lines into neural network-digestible matrices."
      ]
    },
    {
      "cell_type": "code",
      "metadata": {
        "colab": {
          "base_uri": "https://localhost:8080/"
        },
        "id": "o888ZpiAp90i",
        "outputId": "1758bab3-c7cd-4791-9d55-b28fba7fccb1"
      },
      "source": [
        "10 or float('inf')\n",
        "None or float('inf')"
      ],
      "execution_count": 17,
      "outputs": [
        {
          "output_type": "execute_result",
          "data": {
            "text/plain": [
              "inf"
            ]
          },
          "metadata": {},
          "execution_count": 17
        }
      ]
    },
    {
      "cell_type": "code",
      "metadata": {
        "id": "JEsLeBjVycOw"
      },
      "source": [
        "UNK_IX, PAD_IX = map(token_to_id.get, [UNK, PAD])\n",
        "\n",
        "def as_matrix(sequences, max_len=None):\n",
        "    \"\"\" Convert a list of tokens into a matrix with padding \"\"\"\n",
        "    if isinstance(sequences[0], str):\n",
        "        sequences = list(map(str.split, sequences))\n",
        "        \n",
        "    max_len = min(max(map(len, sequences)), max_len or float('inf'))\n",
        "    \n",
        "    matrix = np.full((len(sequences), max_len), np.int32(PAD_IX))  # placeholder matrix filled with <PAD> tokens\n",
        "    for i, seq in enumerate(sequences):\n",
        "        row_ix = [token_to_id.get(word, UNK_IX) for word in seq[:max_len]]\n",
        "        matrix[i, :len(row_ix)] = row_ix\n",
        "    \n",
        "    return matrix"
      ],
      "execution_count": 18,
      "outputs": []
    },
    {
      "cell_type": "code",
      "metadata": {
        "colab": {
          "base_uri": "https://localhost:8080/"
        },
        "id": "JiBlPkdKycOy",
        "outputId": "ae729d1c-d58d-40b6-acba-43c6d3609f56"
      },
      "source": [
        "print(\"Lines:\")\n",
        "print('\\n'.join(data[\"Title\"][::100000].values), end='\\n\\n')\n",
        "print(\"Matrix:\")\n",
        "print(as_matrix(data[\"Title\"][::100000]))"
      ],
      "execution_count": 19,
      "outputs": [
        {
          "output_type": "stream",
          "name": "stdout",
          "text": [
            "Lines:\n",
            "engineering systems analyst\n",
            "hr assistant\n",
            "senior ec & i engineer\n",
            "\n",
            "Matrix:\n",
            "[[10807 30161  2166     1     1]\n",
            " [15020  2844     1     1     1]\n",
            " [27645 10201    16 15215 10804]]\n"
          ]
        }
      ]
    },
    {
      "cell_type": "markdown",
      "metadata": {
        "id": "yk4jmtAYycO8"
      },
      "source": [
        "### The deep learning part\n",
        "\n",
        "Once we've learned to tokenize the data, let's design a machine learning experiment.\n",
        "\n",
        "As before, we won't focus too much on validation, opting for a simple train-test split.\n",
        "\n",
        "__To be completely rigorous,__ we've comitted a small crime here: we used the whole data for tokenization and vocabulary building. A more strict way would be to do that part on training set only. You may want to do that and measure the magnitude of changes."
      ]
    },
    {
      "cell_type": "code",
      "metadata": {
        "colab": {
          "base_uri": "https://localhost:8080/"
        },
        "id": "TngLcWA0ycO_",
        "outputId": "09be47e6-bf04-4387-a934-186001b13a20"
      },
      "source": [
        "from sklearn.model_selection import train_test_split\n",
        "\n",
        "data_train, data_val = train_test_split(data, test_size=0.2, random_state=42)\n",
        "data_train.index = range(len(data_train))\n",
        "data_val.index = range(len(data_val))\n",
        "\n",
        "print(\"Train size = \", len(data_train))\n",
        "print(\"Validation size = \", len(data_val))"
      ],
      "execution_count": 20,
      "outputs": [
        {
          "output_type": "stream",
          "name": "stdout",
          "text": [
            "Train size =  195814\n",
            "Validation size =  48954\n"
          ]
        }
      ]
    },
    {
      "cell_type": "markdown",
      "metadata": {
        "id": "nGOdZ3-dycO4"
      },
      "source": [
        "Now let's  encode the categirical data we have.\n",
        "\n",
        "As usual, we shall use one-hot encoding for simplicity. Kudos if you implement more advanced encodings: tf-idf, pseudo-time-series, etc."
      ]
    },
    {
      "cell_type": "code",
      "metadata": {
        "colab": {
          "base_uri": "https://localhost:8080/"
        },
        "id": "S6nd_WnLsH73",
        "outputId": "f8efc4bd-95de-4b37-9ef0-834698992e24"
      },
      "source": [
        "data[categorical_columns].nunique()"
      ],
      "execution_count": 21,
      "outputs": [
        {
          "output_type": "execute_result",
          "data": {
            "text/plain": [
              "Category                 29\n",
              "Company               20813\n",
              "LocationNormalized     2732\n",
              "ContractType              3\n",
              "ContractTime              3\n",
              "dtype: int64"
            ]
          },
          "metadata": {},
          "execution_count": 21
        }
      ]
    },
    {
      "cell_type": "code",
      "metadata": {
        "colab": {
          "base_uri": "https://localhost:8080/",
          "height": 175
        },
        "id": "MkMCNAOezMLd",
        "outputId": "336e9828-9a19-4786-a787-7820bf7e0486"
      },
      "source": [
        "# How does DictVectorizer work.....\n",
        "\n",
        "from sklearn.feature_extraction import DictVectorizer\n",
        "\n",
        "cat_vec = DictVectorizer(dtype=np.float32, sparse=False)\n",
        "\n",
        "import pandas as pd\n",
        "\n",
        "df = pd.DataFrame({'col1': ['a', 'c', 'b', 'a'],\n",
        "                   'col2': ['aa', 'cd', 'bs', 'aa'],\n",
        "                   'col3': [1,2,3,4]\n",
        "                   })\n",
        "df"
      ],
      "execution_count": 23,
      "outputs": [
        {
          "output_type": "execute_result",
          "data": {
            "text/plain": [
              "  col1 col2  col3\n",
              "0    a   aa     1\n",
              "1    c   cd     2\n",
              "2    b   bs     3\n",
              "3    a   aa     4"
            ],
            "text/html": [
              "\n",
              "  <div id=\"df-110f5420-7eec-4f3d-a0ec-fb47bdb3de42\">\n",
              "    <div class=\"colab-df-container\">\n",
              "      <div>\n",
              "<style scoped>\n",
              "    .dataframe tbody tr th:only-of-type {\n",
              "        vertical-align: middle;\n",
              "    }\n",
              "\n",
              "    .dataframe tbody tr th {\n",
              "        vertical-align: top;\n",
              "    }\n",
              "\n",
              "    .dataframe thead th {\n",
              "        text-align: right;\n",
              "    }\n",
              "</style>\n",
              "<table border=\"1\" class=\"dataframe\">\n",
              "  <thead>\n",
              "    <tr style=\"text-align: right;\">\n",
              "      <th></th>\n",
              "      <th>col1</th>\n",
              "      <th>col2</th>\n",
              "      <th>col3</th>\n",
              "    </tr>\n",
              "  </thead>\n",
              "  <tbody>\n",
              "    <tr>\n",
              "      <th>0</th>\n",
              "      <td>a</td>\n",
              "      <td>aa</td>\n",
              "      <td>1</td>\n",
              "    </tr>\n",
              "    <tr>\n",
              "      <th>1</th>\n",
              "      <td>c</td>\n",
              "      <td>cd</td>\n",
              "      <td>2</td>\n",
              "    </tr>\n",
              "    <tr>\n",
              "      <th>2</th>\n",
              "      <td>b</td>\n",
              "      <td>bs</td>\n",
              "      <td>3</td>\n",
              "    </tr>\n",
              "    <tr>\n",
              "      <th>3</th>\n",
              "      <td>a</td>\n",
              "      <td>aa</td>\n",
              "      <td>4</td>\n",
              "    </tr>\n",
              "  </tbody>\n",
              "</table>\n",
              "</div>\n",
              "      <button class=\"colab-df-convert\" onclick=\"convertToInteractive('df-110f5420-7eec-4f3d-a0ec-fb47bdb3de42')\"\n",
              "              title=\"Convert this dataframe to an interactive table.\"\n",
              "              style=\"display:none;\">\n",
              "        \n",
              "  <svg xmlns=\"http://www.w3.org/2000/svg\" height=\"24px\"viewBox=\"0 0 24 24\"\n",
              "       width=\"24px\">\n",
              "    <path d=\"M0 0h24v24H0V0z\" fill=\"none\"/>\n",
              "    <path d=\"M18.56 5.44l.94 2.06.94-2.06 2.06-.94-2.06-.94-.94-2.06-.94 2.06-2.06.94zm-11 1L8.5 8.5l.94-2.06 2.06-.94-2.06-.94L8.5 2.5l-.94 2.06-2.06.94zm10 10l.94 2.06.94-2.06 2.06-.94-2.06-.94-.94-2.06-.94 2.06-2.06.94z\"/><path d=\"M17.41 7.96l-1.37-1.37c-.4-.4-.92-.59-1.43-.59-.52 0-1.04.2-1.43.59L10.3 9.45l-7.72 7.72c-.78.78-.78 2.05 0 2.83L4 21.41c.39.39.9.59 1.41.59.51 0 1.02-.2 1.41-.59l7.78-7.78 2.81-2.81c.8-.78.8-2.07 0-2.86zM5.41 20L4 18.59l7.72-7.72 1.47 1.35L5.41 20z\"/>\n",
              "  </svg>\n",
              "      </button>\n",
              "      \n",
              "  <style>\n",
              "    .colab-df-container {\n",
              "      display:flex;\n",
              "      flex-wrap:wrap;\n",
              "      gap: 12px;\n",
              "    }\n",
              "\n",
              "    .colab-df-convert {\n",
              "      background-color: #E8F0FE;\n",
              "      border: none;\n",
              "      border-radius: 50%;\n",
              "      cursor: pointer;\n",
              "      display: none;\n",
              "      fill: #1967D2;\n",
              "      height: 32px;\n",
              "      padding: 0 0 0 0;\n",
              "      width: 32px;\n",
              "    }\n",
              "\n",
              "    .colab-df-convert:hover {\n",
              "      background-color: #E2EBFA;\n",
              "      box-shadow: 0px 1px 2px rgba(60, 64, 67, 0.3), 0px 1px 3px 1px rgba(60, 64, 67, 0.15);\n",
              "      fill: #174EA6;\n",
              "    }\n",
              "\n",
              "    [theme=dark] .colab-df-convert {\n",
              "      background-color: #3B4455;\n",
              "      fill: #D2E3FC;\n",
              "    }\n",
              "\n",
              "    [theme=dark] .colab-df-convert:hover {\n",
              "      background-color: #434B5C;\n",
              "      box-shadow: 0px 1px 3px 1px rgba(0, 0, 0, 0.15);\n",
              "      filter: drop-shadow(0px 1px 2px rgba(0, 0, 0, 0.3));\n",
              "      fill: #FFFFFF;\n",
              "    }\n",
              "  </style>\n",
              "\n",
              "      <script>\n",
              "        const buttonEl =\n",
              "          document.querySelector('#df-110f5420-7eec-4f3d-a0ec-fb47bdb3de42 button.colab-df-convert');\n",
              "        buttonEl.style.display =\n",
              "          google.colab.kernel.accessAllowed ? 'block' : 'none';\n",
              "\n",
              "        async function convertToInteractive(key) {\n",
              "          const element = document.querySelector('#df-110f5420-7eec-4f3d-a0ec-fb47bdb3de42');\n",
              "          const dataTable =\n",
              "            await google.colab.kernel.invokeFunction('convertToInteractive',\n",
              "                                                     [key], {});\n",
              "          if (!dataTable) return;\n",
              "\n",
              "          const docLinkHtml = 'Like what you see? Visit the ' +\n",
              "            '<a target=\"_blank\" href=https://colab.research.google.com/notebooks/data_table.ipynb>data table notebook</a>'\n",
              "            + ' to learn more about interactive tables.';\n",
              "          element.innerHTML = '';\n",
              "          dataTable['output_type'] = 'display_data';\n",
              "          await google.colab.output.renderOutput(dataTable, element);\n",
              "          const docLink = document.createElement('div');\n",
              "          docLink.innerHTML = docLinkHtml;\n",
              "          element.appendChild(docLink);\n",
              "        }\n",
              "      </script>\n",
              "    </div>\n",
              "  </div>\n",
              "  "
            ]
          },
          "metadata": {},
          "execution_count": 23
        }
      ]
    },
    {
      "cell_type": "code",
      "source": [
        "df.apply(dict, axis=1)\n",
        "cat_vec.fit_transform(df.apply(dict, axis=1))"
      ],
      "metadata": {
        "colab": {
          "base_uri": "https://localhost:8080/"
        },
        "id": "boexeSzGl2_D",
        "outputId": "6dcf8453-4336-43b1-a3ca-a00424b55c16"
      },
      "execution_count": 25,
      "outputs": [
        {
          "output_type": "execute_result",
          "data": {
            "text/plain": [
              "array([[1., 0., 0., 1., 0., 0., 1.],\n",
              "       [0., 0., 1., 0., 0., 1., 2.],\n",
              "       [0., 1., 0., 0., 1., 0., 3.],\n",
              "       [1., 0., 0., 1., 0., 0., 4.]], dtype=float32)"
            ]
          },
          "metadata": {},
          "execution_count": 25
        }
      ]
    },
    {
      "cell_type": "code",
      "metadata": {
        "colab": {
          "base_uri": "https://localhost:8080/"
        },
        "id": "DpOlBp7ZycO6",
        "outputId": "36682a3b-bea7-4da0-832c-da7758049499"
      },
      "source": [
        "from sklearn.feature_extraction import DictVectorizer\n",
        "from sklearn.feature_extraction.text import TfidfVectorizer\n",
        "import nltk\n",
        "from nltk.corpus import stopwords\n",
        "nltk.download('stopwords')\n",
        "\n",
        "\n",
        "# we only consider top-1k most frequent companies to minimize memory usage\n",
        "top_companies, top_counts = zip(*Counter(data_train['Company']).most_common(1000))  # unzipping dict into 2 lists\n",
        "recognized_companies = set(top_companies)\n",
        "data_train[\"Company\"] = data_train[\"Company\"].apply(lambda comp: comp if comp in recognized_companies else \"Other\")\n",
        "data_val[\"Company\"] = data_val[\"Company\"].apply(lambda comp: comp if comp in recognized_companies else \"Other\")\n",
        "\n",
        "categorical_vectorizer = DictVectorizer(dtype=np.float32, sparse=False)\n",
        "categorical_vectorizer.fit(data_train[categorical_columns].apply(dict, axis=1))\n",
        "\n",
        "corpus = [' '.join(line) for line in data_train[categorical_columns].applymap(lambda x: x.replace(' ', '')).values]\n",
        "print('\\n', corpus[:2], '\\n')\n",
        "\n",
        "stopwords_eng = stopwords.words('english') + ['nan']\n",
        "tfidf_vectorizer = TfidfVectorizer(stop_words=stopwords_eng)\n",
        "tfidf_vectorizer.fit(corpus)"
      ],
      "execution_count": 26,
      "outputs": [
        {
          "output_type": "stream",
          "name": "stderr",
          "text": [
            "[nltk_data] Downloading package stopwords to /root/nltk_data...\n",
            "[nltk_data]   Unzipping corpora/stopwords.zip.\n"
          ]
        },
        {
          "output_type": "stream",
          "name": "stdout",
          "text": [
            "\n",
            " ['Healthcare&NursingJobs Other Taunton NaN permanent', 'Scientific&QAJobs SCIRecruitmentforScientists NorthWestLondon NaN permanent'] \n",
            "\n"
          ]
        },
        {
          "output_type": "execute_result",
          "data": {
            "text/plain": [
              "TfidfVectorizer(stop_words=['i', 'me', 'my', 'myself', 'we', 'our', 'ours',\n",
              "                            'ourselves', 'you', \"you're\", \"you've\", \"you'll\",\n",
              "                            \"you'd\", 'your', 'yours', 'yourself', 'yourselves',\n",
              "                            'he', 'him', 'his', 'himself', 'she', \"she's\",\n",
              "                            'her', 'hers', 'herself', 'it', \"it's\", 'its',\n",
              "                            'itself', ...])"
            ]
          },
          "metadata": {},
          "execution_count": 26
        }
      ]
    },
    {
      "cell_type": "code",
      "metadata": {
        "colab": {
          "base_uri": "https://localhost:8080/"
        },
        "id": "gFaOz7pZoSxB",
        "outputId": "d38bff41-e073-48fe-8be7-b68138d6d5b4"
      },
      "source": [
        "data[categorical_columns].nunique()"
      ],
      "execution_count": 27,
      "outputs": [
        {
          "output_type": "execute_result",
          "data": {
            "text/plain": [
              "Category                 29\n",
              "Company               20813\n",
              "LocationNormalized     2732\n",
              "ContractType              3\n",
              "ContractTime              3\n",
              "dtype: int64"
            ]
          },
          "metadata": {},
          "execution_count": 27
        }
      ]
    },
    {
      "cell_type": "code",
      "metadata": {
        "id": "2PXuKgOSycPB"
      },
      "source": [
        "def make_batch(data, max_len=None, word_dropout=0):\n",
        "    \"\"\"\n",
        "    Creates a neural-network-friendly dict from the batch data.\n",
        "    :param word_dropout: replaces token index with UNK_IX with this probability\n",
        "    :returns: a dict with {'title' : int64[batch, title_max_len]\n",
        "    \"\"\"\n",
        "    batch = {}\n",
        "    batch[\"Title\"] = as_matrix(data[\"Title\"].values, max_len)\n",
        "    batch[\"FullDescription\"] = as_matrix(data[\"FullDescription\"].values, max_len)\n",
        "    batch['Categorical_dict'] = categorical_vectorizer.transform(data[categorical_columns].apply(dict, axis=1))\n",
        "\n",
        "    corpus = [' '.join(line) for line in data[categorical_columns].applymap(lambda x: x.replace(' ', '')).values]\n",
        "    batch['Categorical_tfidf'] = tfidf_vectorizer.transform(corpus).toarray()\n",
        "    \n",
        "    if word_dropout != 0:\n",
        "        batch[\"FullDescription\"] = apply_word_dropout(batch[\"FullDescription\"], 1. - word_dropout)\n",
        "    \n",
        "    if target_column in data.columns:\n",
        "        batch[target_column] = data[target_column].values\n",
        "    \n",
        "    return batch\n",
        "\n",
        "def apply_word_dropout(matrix, keep_prop, replace_with=UNK_IX, pad_ix=PAD_IX,):\n",
        "    \"\"\"\n",
        "    With proba = keep_prop leaves element of matrix untouched. With proba = 1-keep_prop\n",
        "    changes it into replace_with value.\n",
        "    In default setting randomly changes matrix elements into UNKs\n",
        "    \"\"\"\n",
        "    dropout_mask = np.random.choice(2, np.shape(matrix), p=[keep_prop, 1 - keep_prop])\n",
        "    dropout_mask &= matrix != pad_ix\n",
        "    return np.choose(dropout_mask, [matrix, np.full_like(matrix, replace_with)])"
      ],
      "execution_count": 28,
      "outputs": []
    },
    {
      "cell_type": "code",
      "metadata": {
        "colab": {
          "base_uri": "https://localhost:8080/"
        },
        "id": "fNJipfXmd6RZ",
        "outputId": "f0cfa64d-a04e-4588-c581-0ab78bc57324"
      },
      "source": [
        "# How choice works\n",
        "keep_prop = 0.5\n",
        "matrix = np.random.randn(2, 2)\n",
        "print(matrix)\n",
        "print(np.random.choice(2, np.shape(matrix), p=[keep_prop, 1 - keep_prop]), '\\n')\n",
        "\n",
        "# How choose works\n",
        "choices = [[0, 1, 2, 3], \n",
        "           [10, 11, 12, 13],\n",
        "           [20, 21, 22, 23], \n",
        "           [30, 31, 32, 33]]\n",
        "np.choose([2, 3, 1, 0], choices)\n",
        "# the first element of the result will be the first element of the\n",
        "# third (2+1) \"array\" in choices, namely, 20; the second element\n",
        "# will be the second element of the fourth (3+1) choice array, i.e.,\n",
        "# 31, etc."
      ],
      "execution_count": 31,
      "outputs": [
        {
          "output_type": "stream",
          "name": "stdout",
          "text": [
            "[[ 0.98611212 -1.08364972]\n",
            " [-0.4788742   0.41462825]]\n",
            "[[0 1]\n",
            " [1 0]] \n",
            "\n"
          ]
        },
        {
          "output_type": "execute_result",
          "data": {
            "text/plain": [
              "array([20, 31, 12,  3])"
            ]
          },
          "metadata": {},
          "execution_count": 31
        }
      ]
    },
    {
      "cell_type": "code",
      "metadata": {
        "colab": {
          "base_uri": "https://localhost:8080/"
        },
        "id": "I6LpEQf0ycPD",
        "outputId": "efa8947f-85e8-430a-9de0-ac7203a6a1f5"
      },
      "source": [
        "tmp = make_batch(data_train[:3], max_len=10)\n",
        "{key: val.shape for key, val in tmp.items()}"
      ],
      "execution_count": 35,
      "outputs": [
        {
          "output_type": "execute_result",
          "data": {
            "text/plain": [
              "{'Categorical_dict': (3, 3579),\n",
              " 'Categorical_tfidf': (3, 3608),\n",
              " 'FullDescription': (3, 10),\n",
              " 'Log1pSalary': (3,),\n",
              " 'Title': (3, 7)}"
            ]
          },
          "metadata": {},
          "execution_count": 35
        }
      ]
    },
    {
      "cell_type": "markdown",
      "metadata": {
        "id": "0eI5h9UMycPF"
      },
      "source": [
        "#### Architecture\n",
        "\n",
        "Our main model consists of three branches:\n",
        "* Title encoder\n",
        "* Description encoder\n",
        "* Categorical features encoder\n",
        "\n",
        "We will then feed all 3 branches into one common network that predicts salary.\n",
        "\n",
        "<img src=\"https://github.com/yandexdataschool/nlp_course/raw/master/resources/w2_conv_arch.png\" width=600px>\n",
        "\n",
        "This clearly doesn't fit into PyTorch __Sequential__ interface. To build such a network, one will have to use [__PyTorch nn.Module API__](https://pytorch.org/docs/stable/nn.html#torch.nn.Module)."
      ]
    },
    {
      "cell_type": "markdown",
      "metadata": {
        "id": "nfV9JjdoNQJN"
      },
      "source": [
        "But to start with let's build the simple model using only the part of the data. Let's create the baseline solution using only the description part (so it should definetely fit into the Sequential model)."
      ]
    },
    {
      "cell_type": "code",
      "metadata": {
        "id": "M8Fz30R2NQJN"
      },
      "source": [
        "import torch\n",
        "from torch import nn\n",
        "import torch.nn.functional as F"
      ],
      "execution_count": 36,
      "outputs": []
    },
    {
      "cell_type": "code",
      "metadata": {
        "id": "N6dQxh_aNQJN"
      },
      "source": [
        "# You will need these to make it simple\n",
        "\n",
        "class Flatten(nn.Module):\n",
        "    def forward(self, input):\n",
        "        return input.view(input.size(0), -1)\n",
        "\n",
        "class Reorder(nn.Module):\n",
        "    def forward(self, input):\n",
        "        return input.permute((0, 2, 1))"
      ],
      "execution_count": 37,
      "outputs": []
    },
    {
      "cell_type": "markdown",
      "metadata": {
        "id": "Fey2NhjzNQJO"
      },
      "source": [
        "To generate minibatches we will use simple pyton generator."
      ]
    },
    {
      "cell_type": "code",
      "metadata": {
        "id": "RmZjUZRbNQJO"
      },
      "source": [
        "def iterate_minibatches(data, batch_size=256, shuffle=True, cycle=False, **kwargs):\n",
        "    \"\"\" iterates minibatches of data in random order \"\"\"\n",
        "    while True:\n",
        "        indices = np.arange(len(data))\n",
        "        if shuffle:\n",
        "            indices = np.random.permutation(indices)\n",
        "\n",
        "        for start in range(0, len(indices), batch_size):\n",
        "            batch = make_batch(data.iloc[indices[start : start + batch_size]], **kwargs)\n",
        "            target = batch.pop(target_column)\n",
        "            yield batch, target\n",
        "        \n",
        "        if not cycle: break"
      ],
      "execution_count": 38,
      "outputs": []
    },
    {
      "cell_type": "code",
      "source": [
        "tmp = {'a': [1,32,4],\n",
        "       'b': [4,5,6]}\n",
        "\n",
        "tmp.pop('a')\n",
        "tmp"
      ],
      "metadata": {
        "colab": {
          "base_uri": "https://localhost:8080/"
        },
        "id": "VieRqtStqL9z",
        "outputId": "ea4051df-7271-47da-fe24-df785d3b4c77"
      },
      "execution_count": 40,
      "outputs": [
        {
          "output_type": "execute_result",
          "data": {
            "text/plain": [
              "{'b': [4, 5, 6]}"
            ]
          },
          "metadata": {},
          "execution_count": 40
        }
      ]
    },
    {
      "cell_type": "code",
      "metadata": {
        "id": "ytJTJ6kUNQJO"
      },
      "source": [
        "iterator = iterate_minibatches(data_train, 3)\n",
        "batch, target = next(iterator)"
      ],
      "execution_count": 41,
      "outputs": []
    },
    {
      "cell_type": "code",
      "metadata": {
        "id": "K_eQTndaeCkW",
        "colab": {
          "base_uri": "https://localhost:8080/"
        },
        "outputId": "41116523-1c1f-4b00-a7c4-d44a864fb083"
      },
      "source": [
        "batch, target"
      ],
      "execution_count": 42,
      "outputs": [
        {
          "output_type": "execute_result",
          "data": {
            "text/plain": [
              "({'Categorical_dict': array([[0., 0., 1., ..., 0., 0., 0.],\n",
              "         [0., 0., 0., ..., 0., 0., 0.],\n",
              "         [0., 0., 0., ..., 0., 0., 0.]], dtype=float32),\n",
              "  'Categorical_tfidf': array([[0., 0., 0., ..., 0., 0., 0.],\n",
              "         [0., 0., 0., ..., 0., 0., 0.],\n",
              "         [0., 0., 0., ..., 0., 0., 0.]]),\n",
              "  'FullDescription': array([[ 2412, 12587, 30847, ...,     1,     1,     1],\n",
              "         [26986, 19045,  7538, ...,    82, 10570, 19045],\n",
              "         [25625, 26986, 18864, ...,     1,     1,     1]], dtype=int32),\n",
              "  'Title': array([[13093, 11312, 21660,     1,     1,     1],\n",
              "         [26986, 19045,  7538,     1,     1,     1],\n",
              "         [25625, 26986, 18864, 23774, 27627, 31867]], dtype=int32)},\n",
              " array([10.146473, 10.239996, 11.042938], dtype=float32))"
            ]
          },
          "metadata": {},
          "execution_count": 42
        }
      ]
    },
    {
      "cell_type": "markdown",
      "metadata": {
        "id": "S8YgolzokxwB"
      },
      "source": [
        "**nn.Conv1d()**\n",
        "\n",
        "\\begin{array}{l}\\text { - Input: }\\left(N, C_{i n}, L_{i n}\\right) \\\\ \\text { - Output: }\\left(N, C_{\\text {out }}, L_{\\text {out }}\\right) \\text { where } \\\\ L_{\\text {out }}=\\left\\lfloor\\frac{L_{\\text {in }}+2 \\times \\text { padding }-\\text { dilation } \\times(\\text { kernel_size }-1)-1}{\\text { stride }}+1\\right.\\end{array}\n",
        "\n",
        "in default case:\n",
        "* padding=0\n",
        "* dilation=1\n",
        "* stride=1\n",
        "\n",
        "$L_{out} = L_{in} -kernel\\_size + 1$"
      ]
    },
    {
      "cell_type": "code",
      "metadata": {
        "id": "FntBgOOQNQJO"
      },
      "source": [
        "# Here is some startup code:\n",
        "n_tokens = len(tokens)\n",
        "n_cat_features = len(categorical_vectorizer.vocabulary_)\n",
        "hid_size = 64\n",
        "n_maxs = 2\n",
        "simple_model = nn.Sequential()\n",
        "\n",
        "simple_model.add_module('emb', nn.Embedding(num_embeddings=n_tokens, \n",
        "                                            embedding_dim=hid_size)) # NxLXC; L-seq_len, C-embedding_dim\n",
        "simple_model.add_module('reorder', Reorder())                        # NxCxL\n",
        "\n",
        "# <YOUR CODE HERE>\n",
        "simple_model.add_module('Conv1', nn.Conv1d(in_channels=hid_size, \n",
        "                                           out_channels=2*hid_size,\n",
        "                                           kernel_size=3))           # Nx(2C)x(L-2)\n",
        "simple_model.add_module('relu1', nn.ReLU())  # Nx(2C)x(L-2)\n",
        "simple_model.add_module('Conv2', nn.Conv1d(in_channels=2*hid_size, \n",
        "                                           out_channels=2*hid_size,\n",
        "                                           kernel_size=3))           # Nx(2C)x(L-4)\n",
        "simple_model.add_module('relu2', nn.ReLU())                          # Nx(2C)x(L-4)\n",
        "simple_model.add_module('bn1', nn.BatchNorm1d(2*hid_size))           # Nx(2C)x(L-4)\n",
        "simple_model.add_module('adaptivepool', nn.AdaptiveMaxPool1d(n_maxs))# Nx(2C)xN_maxs; фактически, это overtime pooling\n",
        "\n",
        "simple_model.add_module('flatten', nn.Flatten())                     # Nx(2*C*N_maxs)\n",
        "simple_model.add_module('linear', nn.Linear(2*hid_size*n_maxs, 1))   # Nx1"
      ],
      "execution_count": 43,
      "outputs": []
    },
    {
      "cell_type": "code",
      "metadata": {
        "colab": {
          "base_uri": "https://localhost:8080/"
        },
        "id": "K-xNFIcqEZjF",
        "outputId": "f51e4a2c-bb8d-4686-b314-c98616427af3"
      },
      "source": [
        "batch['FullDescription'].shape"
      ],
      "execution_count": 44,
      "outputs": [
        {
          "output_type": "execute_result",
          "data": {
            "text/plain": [
              "(3, 438)"
            ]
          },
          "metadata": {},
          "execution_count": 44
        }
      ]
    },
    {
      "cell_type": "code",
      "metadata": {
        "colab": {
          "base_uri": "https://localhost:8080/"
        },
        "id": "xZoTV3OqndC0",
        "outputId": "8e8757ed-907e-4e2b-eab5-113df04c6391"
      },
      "source": [
        "tmp = simple_model(torch.tensor(batch['FullDescription']))\n",
        "batch['FullDescription'].shape, tmp.shape"
      ],
      "execution_count": 45,
      "outputs": [
        {
          "output_type": "execute_result",
          "data": {
            "text/plain": [
              "((3, 438), torch.Size([3, 1]))"
            ]
          },
          "metadata": {},
          "execution_count": 45
        }
      ]
    },
    {
      "cell_type": "markdown",
      "metadata": {
        "id": "oZQ977RsNQJO"
      },
      "source": [
        "__Remember!__ We are working with regression problem and predicting only one number."
      ]
    },
    {
      "cell_type": "code",
      "metadata": {
        "colab": {
          "base_uri": "https://localhost:8080/"
        },
        "id": "TTmtDuoyNQJP",
        "outputId": "b61ed8fa-a564-46ac-f56e-9e03fa8b44fb"
      },
      "source": [
        "# Try this to check your model. `torch.long` tensors are required for nn.Embedding layers.\n",
        "simple_model(torch.tensor(batch['FullDescription'], dtype=torch.long))"
      ],
      "execution_count": 46,
      "outputs": [
        {
          "output_type": "execute_result",
          "data": {
            "text/plain": [
              "tensor([[-2.3444],\n",
              "        [-3.4162],\n",
              "        [-1.0199]], grad_fn=<AddmmBackward0>)"
            ]
          },
          "metadata": {},
          "execution_count": 46
        }
      ]
    },
    {
      "cell_type": "markdown",
      "metadata": {
        "id": "6UbVEtKoNQJP"
      },
      "source": [
        "And now simple training pipeline:"
      ]
    },
    {
      "cell_type": "code",
      "metadata": {
        "colab": {
          "base_uri": "https://localhost:8080/",
          "height": 265,
          "referenced_widgets": [
            "6e897461e322425c8466b3f6a28a6cd5",
            "c1783a87766e45b18f7522c400a505ce",
            "26c7d22a01da44be85eb20ba72c37d3c",
            "b24142ee219d4341b872c45a56f94244",
            "6334c7c5847f4d53b921b4bc429e9946",
            "6c5f7f7ff1c04a4985d24c46e44d1adc",
            "c06f238a526144c8bf2c6c2a85e56ff2",
            "86a9fb933dfb4a0cb041dfe623c0696a",
            "7d25ddc41aa34c0f8e1050e6c7bfdf93",
            "698ee487448b45008c7ee53a6442d6c1",
            "82775a1f5d29460584deb6908c04e991"
          ]
        },
        "id": "-_jNhFcfNQJP",
        "outputId": "1e3b95eb-36cd-42ec-8778-7a3735734dc1"
      },
      "source": [
        "from IPython.display import clear_output\n",
        "from random import sample\n",
        "from tqdm.auto import tqdm\n",
        "\n",
        "\n",
        "epochs = 1\n",
        "device = torch.device('cuda:0' if torch.cuda.is_available() else 'cpu')\n",
        "print(device)\n",
        "\n",
        "model = simple_model.to(device)\n",
        "opt = torch.optim.Adam(model.parameters())\n",
        "loss_func = nn.MSELoss()  # <YOUR CODE HERE>\n",
        "\n",
        "history = []\n",
        "for epoch_num in range(epochs):\n",
        "    for idx, (batch, target) in enumerate(iterate_minibatches(data_train)):\n",
        "        # Preprocessing the batch data and target\n",
        "        batch = torch.tensor(batch['FullDescription'], dtype=torch.long).to(device)\n",
        "        target = torch.tensor(target).to(device)\n",
        "\n",
        "        predictions = model(batch)\n",
        "        predictions = predictions.view(predictions.size(0))\n",
        "\n",
        "        loss =  loss_func(predictions, target)  # <YOUR CODE HERE>\n",
        "\n",
        "        # train with backprop\n",
        "        # <YOUR CODE HERE>\n",
        "        opt.zero_grad()\n",
        "        loss.backward()\n",
        "        opt.step()\n",
        "\n",
        "        history.append(loss.item())\n",
        "        if (idx+1)%10==0:\n",
        "            clear_output(True)\n",
        "            plt.plot(history,label='loss')\n",
        "            plt.yscale('log')\n",
        "            plt.legend()\n",
        "            plt.show()"
      ],
      "execution_count": 47,
      "outputs": [
        {
          "output_type": "display_data",
          "data": {
            "text/plain": [
              "<Figure size 432x288 with 1 Axes>"
            ],
            "image/png": "[encoded data removed]"
          },
          "metadata": {
            "needs_background": "light"
          }
        }
      ]
    },
    {
      "cell_type": "markdown",
      "metadata": {
        "id": "ZaFMLJ-wNQJP"
      },
      "source": [
        "To evaluate the model it can be switched to `eval` state."
      ]
    },
    {
      "cell_type": "code",
      "metadata": {
        "colab": {
          "base_uri": "https://localhost:8080/"
        },
        "id": "FNscc8q9NQJP",
        "outputId": "e0a352a7-62e3-48cf-95c6-9be05ed83556"
      },
      "source": [
        "simple_model.eval()"
      ],
      "execution_count": 48,
      "outputs": [
        {
          "output_type": "execute_result",
          "data": {
            "text/plain": [
              "Sequential(\n",
              "  (emb): Embedding(34158, 64)\n",
              "  (reorder): Reorder()\n",
              "  (Conv1): Conv1d(64, 128, kernel_size=(3,), stride=(1,))\n",
              "  (relu1): ReLU()\n",
              "  (Conv2): Conv1d(128, 128, kernel_size=(3,), stride=(1,))\n",
              "  (relu2): ReLU()\n",
              "  (bn1): BatchNorm1d(128, eps=1e-05, momentum=0.1, affine=True, track_running_stats=True)\n",
              "  (adaptivepool): AdaptiveMaxPool1d(output_size=2)\n",
              "  (flatten): Flatten(start_dim=1, end_dim=-1)\n",
              "  (linear): Linear(in_features=256, out_features=1, bias=True)\n",
              ")"
            ]
          },
          "metadata": {},
          "execution_count": 48
        }
      ]
    },
    {
      "cell_type": "markdown",
      "metadata": {
        "id": "PGzWtEAVNQJP"
      },
      "source": [
        "Let's check the model quality."
      ]
    },
    {
      "cell_type": "code",
      "metadata": {
        "id": "lZckilpZur1G"
      },
      "source": [
        "batch_size=256"
      ],
      "execution_count": 49,
      "outputs": []
    },
    {
      "cell_type": "code",
      "metadata": {
        "colab": {
          "base_uri": "https://localhost:8080/",
          "height": 188,
          "referenced_widgets": [
            "f988d1347b714f1996352dbb15e6fc45",
            "25f807340d624fe68ac5ee467a781d7e",
            "7979ed9ca03e44c289c9ec89bdc3acac",
            "d172499f5a8141619d6bc3aedc4288c8",
            "2d32d0045bc54c2db6f0f4da6d727648",
            "076b9a122a71432e9f3917e407cdeec0",
            "0404291b8e624d41acb9e4ec8046be87",
            "1a0ca3f0d89e4bb8bd302ca00f4fdeee",
            "e30256ce51fe40e89741ea78719908f6",
            "6225a112ce0948deb34b01498a2325d0",
            "3d8082e87b78457c832e85d51b31f555",
            "8cf0f0209ad747d4a6314ad3d8ef6a8e",
            "f51d58035624463e83e4a8fc7ad8b103",
            "915bdfead5734383aa8bec76dee88fcd",
            "7e9b52155f3e4d49aea931962bf13af9",
            "a29f5dc12f9a4985840a03684d40a76f",
            "ad562e0fc40c465cb6681377a51fefc1",
            "adefcb45a71444a0a7ff2137561dd5ba",
            "61f4a2abb02a47e38ed06b043b2ff472",
            "2dfd154964724943b1fffa58b4c1da69",
            "ec1dc68e6b804f10b0f9a31c91ea735e",
            "f79a07ac010645148627f4612e8626c1"
          ]
        },
        "id": "gp8mLNd-NQJP",
        "outputId": "c69b89a8-37e5-4324-90b7-9e04b5ec900f"
      },
      "source": [
        " def print_metrics(model, data, batch_size=batch_size, name=\"\", **kw):\n",
        "    squared_error = abs_error = num_samples = 0.0\n",
        "    for batch_x, batch_y in tqdm(iterate_minibatches(data, batch_size=batch_size, shuffle=False, **kw)):\n",
        "        batch = torch.tensor(batch_x['FullDescription'], dtype=torch.long).to(device)\n",
        "        batch_pred = model(batch)[:, 0].detach().cpu().numpy()\n",
        "        squared_error += np.sum(np.square(np.exp(batch_pred) - np.exp(batch_y)))\n",
        "        abs_error += np.sum(np.abs(np.exp(batch_pred) - np.exp(batch_y)))\n",
        "        num_samples += len(batch_y)\n",
        "    print(\"%s results:\" % (name or \"\"))\n",
        "    print(\"Root mean square error: %.5f\" % (squared_error / num_samples) ** 0.5)\n",
        "    print(\"Mean absolute error: %.5f\" % (abs_error / num_samples))\n",
        "    return squared_error/ num_samples, abs_error / num_samples\n",
        "\n",
        "train_errors = print_metrics(simple_model, data_train, name='Train')\n",
        "val_errors = print_metrics(simple_model, data_val, name='Val');"
      ],
      "execution_count": 50,
      "outputs": [
        {
          "output_type": "display_data",
          "data": {
            "text/plain": [
              "0it [00:00, ?it/s]"
            ],
            "application/vnd.jupyter.widget-view+json": {
              "version_major": 2,
              "version_minor": 0,
              "model_id": "f988d1347b714f1996352dbb15e6fc45"
            }
          },
          "metadata": {}
        },
        {
          "output_type": "stream",
          "name": "stdout",
          "text": [
            "Train results:\n",
            "Root mean square error: 21978.72043\n",
            "Mean absolute error: 18109.91521\n"
          ]
        },
        {
          "output_type": "display_data",
          "data": {
            "text/plain": [
              "0it [00:00, ?it/s]"
            ],
            "application/vnd.jupyter.widget-view+json": {
              "version_major": 2,
              "version_minor": 0,
              "model_id": "8cf0f0209ad747d4a6314ad3d8ef6a8e"
            }
          },
          "metadata": {}
        },
        {
          "output_type": "stream",
          "name": "stdout",
          "text": [
            "Val results:\n",
            "Root mean square error: 22039.96469\n",
            "Mean absolute error: 18048.13305\n"
          ]
        }
      ]
    },
    {
      "cell_type": "markdown",
      "metadata": {
        "id": "8U8mXfDbNQJQ"
      },
      "source": [
        "### Bonus area: three-headed network.\n",
        "\n",
        "Now you can try to implement the network we've discussed above. Use [__PyTorch nn.Module API__](https://pytorch.org/docs/stable/nn.html#torch.nn.Module)."
      ]
    },
    {
      "cell_type": "code",
      "metadata": {
        "id": "Gea3OB0y5ZmU"
      },
      "source": [
        "iterator = iterate_minibatches(data_train, 3)\n",
        "batch, target = next(iterator)"
      ],
      "execution_count": 51,
      "outputs": []
    },
    {
      "cell_type": "code",
      "metadata": {
        "colab": {
          "base_uri": "https://localhost:8080/"
        },
        "id": "4uBHzRQ8D2Og",
        "outputId": "d906e2b0-3c6d-478f-fac4-2f3b9eb9cfcb"
      },
      "source": [
        "batch['Categorical_dict'].shape[1] == len(categorical_vectorizer.vocabulary_)"
      ],
      "execution_count": 53,
      "outputs": [
        {
          "output_type": "execute_result",
          "data": {
            "text/plain": [
              "True"
            ]
          },
          "metadata": {},
          "execution_count": 53
        }
      ]
    },
    {
      "cell_type": "code",
      "metadata": {
        "colab": {
          "base_uri": "https://localhost:8080/",
          "height": 265
        },
        "id": "w5nVrS3n6Ls6",
        "outputId": "171e466a-0129-4684-81b8-961387e3a6c7"
      },
      "source": [
        "data_train['Title'].map(lambda x: len(x.split(' '))).hist(bins=100);"
      ],
      "execution_count": 55,
      "outputs": [
        {
          "output_type": "display_data",
          "data": {
            "text/plain": [
              "<Figure size 432x288 with 1 Axes>"
            ],
            "image/png": "[encoded data removed]"
          },
          "metadata": {
            "needs_background": "light"
          }
        }
      ]
    },
    {
      "cell_type": "code",
      "metadata": {
        "id": "1lb89nlWNQJQ"
      },
      "source": [
        "class DescriptionHead(nn.Module):\n",
        "    def __init__(self, \n",
        "                 hid_size=64,  # embedding_dim\n",
        "                 n_maxs=2,    # fixed seq len for every sample after applying MaxOverTime Pooling\n",
        "                 n_tokens=len(tokens)):\n",
        "        super().__init__()\n",
        "        \n",
        "        self.model = nn.Sequential(nn.Embedding(num_embeddings=n_tokens, \n",
        "                                                embedding_dim=hid_size) , # NxLXC; L-seq_len, C-embedding_dim\n",
        "                                   Reorder(),                             # NxCxL\n",
        "                                   nn.Conv1d(in_channels=hid_size, \n",
        "                                             out_channels=2*hid_size,\n",
        "                                             kernel_size=3),           # Nx(2C)x(L-2)\n",
        "                                   nn.ReLU(),                          # Nx(2C)x(L-2)\n",
        "                                   nn.Conv1d(in_channels=2*hid_size, \n",
        "                                             out_channels=2*hid_size,\n",
        "                                             kernel_size=3),           # Nx(2C)x(L-4)\n",
        "                                   nn.ReLU(),                          # Nx(2C)x(L-4)\n",
        "                                   nn.BatchNorm1d(2*hid_size),         # Nx(2C)x(L-4)\n",
        "                                   nn.AdaptiveMaxPool1d(n_maxs),       # Nx(2C)xN_maxs; фактически, это overtime pooling\n",
        "                                   nn.Flatten(),                       # Nx(2*C*N_maxs)\n",
        "                                   )\n",
        "    def forward(self, input):\n",
        "        return self.model(input)\n",
        "\n",
        "\n",
        "class TitleHead(nn.Module):\n",
        "    def __init__(self, \n",
        "                 hid_size=64,  # embedding_dim\n",
        "                 n_maxs=2,     # fixed seq len for every sample after applying MaxOverTime Pooling\n",
        "                 n_tokens=len(tokens)):\n",
        "        super().__init__()\n",
        "        \n",
        "        self.model = nn.Sequential(nn.Embedding(num_embeddings=n_tokens, \n",
        "                                                embedding_dim=hid_size) , # NxLXC; L-seq_len, C-embedding_dim\n",
        "                                   Reorder(),                             # NxCxL\n",
        "                                   nn.Conv1d(in_channels=hid_size, \n",
        "                                             out_channels=2*hid_size,\n",
        "                                             kernel_size=2),           # Nx(2C)x(L-1)\n",
        "                                   nn.ReLU(),                          # Nx(2C)x(L-2)\n",
        "                                   nn.Conv1d(in_channels=2*hid_size, \n",
        "                                             out_channels=2*hid_size,\n",
        "                                             kernel_size=2),           # Nx(2C)x(L-2)\n",
        "                                   nn.ReLU(),                          # Nx(2C)x(L-2)\n",
        "                                   nn.BatchNorm1d(2*hid_size),         # Nx(2C)x(L-2)\n",
        "                                   nn.AdaptiveMaxPool1d(n_maxs),       # Nx(2C)xN_maxs; фактически, это overtime pooling\n",
        "                                   nn.Flatten())                       # Nx(2*C*N_maxs)\n",
        "    def forward(self, input):\n",
        "        return self.model(input)\n",
        "\n",
        "\n",
        "class CategoricalHead(nn.Module):\n",
        "    def __init__(self, \n",
        "                 n_cat_features=len(categorical_vectorizer.vocabulary_), # shape[1] of batch['Categorical]\n",
        "                 n_out=256,\n",
        "                 ):\n",
        "        super().__init__()\n",
        "        \n",
        "        self.model = nn.Sequential(nn.Linear(n_cat_features, 512),\n",
        "                                   nn.BatchNorm1d(512),\n",
        "                                   nn.ReLU(),\n",
        "                                   nn.Linear(512, n_out))\n",
        "\n",
        "    def forward(self, input):\n",
        "        return self.model(input)\n",
        "\n",
        "\n",
        "class ThreeInputsNet(nn.Module):\n",
        "    def __init__(self, \n",
        "                 n_tokens=len(tokens),\n",
        "                 n_cat_features=len(categorical_vectorizer.vocabulary_), \n",
        "                 hid_size=64,  # number of features representing each word \n",
        "                 n_maxs=2,  # fixed seq len for every sample after applying MaxOverTime Pooling\n",
        "                 cat_n_out=256,  # size of categorical embedding\n",
        "                 use_title=False,\n",
        "                 use_categorical=False):\n",
        "        super().__init__()\n",
        "\n",
        "        self.use_title = use_title\n",
        "        self.use_categorical = use_categorical\n",
        "\n",
        "        self.description_head = DescriptionHead(n_tokens=n_tokens, n_maxs=n_maxs, hid_size=hid_size)\n",
        "        self.title_head = TitleHead(n_tokens=n_tokens, n_maxs=n_maxs, hid_size=hid_size)\n",
        "        self.category_head = CategoricalHead(n_cat_features, cat_n_out)\n",
        "\n",
        "        # description_head + title_head + categorical_head\n",
        "        feat_num = hid_size*2*n_maxs\n",
        "        if self.use_title:\n",
        "            feat_num += hid_size*2*n_maxs\n",
        "        if self.use_categorical:\n",
        "            feat_num += cat_n_out\n",
        "\n",
        "        self.fc = nn.Sequential(nn.Linear(feat_num, 256),\n",
        "                                nn.BatchNorm1d(256),\n",
        "                                nn.ReLU(),\n",
        "                                nn.Linear(256, 64),\n",
        "                                nn.BatchNorm1d(64),\n",
        "                                nn.ReLU(),\n",
        "                                nn.Linear(64, 1))\n",
        "        self.fc = nn.Sequential(nn.Linear(feat_num, 1))\n",
        "        \n",
        "    def forward(self, whole_input):\n",
        "        input_description = whole_input['FullDescription']\n",
        "        input_title = whole_input['Title']\n",
        "        # input_cat = whole_input['Categorical_dict']\n",
        "        input_cat = whole_input['Categorical_tfidf']\n",
        "        \n",
        "        if self.use_title:\n",
        "            title = self.title_head(torch.tensor(input_title, dtype=torch.long))\n",
        "        description = self.description_head(input_description)     \n",
        "        if self.use_categorical:\n",
        "            category = self.category_head(torch.tensor(input_cat, dtype=torch.float))     \n",
        "\n",
        "        concatenated = description.clone()\n",
        "        if self.use_title:\n",
        "            concatenated = torch.cat([concatenated, title], dim=1)\n",
        "        if self.use_categorical:\n",
        "            concatenated = torch.cat([concatenated, category], dim=1)\n",
        "        \n",
        "        out = self.fc(concatenated)\n",
        "        \n",
        "        return out"
      ],
      "execution_count": 56,
      "outputs": []
    },
    {
      "cell_type": "code",
      "metadata": {
        "id": "3V1asjLBLnCm"
      },
      "source": [
        "class RunModel:\n",
        "    def __init__(self, data_train, data_val, model, epochs=1, lr=0.001, plot_mode='print', device='cpu'):\n",
        "        print(f'Using {device}')\n",
        "        self.device = device\n",
        "        self.plot_mode = plot_mode\n",
        "        self.epochs = epochs\n",
        "\n",
        "        self.model = model.to(device)\n",
        "        self.opt = torch.optim.Adam(self.model.parameters(), lr=lr)  # not the best way to do\n",
        "        self.loss_func = nn.MSELoss()                                # not the best way to do\n",
        "        \n",
        "        self.data_train = data_train\n",
        "        self.data_val = data_val\n",
        "\n",
        "    def train_loop(self):\n",
        "        self.model.train()\n",
        "        hist_tr_iter = []\n",
        "        for idx, (batch, target) in enumerate(iterate_minibatches(self.data_train)):\n",
        "            batch = {key: torch.tensor(val).to(self.device) for key, val in batch.items()}\n",
        "            target = torch.tensor(target).to(self.device)\n",
        "\n",
        "            predictions = self.model(batch).squeeze()\n",
        "            loss = self.loss_func(predictions, target) \n",
        "            \n",
        "            with torch.no_grad():\n",
        "                metric = self.rmse_exp(target.cpu(), predictions.cpu())\n",
        "                hist_tr_iter.append(metric)\n",
        "\n",
        "            self.opt.zero_grad()\n",
        "            loss.backward()\n",
        "            self.opt.step()\n",
        "\n",
        "        hist_tr_epoch = np.mean(hist_tr_iter)\n",
        "        if self.plot_mode=='print':\n",
        "            print(f'Train RMSE: {hist_tr_epoch:.0f}')\n",
        "\n",
        "        return hist_tr_epoch\n",
        "\n",
        "    def eval_loop(self):\n",
        "        self.model.eval()\n",
        "        hist_val_iter = []\n",
        "        for idx, (batch, target) in enumerate(iterate_minibatches(self.data_val)):\n",
        "            batch = {key: torch.tensor(val).to(self.device) for key, val in batch.items()}\n",
        "            target = torch.tensor(target).to(self.device)\n",
        "\n",
        "            predictions = self.model(batch).squeeze()\n",
        "            loss = self.loss_func(predictions, target)\n",
        "\n",
        "            with torch.no_grad():\n",
        "                metric = self.rmse_exp(target.cpu(), predictions.cpu())\n",
        "                hist_val_iter.append(metric)\n",
        "\n",
        "            if (idx+1)%10==0:\n",
        "                if self.plot_mode=='graph':\n",
        "                    clear_output(True)\n",
        "                    plt.plot(history,label='loss')\n",
        "                    plt.yscale('log')\n",
        "                    plt.legend()\n",
        "                    plt.show()\n",
        "\n",
        "        hist_val_epoch = np.mean(hist_val_iter)\n",
        "        if self.plot_mode=='print':\n",
        "            print(f'Val RMSE: {hist_val_epoch:.0f}\\n')\n",
        "\n",
        "        return hist_val_epoch\n",
        "\n",
        "    def fit_model(self):\n",
        "        hist_tr, hist_val = [], []\n",
        "\n",
        "        for epoch_num in tqdm(range(self.epochs)):\n",
        "            hist_tr_iter = self.train_loop()\n",
        "            hist_tr.append(hist_tr_iter)\n",
        "\n",
        "            hist_val_iter = self.eval_loop()\n",
        "            hist_val.append(hist_val_iter)\n",
        "\n",
        "        return hist_tr, hist_val\n",
        "\n",
        "    def rmse_exp(self, true, predict):\n",
        "        return torch.sqrt(torch.mean(torch.square(torch.exp(predict) - torch.exp(true))))"
      ],
      "execution_count": 57,
      "outputs": []
    },
    {
      "cell_type": "markdown",
      "metadata": {
        "id": "7z4XINdyc_9p"
      },
      "source": [
        "### Training only Description head"
      ]
    },
    {
      "cell_type": "code",
      "metadata": {
        "id": "5Wx9c6s0jV-G"
      },
      "source": [
        "DEVICE = torch.device('cuda:0' if torch.cuda.is_available() else 'cpu')"
      ],
      "execution_count": 58,
      "outputs": []
    },
    {
      "cell_type": "code",
      "metadata": {
        "colab": {
          "base_uri": "https://localhost:8080/",
          "height": 599,
          "referenced_widgets": [
            "ea9edc2ee313473b95c494a20579639c",
            "d8b7185d864b470280ca8ea8bd1885fe",
            "9f72e72e8cfd47d5bea71d90a61ba20a",
            "2e5a10f9b8ee400c98d2dde3110c6f76",
            "7a92d0913b124ab68c8990bd13f8a7fa",
            "f396f723755f4c7b9690604fac945b7d",
            "1949e780a72a42399a5dee7b8591fc34",
            "39b8ab034ebe49d79cafb69a301cf6e6",
            "4f30d0510915432999bc4fac047fc6c0",
            "d5be9325d8644569b65862548664b3d6",
            "be61dca1498549c8a44098ef6e51a50e"
          ]
        },
        "id": "cH9n7lhdLn6O",
        "outputId": "be7f016e-34c3-416b-ecdd-688cd6d83b12"
      },
      "source": [
        "EPOCHS = 10\n",
        "LR = 0.001  # 3e-4\n",
        "\n",
        "model_uni = ThreeInputsNet(n_tokens=len(tokens),\n",
        "                           n_cat_features=len(categorical_vectorizer.vocabulary_),\n",
        "                           hid_size=64,\n",
        "                           n_maxs=2,\n",
        "                           cat_n_out=256,\n",
        "                           use_title=False, \n",
        "                           use_categorical=False)\n",
        "                            \n",
        "run_model = RunModel(data_train, data_val, model_uni, epochs=EPOCHS, lr=LR, \n",
        "                     plot_mode='print', device=DEVICE)\n",
        "hist_tr_epoch, hist_val_epoch = run_model.fit_model()"
      ],
      "execution_count": 59,
      "outputs": [
        {
          "output_type": "stream",
          "name": "stdout",
          "text": [
            "Using cuda:0\n"
          ]
        },
        {
          "output_type": "display_data",
          "data": {
            "text/plain": [
              "  0%|          | 0/10 [00:00<?, ?it/s]"
            ],
            "application/vnd.jupyter.widget-view+json": {
              "version_major": 2,
              "version_minor": 0,
              "model_id": "ea9edc2ee313473b95c494a20579639c"
            }
          },
          "metadata": {}
        },
        {
          "output_type": "stream",
          "name": "stdout",
          "text": [
            "Train RMSE: 14745979\n",
            "Val RMSE: 20533\n",
            "\n",
            "Train RMSE: 17311\n",
            "Val RMSE: 18224\n",
            "\n",
            "Train RMSE: 15668\n",
            "Val RMSE: 58052\n",
            "\n",
            "Train RMSE: 15112\n",
            "Val RMSE: 13896\n",
            "\n",
            "Train RMSE: 14887\n",
            "Val RMSE: 17246\n",
            "\n",
            "Train RMSE: 13879\n",
            "Val RMSE: 38796\n",
            "\n",
            "Train RMSE: 13541\n",
            "Val RMSE: 13187\n",
            "\n",
            "Train RMSE: 13043\n",
            "Val RMSE: 20487\n",
            "\n",
            "Train RMSE: 12676\n",
            "Val RMSE: 17561\n",
            "\n",
            "Train RMSE: 12302\n",
            "Val RMSE: 16289\n",
            "\n"
          ]
        }
      ]
    },
    {
      "cell_type": "markdown",
      "source": [
        "### Training all 3 heads"
      ],
      "metadata": {
        "id": "vVknJGOszKF_"
      }
    },
    {
      "cell_type": "code",
      "source": [
        "import warnings\n",
        "warnings.filterwarnings('ignore')\n",
        "\n",
        "EPOCHS = 10\n",
        "LR = 0.001  # 3e-4\n",
        "\n",
        "model_3heads = ThreeInputsNet(n_tokens=len(tokens),\n",
        "                                n_cat_features=len(tfidf_vectorizer.vocabulary_),\n",
        "                                hid_size=64,\n",
        "                                n_maxs=2,\n",
        "                                cat_n_out=256,\n",
        "                                use_title=True, \n",
        "                                use_categorical=True)\n",
        "                            \n",
        "run_model = RunModel(data_train, data_val, model_3heads, epochs=EPOCHS, lr=LR, \n",
        "                     plot_mode='print', device=DEVICE)\n",
        "hist_tr_epoch, hist_val_epoch = run_model.fit_model()"
      ],
      "metadata": {
        "colab": {
          "base_uri": "https://localhost:8080/",
          "height": 587,
          "referenced_widgets": [
            "3ffb60e776f84948a8fefd0e307533b4",
            "f2328658e7904b6bac6fe744a56782fd",
            "323e67778a38470bbb8891e9679beead",
            "28909a2710804ca69922983016b9714a",
            "84da08f3f56c4e1fb7e6929e3e6266b1",
            "eed0a59e60c94446b94c6c22e5dc42bc",
            "dd0c1d4d7b584f96a8c7f75aeb8fd8e9",
            "7a08018d71344252a20d59fc1316ef24",
            "2f9c6638fda844f1ac6253902d4afaf8",
            "6e225d5d21294f5abb217e480421b04e",
            "59b399d69e294429917df69023a3e8a2"
          ]
        },
        "id": "Zu1tPsVOzEFT",
        "outputId": "6ee06ddc-c9c8-4f3f-d0de-aa68bb3f5f97"
      },
      "execution_count": 61,
      "outputs": [
        {
          "output_type": "stream",
          "name": "stdout",
          "text": [
            "Using cuda:0\n"
          ]
        },
        {
          "output_type": "display_data",
          "data": {
            "text/plain": [
              "  0%|          | 0/10 [00:00<?, ?it/s]"
            ],
            "application/vnd.jupyter.widget-view+json": {
              "version_major": 2,
              "version_minor": 0,
              "model_id": "3ffb60e776f84948a8fefd0e307533b4"
            }
          },
          "metadata": {}
        },
        {
          "output_type": "stream",
          "name": "stdout",
          "text": [
            "Train RMSE: 43295\n",
            "Val RMSE: 15581\n",
            "\n",
            "Train RMSE: 14484\n",
            "Val RMSE: 15664\n",
            "\n",
            "Train RMSE: 12452\n",
            "Val RMSE: 11733\n",
            "\n",
            "Train RMSE: 12170\n",
            "Val RMSE: 17089\n",
            "\n",
            "Train RMSE: 11882\n",
            "Val RMSE: 11552\n",
            "\n",
            "Train RMSE: 11271\n",
            "Val RMSE: 12666\n",
            "\n",
            "Train RMSE: 10832\n",
            "Val RMSE: 12903\n",
            "\n",
            "Train RMSE: 10505\n",
            "Val RMSE: 11060\n",
            "\n",
            "Train RMSE: 10630\n",
            "Val RMSE: 10662\n",
            "\n",
            "Train RMSE: 10289\n",
            "Val RMSE: 90373\n",
            "\n"
          ]
        }
      ]
    },
    {
      "cell_type": "markdown",
      "source": [
        "### Use only 2 heads out of 3: Title & Description"
      ],
      "metadata": {
        "id": "M1KufApqzZ8J"
      }
    },
    {
      "cell_type": "code",
      "source": [
        "import warnings\n",
        "warnings.filterwarnings('ignore')\n",
        "\n",
        "EPOCHS = 15\n",
        "LR = 0.001  # 3e-4\n",
        "\n",
        "model_3heads = ThreeInputsNet(n_tokens=len(tokens),\n",
        "                                n_cat_features=len(tfidf_vectorizer.vocabulary_),\n",
        "                                hid_size=64,\n",
        "                                n_maxs=2,\n",
        "                                cat_n_out=256,\n",
        "                                use_title=True, \n",
        "                                use_categorical=False)\n",
        "                            \n",
        "run_model = RunModel(data_train, data_val, model_3heads, epochs=EPOCHS, lr=LR, \n",
        "                     plot_mode='print', device=DEVICE)\n",
        "hist_tr_epoch, hist_val_epoch = run_model.fit_model()"
      ],
      "metadata": {
        "colab": {
          "base_uri": "https://localhost:8080/",
          "height": 847,
          "referenced_widgets": [
            "bd70be703aa14a20bebdcf456dbe8526",
            "e6147b453b174c7e817bfaf23432bcf0",
            "792ef988714c4d2e986847f7cd478427",
            "5894e1e05e3c43fdb8a8bb29524def87",
            "c43d67ddaccb425da48cea4cfbe8c113",
            "50f5e53b94554163b771542d469d61de",
            "0c9f2340b6d849f98c45dd7d5f185425",
            "c01bd51c61424885a1fdb88f71a7352f",
            "782b992b1e684699bca66b2756cb3d40",
            "c5028d145b7449cf979bd559ab0e601a",
            "5349ecb712cb44bd807f7d4fc225ef0c"
          ]
        },
        "id": "OGzZPPdjzEHj",
        "outputId": "ff5ab1cc-a1d1-4a72-8ab9-f656451bf73c"
      },
      "execution_count": 62,
      "outputs": [
        {
          "output_type": "stream",
          "name": "stdout",
          "text": [
            "Using cuda:0\n"
          ]
        },
        {
          "output_type": "display_data",
          "data": {
            "text/plain": [
              "  0%|          | 0/15 [00:00<?, ?it/s]"
            ],
            "application/vnd.jupyter.widget-view+json": {
              "version_major": 2,
              "version_minor": 0,
              "model_id": "bd70be703aa14a20bebdcf456dbe8526"
            }
          },
          "metadata": {}
        },
        {
          "output_type": "stream",
          "name": "stdout",
          "text": [
            "Train RMSE: 8751125\n",
            "Val RMSE: 15698\n",
            "\n",
            "Train RMSE: 15382\n",
            "Val RMSE: 13673\n",
            "\n",
            "Train RMSE: 13820\n",
            "Val RMSE: 13530\n",
            "\n",
            "Train RMSE: 13089\n",
            "Val RMSE: 11961\n",
            "\n",
            "Train RMSE: 12385\n",
            "Val RMSE: 18016\n",
            "\n",
            "Train RMSE: 12105\n",
            "Val RMSE: 12210\n",
            "\n",
            "Train RMSE: 11885\n",
            "Val RMSE: 16471\n",
            "\n",
            "Train RMSE: 11480\n",
            "Val RMSE: 11477\n",
            "\n",
            "Train RMSE: 11016\n",
            "Val RMSE: 13840\n",
            "\n",
            "Train RMSE: 11529\n",
            "Val RMSE: 20326\n",
            "\n",
            "Train RMSE: 10532\n",
            "Val RMSE: 10452\n",
            "\n",
            "Train RMSE: 10344\n",
            "Val RMSE: 11358\n",
            "\n",
            "Train RMSE: 10193\n",
            "Val RMSE: 28116\n",
            "\n",
            "Train RMSE: 9899\n",
            "Val RMSE: 11228\n",
            "\n",
            "Train RMSE: 9834\n",
            "Val RMSE: 10675\n",
            "\n"
          ]
        }
      ]
    },
    {
      "cell_type": "markdown",
      "metadata": {
        "id": "Zs2llsR5NQJQ"
      },
      "source": [
        "### Bonus area 2: comparing RNN to CNN\n",
        "Try implementing simple RNN (or LSTM) and applying it to this task. Compare the quality/performance of these networks. \n",
        "*Hint: try to build networks with ~same number of paremeters.*"
      ]
    },
    {
      "cell_type": "code",
      "metadata": {
        "id": "MvPulK74NQJQ"
      },
      "source": [
        "# <YOUR CODE HERE>"
      ],
      "execution_count": null,
      "outputs": []
    },
    {
      "cell_type": "markdown",
      "metadata": {
        "id": "5ZwH9r7ENQJQ"
      },
      "source": [
        "### Bonus area 3: fixing the data leaks\n",
        "Fix the data leak we ignored in the beginning of the __Deep Learning part__. Compare results with and without data leaks using same architectures and training time.\n"
      ]
    },
    {
      "cell_type": "code",
      "metadata": {
        "id": "JLGpyfpRNQJQ"
      },
      "source": [
        "# <YOUR CODE HERE>"
      ],
      "execution_count": null,
      "outputs": []
    },
    {
      "cell_type": "markdown",
      "metadata": {
        "id": "Ao_wM-FnNQJQ"
      },
      "source": [
        "__Terrible start-up idea #1962:__ make a tool that automaticaly rephrases your job description (or CV) to meet salary expectations :)"
      ]
    }
  ]
}