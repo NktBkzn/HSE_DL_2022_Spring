{
  "nbformat": 4,
  "nbformat_minor": 0,
  "metadata": {
    "colab": {
      "name": "NN_Python_class.ipynb",
      "provenance": [],
      "collapsed_sections": []
    },
    "kernelspec": {
      "name": "python3",
      "display_name": "Python 3"
    },
    "language_info": {
      "name": "python"
    }
  },
  "cells": [
    {
      "cell_type": "markdown",
      "metadata": {
        "id": "mV8UbrE4Z_zV"
      },
      "source": [
        "## Создание сети через класс в Python"
      ]
    },
    {
      "cell_type": "markdown",
      "metadata": {
        "id": "1xdmkb8GKeKU"
      },
      "source": [
        "1. Рассмотрим ниже пример создания простого класса. "
      ]
    },
    {
      "cell_type": "code",
      "metadata": {
        "id": "-SIxsLUJKHMM"
      },
      "source": [
        "class Dog:\n",
        "   \n",
        "    # Class Variable\n",
        "    animal = 'dog'            \n",
        "   \n",
        "    # The init method or constructor\n",
        "    def __init__(self, breed, color):\n",
        "     \n",
        "        # Instance Variable    \n",
        "        self.breed = breed\n",
        "        self.color = color\n",
        "    \n",
        "# Objects of Dog class\n",
        "Rodger = Dog(\"Pug\", \"brown\")\n",
        "Buzo = Dog(\"Bulldog\", \"black\")\n",
        " \n",
        "print('Rodger details:')  \n",
        "print('Rodger is a', Rodger.animal)\n",
        "print('Breed: ', Rodger.breed)\n",
        "print('Color: ', Rodger.color)\n",
        " \n",
        "print('\\nBuzo details:')  \n",
        "print('Buzo is a', Buzo.animal)\n",
        "print('Breed: ', Buzo.breed)\n",
        "print('Color: ', Buzo.color)\n",
        " \n",
        "# Class variables can be accessed using class\n",
        "# name also\n",
        "print(\"\\nAccessing class variable using class name\")\n",
        "print(Dog.animal)  "
      ],
      "execution_count": null,
      "outputs": []
    },
    {
      "cell_type": "markdown",
      "source": [
        "2. Добавление методов классу"
      ],
      "metadata": {
        "id": "QpWAf04twlus"
      }
    },
    {
      "cell_type": "code",
      "metadata": {
        "id": "f0Z6XwwnJzN9"
      },
      "source": [
        "class Dog:\n",
        "       \n",
        "    # Class Variable\n",
        "    animal = 'dog'     \n",
        "       \n",
        "    # The init method or constructor\n",
        "    def __init__(self, breed='corgi'):\n",
        "        # Instance Variable\n",
        "        self.breed = breed            \n",
        "   \n",
        "    # Adds an instance variable \n",
        "    def setColor(self, color):\n",
        "        self.color = color\n",
        "       \n",
        "    # Retrieves instance variable    \n",
        "    def getColor(self):\n",
        "        return self.color   \n",
        "    \n",
        "    def ask_for_food(self):\n",
        "        print('Gimme food pease!')\n",
        "\n",
        "\n",
        "Rodger = Dog(\"pug\")\n",
        "Rodger.setColor(\"brown\")\n",
        "print(Rodger.getColor()) \n",
        "\n",
        "Rodger.ask_for_food()"
      ],
      "execution_count": null,
      "outputs": []
    },
    {
      "cell_type": "markdown",
      "source": [
        "3. Наследование"
      ],
      "metadata": {
        "id": "X4ABdIG9wpyL"
      }
    },
    {
      "cell_type": "code",
      "source": [
        "class Pet(Dog):\n",
        "    def __init__(self, breed):\n",
        "        super().__init__(breed)\n",
        "\n",
        "    def bark(self):\n",
        "        print('Bark-bark!')\n",
        "    \n",
        "    def ask_for_food(self):\n",
        "        print('Excuse me sir, would you mind to provide me with a meal?')\n",
        "\n",
        "\n",
        "pet = Pet(\"corgi\")\n",
        "pet.bark()\n",
        "\n",
        "pet.setColor(\"brown\")\n",
        "print(pet.getColor())\n",
        "\n",
        "pet.ask_for_food()\n"
      ],
      "metadata": {
        "id": "1oAqBL71zRoZ"
      },
      "execution_count": null,
      "outputs": []
    },
    {
      "cell_type": "markdown",
      "source": [
        "**Вопрос на внимательность:** Что можно улучшить в обоих классах?"
      ],
      "metadata": {
        "id": "VOqgspUK0wB7"
      }
    },
    {
      "cell_type": "markdown",
      "metadata": {
        "id": "I2IThX_aZ_zV"
      },
      "source": [
        "### Нейронная сеть через Python класс\n",
        "\n",
        "Ранее архитектура сети задавалась с помощью функции. Более удобный, гибкий и общепринятый подход для описания архитектуры сетей является использование классов в Python."
      ]
    },
    {
      "cell_type": "markdown",
      "source": [
        "#### 1. Так делали раньше"
      ],
      "metadata": {
        "id": "EXWG1kzusugp"
      }
    },
    {
      "cell_type": "code",
      "source": [
        "INPUT_SIZE = 37\n",
        "HIDDEN_SIZE = 25\n",
        "OUTPUT_SIZE = 4\n",
        "\n",
        "def build_model():\n",
        "    model = nn.Sequential(  \n",
        "        # Добавляем в нашу модель первый слой из 25 нейронов\n",
        "        nn.Linear(in_features=INPUT_SIZE, out_features=HIDDEN_SIZE),\n",
        "        nn.ReLU(),\n",
        "        \n",
        "        # Добавляем ещё один слой из 25 нейронов\n",
        "        nn.Linear(in_features=HIDDEN_SIZE, out_features=HIDDEN_SIZE),\n",
        "        nn.ReLU(),\n",
        "        \n",
        "        # Выходной вектор на количество классов, получаем с помощью такого же линейного приеобразования,\n",
        "        # как и предыдущие слои, но уже на нужное количество выходных нейронов (т.е. классов)\n",
        "        nn.Linear(in_features=HIDDEN_SIZE, out_features=OUTPUT_SIZE),\n",
        "        nn.Softmax()\n",
        "    )\n",
        "\n",
        "    return model"
      ],
      "metadata": {
        "id": "xF08Zus3ssVO"
      },
      "execution_count": null,
      "outputs": []
    },
    {
      "cell_type": "markdown",
      "source": [
        "#### 2. Так делаем теперь"
      ],
      "metadata": {
        "id": "k8xX5-d1s0H-"
      }
    },
    {
      "cell_type": "code",
      "metadata": {
        "id": "-8AuBAsyZ_zV"
      },
      "source": [
        "import torch\n",
        "import torch.nn as nn\n",
        "\n",
        "class TwoLayerNet(nn.Module):\n",
        "    def __init__(self, input_size, hidden_size, output_size):\n",
        "        \"\"\"\n",
        "        TwoLayerNet наследуется от nn.Module и тем самым полчаем возможность\n",
        "        переопределять методы класса.\n",
        "        В конструктуре создаем слои (обучаемые веса) и другие нужные перменные/функции,\n",
        "        которые нужны для модели\n",
        "        \"\"\"\n",
        "        super().__init__()  # super(TwoLayerNet, self).__init__()\n",
        "        self.linear1 = torch.nn.Linear(input_size, hidden_size)\n",
        "        self.linear2 = torch.nn.Linear(hidden_size, output_size)\n",
        "\n",
        "    def forward(self, x):\n",
        "        \"\"\"\n",
        "        Метод forward отвечает за прямое распростронение модели, \n",
        "        поэтому данный метод нужно переопределять обязательно, \n",
        "        чтобы задать логику прямого распростронения. \n",
        "        Именно в этот момент начинает строится динамический граф\n",
        "        \"\"\"\n",
        "        h_relu = self.linear1(x).clamp(min=0)\n",
        "        y_pred = self.linear2(h_relu)\n",
        "        \n",
        "        return y_pred"
      ],
      "execution_count": null,
      "outputs": []
    },
    {
      "cell_type": "markdown",
      "source": [
        "Запустим стандартный цикл обучения нейронной сети с архитектурой, представленной выше. "
      ],
      "metadata": {
        "id": "JtSAfZd9ujI7"
      }
    },
    {
      "cell_type": "code",
      "metadata": {
        "id": "WS81-idSZ_zV"
      },
      "source": [
        "BATCH_SIZE = 64\n",
        "INPUT_SIZE = 1000\n",
        "HIDDEN_SIZE = 100\n",
        "OUTPUT_SIZE = 10\n",
        "\n",
        "dtype = torch.float\n",
        "device = torch.device('cuda:0' if torch.cuda.is_available() else 'cpu') \n",
        "\n",
        "x = torch.randn(BATCH_SIZE, INPUT_SIZE, device=device, dtype=dtype)\n",
        "y = torch.randn(BATCH_SIZE, OUTPUT_SIZE, device=device, dtype=dtype)\n",
        "\n",
        "model = TwoLayerNet(INPUT_SIZE, HIDDEN_SIZE, OUTPUT_SIZE)\n",
        "\n",
        "loss_fn = torch.nn.MSELoss(reduction='mean')\n",
        "optimizer = torch.optim.SGD(model.parameters(), lr=1e-4)\n",
        "\n",
        "for t in range(500):\n",
        "    y_pred = model(x)\n",
        "\n",
        "    loss = loss_fn(y_pred, y)\n",
        "    if t % 100 == 99:\n",
        "        print(f'{str(t):^4s} {loss.item():.4f}')\n",
        "\n",
        "    optimizer.zero_grad()\n",
        "    loss.backward()\n",
        "    optimizer.step()"
      ],
      "execution_count": null,
      "outputs": []
    },
    {
      "cell_type": "code",
      "source": [
        ""
      ],
      "metadata": {
        "id": "kycAJl9Muz1Z"
      },
      "execution_count": null,
      "outputs": []
    }
  ]
}