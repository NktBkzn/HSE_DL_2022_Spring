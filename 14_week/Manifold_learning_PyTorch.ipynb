{
  "nbformat": 4,
  "nbformat_minor": 0,
  "metadata": {
    "kernelspec": {
      "display_name": "Python 3",
      "language": "python",
      "name": "python3"
    },
    "language_info": {
      "codemirror_mode": {
        "name": "ipython",
        "version": 3
      },
      "file_extension": ".py",
      "mimetype": "text/x-python",
      "name": "python",
      "nbconvert_exporter": "python",
      "pygments_lexer": "ipython3",
      "version": "3.7.2"
    },
    "colab": {
      "name": "Manifold_learning_PyTorch.ipynb",
      "provenance": [],
      "collapsed_sections": [],
      "toc_visible": true
    },
    "accelerator": "GPU",
    "widgets": {
      "application/vnd.jupyter.widget-state+json": {
        "93dba1c707424f5184a8125fccdb48d6": {
          "model_module": "@jupyter-widgets/controls",
          "model_name": "HBoxModel",
          "model_module_version": "1.5.0",
          "state": {
            "_dom_classes": [],
            "_model_module": "@jupyter-widgets/controls",
            "_model_module_version": "1.5.0",
            "_model_name": "HBoxModel",
            "_view_count": null,
            "_view_module": "@jupyter-widgets/controls",
            "_view_module_version": "1.5.0",
            "_view_name": "HBoxView",
            "box_style": "",
            "children": [
              "IPY_MODEL_b0626045be9640518f9a7aead8edd65d",
              "IPY_MODEL_65ab90d0997b4cc5933342abfb98e043",
              "IPY_MODEL_40bdf2fea3c249f2906d1940a9fd314e"
            ],
            "layout": "IPY_MODEL_b0fddad71f9c4c498a0eb21408393ee2"
          }
        },
        "b0626045be9640518f9a7aead8edd65d": {
          "model_module": "@jupyter-widgets/controls",
          "model_name": "HTMLModel",
          "model_module_version": "1.5.0",
          "state": {
            "_dom_classes": [],
            "_model_module": "@jupyter-widgets/controls",
            "_model_module_version": "1.5.0",
            "_model_name": "HTMLModel",
            "_view_count": null,
            "_view_module": "@jupyter-widgets/controls",
            "_view_module_version": "1.5.0",
            "_view_name": "HTMLView",
            "description": "",
            "description_tooltip": null,
            "layout": "IPY_MODEL_6aa33d302987422a93fbdc78018b3cd7",
            "placeholder": "​",
            "style": "IPY_MODEL_a17058a920134c01acc713ff6dac486e",
            "value": "100%"
          }
        },
        "65ab90d0997b4cc5933342abfb98e043": {
          "model_module": "@jupyter-widgets/controls",
          "model_name": "FloatProgressModel",
          "model_module_version": "1.5.0",
          "state": {
            "_dom_classes": [],
            "_model_module": "@jupyter-widgets/controls",
            "_model_module_version": "1.5.0",
            "_model_name": "FloatProgressModel",
            "_view_count": null,
            "_view_module": "@jupyter-widgets/controls",
            "_view_module_version": "1.5.0",
            "_view_name": "ProgressView",
            "bar_style": "success",
            "description": "",
            "description_tooltip": null,
            "layout": "IPY_MODEL_f385d9fd203549f48278059e9cfe8fc8",
            "max": 100,
            "min": 0,
            "orientation": "horizontal",
            "style": "IPY_MODEL_785acf6bae8c4401ab35bba69f1118b0",
            "value": 100
          }
        },
        "40bdf2fea3c249f2906d1940a9fd314e": {
          "model_module": "@jupyter-widgets/controls",
          "model_name": "HTMLModel",
          "model_module_version": "1.5.0",
          "state": {
            "_dom_classes": [],
            "_model_module": "@jupyter-widgets/controls",
            "_model_module_version": "1.5.0",
            "_model_name": "HTMLModel",
            "_view_count": null,
            "_view_module": "@jupyter-widgets/controls",
            "_view_module_version": "1.5.0",
            "_view_name": "HTMLView",
            "description": "",
            "description_tooltip": null,
            "layout": "IPY_MODEL_c43dc0007749433aa8fdce416ff9d08e",
            "placeholder": "​",
            "style": "IPY_MODEL_19971994509944c690d5093b96201f22",
            "value": " 100/100 [00:22&lt;00:00,  7.51it/s]"
          }
        },
        "b0fddad71f9c4c498a0eb21408393ee2": {
          "model_module": "@jupyter-widgets/base",
          "model_name": "LayoutModel",
          "model_module_version": "1.2.0",
          "state": {
            "_model_module": "@jupyter-widgets/base",
            "_model_module_version": "1.2.0",
            "_model_name": "LayoutModel",
            "_view_count": null,
            "_view_module": "@jupyter-widgets/base",
            "_view_module_version": "1.2.0",
            "_view_name": "LayoutView",
            "align_content": null,
            "align_items": null,
            "align_self": null,
            "border": null,
            "bottom": null,
            "display": null,
            "flex": null,
            "flex_flow": null,
            "grid_area": null,
            "grid_auto_columns": null,
            "grid_auto_flow": null,
            "grid_auto_rows": null,
            "grid_column": null,
            "grid_gap": null,
            "grid_row": null,
            "grid_template_areas": null,
            "grid_template_columns": null,
            "grid_template_rows": null,
            "height": null,
            "justify_content": null,
            "justify_items": null,
            "left": null,
            "margin": null,
            "max_height": null,
            "max_width": null,
            "min_height": null,
            "min_width": null,
            "object_fit": null,
            "object_position": null,
            "order": null,
            "overflow": null,
            "overflow_x": null,
            "overflow_y": null,
            "padding": null,
            "right": null,
            "top": null,
            "visibility": null,
            "width": null
          }
        },
        "6aa33d302987422a93fbdc78018b3cd7": {
          "model_module": "@jupyter-widgets/base",
          "model_name": "LayoutModel",
          "model_module_version": "1.2.0",
          "state": {
            "_model_module": "@jupyter-widgets/base",
            "_model_module_version": "1.2.0",
            "_model_name": "LayoutModel",
            "_view_count": null,
            "_view_module": "@jupyter-widgets/base",
            "_view_module_version": "1.2.0",
            "_view_name": "LayoutView",
            "align_content": null,
            "align_items": null,
            "align_self": null,
            "border": null,
            "bottom": null,
            "display": null,
            "flex": null,
            "flex_flow": null,
            "grid_area": null,
            "grid_auto_columns": null,
            "grid_auto_flow": null,
            "grid_auto_rows": null,
            "grid_column": null,
            "grid_gap": null,
            "grid_row": null,
            "grid_template_areas": null,
            "grid_template_columns": null,
            "grid_template_rows": null,
            "height": null,
            "justify_content": null,
            "justify_items": null,
            "left": null,
            "margin": null,
            "max_height": null,
            "max_width": null,
            "min_height": null,
            "min_width": null,
            "object_fit": null,
            "object_position": null,
            "order": null,
            "overflow": null,
            "overflow_x": null,
            "overflow_y": null,
            "padding": null,
            "right": null,
            "top": null,
            "visibility": null,
            "width": null
          }
        },
        "a17058a920134c01acc713ff6dac486e": {
          "model_module": "@jupyter-widgets/controls",
          "model_name": "DescriptionStyleModel",
          "model_module_version": "1.5.0",
          "state": {
            "_model_module": "@jupyter-widgets/controls",
            "_model_module_version": "1.5.0",
            "_model_name": "DescriptionStyleModel",
            "_view_count": null,
            "_view_module": "@jupyter-widgets/base",
            "_view_module_version": "1.2.0",
            "_view_name": "StyleView",
            "description_width": ""
          }
        },
        "f385d9fd203549f48278059e9cfe8fc8": {
          "model_module": "@jupyter-widgets/base",
          "model_name": "LayoutModel",
          "model_module_version": "1.2.0",
          "state": {
            "_model_module": "@jupyter-widgets/base",
            "_model_module_version": "1.2.0",
            "_model_name": "LayoutModel",
            "_view_count": null,
            "_view_module": "@jupyter-widgets/base",
            "_view_module_version": "1.2.0",
            "_view_name": "LayoutView",
            "align_content": null,
            "align_items": null,
            "align_self": null,
            "border": null,
            "bottom": null,
            "display": null,
            "flex": null,
            "flex_flow": null,
            "grid_area": null,
            "grid_auto_columns": null,
            "grid_auto_flow": null,
            "grid_auto_rows": null,
            "grid_column": null,
            "grid_gap": null,
            "grid_row": null,
            "grid_template_areas": null,
            "grid_template_columns": null,
            "grid_template_rows": null,
            "height": null,
            "justify_content": null,
            "justify_items": null,
            "left": null,
            "margin": null,
            "max_height": null,
            "max_width": null,
            "min_height": null,
            "min_width": null,
            "object_fit": null,
            "object_position": null,
            "order": null,
            "overflow": null,
            "overflow_x": null,
            "overflow_y": null,
            "padding": null,
            "right": null,
            "top": null,
            "visibility": null,
            "width": null
          }
        },
        "785acf6bae8c4401ab35bba69f1118b0": {
          "model_module": "@jupyter-widgets/controls",
          "model_name": "ProgressStyleModel",
          "model_module_version": "1.5.0",
          "state": {
            "_model_module": "@jupyter-widgets/controls",
            "_model_module_version": "1.5.0",
            "_model_name": "ProgressStyleModel",
            "_view_count": null,
            "_view_module": "@jupyter-widgets/base",
            "_view_module_version": "1.2.0",
            "_view_name": "StyleView",
            "bar_color": null,
            "description_width": ""
          }
        },
        "c43dc0007749433aa8fdce416ff9d08e": {
          "model_module": "@jupyter-widgets/base",
          "model_name": "LayoutModel",
          "model_module_version": "1.2.0",
          "state": {
            "_model_module": "@jupyter-widgets/base",
            "_model_module_version": "1.2.0",
            "_model_name": "LayoutModel",
            "_view_count": null,
            "_view_module": "@jupyter-widgets/base",
            "_view_module_version": "1.2.0",
            "_view_name": "LayoutView",
            "align_content": null,
            "align_items": null,
            "align_self": null,
            "border": null,
            "bottom": null,
            "display": null,
            "flex": null,
            "flex_flow": null,
            "grid_area": null,
            "grid_auto_columns": null,
            "grid_auto_flow": null,
            "grid_auto_rows": null,
            "grid_column": null,
            "grid_gap": null,
            "grid_row": null,
            "grid_template_areas": null,
            "grid_template_columns": null,
            "grid_template_rows": null,
            "height": null,
            "justify_content": null,
            "justify_items": null,
            "left": null,
            "margin": null,
            "max_height": null,
            "max_width": null,
            "min_height": null,
            "min_width": null,
            "object_fit": null,
            "object_position": null,
            "order": null,
            "overflow": null,
            "overflow_x": null,
            "overflow_y": null,
            "padding": null,
            "right": null,
            "top": null,
            "visibility": null,
            "width": null
          }
        },
        "19971994509944c690d5093b96201f22": {
          "model_module": "@jupyter-widgets/controls",
          "model_name": "DescriptionStyleModel",
          "model_module_version": "1.5.0",
          "state": {
            "_model_module": "@jupyter-widgets/controls",
            "_model_module_version": "1.5.0",
            "_model_name": "DescriptionStyleModel",
            "_view_count": null,
            "_view_module": "@jupyter-widgets/base",
            "_view_module_version": "1.2.0",
            "_view_name": "StyleView",
            "description_width": ""
          }
        },
        "10e0ed91e9a44f1fb16509acbe49c7c9": {
          "model_module": "@jupyter-widgets/controls",
          "model_name": "HBoxModel",
          "model_module_version": "1.5.0",
          "state": {
            "_dom_classes": [],
            "_model_module": "@jupyter-widgets/controls",
            "_model_module_version": "1.5.0",
            "_model_name": "HBoxModel",
            "_view_count": null,
            "_view_module": "@jupyter-widgets/controls",
            "_view_module_version": "1.5.0",
            "_view_name": "HBoxView",
            "box_style": "",
            "children": [
              "IPY_MODEL_04e8a8dfb61c40d685167cb57aa42e5d",
              "IPY_MODEL_d9bb464f6222479590544612b18f8f44",
              "IPY_MODEL_d29ba36d06c74d359bca5181bdb292bf"
            ],
            "layout": "IPY_MODEL_8ea46805034f4138a770b5cce52ff26b"
          }
        },
        "04e8a8dfb61c40d685167cb57aa42e5d": {
          "model_module": "@jupyter-widgets/controls",
          "model_name": "HTMLModel",
          "model_module_version": "1.5.0",
          "state": {
            "_dom_classes": [],
            "_model_module": "@jupyter-widgets/controls",
            "_model_module_version": "1.5.0",
            "_model_name": "HTMLModel",
            "_view_count": null,
            "_view_module": "@jupyter-widgets/controls",
            "_view_module_version": "1.5.0",
            "_view_name": "HTMLView",
            "description": "",
            "description_tooltip": null,
            "layout": "IPY_MODEL_27b01052b1344511b7b7fa6d3f57030b",
            "placeholder": "​",
            "style": "IPY_MODEL_8a351d4a6da945098b9132d0d7d51878",
            "value": "100%"
          }
        },
        "d9bb464f6222479590544612b18f8f44": {
          "model_module": "@jupyter-widgets/controls",
          "model_name": "FloatProgressModel",
          "model_module_version": "1.5.0",
          "state": {
            "_dom_classes": [],
            "_model_module": "@jupyter-widgets/controls",
            "_model_module_version": "1.5.0",
            "_model_name": "FloatProgressModel",
            "_view_count": null,
            "_view_module": "@jupyter-widgets/controls",
            "_view_module_version": "1.5.0",
            "_view_name": "ProgressView",
            "bar_style": "success",
            "description": "",
            "description_tooltip": null,
            "layout": "IPY_MODEL_09009a6b41d443eaba6738497bb9e3af",
            "max": 100,
            "min": 0,
            "orientation": "horizontal",
            "style": "IPY_MODEL_b735cf09b1c5427e820133ac47ab85ad",
            "value": 100
          }
        },
        "d29ba36d06c74d359bca5181bdb292bf": {
          "model_module": "@jupyter-widgets/controls",
          "model_name": "HTMLModel",
          "model_module_version": "1.5.0",
          "state": {
            "_dom_classes": [],
            "_model_module": "@jupyter-widgets/controls",
            "_model_module_version": "1.5.0",
            "_model_name": "HTMLModel",
            "_view_count": null,
            "_view_module": "@jupyter-widgets/controls",
            "_view_module_version": "1.5.0",
            "_view_name": "HTMLView",
            "description": "",
            "description_tooltip": null,
            "layout": "IPY_MODEL_4c652ee580fe44698c7858e71cac93ab",
            "placeholder": "​",
            "style": "IPY_MODEL_837ce892c0184a1e949a4ecb96debd94",
            "value": " 100/100 [00:18&lt;00:00,  5.46it/s]"
          }
        },
        "8ea46805034f4138a770b5cce52ff26b": {
          "model_module": "@jupyter-widgets/base",
          "model_name": "LayoutModel",
          "model_module_version": "1.2.0",
          "state": {
            "_model_module": "@jupyter-widgets/base",
            "_model_module_version": "1.2.0",
            "_model_name": "LayoutModel",
            "_view_count": null,
            "_view_module": "@jupyter-widgets/base",
            "_view_module_version": "1.2.0",
            "_view_name": "LayoutView",
            "align_content": null,
            "align_items": null,
            "align_self": null,
            "border": null,
            "bottom": null,
            "display": null,
            "flex": null,
            "flex_flow": null,
            "grid_area": null,
            "grid_auto_columns": null,
            "grid_auto_flow": null,
            "grid_auto_rows": null,
            "grid_column": null,
            "grid_gap": null,
            "grid_row": null,
            "grid_template_areas": null,
            "grid_template_columns": null,
            "grid_template_rows": null,
            "height": null,
            "justify_content": null,
            "justify_items": null,
            "left": null,
            "margin": null,
            "max_height": null,
            "max_width": null,
            "min_height": null,
            "min_width": null,
            "object_fit": null,
            "object_position": null,
            "order": null,
            "overflow": null,
            "overflow_x": null,
            "overflow_y": null,
            "padding": null,
            "right": null,
            "top": null,
            "visibility": null,
            "width": null
          }
        },
        "27b01052b1344511b7b7fa6d3f57030b": {
          "model_module": "@jupyter-widgets/base",
          "model_name": "LayoutModel",
          "model_module_version": "1.2.0",
          "state": {
            "_model_module": "@jupyter-widgets/base",
            "_model_module_version": "1.2.0",
            "_model_name": "LayoutModel",
            "_view_count": null,
            "_view_module": "@jupyter-widgets/base",
            "_view_module_version": "1.2.0",
            "_view_name": "LayoutView",
            "align_content": null,
            "align_items": null,
            "align_self": null,
            "border": null,
            "bottom": null,
            "display": null,
            "flex": null,
            "flex_flow": null,
            "grid_area": null,
            "grid_auto_columns": null,
            "grid_auto_flow": null,
            "grid_auto_rows": null,
            "grid_column": null,
            "grid_gap": null,
            "grid_row": null,
            "grid_template_areas": null,
            "grid_template_columns": null,
            "grid_template_rows": null,
            "height": null,
            "justify_content": null,
            "justify_items": null,
            "left": null,
            "margin": null,
            "max_height": null,
            "max_width": null,
            "min_height": null,
            "min_width": null,
            "object_fit": null,
            "object_position": null,
            "order": null,
            "overflow": null,
            "overflow_x": null,
            "overflow_y": null,
            "padding": null,
            "right": null,
            "top": null,
            "visibility": null,
            "width": null
          }
        },
        "8a351d4a6da945098b9132d0d7d51878": {
          "model_module": "@jupyter-widgets/controls",
          "model_name": "DescriptionStyleModel",
          "model_module_version": "1.5.0",
          "state": {
            "_model_module": "@jupyter-widgets/controls",
            "_model_module_version": "1.5.0",
            "_model_name": "DescriptionStyleModel",
            "_view_count": null,
            "_view_module": "@jupyter-widgets/base",
            "_view_module_version": "1.2.0",
            "_view_name": "StyleView",
            "description_width": ""
          }
        },
        "09009a6b41d443eaba6738497bb9e3af": {
          "model_module": "@jupyter-widgets/base",
          "model_name": "LayoutModel",
          "model_module_version": "1.2.0",
          "state": {
            "_model_module": "@jupyter-widgets/base",
            "_model_module_version": "1.2.0",
            "_model_name": "LayoutModel",
            "_view_count": null,
            "_view_module": "@jupyter-widgets/base",
            "_view_module_version": "1.2.0",
            "_view_name": "LayoutView",
            "align_content": null,
            "align_items": null,
            "align_self": null,
            "border": null,
            "bottom": null,
            "display": null,
            "flex": null,
            "flex_flow": null,
            "grid_area": null,
            "grid_auto_columns": null,
            "grid_auto_flow": null,
            "grid_auto_rows": null,
            "grid_column": null,
            "grid_gap": null,
            "grid_row": null,
            "grid_template_areas": null,
            "grid_template_columns": null,
            "grid_template_rows": null,
            "height": null,
            "justify_content": null,
            "justify_items": null,
            "left": null,
            "margin": null,
            "max_height": null,
            "max_width": null,
            "min_height": null,
            "min_width": null,
            "object_fit": null,
            "object_position": null,
            "order": null,
            "overflow": null,
            "overflow_x": null,
            "overflow_y": null,
            "padding": null,
            "right": null,
            "top": null,
            "visibility": null,
            "width": null
          }
        },
        "b735cf09b1c5427e820133ac47ab85ad": {
          "model_module": "@jupyter-widgets/controls",
          "model_name": "ProgressStyleModel",
          "model_module_version": "1.5.0",
          "state": {
            "_model_module": "@jupyter-widgets/controls",
            "_model_module_version": "1.5.0",
            "_model_name": "ProgressStyleModel",
            "_view_count": null,
            "_view_module": "@jupyter-widgets/base",
            "_view_module_version": "1.2.0",
            "_view_name": "StyleView",
            "bar_color": null,
            "description_width": ""
          }
        },
        "4c652ee580fe44698c7858e71cac93ab": {
          "model_module": "@jupyter-widgets/base",
          "model_name": "LayoutModel",
          "model_module_version": "1.2.0",
          "state": {
            "_model_module": "@jupyter-widgets/base",
            "_model_module_version": "1.2.0",
            "_model_name": "LayoutModel",
            "_view_count": null,
            "_view_module": "@jupyter-widgets/base",
            "_view_module_version": "1.2.0",
            "_view_name": "LayoutView",
            "align_content": null,
            "align_items": null,
            "align_self": null,
            "border": null,
            "bottom": null,
            "display": null,
            "flex": null,
            "flex_flow": null,
            "grid_area": null,
            "grid_auto_columns": null,
            "grid_auto_flow": null,
            "grid_auto_rows": null,
            "grid_column": null,
            "grid_gap": null,
            "grid_row": null,
            "grid_template_areas": null,
            "grid_template_columns": null,
            "grid_template_rows": null,
            "height": null,
            "justify_content": null,
            "justify_items": null,
            "left": null,
            "margin": null,
            "max_height": null,
            "max_width": null,
            "min_height": null,
            "min_width": null,
            "object_fit": null,
            "object_position": null,
            "order": null,
            "overflow": null,
            "overflow_x": null,
            "overflow_y": null,
            "padding": null,
            "right": null,
            "top": null,
            "visibility": null,
            "width": null
          }
        },
        "837ce892c0184a1e949a4ecb96debd94": {
          "model_module": "@jupyter-widgets/controls",
          "model_name": "DescriptionStyleModel",
          "model_module_version": "1.5.0",
          "state": {
            "_model_module": "@jupyter-widgets/controls",
            "_model_module_version": "1.5.0",
            "_model_name": "DescriptionStyleModel",
            "_view_count": null,
            "_view_module": "@jupyter-widgets/base",
            "_view_module_version": "1.2.0",
            "_view_name": "StyleView",
            "description_width": ""
          }
        },
        "178daa33dde74e199e3c28c7cbb0cdb1": {
          "model_module": "@jupyter-widgets/controls",
          "model_name": "HBoxModel",
          "model_module_version": "1.5.0",
          "state": {
            "_dom_classes": [],
            "_model_module": "@jupyter-widgets/controls",
            "_model_module_version": "1.5.0",
            "_model_name": "HBoxModel",
            "_view_count": null,
            "_view_module": "@jupyter-widgets/controls",
            "_view_module_version": "1.5.0",
            "_view_name": "HBoxView",
            "box_style": "",
            "children": [
              "IPY_MODEL_23796c4873e847c1a0a380c39e78ff03",
              "IPY_MODEL_5152b051d53e4b0ab0541c2facf1aa88",
              "IPY_MODEL_e74cae3815404778bf701ef26fa3b70c"
            ],
            "layout": "IPY_MODEL_8ce38e944dba4ed5aa82a55a89373aec"
          }
        },
        "23796c4873e847c1a0a380c39e78ff03": {
          "model_module": "@jupyter-widgets/controls",
          "model_name": "HTMLModel",
          "model_module_version": "1.5.0",
          "state": {
            "_dom_classes": [],
            "_model_module": "@jupyter-widgets/controls",
            "_model_module_version": "1.5.0",
            "_model_name": "HTMLModel",
            "_view_count": null,
            "_view_module": "@jupyter-widgets/controls",
            "_view_module_version": "1.5.0",
            "_view_name": "HTMLView",
            "description": "",
            "description_tooltip": null,
            "layout": "IPY_MODEL_17daa27fb8db43dd8a7398a08b66aca2",
            "placeholder": "​",
            "style": "IPY_MODEL_9bd3dbed9cfc49caac9255bcc07c3359",
            "value": "100%"
          }
        },
        "5152b051d53e4b0ab0541c2facf1aa88": {
          "model_module": "@jupyter-widgets/controls",
          "model_name": "FloatProgressModel",
          "model_module_version": "1.5.0",
          "state": {
            "_dom_classes": [],
            "_model_module": "@jupyter-widgets/controls",
            "_model_module_version": "1.5.0",
            "_model_name": "FloatProgressModel",
            "_view_count": null,
            "_view_module": "@jupyter-widgets/controls",
            "_view_module_version": "1.5.0",
            "_view_name": "ProgressView",
            "bar_style": "success",
            "description": "",
            "description_tooltip": null,
            "layout": "IPY_MODEL_0a276f6ba257459abda69ad00dee9589",
            "max": 50,
            "min": 0,
            "orientation": "horizontal",
            "style": "IPY_MODEL_66a4585f9f4a4bac9b3b2dd1497d2954",
            "value": 50
          }
        },
        "e74cae3815404778bf701ef26fa3b70c": {
          "model_module": "@jupyter-widgets/controls",
          "model_name": "HTMLModel",
          "model_module_version": "1.5.0",
          "state": {
            "_dom_classes": [],
            "_model_module": "@jupyter-widgets/controls",
            "_model_module_version": "1.5.0",
            "_model_name": "HTMLModel",
            "_view_count": null,
            "_view_module": "@jupyter-widgets/controls",
            "_view_module_version": "1.5.0",
            "_view_name": "HTMLView",
            "description": "",
            "description_tooltip": null,
            "layout": "IPY_MODEL_f52b67c4c0f04ee2aadc15a291ab6372",
            "placeholder": "​",
            "style": "IPY_MODEL_5d650a5439014995a1f9d775316241d0",
            "value": " 50/50 [06:09&lt;00:00,  7.43s/it]"
          }
        },
        "8ce38e944dba4ed5aa82a55a89373aec": {
          "model_module": "@jupyter-widgets/base",
          "model_name": "LayoutModel",
          "model_module_version": "1.2.0",
          "state": {
            "_model_module": "@jupyter-widgets/base",
            "_model_module_version": "1.2.0",
            "_model_name": "LayoutModel",
            "_view_count": null,
            "_view_module": "@jupyter-widgets/base",
            "_view_module_version": "1.2.0",
            "_view_name": "LayoutView",
            "align_content": null,
            "align_items": null,
            "align_self": null,
            "border": null,
            "bottom": null,
            "display": null,
            "flex": null,
            "flex_flow": null,
            "grid_area": null,
            "grid_auto_columns": null,
            "grid_auto_flow": null,
            "grid_auto_rows": null,
            "grid_column": null,
            "grid_gap": null,
            "grid_row": null,
            "grid_template_areas": null,
            "grid_template_columns": null,
            "grid_template_rows": null,
            "height": null,
            "justify_content": null,
            "justify_items": null,
            "left": null,
            "margin": null,
            "max_height": null,
            "max_width": null,
            "min_height": null,
            "min_width": null,
            "object_fit": null,
            "object_position": null,
            "order": null,
            "overflow": null,
            "overflow_x": null,
            "overflow_y": null,
            "padding": null,
            "right": null,
            "top": null,
            "visibility": null,
            "width": null
          }
        },
        "17daa27fb8db43dd8a7398a08b66aca2": {
          "model_module": "@jupyter-widgets/base",
          "model_name": "LayoutModel",
          "model_module_version": "1.2.0",
          "state": {
            "_model_module": "@jupyter-widgets/base",
            "_model_module_version": "1.2.0",
            "_model_name": "LayoutModel",
            "_view_count": null,
            "_view_module": "@jupyter-widgets/base",
            "_view_module_version": "1.2.0",
            "_view_name": "LayoutView",
            "align_content": null,
            "align_items": null,
            "align_self": null,
            "border": null,
            "bottom": null,
            "display": null,
            "flex": null,
            "flex_flow": null,
            "grid_area": null,
            "grid_auto_columns": null,
            "grid_auto_flow": null,
            "grid_auto_rows": null,
            "grid_column": null,
            "grid_gap": null,
            "grid_row": null,
            "grid_template_areas": null,
            "grid_template_columns": null,
            "grid_template_rows": null,
            "height": null,
            "justify_content": null,
            "justify_items": null,
            "left": null,
            "margin": null,
            "max_height": null,
            "max_width": null,
            "min_height": null,
            "min_width": null,
            "object_fit": null,
            "object_position": null,
            "order": null,
            "overflow": null,
            "overflow_x": null,
            "overflow_y": null,
            "padding": null,
            "right": null,
            "top": null,
            "visibility": null,
            "width": null
          }
        },
        "9bd3dbed9cfc49caac9255bcc07c3359": {
          "model_module": "@jupyter-widgets/controls",
          "model_name": "DescriptionStyleModel",
          "model_module_version": "1.5.0",
          "state": {
            "_model_module": "@jupyter-widgets/controls",
            "_model_module_version": "1.5.0",
            "_model_name": "DescriptionStyleModel",
            "_view_count": null,
            "_view_module": "@jupyter-widgets/base",
            "_view_module_version": "1.2.0",
            "_view_name": "StyleView",
            "description_width": ""
          }
        },
        "0a276f6ba257459abda69ad00dee9589": {
          "model_module": "@jupyter-widgets/base",
          "model_name": "LayoutModel",
          "model_module_version": "1.2.0",
          "state": {
            "_model_module": "@jupyter-widgets/base",
            "_model_module_version": "1.2.0",
            "_model_name": "LayoutModel",
            "_view_count": null,
            "_view_module": "@jupyter-widgets/base",
            "_view_module_version": "1.2.0",
            "_view_name": "LayoutView",
            "align_content": null,
            "align_items": null,
            "align_self": null,
            "border": null,
            "bottom": null,
            "display": null,
            "flex": null,
            "flex_flow": null,
            "grid_area": null,
            "grid_auto_columns": null,
            "grid_auto_flow": null,
            "grid_auto_rows": null,
            "grid_column": null,
            "grid_gap": null,
            "grid_row": null,
            "grid_template_areas": null,
            "grid_template_columns": null,
            "grid_template_rows": null,
            "height": null,
            "justify_content": null,
            "justify_items": null,
            "left": null,
            "margin": null,
            "max_height": null,
            "max_width": null,
            "min_height": null,
            "min_width": null,
            "object_fit": null,
            "object_position": null,
            "order": null,
            "overflow": null,
            "overflow_x": null,
            "overflow_y": null,
            "padding": null,
            "right": null,
            "top": null,
            "visibility": null,
            "width": null
          }
        },
        "66a4585f9f4a4bac9b3b2dd1497d2954": {
          "model_module": "@jupyter-widgets/controls",
          "model_name": "ProgressStyleModel",
          "model_module_version": "1.5.0",
          "state": {
            "_model_module": "@jupyter-widgets/controls",
            "_model_module_version": "1.5.0",
            "_model_name": "ProgressStyleModel",
            "_view_count": null,
            "_view_module": "@jupyter-widgets/base",
            "_view_module_version": "1.2.0",
            "_view_name": "StyleView",
            "bar_color": null,
            "description_width": ""
          }
        },
        "f52b67c4c0f04ee2aadc15a291ab6372": {
          "model_module": "@jupyter-widgets/base",
          "model_name": "LayoutModel",
          "model_module_version": "1.2.0",
          "state": {
            "_model_module": "@jupyter-widgets/base",
            "_model_module_version": "1.2.0",
            "_model_name": "LayoutModel",
            "_view_count": null,
            "_view_module": "@jupyter-widgets/base",
            "_view_module_version": "1.2.0",
            "_view_name": "LayoutView",
            "align_content": null,
            "align_items": null,
            "align_self": null,
            "border": null,
            "bottom": null,
            "display": null,
            "flex": null,
            "flex_flow": null,
            "grid_area": null,
            "grid_auto_columns": null,
            "grid_auto_flow": null,
            "grid_auto_rows": null,
            "grid_column": null,
            "grid_gap": null,
            "grid_row": null,
            "grid_template_areas": null,
            "grid_template_columns": null,
            "grid_template_rows": null,
            "height": null,
            "justify_content": null,
            "justify_items": null,
            "left": null,
            "margin": null,
            "max_height": null,
            "max_width": null,
            "min_height": null,
            "min_width": null,
            "object_fit": null,
            "object_position": null,
            "order": null,
            "overflow": null,
            "overflow_x": null,
            "overflow_y": null,
            "padding": null,
            "right": null,
            "top": null,
            "visibility": null,
            "width": null
          }
        },
        "5d650a5439014995a1f9d775316241d0": {
          "model_module": "@jupyter-widgets/controls",
          "model_name": "DescriptionStyleModel",
          "model_module_version": "1.5.0",
          "state": {
            "_model_module": "@jupyter-widgets/controls",
            "_model_module_version": "1.5.0",
            "_model_name": "DescriptionStyleModel",
            "_view_count": null,
            "_view_module": "@jupyter-widgets/base",
            "_view_module_version": "1.2.0",
            "_view_name": "StyleView",
            "description_width": ""
          }
        },
        "7bf3480ec89a489ba8ae2a931d073f5e": {
          "model_module": "@jupyter-widgets/controls",
          "model_name": "HBoxModel",
          "model_module_version": "1.5.0",
          "state": {
            "_dom_classes": [],
            "_model_module": "@jupyter-widgets/controls",
            "_model_module_version": "1.5.0",
            "_model_name": "HBoxModel",
            "_view_count": null,
            "_view_module": "@jupyter-widgets/controls",
            "_view_module_version": "1.5.0",
            "_view_name": "HBoxView",
            "box_style": "",
            "children": [
              "IPY_MODEL_ef4fcdb490e74ae99b96db56049f15a4",
              "IPY_MODEL_d13d33747f804d45bc1253130561011e",
              "IPY_MODEL_4224209928d940d6a3bebcca824a005f"
            ],
            "layout": "IPY_MODEL_82be63f849c3467a8f45eeed96ba0310"
          }
        },
        "ef4fcdb490e74ae99b96db56049f15a4": {
          "model_module": "@jupyter-widgets/controls",
          "model_name": "HTMLModel",
          "model_module_version": "1.5.0",
          "state": {
            "_dom_classes": [],
            "_model_module": "@jupyter-widgets/controls",
            "_model_module_version": "1.5.0",
            "_model_name": "HTMLModel",
            "_view_count": null,
            "_view_module": "@jupyter-widgets/controls",
            "_view_module_version": "1.5.0",
            "_view_name": "HTMLView",
            "description": "",
            "description_tooltip": null,
            "layout": "IPY_MODEL_bf2c4fbddfcb4063bb80375dad2d2435",
            "placeholder": "​",
            "style": "IPY_MODEL_b7a878c71dc844da9dd1b8df93df89b3",
            "value": "100%"
          }
        },
        "d13d33747f804d45bc1253130561011e": {
          "model_module": "@jupyter-widgets/controls",
          "model_name": "FloatProgressModel",
          "model_module_version": "1.5.0",
          "state": {
            "_dom_classes": [],
            "_model_module": "@jupyter-widgets/controls",
            "_model_module_version": "1.5.0",
            "_model_name": "FloatProgressModel",
            "_view_count": null,
            "_view_module": "@jupyter-widgets/controls",
            "_view_module_version": "1.5.0",
            "_view_name": "ProgressView",
            "bar_style": "success",
            "description": "",
            "description_tooltip": null,
            "layout": "IPY_MODEL_d02550c88a2c40dab53cbfd1b6be0ad3",
            "max": 9912422,
            "min": 0,
            "orientation": "horizontal",
            "style": "IPY_MODEL_2f789c9d54fd462ea3db3d80a516c788",
            "value": 9912422
          }
        },
        "4224209928d940d6a3bebcca824a005f": {
          "model_module": "@jupyter-widgets/controls",
          "model_name": "HTMLModel",
          "model_module_version": "1.5.0",
          "state": {
            "_dom_classes": [],
            "_model_module": "@jupyter-widgets/controls",
            "_model_module_version": "1.5.0",
            "_model_name": "HTMLModel",
            "_view_count": null,
            "_view_module": "@jupyter-widgets/controls",
            "_view_module_version": "1.5.0",
            "_view_name": "HTMLView",
            "description": "",
            "description_tooltip": null,
            "layout": "IPY_MODEL_d522a2b6a5644896a058ecfde383084e",
            "placeholder": "​",
            "style": "IPY_MODEL_67aff6c725604d938c9ec0ef71b1f207",
            "value": " 9912422/9912422 [00:00&lt;00:00, 81904260.84it/s]"
          }
        },
        "82be63f849c3467a8f45eeed96ba0310": {
          "model_module": "@jupyter-widgets/base",
          "model_name": "LayoutModel",
          "model_module_version": "1.2.0",
          "state": {
            "_model_module": "@jupyter-widgets/base",
            "_model_module_version": "1.2.0",
            "_model_name": "LayoutModel",
            "_view_count": null,
            "_view_module": "@jupyter-widgets/base",
            "_view_module_version": "1.2.0",
            "_view_name": "LayoutView",
            "align_content": null,
            "align_items": null,
            "align_self": null,
            "border": null,
            "bottom": null,
            "display": null,
            "flex": null,
            "flex_flow": null,
            "grid_area": null,
            "grid_auto_columns": null,
            "grid_auto_flow": null,
            "grid_auto_rows": null,
            "grid_column": null,
            "grid_gap": null,
            "grid_row": null,
            "grid_template_areas": null,
            "grid_template_columns": null,
            "grid_template_rows": null,
            "height": null,
            "justify_content": null,
            "justify_items": null,
            "left": null,
            "margin": null,
            "max_height": null,
            "max_width": null,
            "min_height": null,
            "min_width": null,
            "object_fit": null,
            "object_position": null,
            "order": null,
            "overflow": null,
            "overflow_x": null,
            "overflow_y": null,
            "padding": null,
            "right": null,
            "top": null,
            "visibility": null,
            "width": null
          }
        },
        "bf2c4fbddfcb4063bb80375dad2d2435": {
          "model_module": "@jupyter-widgets/base",
          "model_name": "LayoutModel",
          "model_module_version": "1.2.0",
          "state": {
            "_model_module": "@jupyter-widgets/base",
            "_model_module_version": "1.2.0",
            "_model_name": "LayoutModel",
            "_view_count": null,
            "_view_module": "@jupyter-widgets/base",
            "_view_module_version": "1.2.0",
            "_view_name": "LayoutView",
            "align_content": null,
            "align_items": null,
            "align_self": null,
            "border": null,
            "bottom": null,
            "display": null,
            "flex": null,
            "flex_flow": null,
            "grid_area": null,
            "grid_auto_columns": null,
            "grid_auto_flow": null,
            "grid_auto_rows": null,
            "grid_column": null,
            "grid_gap": null,
            "grid_row": null,
            "grid_template_areas": null,
            "grid_template_columns": null,
            "grid_template_rows": null,
            "height": null,
            "justify_content": null,
            "justify_items": null,
            "left": null,
            "margin": null,
            "max_height": null,
            "max_width": null,
            "min_height": null,
            "min_width": null,
            "object_fit": null,
            "object_position": null,
            "order": null,
            "overflow": null,
            "overflow_x": null,
            "overflow_y": null,
            "padding": null,
            "right": null,
            "top": null,
            "visibility": null,
            "width": null
          }
        },
        "b7a878c71dc844da9dd1b8df93df89b3": {
          "model_module": "@jupyter-widgets/controls",
          "model_name": "DescriptionStyleModel",
          "model_module_version": "1.5.0",
          "state": {
            "_model_module": "@jupyter-widgets/controls",
            "_model_module_version": "1.5.0",
            "_model_name": "DescriptionStyleModel",
            "_view_count": null,
            "_view_module": "@jupyter-widgets/base",
            "_view_module_version": "1.2.0",
            "_view_name": "StyleView",
            "description_width": ""
          }
        },
        "d02550c88a2c40dab53cbfd1b6be0ad3": {
          "model_module": "@jupyter-widgets/base",
          "model_name": "LayoutModel",
          "model_module_version": "1.2.0",
          "state": {
            "_model_module": "@jupyter-widgets/base",
            "_model_module_version": "1.2.0",
            "_model_name": "LayoutModel",
            "_view_count": null,
            "_view_module": "@jupyter-widgets/base",
            "_view_module_version": "1.2.0",
            "_view_name": "LayoutView",
            "align_content": null,
            "align_items": null,
            "align_self": null,
            "border": null,
            "bottom": null,
            "display": null,
            "flex": null,
            "flex_flow": null,
            "grid_area": null,
            "grid_auto_columns": null,
            "grid_auto_flow": null,
            "grid_auto_rows": null,
            "grid_column": null,
            "grid_gap": null,
            "grid_row": null,
            "grid_template_areas": null,
            "grid_template_columns": null,
            "grid_template_rows": null,
            "height": null,
            "justify_content": null,
            "justify_items": null,
            "left": null,
            "margin": null,
            "max_height": null,
            "max_width": null,
            "min_height": null,
            "min_width": null,
            "object_fit": null,
            "object_position": null,
            "order": null,
            "overflow": null,
            "overflow_x": null,
            "overflow_y": null,
            "padding": null,
            "right": null,
            "top": null,
            "visibility": null,
            "width": null
          }
        },
        "2f789c9d54fd462ea3db3d80a516c788": {
          "model_module": "@jupyter-widgets/controls",
          "model_name": "ProgressStyleModel",
          "model_module_version": "1.5.0",
          "state": {
            "_model_module": "@jupyter-widgets/controls",
            "_model_module_version": "1.5.0",
            "_model_name": "ProgressStyleModel",
            "_view_count": null,
            "_view_module": "@jupyter-widgets/base",
            "_view_module_version": "1.2.0",
            "_view_name": "StyleView",
            "bar_color": null,
            "description_width": ""
          }
        },
        "d522a2b6a5644896a058ecfde383084e": {
          "model_module": "@jupyter-widgets/base",
          "model_name": "LayoutModel",
          "model_module_version": "1.2.0",
          "state": {
            "_model_module": "@jupyter-widgets/base",
            "_model_module_version": "1.2.0",
            "_model_name": "LayoutModel",
            "_view_count": null,
            "_view_module": "@jupyter-widgets/base",
            "_view_module_version": "1.2.0",
            "_view_name": "LayoutView",
            "align_content": null,
            "align_items": null,
            "align_self": null,
            "border": null,
            "bottom": null,
            "display": null,
            "flex": null,
            "flex_flow": null,
            "grid_area": null,
            "grid_auto_columns": null,
            "grid_auto_flow": null,
            "grid_auto_rows": null,
            "grid_column": null,
            "grid_gap": null,
            "grid_row": null,
            "grid_template_areas": null,
            "grid_template_columns": null,
            "grid_template_rows": null,
            "height": null,
            "justify_content": null,
            "justify_items": null,
            "left": null,
            "margin": null,
            "max_height": null,
            "max_width": null,
            "min_height": null,
            "min_width": null,
            "object_fit": null,
            "object_position": null,
            "order": null,
            "overflow": null,
            "overflow_x": null,
            "overflow_y": null,
            "padding": null,
            "right": null,
            "top": null,
            "visibility": null,
            "width": null
          }
        },
        "67aff6c725604d938c9ec0ef71b1f207": {
          "model_module": "@jupyter-widgets/controls",
          "model_name": "DescriptionStyleModel",
          "model_module_version": "1.5.0",
          "state": {
            "_model_module": "@jupyter-widgets/controls",
            "_model_module_version": "1.5.0",
            "_model_name": "DescriptionStyleModel",
            "_view_count": null,
            "_view_module": "@jupyter-widgets/base",
            "_view_module_version": "1.2.0",
            "_view_name": "StyleView",
            "description_width": ""
          }
        },
        "5271f5e2b8b7483c912bf440689c1fad": {
          "model_module": "@jupyter-widgets/controls",
          "model_name": "HBoxModel",
          "model_module_version": "1.5.0",
          "state": {
            "_dom_classes": [],
            "_model_module": "@jupyter-widgets/controls",
            "_model_module_version": "1.5.0",
            "_model_name": "HBoxModel",
            "_view_count": null,
            "_view_module": "@jupyter-widgets/controls",
            "_view_module_version": "1.5.0",
            "_view_name": "HBoxView",
            "box_style": "",
            "children": [
              "IPY_MODEL_6ece5d1fab28403aa553770f611c60c9",
              "IPY_MODEL_1ace624d160149e381e30a17f164fcd0",
              "IPY_MODEL_11fb250ab1e74dce9db1a8b882f610b6"
            ],
            "layout": "IPY_MODEL_2178a0c2a22f43259e4afde98a2d22ad"
          }
        },
        "6ece5d1fab28403aa553770f611c60c9": {
          "model_module": "@jupyter-widgets/controls",
          "model_name": "HTMLModel",
          "model_module_version": "1.5.0",
          "state": {
            "_dom_classes": [],
            "_model_module": "@jupyter-widgets/controls",
            "_model_module_version": "1.5.0",
            "_model_name": "HTMLModel",
            "_view_count": null,
            "_view_module": "@jupyter-widgets/controls",
            "_view_module_version": "1.5.0",
            "_view_name": "HTMLView",
            "description": "",
            "description_tooltip": null,
            "layout": "IPY_MODEL_077662a5247e47beb1c96960a2b42efd",
            "placeholder": "​",
            "style": "IPY_MODEL_545cd82005f74749a2ee865dec380ecf",
            "value": "100%"
          }
        },
        "1ace624d160149e381e30a17f164fcd0": {
          "model_module": "@jupyter-widgets/controls",
          "model_name": "FloatProgressModel",
          "model_module_version": "1.5.0",
          "state": {
            "_dom_classes": [],
            "_model_module": "@jupyter-widgets/controls",
            "_model_module_version": "1.5.0",
            "_model_name": "FloatProgressModel",
            "_view_count": null,
            "_view_module": "@jupyter-widgets/controls",
            "_view_module_version": "1.5.0",
            "_view_name": "ProgressView",
            "bar_style": "success",
            "description": "",
            "description_tooltip": null,
            "layout": "IPY_MODEL_67f149d739d5473d8a008c6018786f7a",
            "max": 28881,
            "min": 0,
            "orientation": "horizontal",
            "style": "IPY_MODEL_9ddb96351c474d3abe4dc5d5382bc7df",
            "value": 28881
          }
        },
        "11fb250ab1e74dce9db1a8b882f610b6": {
          "model_module": "@jupyter-widgets/controls",
          "model_name": "HTMLModel",
          "model_module_version": "1.5.0",
          "state": {
            "_dom_classes": [],
            "_model_module": "@jupyter-widgets/controls",
            "_model_module_version": "1.5.0",
            "_model_name": "HTMLModel",
            "_view_count": null,
            "_view_module": "@jupyter-widgets/controls",
            "_view_module_version": "1.5.0",
            "_view_name": "HTMLView",
            "description": "",
            "description_tooltip": null,
            "layout": "IPY_MODEL_92a12c1b1b3a4a5f8d00dc8d7e6cbde6",
            "placeholder": "​",
            "style": "IPY_MODEL_524e88db00244c36be7cff5b12a33b0b",
            "value": " 28881/28881 [00:00&lt;00:00, 886680.97it/s]"
          }
        },
        "2178a0c2a22f43259e4afde98a2d22ad": {
          "model_module": "@jupyter-widgets/base",
          "model_name": "LayoutModel",
          "model_module_version": "1.2.0",
          "state": {
            "_model_module": "@jupyter-widgets/base",
            "_model_module_version": "1.2.0",
            "_model_name": "LayoutModel",
            "_view_count": null,
            "_view_module": "@jupyter-widgets/base",
            "_view_module_version": "1.2.0",
            "_view_name": "LayoutView",
            "align_content": null,
            "align_items": null,
            "align_self": null,
            "border": null,
            "bottom": null,
            "display": null,
            "flex": null,
            "flex_flow": null,
            "grid_area": null,
            "grid_auto_columns": null,
            "grid_auto_flow": null,
            "grid_auto_rows": null,
            "grid_column": null,
            "grid_gap": null,
            "grid_row": null,
            "grid_template_areas": null,
            "grid_template_columns": null,
            "grid_template_rows": null,
            "height": null,
            "justify_content": null,
            "justify_items": null,
            "left": null,
            "margin": null,
            "max_height": null,
            "max_width": null,
            "min_height": null,
            "min_width": null,
            "object_fit": null,
            "object_position": null,
            "order": null,
            "overflow": null,
            "overflow_x": null,
            "overflow_y": null,
            "padding": null,
            "right": null,
            "top": null,
            "visibility": null,
            "width": null
          }
        },
        "077662a5247e47beb1c96960a2b42efd": {
          "model_module": "@jupyter-widgets/base",
          "model_name": "LayoutModel",
          "model_module_version": "1.2.0",
          "state": {
            "_model_module": "@jupyter-widgets/base",
            "_model_module_version": "1.2.0",
            "_model_name": "LayoutModel",
            "_view_count": null,
            "_view_module": "@jupyter-widgets/base",
            "_view_module_version": "1.2.0",
            "_view_name": "LayoutView",
            "align_content": null,
            "align_items": null,
            "align_self": null,
            "border": null,
            "bottom": null,
            "display": null,
            "flex": null,
            "flex_flow": null,
            "grid_area": null,
            "grid_auto_columns": null,
            "grid_auto_flow": null,
            "grid_auto_rows": null,
            "grid_column": null,
            "grid_gap": null,
            "grid_row": null,
            "grid_template_areas": null,
            "grid_template_columns": null,
            "grid_template_rows": null,
            "height": null,
            "justify_content": null,
            "justify_items": null,
            "left": null,
            "margin": null,
            "max_height": null,
            "max_width": null,
            "min_height": null,
            "min_width": null,
            "object_fit": null,
            "object_position": null,
            "order": null,
            "overflow": null,
            "overflow_x": null,
            "overflow_y": null,
            "padding": null,
            "right": null,
            "top": null,
            "visibility": null,
            "width": null
          }
        },
        "545cd82005f74749a2ee865dec380ecf": {
          "model_module": "@jupyter-widgets/controls",
          "model_name": "DescriptionStyleModel",
          "model_module_version": "1.5.0",
          "state": {
            "_model_module": "@jupyter-widgets/controls",
            "_model_module_version": "1.5.0",
            "_model_name": "DescriptionStyleModel",
            "_view_count": null,
            "_view_module": "@jupyter-widgets/base",
            "_view_module_version": "1.2.0",
            "_view_name": "StyleView",
            "description_width": ""
          }
        },
        "67f149d739d5473d8a008c6018786f7a": {
          "model_module": "@jupyter-widgets/base",
          "model_name": "LayoutModel",
          "model_module_version": "1.2.0",
          "state": {
            "_model_module": "@jupyter-widgets/base",
            "_model_module_version": "1.2.0",
            "_model_name": "LayoutModel",
            "_view_count": null,
            "_view_module": "@jupyter-widgets/base",
            "_view_module_version": "1.2.0",
            "_view_name": "LayoutView",
            "align_content": null,
            "align_items": null,
            "align_self": null,
            "border": null,
            "bottom": null,
            "display": null,
            "flex": null,
            "flex_flow": null,
            "grid_area": null,
            "grid_auto_columns": null,
            "grid_auto_flow": null,
            "grid_auto_rows": null,
            "grid_column": null,
            "grid_gap": null,
            "grid_row": null,
            "grid_template_areas": null,
            "grid_template_columns": null,
            "grid_template_rows": null,
            "height": null,
            "justify_content": null,
            "justify_items": null,
            "left": null,
            "margin": null,
            "max_height": null,
            "max_width": null,
            "min_height": null,
            "min_width": null,
            "object_fit": null,
            "object_position": null,
            "order": null,
            "overflow": null,
            "overflow_x": null,
            "overflow_y": null,
            "padding": null,
            "right": null,
            "top": null,
            "visibility": null,
            "width": null
          }
        },
        "9ddb96351c474d3abe4dc5d5382bc7df": {
          "model_module": "@jupyter-widgets/controls",
          "model_name": "ProgressStyleModel",
          "model_module_version": "1.5.0",
          "state": {
            "_model_module": "@jupyter-widgets/controls",
            "_model_module_version": "1.5.0",
            "_model_name": "ProgressStyleModel",
            "_view_count": null,
            "_view_module": "@jupyter-widgets/base",
            "_view_module_version": "1.2.0",
            "_view_name": "StyleView",
            "bar_color": null,
            "description_width": ""
          }
        },
        "92a12c1b1b3a4a5f8d00dc8d7e6cbde6": {
          "model_module": "@jupyter-widgets/base",
          "model_name": "LayoutModel",
          "model_module_version": "1.2.0",
          "state": {
            "_model_module": "@jupyter-widgets/base",
            "_model_module_version": "1.2.0",
            "_model_name": "LayoutModel",
            "_view_count": null,
            "_view_module": "@jupyter-widgets/base",
            "_view_module_version": "1.2.0",
            "_view_name": "LayoutView",
            "align_content": null,
            "align_items": null,
            "align_self": null,
            "border": null,
            "bottom": null,
            "display": null,
            "flex": null,
            "flex_flow": null,
            "grid_area": null,
            "grid_auto_columns": null,
            "grid_auto_flow": null,
            "grid_auto_rows": null,
            "grid_column": null,
            "grid_gap": null,
            "grid_row": null,
            "grid_template_areas": null,
            "grid_template_columns": null,
            "grid_template_rows": null,
            "height": null,
            "justify_content": null,
            "justify_items": null,
            "left": null,
            "margin": null,
            "max_height": null,
            "max_width": null,
            "min_height": null,
            "min_width": null,
            "object_fit": null,
            "object_position": null,
            "order": null,
            "overflow": null,
            "overflow_x": null,
            "overflow_y": null,
            "padding": null,
            "right": null,
            "top": null,
            "visibility": null,
            "width": null
          }
        },
        "524e88db00244c36be7cff5b12a33b0b": {
          "model_module": "@jupyter-widgets/controls",
          "model_name": "DescriptionStyleModel",
          "model_module_version": "1.5.0",
          "state": {
            "_model_module": "@jupyter-widgets/controls",
            "_model_module_version": "1.5.0",
            "_model_name": "DescriptionStyleModel",
            "_view_count": null,
            "_view_module": "@jupyter-widgets/base",
            "_view_module_version": "1.2.0",
            "_view_name": "StyleView",
            "description_width": ""
          }
        },
        "58bae558b5ce45c6bdd4cd3117e876ea": {
          "model_module": "@jupyter-widgets/controls",
          "model_name": "HBoxModel",
          "model_module_version": "1.5.0",
          "state": {
            "_dom_classes": [],
            "_model_module": "@jupyter-widgets/controls",
            "_model_module_version": "1.5.0",
            "_model_name": "HBoxModel",
            "_view_count": null,
            "_view_module": "@jupyter-widgets/controls",
            "_view_module_version": "1.5.0",
            "_view_name": "HBoxView",
            "box_style": "",
            "children": [
              "IPY_MODEL_321fd5ee9f6043bbadd6c5063eb9bf28",
              "IPY_MODEL_5541b7cb66824ea68fd8dd8194babf99",
              "IPY_MODEL_3d3c0f4fd3bd4d158ccf4150a967be9e"
            ],
            "layout": "IPY_MODEL_dea74d31873340b7840ca26bf5c82e7a"
          }
        },
        "321fd5ee9f6043bbadd6c5063eb9bf28": {
          "model_module": "@jupyter-widgets/controls",
          "model_name": "HTMLModel",
          "model_module_version": "1.5.0",
          "state": {
            "_dom_classes": [],
            "_model_module": "@jupyter-widgets/controls",
            "_model_module_version": "1.5.0",
            "_model_name": "HTMLModel",
            "_view_count": null,
            "_view_module": "@jupyter-widgets/controls",
            "_view_module_version": "1.5.0",
            "_view_name": "HTMLView",
            "description": "",
            "description_tooltip": null,
            "layout": "IPY_MODEL_9a013058c29646d2bb1907edabaad290",
            "placeholder": "​",
            "style": "IPY_MODEL_b5e2dbe4405e4ef4945ddacdff164645",
            "value": "100%"
          }
        },
        "5541b7cb66824ea68fd8dd8194babf99": {
          "model_module": "@jupyter-widgets/controls",
          "model_name": "FloatProgressModel",
          "model_module_version": "1.5.0",
          "state": {
            "_dom_classes": [],
            "_model_module": "@jupyter-widgets/controls",
            "_model_module_version": "1.5.0",
            "_model_name": "FloatProgressModel",
            "_view_count": null,
            "_view_module": "@jupyter-widgets/controls",
            "_view_module_version": "1.5.0",
            "_view_name": "ProgressView",
            "bar_style": "success",
            "description": "",
            "description_tooltip": null,
            "layout": "IPY_MODEL_d28078f625d54d98958772e8247f03a4",
            "max": 1648877,
            "min": 0,
            "orientation": "horizontal",
            "style": "IPY_MODEL_96552e358d034ee19c57c6d24848057c",
            "value": 1648877
          }
        },
        "3d3c0f4fd3bd4d158ccf4150a967be9e": {
          "model_module": "@jupyter-widgets/controls",
          "model_name": "HTMLModel",
          "model_module_version": "1.5.0",
          "state": {
            "_dom_classes": [],
            "_model_module": "@jupyter-widgets/controls",
            "_model_module_version": "1.5.0",
            "_model_name": "HTMLModel",
            "_view_count": null,
            "_view_module": "@jupyter-widgets/controls",
            "_view_module_version": "1.5.0",
            "_view_name": "HTMLView",
            "description": "",
            "description_tooltip": null,
            "layout": "IPY_MODEL_c8ec0502c7904b0cb18bc18235c69444",
            "placeholder": "​",
            "style": "IPY_MODEL_b12a0df7efb14bdb8baa99f5260115d2",
            "value": " 1648877/1648877 [00:00&lt;00:00, 37835380.67it/s]"
          }
        },
        "dea74d31873340b7840ca26bf5c82e7a": {
          "model_module": "@jupyter-widgets/base",
          "model_name": "LayoutModel",
          "model_module_version": "1.2.0",
          "state": {
            "_model_module": "@jupyter-widgets/base",
            "_model_module_version": "1.2.0",
            "_model_name": "LayoutModel",
            "_view_count": null,
            "_view_module": "@jupyter-widgets/base",
            "_view_module_version": "1.2.0",
            "_view_name": "LayoutView",
            "align_content": null,
            "align_items": null,
            "align_self": null,
            "border": null,
            "bottom": null,
            "display": null,
            "flex": null,
            "flex_flow": null,
            "grid_area": null,
            "grid_auto_columns": null,
            "grid_auto_flow": null,
            "grid_auto_rows": null,
            "grid_column": null,
            "grid_gap": null,
            "grid_row": null,
            "grid_template_areas": null,
            "grid_template_columns": null,
            "grid_template_rows": null,
            "height": null,
            "justify_content": null,
            "justify_items": null,
            "left": null,
            "margin": null,
            "max_height": null,
            "max_width": null,
            "min_height": null,
            "min_width": null,
            "object_fit": null,
            "object_position": null,
            "order": null,
            "overflow": null,
            "overflow_x": null,
            "overflow_y": null,
            "padding": null,
            "right": null,
            "top": null,
            "visibility": null,
            "width": null
          }
        },
        "9a013058c29646d2bb1907edabaad290": {
          "model_module": "@jupyter-widgets/base",
          "model_name": "LayoutModel",
          "model_module_version": "1.2.0",
          "state": {
            "_model_module": "@jupyter-widgets/base",
            "_model_module_version": "1.2.0",
            "_model_name": "LayoutModel",
            "_view_count": null,
            "_view_module": "@jupyter-widgets/base",
            "_view_module_version": "1.2.0",
            "_view_name": "LayoutView",
            "align_content": null,
            "align_items": null,
            "align_self": null,
            "border": null,
            "bottom": null,
            "display": null,
            "flex": null,
            "flex_flow": null,
            "grid_area": null,
            "grid_auto_columns": null,
            "grid_auto_flow": null,
            "grid_auto_rows": null,
            "grid_column": null,
            "grid_gap": null,
            "grid_row": null,
            "grid_template_areas": null,
            "grid_template_columns": null,
            "grid_template_rows": null,
            "height": null,
            "justify_content": null,
            "justify_items": null,
            "left": null,
            "margin": null,
            "max_height": null,
            "max_width": null,
            "min_height": null,
            "min_width": null,
            "object_fit": null,
            "object_position": null,
            "order": null,
            "overflow": null,
            "overflow_x": null,
            "overflow_y": null,
            "padding": null,
            "right": null,
            "top": null,
            "visibility": null,
            "width": null
          }
        },
        "b5e2dbe4405e4ef4945ddacdff164645": {
          "model_module": "@jupyter-widgets/controls",
          "model_name": "DescriptionStyleModel",
          "model_module_version": "1.5.0",
          "state": {
            "_model_module": "@jupyter-widgets/controls",
            "_model_module_version": "1.5.0",
            "_model_name": "DescriptionStyleModel",
            "_view_count": null,
            "_view_module": "@jupyter-widgets/base",
            "_view_module_version": "1.2.0",
            "_view_name": "StyleView",
            "description_width": ""
          }
        },
        "d28078f625d54d98958772e8247f03a4": {
          "model_module": "@jupyter-widgets/base",
          "model_name": "LayoutModel",
          "model_module_version": "1.2.0",
          "state": {
            "_model_module": "@jupyter-widgets/base",
            "_model_module_version": "1.2.0",
            "_model_name": "LayoutModel",
            "_view_count": null,
            "_view_module": "@jupyter-widgets/base",
            "_view_module_version": "1.2.0",
            "_view_name": "LayoutView",
            "align_content": null,
            "align_items": null,
            "align_self": null,
            "border": null,
            "bottom": null,
            "display": null,
            "flex": null,
            "flex_flow": null,
            "grid_area": null,
            "grid_auto_columns": null,
            "grid_auto_flow": null,
            "grid_auto_rows": null,
            "grid_column": null,
            "grid_gap": null,
            "grid_row": null,
            "grid_template_areas": null,
            "grid_template_columns": null,
            "grid_template_rows": null,
            "height": null,
            "justify_content": null,
            "justify_items": null,
            "left": null,
            "margin": null,
            "max_height": null,
            "max_width": null,
            "min_height": null,
            "min_width": null,
            "object_fit": null,
            "object_position": null,
            "order": null,
            "overflow": null,
            "overflow_x": null,
            "overflow_y": null,
            "padding": null,
            "right": null,
            "top": null,
            "visibility": null,
            "width": null
          }
        },
        "96552e358d034ee19c57c6d24848057c": {
          "model_module": "@jupyter-widgets/controls",
          "model_name": "ProgressStyleModel",
          "model_module_version": "1.5.0",
          "state": {
            "_model_module": "@jupyter-widgets/controls",
            "_model_module_version": "1.5.0",
            "_model_name": "ProgressStyleModel",
            "_view_count": null,
            "_view_module": "@jupyter-widgets/base",
            "_view_module_version": "1.2.0",
            "_view_name": "StyleView",
            "bar_color": null,
            "description_width": ""
          }
        },
        "c8ec0502c7904b0cb18bc18235c69444": {
          "model_module": "@jupyter-widgets/base",
          "model_name": "LayoutModel",
          "model_module_version": "1.2.0",
          "state": {
            "_model_module": "@jupyter-widgets/base",
            "_model_module_version": "1.2.0",
            "_model_name": "LayoutModel",
            "_view_count": null,
            "_view_module": "@jupyter-widgets/base",
            "_view_module_version": "1.2.0",
            "_view_name": "LayoutView",
            "align_content": null,
            "align_items": null,
            "align_self": null,
            "border": null,
            "bottom": null,
            "display": null,
            "flex": null,
            "flex_flow": null,
            "grid_area": null,
            "grid_auto_columns": null,
            "grid_auto_flow": null,
            "grid_auto_rows": null,
            "grid_column": null,
            "grid_gap": null,
            "grid_row": null,
            "grid_template_areas": null,
            "grid_template_columns": null,
            "grid_template_rows": null,
            "height": null,
            "justify_content": null,
            "justify_items": null,
            "left": null,
            "margin": null,
            "max_height": null,
            "max_width": null,
            "min_height": null,
            "min_width": null,
            "object_fit": null,
            "object_position": null,
            "order": null,
            "overflow": null,
            "overflow_x": null,
            "overflow_y": null,
            "padding": null,
            "right": null,
            "top": null,
            "visibility": null,
            "width": null
          }
        },
        "b12a0df7efb14bdb8baa99f5260115d2": {
          "model_module": "@jupyter-widgets/controls",
          "model_name": "DescriptionStyleModel",
          "model_module_version": "1.5.0",
          "state": {
            "_model_module": "@jupyter-widgets/controls",
            "_model_module_version": "1.5.0",
            "_model_name": "DescriptionStyleModel",
            "_view_count": null,
            "_view_module": "@jupyter-widgets/base",
            "_view_module_version": "1.2.0",
            "_view_name": "StyleView",
            "description_width": ""
          }
        },
        "0088e172ec434bbc8fd2c15b876f9f11": {
          "model_module": "@jupyter-widgets/controls",
          "model_name": "HBoxModel",
          "model_module_version": "1.5.0",
          "state": {
            "_dom_classes": [],
            "_model_module": "@jupyter-widgets/controls",
            "_model_module_version": "1.5.0",
            "_model_name": "HBoxModel",
            "_view_count": null,
            "_view_module": "@jupyter-widgets/controls",
            "_view_module_version": "1.5.0",
            "_view_name": "HBoxView",
            "box_style": "",
            "children": [
              "IPY_MODEL_47bb9619942749b490e5901151dc6ea5",
              "IPY_MODEL_856053a72cff4c88a14856d69b5acfe2",
              "IPY_MODEL_13cfcd1ea1f44a9383b39dbb2598445a"
            ],
            "layout": "IPY_MODEL_5cd4581b60a248cf95f7dcce86ab5592"
          }
        },
        "47bb9619942749b490e5901151dc6ea5": {
          "model_module": "@jupyter-widgets/controls",
          "model_name": "HTMLModel",
          "model_module_version": "1.5.0",
          "state": {
            "_dom_classes": [],
            "_model_module": "@jupyter-widgets/controls",
            "_model_module_version": "1.5.0",
            "_model_name": "HTMLModel",
            "_view_count": null,
            "_view_module": "@jupyter-widgets/controls",
            "_view_module_version": "1.5.0",
            "_view_name": "HTMLView",
            "description": "",
            "description_tooltip": null,
            "layout": "IPY_MODEL_6cdb709e2ae346ba9e94b7186953a7af",
            "placeholder": "​",
            "style": "IPY_MODEL_747bd20e53934bfebd128825504a2185",
            "value": "100%"
          }
        },
        "856053a72cff4c88a14856d69b5acfe2": {
          "model_module": "@jupyter-widgets/controls",
          "model_name": "FloatProgressModel",
          "model_module_version": "1.5.0",
          "state": {
            "_dom_classes": [],
            "_model_module": "@jupyter-widgets/controls",
            "_model_module_version": "1.5.0",
            "_model_name": "FloatProgressModel",
            "_view_count": null,
            "_view_module": "@jupyter-widgets/controls",
            "_view_module_version": "1.5.0",
            "_view_name": "ProgressView",
            "bar_style": "success",
            "description": "",
            "description_tooltip": null,
            "layout": "IPY_MODEL_d0c5def440f34d32a807e743f6b05ec8",
            "max": 4542,
            "min": 0,
            "orientation": "horizontal",
            "style": "IPY_MODEL_108db8f380b544b1aef069ad8f299f7f",
            "value": 4542
          }
        },
        "13cfcd1ea1f44a9383b39dbb2598445a": {
          "model_module": "@jupyter-widgets/controls",
          "model_name": "HTMLModel",
          "model_module_version": "1.5.0",
          "state": {
            "_dom_classes": [],
            "_model_module": "@jupyter-widgets/controls",
            "_model_module_version": "1.5.0",
            "_model_name": "HTMLModel",
            "_view_count": null,
            "_view_module": "@jupyter-widgets/controls",
            "_view_module_version": "1.5.0",
            "_view_name": "HTMLView",
            "description": "",
            "description_tooltip": null,
            "layout": "IPY_MODEL_55ac2f4abc064e8d9860ab47485dd782",
            "placeholder": "​",
            "style": "IPY_MODEL_bfbffcda2f2a4156a3f8684ec5be657f",
            "value": " 4542/4542 [00:00&lt;00:00, 148647.61it/s]"
          }
        },
        "5cd4581b60a248cf95f7dcce86ab5592": {
          "model_module": "@jupyter-widgets/base",
          "model_name": "LayoutModel",
          "model_module_version": "1.2.0",
          "state": {
            "_model_module": "@jupyter-widgets/base",
            "_model_module_version": "1.2.0",
            "_model_name": "LayoutModel",
            "_view_count": null,
            "_view_module": "@jupyter-widgets/base",
            "_view_module_version": "1.2.0",
            "_view_name": "LayoutView",
            "align_content": null,
            "align_items": null,
            "align_self": null,
            "border": null,
            "bottom": null,
            "display": null,
            "flex": null,
            "flex_flow": null,
            "grid_area": null,
            "grid_auto_columns": null,
            "grid_auto_flow": null,
            "grid_auto_rows": null,
            "grid_column": null,
            "grid_gap": null,
            "grid_row": null,
            "grid_template_areas": null,
            "grid_template_columns": null,
            "grid_template_rows": null,
            "height": null,
            "justify_content": null,
            "justify_items": null,
            "left": null,
            "margin": null,
            "max_height": null,
            "max_width": null,
            "min_height": null,
            "min_width": null,
            "object_fit": null,
            "object_position": null,
            "order": null,
            "overflow": null,
            "overflow_x": null,
            "overflow_y": null,
            "padding": null,
            "right": null,
            "top": null,
            "visibility": null,
            "width": null
          }
        },
        "6cdb709e2ae346ba9e94b7186953a7af": {
          "model_module": "@jupyter-widgets/base",
          "model_name": "LayoutModel",
          "model_module_version": "1.2.0",
          "state": {
            "_model_module": "@jupyter-widgets/base",
            "_model_module_version": "1.2.0",
            "_model_name": "LayoutModel",
            "_view_count": null,
            "_view_module": "@jupyter-widgets/base",
            "_view_module_version": "1.2.0",
            "_view_name": "LayoutView",
            "align_content": null,
            "align_items": null,
            "align_self": null,
            "border": null,
            "bottom": null,
            "display": null,
            "flex": null,
            "flex_flow": null,
            "grid_area": null,
            "grid_auto_columns": null,
            "grid_auto_flow": null,
            "grid_auto_rows": null,
            "grid_column": null,
            "grid_gap": null,
            "grid_row": null,
            "grid_template_areas": null,
            "grid_template_columns": null,
            "grid_template_rows": null,
            "height": null,
            "justify_content": null,
            "justify_items": null,
            "left": null,
            "margin": null,
            "max_height": null,
            "max_width": null,
            "min_height": null,
            "min_width": null,
            "object_fit": null,
            "object_position": null,
            "order": null,
            "overflow": null,
            "overflow_x": null,
            "overflow_y": null,
            "padding": null,
            "right": null,
            "top": null,
            "visibility": null,
            "width": null
          }
        },
        "747bd20e53934bfebd128825504a2185": {
          "model_module": "@jupyter-widgets/controls",
          "model_name": "DescriptionStyleModel",
          "model_module_version": "1.5.0",
          "state": {
            "_model_module": "@jupyter-widgets/controls",
            "_model_module_version": "1.5.0",
            "_model_name": "DescriptionStyleModel",
            "_view_count": null,
            "_view_module": "@jupyter-widgets/base",
            "_view_module_version": "1.2.0",
            "_view_name": "StyleView",
            "description_width": ""
          }
        },
        "d0c5def440f34d32a807e743f6b05ec8": {
          "model_module": "@jupyter-widgets/base",
          "model_name": "LayoutModel",
          "model_module_version": "1.2.0",
          "state": {
            "_model_module": "@jupyter-widgets/base",
            "_model_module_version": "1.2.0",
            "_model_name": "LayoutModel",
            "_view_count": null,
            "_view_module": "@jupyter-widgets/base",
            "_view_module_version": "1.2.0",
            "_view_name": "LayoutView",
            "align_content": null,
            "align_items": null,
            "align_self": null,
            "border": null,
            "bottom": null,
            "display": null,
            "flex": null,
            "flex_flow": null,
            "grid_area": null,
            "grid_auto_columns": null,
            "grid_auto_flow": null,
            "grid_auto_rows": null,
            "grid_column": null,
            "grid_gap": null,
            "grid_row": null,
            "grid_template_areas": null,
            "grid_template_columns": null,
            "grid_template_rows": null,
            "height": null,
            "justify_content": null,
            "justify_items": null,
            "left": null,
            "margin": null,
            "max_height": null,
            "max_width": null,
            "min_height": null,
            "min_width": null,
            "object_fit": null,
            "object_position": null,
            "order": null,
            "overflow": null,
            "overflow_x": null,
            "overflow_y": null,
            "padding": null,
            "right": null,
            "top": null,
            "visibility": null,
            "width": null
          }
        },
        "108db8f380b544b1aef069ad8f299f7f": {
          "model_module": "@jupyter-widgets/controls",
          "model_name": "ProgressStyleModel",
          "model_module_version": "1.5.0",
          "state": {
            "_model_module": "@jupyter-widgets/controls",
            "_model_module_version": "1.5.0",
            "_model_name": "ProgressStyleModel",
            "_view_count": null,
            "_view_module": "@jupyter-widgets/base",
            "_view_module_version": "1.2.0",
            "_view_name": "StyleView",
            "bar_color": null,
            "description_width": ""
          }
        },
        "55ac2f4abc064e8d9860ab47485dd782": {
          "model_module": "@jupyter-widgets/base",
          "model_name": "LayoutModel",
          "model_module_version": "1.2.0",
          "state": {
            "_model_module": "@jupyter-widgets/base",
            "_model_module_version": "1.2.0",
            "_model_name": "LayoutModel",
            "_view_count": null,
            "_view_module": "@jupyter-widgets/base",
            "_view_module_version": "1.2.0",
            "_view_name": "LayoutView",
            "align_content": null,
            "align_items": null,
            "align_self": null,
            "border": null,
            "bottom": null,
            "display": null,
            "flex": null,
            "flex_flow": null,
            "grid_area": null,
            "grid_auto_columns": null,
            "grid_auto_flow": null,
            "grid_auto_rows": null,
            "grid_column": null,
            "grid_gap": null,
            "grid_row": null,
            "grid_template_areas": null,
            "grid_template_columns": null,
            "grid_template_rows": null,
            "height": null,
            "justify_content": null,
            "justify_items": null,
            "left": null,
            "margin": null,
            "max_height": null,
            "max_width": null,
            "min_height": null,
            "min_width": null,
            "object_fit": null,
            "object_position": null,
            "order": null,
            "overflow": null,
            "overflow_x": null,
            "overflow_y": null,
            "padding": null,
            "right": null,
            "top": null,
            "visibility": null,
            "width": null
          }
        },
        "bfbffcda2f2a4156a3f8684ec5be657f": {
          "model_module": "@jupyter-widgets/controls",
          "model_name": "DescriptionStyleModel",
          "model_module_version": "1.5.0",
          "state": {
            "_model_module": "@jupyter-widgets/controls",
            "_model_module_version": "1.5.0",
            "_model_name": "DescriptionStyleModel",
            "_view_count": null,
            "_view_module": "@jupyter-widgets/base",
            "_view_module_version": "1.2.0",
            "_view_name": "StyleView",
            "description_width": ""
          }
        },
        "dd9ee4d98fd7414cb23cf8ad53036f90": {
          "model_module": "@jupyter-widgets/controls",
          "model_name": "HBoxModel",
          "model_module_version": "1.5.0",
          "state": {
            "_dom_classes": [],
            "_model_module": "@jupyter-widgets/controls",
            "_model_module_version": "1.5.0",
            "_model_name": "HBoxModel",
            "_view_count": null,
            "_view_module": "@jupyter-widgets/controls",
            "_view_module_version": "1.5.0",
            "_view_name": "HBoxView",
            "box_style": "",
            "children": [
              "IPY_MODEL_1f597f7dba8c478bbef0f7fdbfb13e04",
              "IPY_MODEL_6f6b591af73544ac892e024be9729605",
              "IPY_MODEL_7ff0124b839841ddace2e50fe4615227"
            ],
            "layout": "IPY_MODEL_9bd4547344194fe2979ed4cff6c8ff4a"
          }
        },
        "1f597f7dba8c478bbef0f7fdbfb13e04": {
          "model_module": "@jupyter-widgets/controls",
          "model_name": "HTMLModel",
          "model_module_version": "1.5.0",
          "state": {
            "_dom_classes": [],
            "_model_module": "@jupyter-widgets/controls",
            "_model_module_version": "1.5.0",
            "_model_name": "HTMLModel",
            "_view_count": null,
            "_view_module": "@jupyter-widgets/controls",
            "_view_module_version": "1.5.0",
            "_view_name": "HTMLView",
            "description": "",
            "description_tooltip": null,
            "layout": "IPY_MODEL_7bed2bc1793d4907aee437892e56cf41",
            "placeholder": "​",
            "style": "IPY_MODEL_2b383fd977a64b4397344c601b1e3243",
            "value": "100%"
          }
        },
        "6f6b591af73544ac892e024be9729605": {
          "model_module": "@jupyter-widgets/controls",
          "model_name": "FloatProgressModel",
          "model_module_version": "1.5.0",
          "state": {
            "_dom_classes": [],
            "_model_module": "@jupyter-widgets/controls",
            "_model_module_version": "1.5.0",
            "_model_name": "FloatProgressModel",
            "_view_count": null,
            "_view_module": "@jupyter-widgets/controls",
            "_view_module_version": "1.5.0",
            "_view_name": "ProgressView",
            "bar_style": "success",
            "description": "",
            "description_tooltip": null,
            "layout": "IPY_MODEL_8e183206764048dcb858c3777cbe5cca",
            "max": 450,
            "min": 0,
            "orientation": "horizontal",
            "style": "IPY_MODEL_9a379356e1bc42818fc5773353e05e88",
            "value": 450
          }
        },
        "7ff0124b839841ddace2e50fe4615227": {
          "model_module": "@jupyter-widgets/controls",
          "model_name": "HTMLModel",
          "model_module_version": "1.5.0",
          "state": {
            "_dom_classes": [],
            "_model_module": "@jupyter-widgets/controls",
            "_model_module_version": "1.5.0",
            "_model_name": "HTMLModel",
            "_view_count": null,
            "_view_module": "@jupyter-widgets/controls",
            "_view_module_version": "1.5.0",
            "_view_name": "HTMLView",
            "description": "",
            "description_tooltip": null,
            "layout": "IPY_MODEL_66a613e16bad4dc2a6a24b317abaaede",
            "placeholder": "​",
            "style": "IPY_MODEL_bb4ebd1c56ef4888bda4d8f48898f87f",
            "value": " 450/450 [17:53&lt;00:00,  2.32s/it]"
          }
        },
        "9bd4547344194fe2979ed4cff6c8ff4a": {
          "model_module": "@jupyter-widgets/base",
          "model_name": "LayoutModel",
          "model_module_version": "1.2.0",
          "state": {
            "_model_module": "@jupyter-widgets/base",
            "_model_module_version": "1.2.0",
            "_model_name": "LayoutModel",
            "_view_count": null,
            "_view_module": "@jupyter-widgets/base",
            "_view_module_version": "1.2.0",
            "_view_name": "LayoutView",
            "align_content": null,
            "align_items": null,
            "align_self": null,
            "border": null,
            "bottom": null,
            "display": null,
            "flex": null,
            "flex_flow": null,
            "grid_area": null,
            "grid_auto_columns": null,
            "grid_auto_flow": null,
            "grid_auto_rows": null,
            "grid_column": null,
            "grid_gap": null,
            "grid_row": null,
            "grid_template_areas": null,
            "grid_template_columns": null,
            "grid_template_rows": null,
            "height": null,
            "justify_content": null,
            "justify_items": null,
            "left": null,
            "margin": null,
            "max_height": null,
            "max_width": null,
            "min_height": null,
            "min_width": null,
            "object_fit": null,
            "object_position": null,
            "order": null,
            "overflow": null,
            "overflow_x": null,
            "overflow_y": null,
            "padding": null,
            "right": null,
            "top": null,
            "visibility": null,
            "width": null
          }
        },
        "7bed2bc1793d4907aee437892e56cf41": {
          "model_module": "@jupyter-widgets/base",
          "model_name": "LayoutModel",
          "model_module_version": "1.2.0",
          "state": {
            "_model_module": "@jupyter-widgets/base",
            "_model_module_version": "1.2.0",
            "_model_name": "LayoutModel",
            "_view_count": null,
            "_view_module": "@jupyter-widgets/base",
            "_view_module_version": "1.2.0",
            "_view_name": "LayoutView",
            "align_content": null,
            "align_items": null,
            "align_self": null,
            "border": null,
            "bottom": null,
            "display": null,
            "flex": null,
            "flex_flow": null,
            "grid_area": null,
            "grid_auto_columns": null,
            "grid_auto_flow": null,
            "grid_auto_rows": null,
            "grid_column": null,
            "grid_gap": null,
            "grid_row": null,
            "grid_template_areas": null,
            "grid_template_columns": null,
            "grid_template_rows": null,
            "height": null,
            "justify_content": null,
            "justify_items": null,
            "left": null,
            "margin": null,
            "max_height": null,
            "max_width": null,
            "min_height": null,
            "min_width": null,
            "object_fit": null,
            "object_position": null,
            "order": null,
            "overflow": null,
            "overflow_x": null,
            "overflow_y": null,
            "padding": null,
            "right": null,
            "top": null,
            "visibility": null,
            "width": null
          }
        },
        "2b383fd977a64b4397344c601b1e3243": {
          "model_module": "@jupyter-widgets/controls",
          "model_name": "DescriptionStyleModel",
          "model_module_version": "1.5.0",
          "state": {
            "_model_module": "@jupyter-widgets/controls",
            "_model_module_version": "1.5.0",
            "_model_name": "DescriptionStyleModel",
            "_view_count": null,
            "_view_module": "@jupyter-widgets/base",
            "_view_module_version": "1.2.0",
            "_view_name": "StyleView",
            "description_width": ""
          }
        },
        "8e183206764048dcb858c3777cbe5cca": {
          "model_module": "@jupyter-widgets/base",
          "model_name": "LayoutModel",
          "model_module_version": "1.2.0",
          "state": {
            "_model_module": "@jupyter-widgets/base",
            "_model_module_version": "1.2.0",
            "_model_name": "LayoutModel",
            "_view_count": null,
            "_view_module": "@jupyter-widgets/base",
            "_view_module_version": "1.2.0",
            "_view_name": "LayoutView",
            "align_content": null,
            "align_items": null,
            "align_self": null,
            "border": null,
            "bottom": null,
            "display": null,
            "flex": null,
            "flex_flow": null,
            "grid_area": null,
            "grid_auto_columns": null,
            "grid_auto_flow": null,
            "grid_auto_rows": null,
            "grid_column": null,
            "grid_gap": null,
            "grid_row": null,
            "grid_template_areas": null,
            "grid_template_columns": null,
            "grid_template_rows": null,
            "height": null,
            "justify_content": null,
            "justify_items": null,
            "left": null,
            "margin": null,
            "max_height": null,
            "max_width": null,
            "min_height": null,
            "min_width": null,
            "object_fit": null,
            "object_position": null,
            "order": null,
            "overflow": null,
            "overflow_x": null,
            "overflow_y": null,
            "padding": null,
            "right": null,
            "top": null,
            "visibility": null,
            "width": null
          }
        },
        "9a379356e1bc42818fc5773353e05e88": {
          "model_module": "@jupyter-widgets/controls",
          "model_name": "ProgressStyleModel",
          "model_module_version": "1.5.0",
          "state": {
            "_model_module": "@jupyter-widgets/controls",
            "_model_module_version": "1.5.0",
            "_model_name": "ProgressStyleModel",
            "_view_count": null,
            "_view_module": "@jupyter-widgets/base",
            "_view_module_version": "1.2.0",
            "_view_name": "StyleView",
            "bar_color": null,
            "description_width": ""
          }
        },
        "66a613e16bad4dc2a6a24b317abaaede": {
          "model_module": "@jupyter-widgets/base",
          "model_name": "LayoutModel",
          "model_module_version": "1.2.0",
          "state": {
            "_model_module": "@jupyter-widgets/base",
            "_model_module_version": "1.2.0",
            "_model_name": "LayoutModel",
            "_view_count": null,
            "_view_module": "@jupyter-widgets/base",
            "_view_module_version": "1.2.0",
            "_view_name": "LayoutView",
            "align_content": null,
            "align_items": null,
            "align_self": null,
            "border": null,
            "bottom": null,
            "display": null,
            "flex": null,
            "flex_flow": null,
            "grid_area": null,
            "grid_auto_columns": null,
            "grid_auto_flow": null,
            "grid_auto_rows": null,
            "grid_column": null,
            "grid_gap": null,
            "grid_row": null,
            "grid_template_areas": null,
            "grid_template_columns": null,
            "grid_template_rows": null,
            "height": null,
            "justify_content": null,
            "justify_items": null,
            "left": null,
            "margin": null,
            "max_height": null,
            "max_width": null,
            "min_height": null,
            "min_width": null,
            "object_fit": null,
            "object_position": null,
            "order": null,
            "overflow": null,
            "overflow_x": null,
            "overflow_y": null,
            "padding": null,
            "right": null,
            "top": null,
            "visibility": null,
            "width": null
          }
        },
        "bb4ebd1c56ef4888bda4d8f48898f87f": {
          "model_module": "@jupyter-widgets/controls",
          "model_name": "DescriptionStyleModel",
          "model_module_version": "1.5.0",
          "state": {
            "_model_module": "@jupyter-widgets/controls",
            "_model_module_version": "1.5.0",
            "_model_name": "DescriptionStyleModel",
            "_view_count": null,
            "_view_module": "@jupyter-widgets/base",
            "_view_module_version": "1.2.0",
            "_view_name": "StyleView",
            "description_width": ""
          }
        }
      }
    }
  },
  "cells": [
    {
      "cell_type": "markdown",
      "metadata": {
        "id": "eXss--ATrRlk"
      },
      "source": [
        "## Немного об апроксимации\n",
        "Из-за бутылочного горлышка в автокодировщиках, мы теряем часть информации. \n",
        "У нас всегда есть трейд-офф - какую часть информации мы готовы потерять при снижении размерности. Что нам важнее - мало факторов или снижение информации. Чем меньше будет факторов в латентном пространстве - тем более средние величины мы будем восстанавливать.\n",
        "\n",
        "Чем больше размерность кодов, тем больше вариаций в данных автоэнкодер сможет передать. Если размерность кодов слишком мала, автоэнкодер запомнит нечто среднее по недостающим вариациям в заданной метрике (это одна из причин, почему mnist цифры все более размытые при снижении размерности кода в автоэнкодерах).\n",
        "\n"
      ]
    },
    {
      "cell_type": "markdown",
      "metadata": {
        "id": "DFdonAZSyYXj"
      },
      "source": [
        "## Manifold hypothesis\n",
        "\n",
        "Гипотеза о многообразие гласит, что многомерны данные из реального мира (например, изображения) лежат на многообразиях низкой размерности, вложенных в пространство большой размерности.\n",
        "\n",
        "Более подробно на эту тему написано в [статье](https://bjlkeng.github.io/posts/manifolds/).\n",
        "\n",
        "Здесь я приведу небольшую цитату из нее:\\\n",
        "*The main idea here is that even though our real-world data is high-dimensional, there is actually some lower-dimensional representation. For example, all \"cat images\" might lie on a lower-dimensional manifold compared to say their original 256x256x3 image dimensions. This makes sense because we are empirically able to the learn these things in a capacity limited neural network. Otherwise learning an arbitrary 256x256x3 function would be intractable*\n",
        "\n",
        "Семинарский ноутбук составлен на основе другой [статьи](https://habr.com/ru/post/331500/)"
      ]
    },
    {
      "cell_type": "code",
      "metadata": {
        "id": "EJs-sQGtrRlm"
      },
      "source": [
        " # Импорт необходимых библиотек\n",
        "import numpy as np\n",
        "import matplotlib.pyplot as plt\n",
        "%matplotlib inline\n",
        "import seaborn as sns\n",
        "\n",
        "# Создание датасета\n",
        "x1 = np.linspace(-2.2, 2.2, 1000)\n",
        "fx = np.cos(x1)+np.sin(x1-3)\n",
        "dots = np.vstack([x1, fx]).T\n",
        "noise = 0.06 * np.random.randn(*dots.shape)\n",
        "dots += noise\n",
        "\n",
        "# Цветные точки для отдельной визуализации позже\n",
        "from itertools import cycle\n",
        "size = 25\n",
        "colors = [\"r\", \"g\", \"c\", \"y\", \"m\"]\n",
        "idxs = range(0, x1.shape[0], x1.shape[0]//size)\n",
        "vx1 = x1[idxs]\n",
        "vdots = dots[idxs]"
      ],
      "execution_count": 1,
      "outputs": []
    },
    {
      "cell_type": "code",
      "metadata": {
        "colab": {
          "base_uri": "https://localhost:8080/"
        },
        "id": "0na8p1DosYVl",
        "outputId": "b6f0273b-478f-4dbf-d5ab-529a61dbfd22"
      },
      "source": [
        "len(x1), len(fx), np.vstack([x1, fx]).T.shape, noise.shape, len(idxs)"
      ],
      "execution_count": 2,
      "outputs": [
        {
          "output_type": "execute_result",
          "data": {
            "text/plain": [
              "(1000, 1000, (1000, 2), (1000, 2), 25)"
            ]
          },
          "metadata": {},
          "execution_count": 2
        }
      ]
    },
    {
      "cell_type": "code",
      "metadata": {
        "colab": {
          "base_uri": "https://localhost:8080/"
        },
        "id": "HKI5vGcl3FXN",
        "outputId": "2f6f554c-ff67-4255-977a-3071176d667f"
      },
      "source": [
        "dots.shape"
      ],
      "execution_count": 3,
      "outputs": [
        {
          "output_type": "execute_result",
          "data": {
            "text/plain": [
              "(1000, 2)"
            ]
          },
          "metadata": {},
          "execution_count": 3
        }
      ]
    },
    {
      "cell_type": "code",
      "metadata": {
        "colab": {
          "base_uri": "https://localhost:8080/",
          "height": 592
        },
        "id": "fdewCymJrRln",
        "outputId": "072d4197-cd92-401d-e948-e9e4aee4ed12"
      },
      "source": [
        "# Визуализация\n",
        "plt.figure(figsize=(12, 10))\n",
        "plt.xlim([-2.5, 2.5])\n",
        "plt.scatter(dots[:, 0], dots[:, 1])\n",
        "plt.plot(x1, fx,  color=\"red\", linewidth=4)\n",
        "plt.grid(False)"
      ],
      "execution_count": 4,
      "outputs": [
        {
          "output_type": "display_data",
          "data": {
            "text/plain": [
              "<Figure size 864x720 with 1 Axes>"
            ],
            "image/png": "[encoded data removed]"
          },
          "metadata": {
            "needs_background": "light"
          }
        }
      ]
    },
    {
      "cell_type": "markdown",
      "metadata": {
        "id": "F19xTPsKrRlo"
      },
      "source": [
        "Перепишем наш автоэнкодер под новые данные"
      ]
    },
    {
      "cell_type": "code",
      "metadata": {
        "id": "QOR1ttaY41G1"
      },
      "source": [
        "import torch\n",
        "import torch.nn as nn\n",
        "import torch.nn.functional as F\n",
        "import torch.optim as optim\n",
        "from torch.utils.data import TensorDataset, DataLoader\n",
        "\n",
        "from tqdm.auto import tqdm"
      ],
      "execution_count": 5,
      "outputs": []
    },
    {
      "cell_type": "code",
      "metadata": {
        "id": "IktTm7dX3zWA"
      },
      "source": [
        "class PcaAutoencoder(nn.Module):\n",
        "\n",
        "    def __init__(self, inp_shape, code_size=1):\n",
        "        \"\"\"\n",
        "        code_size это размерность кодированного представления (фичей на выходе)\n",
        "        \"\"\"\n",
        "        super().__init__()\n",
        "\n",
        "        self.encoder = nn.Linear(inp_shape, code_size)\n",
        "        self.decoder = nn.Linear(code_size, inp_shape)\n",
        "\n",
        "    def forward(self, x):\n",
        "        init_shape = x.shape\n",
        "        x = torch.flatten(x, 1)\n",
        "        latent_code = self.encoder(x)\n",
        "        \n",
        "        reconstruction = self.decoder(latent_code)\n",
        "        reconstruction = reconstruction.reshape(init_shape)\n",
        "        \n",
        "        return reconstruction, latent_code"
      ],
      "execution_count": 6,
      "outputs": []
    },
    {
      "cell_type": "code",
      "metadata": {
        "colab": {
          "base_uri": "https://localhost:8080/"
        },
        "id": "Ljo3u863I61a",
        "outputId": "11227707-79ac-436b-de9d-30b8a3cdd043"
      },
      "source": [
        "DEVICE = torch.device('cuda' if torch.cuda.is_available() else 'cpu')\n",
        "print(DEVICE)\n",
        "\n",
        "EPOCHS = 40"
      ],
      "execution_count": 7,
      "outputs": [
        {
          "output_type": "stream",
          "name": "stdout",
          "text": [
            "cuda\n"
          ]
        }
      ]
    },
    {
      "cell_type": "code",
      "metadata": {
        "id": "jQsTbUli4rFO"
      },
      "source": [
        "# Train your autoencoder\n",
        "def train(model, train_loader, device=DEVICE, epochs=EPOCHS, path=''):\n",
        "    train_loss = []\n",
        "    train_loss_epoch = []\n",
        "\n",
        "    for epoch in tqdm(range(epochs)):\n",
        "        model.train()\n",
        "        for X in train_loader:\n",
        "            batch = X[0].to(device)  # [0] is needed due to X being a list of one element because no y in (X, y) \n",
        "            reconstruction, _ = model(batch)\n",
        "            loss = criterion(reconstruction, batch)\n",
        "            loss.backward()\n",
        "\n",
        "            optimizer.step()\n",
        "            optimizer.zero_grad()\n",
        "\n",
        "            train_loss.append(loss.detach().cpu().numpy())\n",
        "        \n",
        "        train_loss_epoch.append(np.mean(train_loss))\n",
        "\n",
        "        if epoch % 25 == 0:\n",
        "            print(f\"After {epoch} epochs, training loss: {train_loss_epoch[-1]:.6f}\")\n",
        "\n",
        "    return model, train_loss_epoch"
      ],
      "execution_count": 8,
      "outputs": []
    },
    {
      "cell_type": "code",
      "metadata": {
        "colab": {
          "base_uri": "https://localhost:8080/"
        },
        "id": "PfgGb_I15g8j",
        "outputId": "53b6c2df-ee9d-43b6-efac-90a9d48efdb0"
      },
      "source": [
        "input_shape = dots.shape[1]\n",
        "input_shape"
      ],
      "execution_count": 9,
      "outputs": [
        {
          "output_type": "execute_result",
          "data": {
            "text/plain": [
              "2"
            ]
          },
          "metadata": {},
          "execution_count": 9
        }
      ]
    },
    {
      "cell_type": "code",
      "metadata": {
        "id": "O1mapQiP4mUn"
      },
      "source": [
        "# Create MSE loss function\n",
        "criterion = torch.nn.MSELoss()\n",
        "\n",
        "autoencoder = PcaAutoencoder(input_shape, code_size=1)\n",
        "autoencoder.to(DEVICE)\n",
        "\n",
        "# Use Adam optimizer\n",
        "optimizer = optim.Adam(autoencoder.parameters(), lr=1e-3)"
      ],
      "execution_count": 10,
      "outputs": []
    },
    {
      "cell_type": "code",
      "metadata": {
        "id": "cHW1DWl45yfg"
      },
      "source": [
        "X_train = torch.tensor(dots, dtype=torch.float32)\n",
        "dataset_train = TensorDataset(X_train)\n",
        "\n",
        "BATCH_SIZE = 32\n",
        "\n",
        "train_loader = DataLoader(dataset_train, batch_size=BATCH_SIZE, shuffle=True, num_workers=1)\n",
        "test_loader = DataLoader(dataset_train, batch_size=BATCH_SIZE, shuffle=False, num_workers=1)"
      ],
      "execution_count": 11,
      "outputs": []
    },
    {
      "cell_type": "markdown",
      "metadata": {
        "id": "PwTwMlx7Xq7O"
      },
      "source": [
        "**Важно:** `test_loader` нужен для того, чтобы при инференсе не перемешивать данные"
      ]
    },
    {
      "cell_type": "code",
      "metadata": {
        "colab": {
          "base_uri": "https://localhost:8080/",
          "height": 118,
          "referenced_widgets": [
            "93dba1c707424f5184a8125fccdb48d6",
            "b0626045be9640518f9a7aead8edd65d",
            "65ab90d0997b4cc5933342abfb98e043",
            "40bdf2fea3c249f2906d1940a9fd314e",
            "b0fddad71f9c4c498a0eb21408393ee2",
            "6aa33d302987422a93fbdc78018b3cd7",
            "a17058a920134c01acc713ff6dac486e",
            "f385d9fd203549f48278059e9cfe8fc8",
            "785acf6bae8c4401ab35bba69f1118b0",
            "c43dc0007749433aa8fdce416ff9d08e",
            "19971994509944c690d5093b96201f22"
          ]
        },
        "id": "OMLhIyF1BI_B",
        "outputId": "3b00663c-abe2-40d3-c31c-fc4262bd0e15"
      },
      "source": [
        "model, train_loss = train(autoencoder, \n",
        "                          train_loader, \n",
        "                          device=DEVICE, epochs=100)"
      ],
      "execution_count": 12,
      "outputs": [
        {
          "output_type": "display_data",
          "data": {
            "text/plain": [
              "  0%|          | 0/100 [00:00<?, ?it/s]"
            ],
            "application/vnd.jupyter.widget-view+json": {
              "version_major": 2,
              "version_minor": 0,
              "model_id": "93dba1c707424f5184a8125fccdb48d6"
            }
          },
          "metadata": {}
        },
        {
          "output_type": "stream",
          "name": "stdout",
          "text": [
            "After 0 epochs, training loss: 2.241986\n",
            "After 25 epochs, training loss: 1.087732\n",
            "After 50 epochs, training loss: 0.635159\n",
            "After 75 epochs, training loss: 0.455628\n"
          ]
        }
      ]
    },
    {
      "cell_type": "markdown",
      "metadata": {
        "id": "Y1cuTSJtKT0V"
      },
      "source": [
        "**Важно:** на [StackOverflow](https://stackoverflow.com/questions/55533116/pca-inverse-transform-in-sklearn) приведено хорошее пояснение того, как из двухмерного облака точек получается одномерная линия вследтвие выполнения `pca.inverse_transform(pca.fit_transform(dots))`, т.е. что из себя представляют оранжевая и черная линии ниже"
      ]
    },
    {
      "cell_type": "code",
      "metadata": {
        "colab": {
          "base_uri": "https://localhost:8080/",
          "height": 592
        },
        "id": "1qsJ8lwXBQht",
        "outputId": "08c193b4-ef04-4b2d-876b-18a5efb16fc3"
      },
      "source": [
        "# Применение линейного автоэнкодера\n",
        "res = []\n",
        "with torch.no_grad():\n",
        "    for X in test_loader:\n",
        "        batch = X[0].to(DEVICE)  # [0] is needed due to X being a list\n",
        "        reconstruction, _ = model(batch)\n",
        "        reconstruction = reconstruction.cpu()\n",
        "        res.append(reconstruction)\n",
        "pdots = torch.cat(res)\n",
        "vpdots = pdots[idxs]\n",
        "\n",
        "# Применение PCA\n",
        "from sklearn.decomposition import PCA\n",
        "pca = PCA(1)\n",
        "pdots_pca = pca.inverse_transform(pca.fit_transform(dots))\n",
        "\n",
        "# Визуализация\n",
        "plt.figure(figsize=(12, 10))\n",
        "plt.xlim([-2.5, 2.5])\n",
        "plt.scatter(dots[:, 0], dots[:, 1], zorder=1)\n",
        "plt.plot(x1, fx,  color=\"red\", linewidth=4, zorder=10)\n",
        "plt.plot(pdots[:,0], pdots[:,1], color='black', linewidth=12, zorder=3)  # autoencoder\n",
        "plt.plot(pdots_pca[:,0], pdots_pca[:,1], color='orange', linewidth=4, zorder=4)  # pca\n",
        "plt.scatter(vpdots[:,0], vpdots[:,1], color=colors*5, marker='*', s=150, zorder=5)  # stars\n",
        "plt.scatter(vdots[:,0], vdots[:,1], color=colors*5, s=150, zorder=6)  # colored circles on a blue cloud of dots\n",
        "plt.grid(False)"
      ],
      "execution_count": 13,
      "outputs": [
        {
          "output_type": "display_data",
          "data": {
            "text/plain": [
              "<Figure size 864x720 with 1 Axes>"
            ],
            "image/png": "[encoded data removed]"
          },
          "metadata": {
            "needs_background": "light"
          }
        }
      ]
    },
    {
      "cell_type": "markdown",
      "metadata": {
        "id": "vh6zWSI1rRlr"
      },
      "source": [
        "Мы видим, что достаточно простое многообразие мы нашли. Добавим слоев."
      ]
    },
    {
      "cell_type": "code",
      "metadata": {
        "id": "9u0ERid3MM4B"
      },
      "source": [
        "class DeepAutoencoder(nn.Module):\n",
        "\n",
        "    def __init__(self, inp_shape, code_size=1):\n",
        "        \"\"\"\n",
        "        code_size это размерность кодированного представления (фичей на выходе)\n",
        "        \"\"\"\n",
        "        super().__init__()\n",
        "\n",
        "        self.encoder = nn.Sequential(nn.Linear(inp_shape, 64),\n",
        "                                     nn.ELU(),\n",
        "                                     nn.Linear(64, 64),\n",
        "                                     nn.ELU(),\n",
        "                                     nn.Linear(64, code_size))\n",
        "        self.decoder = nn.Sequential(nn.Linear(code_size, 64),\n",
        "                                     nn.ELU(),\n",
        "                                     nn.Linear(64, 64),\n",
        "                                     nn.ELU(),\n",
        "                                     nn.Linear(64, inp_shape)\n",
        "                                     )\n",
        "\n",
        "    def forward(self, x):\n",
        "        init_shape = x.shape\n",
        "        x = torch.flatten(x, 1)\n",
        "        latent_code = self.encoder(x)\n",
        "        \n",
        "        reconstruction = self.decoder(latent_code)\n",
        "        reconstruction = reconstruction.reshape(init_shape)\n",
        "        \n",
        "        return reconstruction, latent_code"
      ],
      "execution_count": 14,
      "outputs": []
    },
    {
      "cell_type": "code",
      "metadata": {
        "colab": {
          "base_uri": "https://localhost:8080/",
          "height": 118,
          "referenced_widgets": [
            "10e0ed91e9a44f1fb16509acbe49c7c9",
            "04e8a8dfb61c40d685167cb57aa42e5d",
            "d9bb464f6222479590544612b18f8f44",
            "d29ba36d06c74d359bca5181bdb292bf",
            "8ea46805034f4138a770b5cce52ff26b",
            "27b01052b1344511b7b7fa6d3f57030b",
            "8a351d4a6da945098b9132d0d7d51878",
            "09009a6b41d443eaba6738497bb9e3af",
            "b735cf09b1c5427e820133ac47ab85ad",
            "4c652ee580fe44698c7858e71cac93ab",
            "837ce892c0184a1e949a4ecb96debd94"
          ]
        },
        "id": "iBSXT7nZDCjh",
        "outputId": "44bd54ca-d8a6-4465-9863-ea5944ee6358"
      },
      "source": [
        "# Create MSE loss function\n",
        "criterion = torch.nn.MSELoss()\n",
        "\n",
        "deep_autoencoder = DeepAutoencoder(input_shape, code_size=1)\n",
        "deep_autoencoder.to(DEVICE)\n",
        "\n",
        "# Use Adam optimizer\n",
        "optimizer = optim.Adam(deep_autoencoder.parameters(), lr=1e-3)\n",
        "\n",
        "deep_model, train_loss = train(deep_autoencoder, \n",
        "                                train_loader, \n",
        "                                device=DEVICE, epochs=100)"
      ],
      "execution_count": 15,
      "outputs": [
        {
          "output_type": "display_data",
          "data": {
            "text/plain": [
              "  0%|          | 0/100 [00:00<?, ?it/s]"
            ],
            "application/vnd.jupyter.widget-view+json": {
              "version_major": 2,
              "version_minor": 0,
              "model_id": "10e0ed91e9a44f1fb16509acbe49c7c9"
            }
          },
          "metadata": {}
        },
        {
          "output_type": "stream",
          "name": "stdout",
          "text": [
            "After 0 epochs, training loss: 0.350029\n",
            "After 25 epochs, training loss: 0.020511\n",
            "After 50 epochs, training loss: 0.011897\n",
            "After 75 epochs, training loss: 0.008815\n"
          ]
        }
      ]
    },
    {
      "cell_type": "code",
      "metadata": {
        "id": "LprubZ71rRlu",
        "colab": {
          "base_uri": "https://localhost:8080/",
          "height": 592
        },
        "outputId": "6f572557-1894-4d15-876c-d3fa8579e660"
      },
      "source": [
        "res = []\n",
        "with torch.no_grad():\n",
        "    for X in test_loader:\n",
        "        batch = X[0].to(DEVICE)  # [0] is needed due to X being a list\n",
        "        reconstruction, _ = deep_model(batch)\n",
        "        reconstruction = reconstruction.cpu()\n",
        "        res.append(reconstruction)\n",
        "pdots_deep = torch.cat(res)\n",
        "vpdots_deep = pdots_deep[idxs]\n",
        "\n",
        "# Визуализация\n",
        "plt.figure(figsize=(12, 10))\n",
        "plt.xlim([-2.5, 2.5])\n",
        "plt.scatter(dots[:, 0], dots[:, 1], zorder=1)\n",
        "plt.plot(x1, fx,  color=\"red\", linewidth=4, zorder=10)\n",
        "plt.plot(pdots_deep[:,0], pdots_deep[:,1], color='black', linewidth=12, zorder=3)  # autoencoder\n",
        "plt.plot(pdots_pca[:,0], pdots_pca[:,1], color='orange', linewidth=4, zorder=4)  # pca\n",
        "plt.scatter(vpdots_deep[:,0], vpdots_deep[:,1], color=colors*5, marker='*', s=150, zorder=5)  # stars\n",
        "plt.scatter(vdots[:,0], vdots[:,1], color=colors*5, s=150, zorder=6)  # colored circles on a blue cloud of dots\n",
        "plt.grid(False)"
      ],
      "execution_count": 16,
      "outputs": [
        {
          "output_type": "display_data",
          "data": {
            "text/plain": [
              "<Figure size 864x720 with 1 Axes>"
            ],
            "image/png": "[encoded data removed]"
          },
          "metadata": {
            "needs_background": "light"
          }
        }
      ]
    },
    {
      "cell_type": "markdown",
      "metadata": {
        "id": "lGOFNy61Ycf3"
      },
      "source": [
        "У такого автоэнкодера практически идеально получилось построить определяющее многообразие: черная кривая почти совпадает с красной.\n",
        "\n",
        "Глубокий автоэнкодер теоретически сможет найти многообразие произвольной сложности, например, такое, около которого лежат цифры в 784-мерном пространстве.\n"
      ]
    },
    {
      "cell_type": "markdown",
      "metadata": {
        "id": "pZv5yjgxrRlu"
      },
      "source": [
        "Все же у достаточно сложного автоэнкодера есть возможность переобучиться. Продемонстрируем это!\n",
        "Мы берем и показываем одни и теже точки автоэнкодеру множество раз."
      ]
    },
    {
      "cell_type": "code",
      "metadata": {
        "colab": {
          "base_uri": "https://localhost:8080/"
        },
        "id": "W5vZCEx6Dk-h",
        "outputId": "c6afc614-2f54-4dab-f862-edf21ee64685"
      },
      "source": [
        "len(dots[idxs])"
      ],
      "execution_count": 17,
      "outputs": [
        {
          "output_type": "execute_result",
          "data": {
            "text/plain": [
              "25"
            ]
          },
          "metadata": {},
          "execution_count": 17
        }
      ]
    },
    {
      "cell_type": "code",
      "metadata": {
        "id": "9te4CUnXrRlv"
      },
      "source": [
        "dots_oft = np.vstack([dots[idxs]]*4000)\n",
        "\n",
        "X_train_oft = torch.tensor(dots_oft, dtype=torch.float32)\n",
        "X_test_oft = torch.tensor(dots[idxs], dtype=torch.float32)  # важно: в тесте только выбранные точки без повторений\n",
        "dataset_train_oft = TensorDataset(X_train_oft)\n",
        "dataset_test_oft = TensorDataset(X_test_oft)\n",
        "\n",
        "BATCH_SIZE = 32\n",
        "\n",
        "train_loader_oft = DataLoader(dataset_train_oft, batch_size=BATCH_SIZE, shuffle=True, num_workers=1)\n",
        "test_loader_oft = DataLoader(dataset_test_oft, batch_size=BATCH_SIZE, shuffle=False, num_workers=1)"
      ],
      "execution_count": 18,
      "outputs": []
    },
    {
      "cell_type": "code",
      "metadata": {
        "colab": {
          "base_uri": "https://localhost:8080/",
          "height": 84,
          "referenced_widgets": [
            "178daa33dde74e199e3c28c7cbb0cdb1",
            "23796c4873e847c1a0a380c39e78ff03",
            "5152b051d53e4b0ab0541c2facf1aa88",
            "e74cae3815404778bf701ef26fa3b70c",
            "8ce38e944dba4ed5aa82a55a89373aec",
            "17daa27fb8db43dd8a7398a08b66aca2",
            "9bd3dbed9cfc49caac9255bcc07c3359",
            "0a276f6ba257459abda69ad00dee9589",
            "66a4585f9f4a4bac9b3b2dd1497d2954",
            "f52b67c4c0f04ee2aadc15a291ab6372",
            "5d650a5439014995a1f9d775316241d0"
          ]
        },
        "id": "BVpiynF2Yng6",
        "outputId": "048f477b-ee8e-4c61-e1e3-2735eec813f6"
      },
      "source": [
        "# Create MSE loss function\n",
        "criterion = torch.nn.MSELoss()\n",
        "\n",
        "deep_autoencoder = DeepAutoencoder(input_shape, code_size=1)\n",
        "deep_autoencoder.to('cpu')\n",
        "\n",
        "# Use Adam optimizer\n",
        "optimizer = optim.Adam(deep_autoencoder.parameters(), lr=3e-4)\n",
        "\n",
        "overfit_model, train_loss = train(deep_autoencoder, \n",
        "                                  train_loader_oft, \n",
        "                                  device='cpu', epochs=50)"
      ],
      "execution_count": 19,
      "outputs": [
        {
          "output_type": "display_data",
          "data": {
            "text/plain": [
              "  0%|          | 0/50 [00:00<?, ?it/s]"
            ],
            "application/vnd.jupyter.widget-view+json": {
              "version_major": 2,
              "version_minor": 0,
              "model_id": "178daa33dde74e199e3c28c7cbb0cdb1"
            }
          },
          "metadata": {}
        },
        {
          "output_type": "stream",
          "name": "stdout",
          "text": [
            "After 0 epochs, training loss: 0.012570\n",
            "After 25 epochs, training loss: 0.001599\n"
          ]
        }
      ]
    },
    {
      "cell_type": "code",
      "metadata": {
        "id": "xHDIHG26rRlv",
        "colab": {
          "base_uri": "https://localhost:8080/",
          "height": 592
        },
        "outputId": "7e70c5a1-ed2d-4cea-9c90-9bbd936d3b53"
      },
      "source": [
        "res = []\n",
        "with torch.no_grad():\n",
        "    for X in test_loader_oft:\n",
        "        batch = X[0].to('cpu')  # [0] is needed due to X being a list\n",
        "        reconstruction, _ = overfit_model(batch)\n",
        "        res.append(reconstruction)\n",
        "pdots_deep_oft = torch.cat(res)\n",
        "\n",
        "# Визуализация\n",
        "plt.figure(figsize=(12, 10))\n",
        "plt.xlim([-2.5, 2.5])\n",
        "plt.scatter(dots[:, 0], dots[:, 1], zorder=1)\n",
        "plt.plot(x1, fx,  color=\"red\", linewidth=4, zorder=10)\n",
        "plt.plot(pdots_deep_oft[:, 0], pdots_deep_oft[:, 1], color='black', linewidth=5, zorder=3)\n",
        "plt.plot(pdots_pca[:,0], pdots_pca[:,1], color='orange', linewidth=4, zorder=4)\n",
        "plt.scatter(vdots[:,0], vdots[:,1], color=colors*5, s=150, zorder=6)\n",
        "plt.grid(False)"
      ],
      "execution_count": 20,
      "outputs": [
        {
          "output_type": "display_data",
          "data": {
            "text/plain": [
              "<Figure size 864x720 with 1 Axes>"
            ],
            "image/png": "[encoded data removed]"
          },
          "metadata": {
            "needs_background": "light"
          }
        }
      ]
    },
    {
      "cell_type": "markdown",
      "metadata": {
        "id": "ISO283_yrRlw"
      },
      "source": [
        "Мы видим, что наша линия проходит через конкретные точки, и очень плохо описывает правильное многообразие."
      ]
    },
    {
      "cell_type": "markdown",
      "metadata": {
        "id": "dmi_RqLHrRlw"
      },
      "source": [
        "В теории мы можем апроксимизировать какое угодно распределение.\n",
        "Мы стремимся найти такое латентное пространство, \n",
        "где небольшие сдвиги в латентных переменных все равно остаются в том же классе.  \n",
        "\n",
        "**Важная мысль:** если взять два объекта и посмотреть на объекты, лежащие на произвольной кривой между ними, то скорее всего промежуточные объекты не будут принадлежать генеральной совокупности, т. к. многообразие на котором лежит генеральная совокупность может быть сильно искривленным и малоразмерным."
      ]
    },
    {
      "cell_type": "code",
      "metadata": {
        "id": "_delM-Q2t4G7",
        "colab": {
          "base_uri": "https://localhost:8080/",
          "height": 423,
          "referenced_widgets": [
            "7bf3480ec89a489ba8ae2a931d073f5e",
            "ef4fcdb490e74ae99b96db56049f15a4",
            "d13d33747f804d45bc1253130561011e",
            "4224209928d940d6a3bebcca824a005f",
            "82be63f849c3467a8f45eeed96ba0310",
            "bf2c4fbddfcb4063bb80375dad2d2435",
            "b7a878c71dc844da9dd1b8df93df89b3",
            "d02550c88a2c40dab53cbfd1b6be0ad3",
            "2f789c9d54fd462ea3db3d80a516c788",
            "d522a2b6a5644896a058ecfde383084e",
            "67aff6c725604d938c9ec0ef71b1f207",
            "5271f5e2b8b7483c912bf440689c1fad",
            "6ece5d1fab28403aa553770f611c60c9",
            "1ace624d160149e381e30a17f164fcd0",
            "11fb250ab1e74dce9db1a8b882f610b6",
            "2178a0c2a22f43259e4afde98a2d22ad",
            "077662a5247e47beb1c96960a2b42efd",
            "545cd82005f74749a2ee865dec380ecf",
            "67f149d739d5473d8a008c6018786f7a",
            "9ddb96351c474d3abe4dc5d5382bc7df",
            "92a12c1b1b3a4a5f8d00dc8d7e6cbde6",
            "524e88db00244c36be7cff5b12a33b0b",
            "58bae558b5ce45c6bdd4cd3117e876ea",
            "321fd5ee9f6043bbadd6c5063eb9bf28",
            "5541b7cb66824ea68fd8dd8194babf99",
            "3d3c0f4fd3bd4d158ccf4150a967be9e",
            "dea74d31873340b7840ca26bf5c82e7a",
            "9a013058c29646d2bb1907edabaad290",
            "b5e2dbe4405e4ef4945ddacdff164645",
            "d28078f625d54d98958772e8247f03a4",
            "96552e358d034ee19c57c6d24848057c",
            "c8ec0502c7904b0cb18bc18235c69444",
            "b12a0df7efb14bdb8baa99f5260115d2",
            "0088e172ec434bbc8fd2c15b876f9f11",
            "47bb9619942749b490e5901151dc6ea5",
            "856053a72cff4c88a14856d69b5acfe2",
            "13cfcd1ea1f44a9383b39dbb2598445a",
            "5cd4581b60a248cf95f7dcce86ab5592",
            "6cdb709e2ae346ba9e94b7186953a7af",
            "747bd20e53934bfebd128825504a2185",
            "d0c5def440f34d32a807e743f6b05ec8",
            "108db8f380b544b1aef069ad8f299f7f",
            "55ac2f4abc064e8d9860ab47485dd782",
            "bfbffcda2f2a4156a3f8684ec5be657f"
          ]
        },
        "outputId": "86083467-bf5a-482f-c9e2-088438719b47"
      },
      "source": [
        "from torchvision import datasets\n",
        "from torchvision.transforms import ToTensor\n",
        "\n",
        "train_data = datasets.MNIST(\n",
        "    root = 'data',\n",
        "    train = True,                         \n",
        "    transform = ToTensor(), \n",
        "    download = True,            \n",
        ")\n",
        "test_data = datasets.MNIST(\n",
        "    root = 'data', \n",
        "    train = False, \n",
        "    transform = ToTensor()\n",
        ")"
      ],
      "execution_count": 21,
      "outputs": [
        {
          "output_type": "stream",
          "name": "stdout",
          "text": [
            "Downloading http://yann.lecun.com/exdb/mnist/train-images-idx3-ubyte.gz\n",
            "Downloading http://yann.lecun.com/exdb/mnist/train-images-idx3-ubyte.gz to data/MNIST/raw/train-images-idx3-ubyte.gz\n"
          ]
        },
        {
          "output_type": "display_data",
          "data": {
            "text/plain": [
              "  0%|          | 0/9912422 [00:00<?, ?it/s]"
            ],
            "application/vnd.jupyter.widget-view+json": {
              "version_major": 2,
              "version_minor": 0,
              "model_id": "7bf3480ec89a489ba8ae2a931d073f5e"
            }
          },
          "metadata": {}
        },
        {
          "output_type": "stream",
          "name": "stdout",
          "text": [
            "Extracting data/MNIST/raw/train-images-idx3-ubyte.gz to data/MNIST/raw\n",
            "\n",
            "Downloading http://yann.lecun.com/exdb/mnist/train-labels-idx1-ubyte.gz\n",
            "Downloading http://yann.lecun.com/exdb/mnist/train-labels-idx1-ubyte.gz to data/MNIST/raw/train-labels-idx1-ubyte.gz\n"
          ]
        },
        {
          "output_type": "display_data",
          "data": {
            "text/plain": [
              "  0%|          | 0/28881 [00:00<?, ?it/s]"
            ],
            "application/vnd.jupyter.widget-view+json": {
              "version_major": 2,
              "version_minor": 0,
              "model_id": "5271f5e2b8b7483c912bf440689c1fad"
            }
          },
          "metadata": {}
        },
        {
          "output_type": "stream",
          "name": "stdout",
          "text": [
            "Extracting data/MNIST/raw/train-labels-idx1-ubyte.gz to data/MNIST/raw\n",
            "\n",
            "Downloading http://yann.lecun.com/exdb/mnist/t10k-images-idx3-ubyte.gz\n",
            "Downloading http://yann.lecun.com/exdb/mnist/t10k-images-idx3-ubyte.gz to data/MNIST/raw/t10k-images-idx3-ubyte.gz\n"
          ]
        },
        {
          "output_type": "display_data",
          "data": {
            "text/plain": [
              "  0%|          | 0/1648877 [00:00<?, ?it/s]"
            ],
            "application/vnd.jupyter.widget-view+json": {
              "version_major": 2,
              "version_minor": 0,
              "model_id": "58bae558b5ce45c6bdd4cd3117e876ea"
            }
          },
          "metadata": {}
        },
        {
          "output_type": "stream",
          "name": "stdout",
          "text": [
            "Extracting data/MNIST/raw/t10k-images-idx3-ubyte.gz to data/MNIST/raw\n",
            "\n",
            "Downloading http://yann.lecun.com/exdb/mnist/t10k-labels-idx1-ubyte.gz\n",
            "Downloading http://yann.lecun.com/exdb/mnist/t10k-labels-idx1-ubyte.gz to data/MNIST/raw/t10k-labels-idx1-ubyte.gz\n"
          ]
        },
        {
          "output_type": "display_data",
          "data": {
            "text/plain": [
              "  0%|          | 0/4542 [00:00<?, ?it/s]"
            ],
            "application/vnd.jupyter.widget-view+json": {
              "version_major": 2,
              "version_minor": 0,
              "model_id": "0088e172ec434bbc8fd2c15b876f9f11"
            }
          },
          "metadata": {}
        },
        {
          "output_type": "stream",
          "name": "stdout",
          "text": [
            "Extracting data/MNIST/raw/t10k-labels-idx1-ubyte.gz to data/MNIST/raw\n",
            "\n"
          ]
        }
      ]
    },
    {
      "cell_type": "code",
      "source": [
        "train_data.data.shape"
      ],
      "metadata": {
        "colab": {
          "base_uri": "https://localhost:8080/"
        },
        "id": "oizgjYwG3Q3Z",
        "outputId": "3980bc75-e15a-4cc1-df9a-c67fd77f6222"
      },
      "execution_count": 22,
      "outputs": [
        {
          "output_type": "execute_result",
          "data": {
            "text/plain": [
              "torch.Size([60000, 28, 28])"
            ]
          },
          "metadata": {},
          "execution_count": 22
        }
      ]
    },
    {
      "cell_type": "code",
      "metadata": {
        "colab": {
          "base_uri": "https://localhost:8080/"
        },
        "id": "jGUPv8ULGyEU",
        "outputId": "442a21c8-2822-42b9-f53b-35b0e9db37d9"
      },
      "source": [
        "train_data = train_data.data[:, None, :, :]\n",
        "test_data = test_data.data[:, None, :, :]\n",
        "\n",
        "X_train = torch.tensor(train_data, dtype=torch.float32)\n",
        "X_test = torch.tensor(test_data, dtype=torch.float32)\n",
        "\n",
        "dataset_train = TensorDataset(X_train)\n",
        "dataset_test = TensorDataset(X_test)\n",
        "\n",
        "loaders = {\n",
        "    'train' : torch.utils.data.DataLoader(dataset_train, \n",
        "                                          batch_size=256, \n",
        "                                          shuffle=True, \n",
        "                                          num_workers=1),\n",
        "    \n",
        "    'test'  : torch.utils.data.DataLoader(dataset_test, \n",
        "                                          batch_size=256, \n",
        "                                          shuffle=False, \n",
        "                                          num_workers=1),\n",
        "}"
      ],
      "execution_count": 23,
      "outputs": [
        {
          "output_type": "stream",
          "name": "stderr",
          "text": [
            "/usr/local/lib/python3.7/dist-packages/ipykernel_launcher.py:4: UserWarning: To copy construct from a tensor, it is recommended to use sourceTensor.clone().detach() or sourceTensor.clone().detach().requires_grad_(True), rather than torch.tensor(sourceTensor).\n",
            "  after removing the cwd from sys.path.\n",
            "/usr/local/lib/python3.7/dist-packages/ipykernel_launcher.py:5: UserWarning: To copy construct from a tensor, it is recommended to use sourceTensor.clone().detach() or sourceTensor.clone().detach().requires_grad_(True), rather than torch.tensor(sourceTensor).\n",
            "  \"\"\"\n"
          ]
        }
      ]
    },
    {
      "cell_type": "code",
      "source": [
        "train_data.shape"
      ],
      "metadata": {
        "colab": {
          "base_uri": "https://localhost:8080/"
        },
        "id": "xDNJ0hUzbXUp",
        "outputId": "232a514d-6cea-4865-c62a-50e1ba0074ff"
      },
      "execution_count": 24,
      "outputs": [
        {
          "output_type": "execute_result",
          "data": {
            "text/plain": [
              "torch.Size([60000, 1, 28, 28])"
            ]
          },
          "metadata": {},
          "execution_count": 24
        }
      ]
    },
    {
      "cell_type": "code",
      "metadata": {
        "id": "EyhIUW3AwIHB"
      },
      "source": [
        "# Сверточный автоэнкодер\n",
        "class ConvAutoencoder(nn.Module):\n",
        "\n",
        "    def __init__(self):\n",
        "        \"\"\"\n",
        "        code_size это размерность кодированного представления (фичей на выходе)\n",
        "        \"\"\"\n",
        "        super().__init__()\n",
        "\n",
        "        # input is (1 x 28 x 28)\n",
        "        self.encoder = nn.Sequential(nn.Conv2d(1, 128, kernel_size=(7, 7), padding=3),  # 128x28x28\n",
        "                                     nn.ReLU(),\n",
        "                                     nn.MaxPool2d(kernel_size=(2, 2), padding=1),       # 128x14x14\n",
        "                                     nn.Conv2d(128, 32, kernel_size=(3, 3), padding=1), # 32x14x14\n",
        "                                     nn.ReLU(),\n",
        "                                     nn.MaxPool2d(kernel_size=(2, 2)),                  # 32x7x7\n",
        "                                     nn.Conv2d(32, 1, kernel_size=(7, 7), padding=3)    # 1x7x7\n",
        "                                     )\n",
        "        # На этом моменте представление  (1, 7, 7) т.е. 49-размерное\n",
        "\n",
        "        self.decoder = nn.Sequential(nn.Conv2d(1, 32, kernel_size=(7, 7), padding=3),   # 32x7x7\n",
        "                                     nn.Upsample(scale_factor=2, mode='nearest'),   # 32x14x14\n",
        "                                     nn.Conv2d(32, 128, kernel_size=(3, 3), padding=1), # 128x14x14\n",
        "                                     nn.Upsample(scale_factor=2, mode='nearest'),   # 128x28x28\n",
        "                                     nn.Conv2d(128, 1, kernel_size=(7, 7), padding=3)   # 1x28x28\n",
        "                                     )\n",
        "        # Вернулись к исходной размерности  (1, 28, 28) т.е. 784-размерное\n",
        "\n",
        "    def forward(self, x):\n",
        "        latent_code = self.encoder(x)\n",
        "        reconstruction = self.decoder(latent_code)\n",
        "        \n",
        "        return reconstruction, \n",
        "        \n",
        "\n",
        "class Encoder(nn.Module):\n",
        "    \n",
        "    def __init__(self, encoded_space_dim):\n",
        "        super().__init__()\n",
        "        \n",
        "        ### Convolutional section\n",
        "        self.encoder_cnn = nn.Sequential(\n",
        "            nn.Conv2d(1, 8, 3, stride=2, padding=1),\n",
        "            nn.ReLU(True),\n",
        "            nn.Conv2d(8, 16, 3, stride=2, padding=1),\n",
        "            nn.BatchNorm2d(16),\n",
        "            nn.ReLU(True),\n",
        "            nn.Conv2d(16, 32, 3, stride=2, padding=0),\n",
        "            nn.ReLU(True)\n",
        "        )\n",
        "        \n",
        "        ### Flatten layer\n",
        "        self.flatten = nn.Flatten(start_dim=1)\n",
        "        \n",
        "        ### Linear section\n",
        "        self.encoder_lin = nn.Sequential(\n",
        "            nn.Linear(3 * 3 * 32, 128),\n",
        "            nn.ReLU(True),\n",
        "            nn.Linear(128, encoded_space_dim)\n",
        "        )\n",
        "        \n",
        "    def forward(self, x):\n",
        "        x = self.encoder_cnn(x)\n",
        "        x = self.flatten(x)\n",
        "        x = self.encoder_lin(x)\n",
        "        return x\n",
        "\n",
        "\n",
        "class Decoder(nn.Module):\n",
        "    \n",
        "    def __init__(self, encoded_space_dim):\n",
        "        super().__init__()\n",
        "        self.decoder_lin = nn.Sequential(\n",
        "            nn.Linear(encoded_space_dim, 128),\n",
        "            nn.ReLU(True),\n",
        "            nn.Linear(128, 3 * 3 * 32),\n",
        "            nn.ReLU(True)\n",
        "        )\n",
        "\n",
        "        self.unflatten = nn.Unflatten(dim=1, \n",
        "        unflattened_size=(32, 3, 3))\n",
        "\n",
        "        self.decoder_conv = nn.Sequential(\n",
        "            nn.ConvTranspose2d(32, 16, 3, \n",
        "            stride=2, output_padding=0),\n",
        "            nn.BatchNorm2d(16),\n",
        "            nn.ReLU(True),\n",
        "            nn.ConvTranspose2d(16, 8, 3, stride=2, \n",
        "            padding=1, output_padding=1),\n",
        "            nn.BatchNorm2d(8),\n",
        "            nn.ReLU(True),\n",
        "            nn.ConvTranspose2d(8, 1, 3, stride=2, \n",
        "            padding=1, output_padding=1)\n",
        "        )\n",
        "        \n",
        "    def forward(self, x):\n",
        "        x = self.decoder_lin(x)\n",
        "        x = self.unflatten(x)\n",
        "        x = self.decoder_conv(x)\n",
        "        x = torch.sigmoid(x)\n",
        "        return x\n",
        "\n",
        "\n",
        "class ConvAutoencoder(nn.Module):\n",
        "\n",
        "    def __init__(self, encoded_space_dim):\n",
        "        \"\"\"\n",
        "        code_size это размерность кодированного представления (фичей на выходе)\n",
        "        \"\"\"\n",
        "        super().__init__()\n",
        "        self.encoded_space_dim = encoded_space_dim\n",
        "\n",
        "        # input is (1 x 28 x 28)\n",
        "        self.encoder = Encoder(self.encoded_space_dim)\n",
        "        # На этом моменте представление  (1, 7, 7) т.е. 49-размерное\n",
        "\n",
        "        self.decoder = Decoder(self.encoded_space_dim)\n",
        "        # Вернулись к исходной размерности  (1, 28, 28) т.е. 784-размерное\n",
        "\n",
        "    def forward(self, x):\n",
        "        latent_code = self.encoder(x)\n",
        "        reconstruction = self.decoder(latent_code)\n",
        "        \n",
        "        return reconstruction, latent_code"
      ],
      "execution_count": 25,
      "outputs": []
    },
    {
      "cell_type": "code",
      "metadata": {
        "colab": {
          "base_uri": "https://localhost:8080/"
        },
        "id": "gh8n2--gIIy6",
        "outputId": "81536f29-cdff-4d91-f6ec-a03699d965e5"
      },
      "source": [
        "iter(loaders['train']).next()[0].shape"
      ],
      "execution_count": 26,
      "outputs": [
        {
          "output_type": "execute_result",
          "data": {
            "text/plain": [
              "torch.Size([256, 1, 28, 28])"
            ]
          },
          "metadata": {},
          "execution_count": 26
        }
      ]
    },
    {
      "cell_type": "markdown",
      "source": [
        "## Домашнее задание:\n",
        "Написать арх-ру автоэнкодера и обучить ее так, чтобы получить низкую ошибку и качественный переход от одного реального изображения к другому на картинках ниже. "
      ],
      "metadata": {
        "id": "WYeZPKAeIDrk"
      }
    },
    {
      "cell_type": "code",
      "source": [
        "# write your code here\n",
        "# create an autoencoder of complex architecture \n",
        "\n",
        "\n"
      ],
      "metadata": {
        "id": "HkjHBy1yH2g-"
      },
      "execution_count": null,
      "outputs": []
    },
    {
      "cell_type": "code",
      "source": [
        ""
      ],
      "metadata": {
        "id": "HFWDizJMIZnB"
      },
      "execution_count": null,
      "outputs": []
    },
    {
      "cell_type": "code",
      "source": [
        "# Create MSE loss function\n",
        "criterion = torch.nn.MSELoss()\n",
        "\n",
        "conv_autoencoder = ConvAutoencoder()\n",
        "conv_autoencoder.to(DEVICE)\n",
        "\n",
        "# Use Adam optimizer\n",
        "optimizer = optim.Adam(conv_autoencoder.parameters(), lr=1e-1, weight_decay=1e-5)\n",
        "\n",
        "conv_model, train_loss = train(conv_autoencoder, \n",
        "                               loaders['train'], \n",
        "                               device=DEVICE, epochs=450)"
      ],
      "metadata": {
        "colab": {
          "base_uri": "https://localhost:8080/",
          "height": 361,
          "referenced_widgets": [
            "dd9ee4d98fd7414cb23cf8ad53036f90",
            "1f597f7dba8c478bbef0f7fdbfb13e04",
            "6f6b591af73544ac892e024be9729605",
            "7ff0124b839841ddace2e50fe4615227",
            "9bd4547344194fe2979ed4cff6c8ff4a",
            "7bed2bc1793d4907aee437892e56cf41",
            "2b383fd977a64b4397344c601b1e3243",
            "8e183206764048dcb858c3777cbe5cca",
            "9a379356e1bc42818fc5773353e05e88",
            "66a613e16bad4dc2a6a24b317abaaede",
            "bb4ebd1c56ef4888bda4d8f48898f87f"
          ]
        },
        "id": "kVpcyy5XcwHZ",
        "outputId": "e5139e1c-5e66-4d8a-f449-0f57287fa785"
      },
      "execution_count": 27,
      "outputs": [
        {
          "output_type": "display_data",
          "data": {
            "text/plain": [
              "  0%|          | 0/450 [00:00<?, ?it/s]"
            ],
            "application/vnd.jupyter.widget-view+json": {
              "version_major": 2,
              "version_minor": 0,
              "model_id": "dd9ee4d98fd7414cb23cf8ad53036f90"
            }
          },
          "metadata": {}
        },
        {
          "output_type": "stream",
          "name": "stdout",
          "text": [
            "After 0 epochs, training loss: 5519.490234\n",
            "After 25 epochs, training loss: 563.738037\n",
            "After 50 epochs, training loss: 354.824188\n",
            "After 75 epochs, training loss: 277.813171\n",
            "After 100 epochs, training loss: 237.142700\n",
            "After 125 epochs, training loss: 211.770920\n",
            "After 150 epochs, training loss: 194.369232\n",
            "After 175 epochs, training loss: 181.623276\n",
            "After 200 epochs, training loss: 171.801514\n",
            "After 225 epochs, training loss: 164.021347\n",
            "After 250 epochs, training loss: 157.705032\n",
            "After 275 epochs, training loss: 152.500092\n",
            "After 300 epochs, training loss: 148.095947\n",
            "After 325 epochs, training loss: 144.328598\n",
            "After 350 epochs, training loss: 141.087921\n",
            "After 375 epochs, training loss: 138.262634\n",
            "After 400 epochs, training loss: 135.760681\n",
            "After 425 epochs, training loss: 133.537964\n"
          ]
        }
      ]
    },
    {
      "cell_type": "code",
      "metadata": {
        "id": "UVA_1k5xrRlx"
      },
      "source": [
        "def plot_digits(args):\n",
        "    n = min([x.shape[0] for x in args])\n",
        "    \n",
        "    plt.figure(figsize=(40, 60))\n",
        "    for j in range(n):\n",
        "        for i in range(len(args)):\n",
        "            plt.subplot(n, len(args), i*n + j + 1)\n",
        "            plt.imshow(args[i][j])\n",
        "            plt.gray()\n",
        "\n",
        "    plt.show()\n",
        "\n",
        "# Гомотопия по прямой между объектами или между кодами\n",
        "def plot_homotopy(frm, to, n=10, decode=False, model=conv_model, device=DEVICE):\n",
        "    z = []\n",
        "    for i, weight in enumerate(np.linspace(0., 1., n)):\n",
        "        z.append(frm * (1-weight) + to * weight)\n",
        "    if decode:\n",
        "        with torch.no_grad():\n",
        "            print(len(z[0]))\n",
        "            z = [elem[None, :].to(device) for elem in z]\n",
        "            z = torch.cat(z)\n",
        "            reconstruction = model.decoder(z)\n",
        "            reconstruction = reconstruction.cpu()\n",
        "        plot_digits(reconstruction)\n",
        "    else:\n",
        "        plot_digits(z)"
      ],
      "execution_count": 36,
      "outputs": []
    },
    {
      "cell_type": "code",
      "metadata": {
        "id": "2QqBC_f-ZyXR",
        "colab": {
          "base_uri": "https://localhost:8080/",
          "height": 203
        },
        "outputId": "3217952a-6deb-4f84-ffb7-efc0653a5809"
      },
      "source": [
        "# Гомотопия между первыми двумя восьмерками\n",
        "\n",
        "# 61 и 84 выбраны не случайно, под такими индексами в тестовых данных хранятся восьмерки\n",
        "\n",
        "frm = dataset_test[61][0]\n",
        "to = dataset_test[84][0]\n",
        "plot_homotopy(frm, to)"
      ],
      "execution_count": 29,
      "outputs": [
        {
          "output_type": "display_data",
          "data": {
            "text/plain": [
              "<Figure size 2880x4320 with 10 Axes>"
            ],
            "image/png": "[encoded data removed]"
          },
          "metadata": {
            "needs_background": "light"
          }
        }
      ]
    },
    {
      "cell_type": "markdown",
      "metadata": {
        "id": "h4lP6cDBrRlz"
      },
      "source": [
        "Если наше латентное пространтсво корректное, мы нашли правильно параметаризованное латентное пространство, \n",
        "то небольшие сдвиги в этом пространстве должны давать разумные результаты: \n",
        "\n",
        "**Можно сказать то же самое, но завернуть это более витиевато:** Если же двигаться по кривой между кодами (и если многообразие кодов хорошо параметризовано), то декодер переведет эту кривую из пространства кодов, в кривую, не покидающую определяющее многообразие в пространстве объектов. То есть промежуточные объекты на кривой будут принадлежать генеральной совокупности."
      ]
    },
    {
      "cell_type": "code",
      "metadata": {
        "id": "JQ7BLsOITDDm",
        "colab": {
          "base_uri": "https://localhost:8080/"
        },
        "outputId": "0a5de0fc-bc8a-4e13-ec4a-dab4434bcd72"
      },
      "source": [
        "conv_model.encoder(frm[None, :, :, :].to(DEVICE)).shape"
      ],
      "execution_count": 30,
      "outputs": [
        {
          "output_type": "execute_result",
          "data": {
            "text/plain": [
              "torch.Size([1, 128])"
            ]
          },
          "metadata": {},
          "execution_count": 30
        }
      ]
    },
    {
      "cell_type": "code",
      "metadata": {
        "id": "wvX2SXY7Z33M",
        "colab": {
          "base_uri": "https://localhost:8080/",
          "height": 220
        },
        "outputId": "2e48dcce-4898-4699-cd8a-1b78952c2a43"
      },
      "source": [
        "frm = dataset_test[61][0]\n",
        "to = dataset_test[84][0]\n",
        "\n",
        "with torch.no_grad():\n",
        "    frm_enc = conv_model.encoder(frm[None, :, :, :].to(DEVICE))\n",
        "    to_enc = conv_model.encoder(to[None, :, :, :].to(DEVICE))\n",
        "    codes = torch.cat([frm_enc, to_enc])\n",
        "\n",
        "plot_homotopy(codes[0], codes[1], n=10, decode=True)\n",
        "# plot_homotopy(frm, to, n=10, decode=True)"
      ],
      "execution_count": 37,
      "outputs": [
        {
          "output_type": "stream",
          "name": "stdout",
          "text": [
            "128\n"
          ]
        },
        {
          "output_type": "display_data",
          "data": {
            "text/plain": [
              "<Figure size 2880x4320 with 10 Axes>"
            ],
            "image/png": "[encoded data removed]"
          },
          "metadata": {
            "needs_background": "light"
          }
        }
      ]
    }
  ]
}