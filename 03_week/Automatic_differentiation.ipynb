{
  "nbformat": 4,
  "nbformat_minor": 0,
  "metadata": {
    "colab": {
      "name": "Automatic_differentiation.ipynb",
      "provenance": [],
      "collapsed_sections": []
    },
    "kernelspec": {
      "name": "python3",
      "display_name": "Python 3"
    },
    "language_info": {
      "name": "python"
    }
  },
  "cells": [
    {
      "cell_type": "markdown",
      "source": [
        "Ниже представлен ноутбук, заимствованный с [официального сайта](https://pytorch.org/tutorials/index.html) PyTorch"
      ],
      "metadata": {
        "id": "FWv9i-OitpXp"
      }
    },
    {
      "cell_type": "markdown",
      "metadata": {
        "id": "6KrNUohPx7tX"
      },
      "source": [
        "Computation Graphs and Automatic Differentiation\n",
        "================================================\n",
        "\n",
        "The concept of a computation graph is essential to efficient deep\n",
        "learning programming, because it allows you to not have to write the\n",
        "back propagation gradients yourself. A computation graph is simply a\n",
        "specification of how your data is combined to give you the output. Since\n",
        "the graph totally specifies what parameters were involved with which\n",
        "operations, it contains enough information to compute derivatives. This\n",
        "probably sounds vague, so let's see what is going on using the\n",
        "fundamental flag ``requires_grad``.\n",
        "\n",
        "First, think from a programmers perspective. What is stored in the\n",
        "torch.Tensor objects we were creating above? Obviously the data and the\n",
        "shape, and maybe a few other things. But when we added two tensors\n",
        "together, we got an output tensor. All this output tensor knows is its\n",
        "data and shape. It has no idea that it was the sum of two other tensors\n",
        "(it could have been read in from a file, it could be the result of some\n",
        "other operation, etc.)\n",
        "\n",
        "**Important:** If ``requires_grad=True``, the Tensor object keeps track of how it was\n",
        "created. Let's see it in action.\n",
        "\n",
        "\n"
      ]
    },
    {
      "cell_type": "code",
      "source": [
        "import torch\n",
        "\n",
        "torch.manual_seed(1)"
      ],
      "metadata": {
        "id": "FSL28bTAuHwM"
      },
      "execution_count": null,
      "outputs": []
    },
    {
      "cell_type": "code",
      "metadata": {
        "id": "isr7X41lx7tY"
      },
      "source": [
        "# Tensor factory methods have a ``requires_grad`` flag\n",
        "x = torch.tensor([1., 2., 3], requires_grad=True)\n",
        "\n",
        "# With requires_grad=True, you can still do all the operations you previously\n",
        "# could\n",
        "y = torch.tensor([4., 5., 6], requires_grad=True)\n",
        "t = x + y\n",
        "print(t)\n",
        "\n",
        "# BUT t knows something extra.\n",
        "print(t.grad_fn)"
      ],
      "execution_count": null,
      "outputs": []
    },
    {
      "cell_type": "markdown",
      "metadata": {
        "id": "g6-ftP1zx7tY"
      },
      "source": [
        "So Tensors know what created them. t knows that it wasn't read in from\n",
        "a file, it wasn't the result of a multiplication or exponential or\n",
        "whatever. And if you keep following t.grad_fn, you will find yourself at\n",
        "x and y.\n",
        "\n",
        "But how does that help us compute a gradient?\n",
        "\n",
        "\n"
      ]
    },
    {
      "cell_type": "code",
      "metadata": {
        "id": "oX12REJvx7tZ"
      },
      "source": [
        "# Let's sum up all the entries in z\n",
        "s = t.sum()\n",
        "print(s)\n",
        "print(s.grad_fn)"
      ],
      "execution_count": null,
      "outputs": []
    },
    {
      "cell_type": "markdown",
      "metadata": {
        "id": "8MNxe9dyx7tZ"
      },
      "source": [
        "So now, what is the derivative of this sum with respect to the first\n",
        "component of x? In math, we want\n",
        "\n",
        "\\begin{align}\\frac{\\partial s}{\\partial x_0}\\end{align}\n",
        "\n",
        "\n",
        "\n",
        "Well, s knows that it was created as a sum of the tensor t. t knows\n",
        "that it was the sum x + y. So\n",
        "\n",
        "\\begin{align}s = \\overbrace{x_0 + y_0}^\\text{$t_0$} + \\overbrace{x_1 + y_1}^\\text{$t_1$} + \\overbrace{x_2 + y_2}^\\text{$t_2$}\\end{align}\n",
        "\n",
        "And so s contains enough information to determine that the derivative\n",
        "we want is 1!\n",
        "\n",
        "Of course this glosses over the challenge of how to actually compute\n",
        "that derivative. The point here is that s is carrying along enough\n",
        "information that it is possible to compute it. In reality, the\n",
        "developers of Pytorch program the sum() and + operations to know how to\n",
        "compute their gradients, and run the back propagation algorithm. An\n",
        "in-depth discussion of that algorithm is beyond the scope of this\n",
        "tutorial.\n",
        "\n",
        "\n"
      ]
    },
    {
      "cell_type": "markdown",
      "metadata": {
        "id": "cDJf9yBtx7tZ"
      },
      "source": [
        "Let's have Pytorch compute the gradient, and see that we were right:\n",
        "(note if you run this block multiple times, the gradient will increment.\n",
        "That is because Pytorch *accumulates* the gradient into the .grad\n",
        "property, since for many models this is very convenient.)\n",
        "\n",
        "\n"
      ]
    },
    {
      "cell_type": "code",
      "metadata": {
        "id": "rThnkYQ2ltsV"
      },
      "source": [
        "print(x)"
      ],
      "execution_count": null,
      "outputs": []
    },
    {
      "cell_type": "code",
      "metadata": {
        "id": "vTkZEhvcx7tZ"
      },
      "source": [
        "# calling .backward() on any variable will run backprop, starting from it.\n",
        "s.backward()\n",
        "print(x.grad)"
      ],
      "execution_count": null,
      "outputs": []
    },
    {
      "cell_type": "markdown",
      "metadata": {
        "id": "Kb4tsQyyx7ta"
      },
      "source": [
        "Understanding what is going on in the block below is crucial for being a\n",
        "successful programmer in deep learning.\n",
        "\n",
        "\n"
      ]
    },
    {
      "cell_type": "code",
      "metadata": {
        "id": "gTG8uGs5x7ta"
      },
      "source": [
        "x = torch.randn(2, 2)\n",
        "y = torch.randn(2, 2)\n",
        "# By default, user created Tensors have ``requires_grad=False``\n",
        "print(x.requires_grad, y.requires_grad)\n",
        "z = x + y\n",
        "# So you can't backprop through z\n",
        "print(z.grad_fn)\n",
        "\n",
        "# ``.requires_grad_( ... )`` changes an existing Tensor's ``requires_grad``\n",
        "# flag in-place. The input flag defaults to ``True`` if not given.\n",
        "x = x.requires_grad_()\n",
        "y = y.requires_grad_()\n",
        "# z contains enough information to compute gradients, as we saw above\n",
        "z = x + y\n",
        "print(z.grad_fn)\n",
        "# If any input to an operation has ``requires_grad=True``, so will the output\n",
        "print(z.requires_grad)\n",
        "\n",
        "# Now z has the computation history that relates itself to x and y\n",
        "# Can we just take its values, and **detach** it from its history?\n",
        "new_z = z.detach()\n",
        "\n",
        "# ... does new_z have information to backprop to x and y?\n",
        "# NO!\n",
        "print(new_z.grad_fn)\n",
        "# And how could it? ``z.detach()`` returns a tensor that shares the same storage\n",
        "# as ``z``, but with the computation history forgotten. It doesn't know anything\n",
        "# about how it was computed.\n",
        "# In essence, we have broken the Tensor away from its past history"
      ],
      "execution_count": null,
      "outputs": []
    },
    {
      "cell_type": "code",
      "source": [
        "import matplotlib.pyplot as plt\n",
        "%matplotlib inline\n",
        "\n",
        "x = torch.ones([10], requires_grad=True)\n",
        "# plt.plot(x)  # doesn't work\n",
        "plt.plot(x.detach())"
      ],
      "metadata": {
        "id": "iefsSCl7E756"
      },
      "execution_count": null,
      "outputs": []
    },
    {
      "cell_type": "markdown",
      "metadata": {
        "id": "Fmn3BWeax7tb"
      },
      "source": [
        "You can also stop autograd from tracking history on Tensors\n",
        "with ``.requires_grad=True`` by wrapping the code block in\n",
        "``with torch.no_grad():``\n",
        "\n"
      ]
    },
    {
      "cell_type": "code",
      "metadata": {
        "id": "rXKOmpCNx7tb"
      },
      "source": [
        "print(x.requires_grad)\n",
        "print((x ** 2).requires_grad)\n",
        "\n",
        "with torch.no_grad():\n",
        "\tprint((x ** 2).requires_grad)\n"
      ],
      "execution_count": null,
      "outputs": []
    },
    {
      "cell_type": "markdown",
      "source": [
        "### Зачем нужно делать zero_grad()?\n",
        "\n",
        "If a tensor already has grad attribute, e.g from the previous call to backward, subsequent calls will add to the value of this attribute. So, if you, e.g, backward() in a loop, you need to explicitely set grad to zero each time."
      ],
      "metadata": {
        "id": "1bGs5lkPEZVG"
      }
    },
    {
      "cell_type": "code",
      "source": [
        "x = torch.tensor([1.], requires_grad=True)\n",
        "x.grad is None"
      ],
      "metadata": {
        "id": "6bSMZZJfEZqn"
      },
      "execution_count": null,
      "outputs": []
    },
    {
      "cell_type": "code",
      "source": [
        "a = x * 2\n",
        "b = x * 3\n",
        "y = a + b  # == x * 5\n",
        "\n",
        "# in this case y.backward() is the same as\n",
        "a.backward()\n",
        "b.backward()\n",
        "x.grad"
      ],
      "metadata": {
        "id": "K6KBRLqpEdQH"
      },
      "execution_count": null,
      "outputs": []
    },
    {
      "cell_type": "code",
      "source": [
        "x = torch.tensor([1.], requires_grad=True)\n",
        "print(x.grad is None)\n",
        "a = x * 2\n",
        "b = x * 3\n",
        "a.backward()\n",
        "print(x.grad)\n",
        "b.backward()\n",
        "print(x.grad)"
      ],
      "metadata": {
        "id": "obbwugToEfJX"
      },
      "execution_count": null,
      "outputs": []
    },
    {
      "cell_type": "code",
      "source": [
        "x = torch.tensor([1.], requires_grad=True)\n",
        "for i in range(2):\n",
        "    y = x * 2\n",
        "    y.backward()\n",
        "    print(x.grad)"
      ],
      "metadata": {
        "id": "p_287ZzfEp-T"
      },
      "execution_count": null,
      "outputs": []
    },
    {
      "cell_type": "code",
      "source": [
        "x = torch.tensor([1.], requires_grad=True)\n",
        "for i in range(2):\n",
        "    y = x * 2\n",
        "    y.backward()\n",
        "    print(x.grad)\n",
        "    x.grad.zero_()"
      ],
      "metadata": {
        "id": "67FKg5awEtVV"
      },
      "execution_count": null,
      "outputs": []
    },
    {
      "cell_type": "code",
      "source": [
        "# optimizer.zero_grad()"
      ],
      "metadata": {
        "id": "1HL8aJ-CvriO"
      },
      "execution_count": null,
      "outputs": []
    },
    {
      "cell_type": "code",
      "source": [
        ""
      ],
      "metadata": {
        "id": "CslszzrPwC5h"
      },
      "execution_count": null,
      "outputs": []
    }
  ]
}