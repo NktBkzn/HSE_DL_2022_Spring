{
 "cells": [
  {
   "cell_type": "markdown",
   "metadata": {
    "id": "7sCHX9H16JtY"
   },
   "source": [
    "Перед вами введение в синтаксис PyTorch, заимствованное с [официального сайта](https://pytorch.org/tutorials/index.html) фрэймворка\n",
    "\n",
    "По [данной](https://rickwierenga.com/blog/machine%20learning/numpy-vs-pytorch-linalg.html) ссылке находится также очень познавательная статья о сравнении библиотек `numpy` и `PyTorch` \n"
   ]
  },
  {
   "cell_type": "code",
   "execution_count": null,
   "metadata": {
    "id": "6mXZZ0H3x7tO"
   },
   "outputs": [],
   "source": [
    "%matplotlib inline"
   ]
  },
  {
   "cell_type": "markdown",
   "metadata": {
    "id": "tFwM_hDTx7tP"
   },
   "source": [
    "\n",
    "Introduction to PyTorch\n",
    "***********************\n",
    "\n",
    "Introduction to Torch's tensor library\n",
    "======================================\n",
    "\n",
    "All of deep learning is computations on tensors, which are\n",
    "generalizations of a matrix that can be indexed in more than 2\n",
    "dimensions. We will see exactly what this means in-depth later. First,\n",
    "let's look what we can do with tensors.\n",
    "\n"
   ]
  },
  {
   "cell_type": "code",
   "execution_count": null,
   "metadata": {
    "colab": {
     "base_uri": "https://localhost:8080/"
    },
    "id": "9kTj-BsBx7tR",
    "outputId": "929f6724-7515-428c-c097-77f5060cf4d1"
   },
   "outputs": [
    {
     "data": {
      "text/plain": [
       "<torch._C.Generator at 0x7f676b1818f0>"
      ]
     },
     "execution_count": 2,
     "metadata": {},
     "output_type": "execute_result"
    }
   ],
   "source": [
    "# Author: Robert Guthrie\n",
    "\n",
    "import torch\n",
    "\n",
    "torch.manual_seed(1)"
   ]
  },
  {
   "cell_type": "markdown",
   "metadata": {
    "id": "5MEq_S1-x7tR"
   },
   "source": [
    "Creating Tensors\n",
    "~~~~~~~~~~~~~~~~\n",
    "\n",
    "Tensors can be created from Python lists with the torch.tensor()\n",
    "function.\n",
    "\n",
    "\n"
   ]
  },
  {
   "cell_type": "code",
   "execution_count": null,
   "metadata": {
    "colab": {
     "base_uri": "https://localhost:8080/"
    },
    "id": "eUdowUTo_INT",
    "outputId": "65186a10-2eb5-45b5-9368-59fb0633b964"
   },
   "outputs": [
    {
     "data": {
      "text/plain": [
       "array([1., 2., 3.])"
      ]
     },
     "execution_count": 7,
     "metadata": {},
     "output_type": "execute_result"
    }
   ],
   "source": [
    "import numpy as np\n",
    "\n",
    "a = np.array([1, 2, 3], dtype=int)\n",
    "a.astype(float)"
   ]
  },
  {
   "cell_type": "code",
   "execution_count": null,
   "metadata": {
    "colab": {
     "base_uri": "https://localhost:8080/"
    },
    "id": "NVMvJxY6x7tS",
    "outputId": "3e301c3f-cd1d-4111-dd4b-a10ef98e90b2"
   },
   "outputs": [
    {
     "name": "stdout",
     "output_type": "stream",
     "text": [
      "tensor([1., 2., 3.])\n",
      "tensor([[1., 2., 3.],\n",
      "        [4., 5., 6.]])\n",
      "tensor([[[1., 2.],\n",
      "         [3., 4.]],\n",
      "\n",
      "        [[5., 6.],\n",
      "         [7., 8.]]])\n"
     ]
    }
   ],
   "source": [
    "# torch.tensor(data) creates a torch.Tensor object with the given data.\n",
    "V_data = [1., 2., 3.]\n",
    "V = torch.tensor(V_data)\n",
    "print(V)\n",
    "\n",
    "# Creates a matrix\n",
    "M_data = [[1., 2., 3.], [4., 5., 6]]\n",
    "M = torch.tensor(M_data)\n",
    "print(M)\n",
    "\n",
    "# Create a 3D tensor of size 2x2x2.\n",
    "T_data = [[[1., 2.], [3., 4.]],\n",
    "          [[5., 6.], [7., 8.]]]\n",
    "T = torch.tensor(T_data)\n",
    "print(T)"
   ]
  },
  {
   "cell_type": "markdown",
   "metadata": {
    "id": "rLtf4B59x7tS"
   },
   "source": [
    "What is a 3D tensor anyway? Think about it like this. If you have a\n",
    "vector, indexing into the vector gives you a scalar. If you have a\n",
    "matrix, indexing into the matrix gives you a vector. If you have a 3D\n",
    "tensor, then indexing into the tensor gives you a matrix!\n",
    "\n",
    "A note on terminology:\n",
    "when I say \"tensor\" in this tutorial, it refers\n",
    "to any torch.Tensor object. Matrices and vectors are special cases of\n",
    "torch.Tensors, where their dimension is 2 and 1 respectively. When I am\n",
    "talking about 3D tensors, I will explicitly use the term \"3D tensor\".\n",
    "\n",
    "\n"
   ]
  },
  {
   "cell_type": "code",
   "execution_count": null,
   "metadata": {
    "colab": {
     "base_uri": "https://localhost:8080/"
    },
    "id": "7g8zspn0_3nD",
    "outputId": "f2b85b60-1f25-44ff-83f2-23afb72f7366"
   },
   "outputs": [
    {
     "data": {
      "text/plain": [
       "1"
      ]
     },
     "execution_count": 12,
     "metadata": {},
     "output_type": "execute_result"
    }
   ],
   "source": [
    "np.array([1,2,3])[0]"
   ]
  },
  {
   "cell_type": "code",
   "execution_count": null,
   "metadata": {
    "colab": {
     "base_uri": "https://localhost:8080/"
    },
    "id": "t1r2jYRcx7tT",
    "outputId": "e8c5c312-60a4-447b-d4e7-057defb77560"
   },
   "outputs": [
    {
     "name": "stdout",
     "output_type": "stream",
     "text": [
      "tensor(1.)\n",
      "1.0\n",
      "tensor([1., 2., 3.])\n",
      "tensor([[1., 2.],\n",
      "        [3., 4.]])\n"
     ]
    }
   ],
   "source": [
    "# Index into V and get a scalar (0 dimensional tensor)\n",
    "print(V[0])\n",
    "# Get a Python number from it\n",
    "print(V[0].item())\n",
    "\n",
    "# Index into M and get a vector\n",
    "print(M[0])\n",
    "\n",
    "# Index into T and get a matrix\n",
    "print(T[0])"
   ]
  },
  {
   "cell_type": "markdown",
   "metadata": {
    "id": "fz_U9Irxx7tT"
   },
   "source": [
    "You can also create tensors of other data types. To create a tensor of integer types, try\n",
    "torch.tensor([[1, 2], [3, 4]]) (where all elements in the list are integers).\n",
    "You can also specify a data type by passing in ``dtype=torch.data_type``.\n",
    "Check the documentation for more data types, but\n",
    "Float and Long will be the most common.\n",
    "\n",
    "\n"
   ]
  },
  {
   "cell_type": "markdown",
   "metadata": {
    "id": "ApK31JZ1x7tU"
   },
   "source": [
    "You can create a tensor with random data and the supplied dimensionality\n",
    "with torch.randn()\n",
    "\n",
    "\n"
   ]
  },
  {
   "cell_type": "code",
   "execution_count": null,
   "metadata": {
    "colab": {
     "base_uri": "https://localhost:8080/"
    },
    "id": "agFQCe3wx7tU",
    "outputId": "5d991713-aea8-4c24-9009-c7a3037e1caf"
   },
   "outputs": [
    {
     "name": "stdout",
     "output_type": "stream",
     "text": [
      "torch.Size([3, 4, 5])\n"
     ]
    }
   ],
   "source": [
    "x = torch.randn((3, 4, 5))\n",
    "print(x.shape)"
   ]
  },
  {
   "cell_type": "markdown",
   "metadata": {
    "id": "EHRM4R9Ox7tU"
   },
   "source": [
    "Operations with Tensors\n",
    "~~~~~~~~~~~~~~~~~~~~~~~\n",
    "\n",
    "You can operate on tensors in the ways you would expect.\n",
    "\n"
   ]
  },
  {
   "cell_type": "code",
   "execution_count": null,
   "metadata": {
    "colab": {
     "base_uri": "https://localhost:8080/"
    },
    "id": "80PODcu5x7tV",
    "outputId": "0a0ac569-c188-4bba-b407-d24039865337"
   },
   "outputs": [
    {
     "name": "stdout",
     "output_type": "stream",
     "text": [
      "tensor([5., 7., 9.])\n"
     ]
    }
   ],
   "source": [
    "x = torch.tensor([1., 2., 3.])\n",
    "y = torch.tensor([4., 5., 6.])\n",
    "z = x + y\n",
    "print(z)"
   ]
  },
  {
   "cell_type": "markdown",
   "metadata": {
    "id": "F9k3hXu8x7tV"
   },
   "source": [
    "See `the documentation <https://pytorch.org/docs/torch.html>`__ for a\n",
    "complete list of the massive number of operations available to you. They\n",
    "expand beyond just mathematical operations.\n",
    "\n",
    "One helpful operation that we will make use of later is concatenation.\n",
    "\n",
    "\n"
   ]
  },
  {
   "cell_type": "code",
   "execution_count": null,
   "metadata": {
    "colab": {
     "base_uri": "https://localhost:8080/"
    },
    "id": "Yh8e_ryqAu4_",
    "outputId": "c123cce5-5202-4d69-a6eb-9fff2b515cce"
   },
   "outputs": [
    {
     "data": {
      "text/plain": [
       "array([1, 2, 3, 1, 2, 3])"
      ]
     },
     "execution_count": 29,
     "metadata": {},
     "output_type": "execute_result"
    }
   ],
   "source": [
    "a = np.array([1,2,3])\n",
    "b = np.array([1,2,3])\n",
    "\n",
    "np.concatenate([a, b])\n",
    "\n",
    "\n"
   ]
  },
  {
   "cell_type": "code",
   "execution_count": null,
   "metadata": {
    "colab": {
     "base_uri": "https://localhost:8080/"
    },
    "id": "rum2GbkZx7tV",
    "outputId": "f29bfdba-3d59-4cd8-c1b1-8b2427066af0"
   },
   "outputs": [
    {
     "name": "stdout",
     "output_type": "stream",
     "text": [
      "torch.Size([5, 5])\n",
      "tensor([[ 0.6831,  0.6439, -1.5348, -0.0813,  1.5079,  1.1710,  0.6938,  0.8491],\n",
      "        [ 0.1530, -0.3657,  0.0245,  0.2730,  0.3795,  0.0478,  1.3501,  0.0977]])\n"
     ]
    }
   ],
   "source": [
    "# By default, it concatenates along the first axis (concatenates rows)\n",
    "x_1 = torch.randn(2, 5)\n",
    "y_1 = torch.randn(3, 5)\n",
    "z_1 = torch.cat([x_1, y_1], dim=0)\n",
    "print(z_1.shape)\n",
    "\n",
    "# Concatenate columns:\n",
    "x_2 = torch.randn(2, 3)\n",
    "y_2 = torch.randn(2, 5)\n",
    "# second arg specifies which axis to concat along\n",
    "z_2 = torch.cat([x_2, y_2], dim=1)\n",
    "print(z_2)\n",
    "\n",
    "# If your tensors are not compatible, torch will complain.  Uncomment to see the error\n",
    "# torch.cat([x_1, x_2])"
   ]
  },
  {
   "cell_type": "markdown",
   "metadata": {
    "id": "7S_W5-IXZ_y6"
   },
   "source": [
    "__Tensor__ -- это такой же массив, как и в __numpy.array__, размерность и тип данных которого мы можем задать. Tensor в отличие от numpy.array может вычисляться на __GPU__."
   ]
  },
  {
   "cell_type": "code",
   "execution_count": null,
   "metadata": {
    "id": "3ZQqjAouZ_y6"
   },
   "outputs": [],
   "source": [
    "import numpy as np\n",
    "import torch"
   ]
  },
  {
   "cell_type": "code",
   "execution_count": null,
   "metadata": {
    "colab": {
     "base_uri": "https://localhost:8080/"
    },
    "id": "Hj4mRT0wZ_y8",
    "outputId": "b01464c7-bb62-4634-e892-f9ab0b3707c2"
   },
   "outputs": [
    {
     "name": "stdout",
     "output_type": "stream",
     "text": [
      "torch.Size([100, 50, 2])\n"
     ]
    },
    {
     "data": {
      "text/plain": [
       "tensor([1, 2, 3])"
      ]
     },
     "execution_count": 34,
     "metadata": {},
     "output_type": "execute_result"
    }
   ],
   "source": [
    "N = 100\n",
    "D_in = 50\n",
    "\n",
    "dtype = torch.float\n",
    "device = torch.device(\"cpu\")\n",
    "# device = torch.device(\"cuda:0\") # Uncomment this to run on GPU\n",
    "\n",
    "x = np.random.randn(N, D_in)\n",
    "x_torch = torch.randn((N, D_in, 2), device=device, dtype=dtype)\n",
    "print(x_torch.shape)\n",
    "torch.tensor([1,2,3], device=device)"
   ]
  },
  {
   "cell_type": "code",
   "execution_count": null,
   "metadata": {
    "colab": {
     "base_uri": "https://localhost:8080/"
    },
    "id": "HKwslA-KZ_y8",
    "outputId": "d3afe580-4943-42e0-8664-d7170652ee3e"
   },
   "outputs": [
    {
     "data": {
      "text/plain": [
       "array([[ 0.61373446,  1.27544833, -2.68340664, ...,  0.76133342,\n",
       "         1.11680431,  1.08792903],\n",
       "       [ 0.37948914, -0.39570526, -0.3515631 , ...,  1.86049029,\n",
       "        -0.10374261, -0.0724359 ],\n",
       "       [ 0.74927422, -0.02587014, -0.70616885, ...,  0.21847611,\n",
       "        -0.83129116, -0.28469497],\n",
       "       ...,\n",
       "       [-0.80295689, -0.16598718,  1.38496947, ...,  0.32175487,\n",
       "         0.75997257, -1.30992733],\n",
       "       [ 0.21710362,  1.45658188,  0.12217248, ...,  1.09644054,\n",
       "         0.44446769, -0.65360141],\n",
       "       [-0.50156688,  0.94336119, -0.05296278, ...,  0.32903031,\n",
       "         0.10095635,  0.63842852]])"
      ]
     },
     "execution_count": 35,
     "metadata": {},
     "output_type": "execute_result"
    }
   ],
   "source": [
    "x"
   ]
  },
  {
   "cell_type": "code",
   "execution_count": null,
   "metadata": {
    "colab": {
     "base_uri": "https://localhost:8080/"
    },
    "id": "jtHuXc3oZ_y-",
    "outputId": "25f06e2a-04d0-44e2-ca8d-ba798c4d0157"
   },
   "outputs": [
    {
     "data": {
      "text/plain": [
       "tensor([[[-0.5928,  0.6358],\n",
       "         [-3.0913,  0.6888],\n",
       "         [-1.4958,  0.6277],\n",
       "         ...,\n",
       "         [-0.8438, -2.3038],\n",
       "         [ 0.2119, -2.6601],\n",
       "         [-0.9947, -0.5137]],\n",
       "\n",
       "        [[ 2.1362,  2.8138],\n",
       "         [ 0.0456, -0.1192],\n",
       "         [ 0.4656, -1.4708],\n",
       "         ...,\n",
       "         [-0.0699, -0.5120],\n",
       "         [ 1.3522,  0.4608],\n",
       "         [-0.2693, -0.2583]],\n",
       "\n",
       "        [[ 1.0727,  0.1080],\n",
       "         [-1.0975,  1.7769],\n",
       "         [ 0.2404, -1.1616],\n",
       "         ...,\n",
       "         [-0.4240, -0.3659],\n",
       "         [ 0.1866, -0.8113],\n",
       "         [-0.1190,  0.3810]],\n",
       "\n",
       "        ...,\n",
       "\n",
       "        [[ 0.5284,  0.5654],\n",
       "         [-0.2487,  0.6009],\n",
       "         [-0.7430, -0.1331],\n",
       "         ...,\n",
       "         [ 0.0437,  0.2684],\n",
       "         [ 0.9439, -0.2326],\n",
       "         [-1.0365, -0.2475]],\n",
       "\n",
       "        [[ 1.3986,  0.8620],\n",
       "         [-0.1671,  0.6372],\n",
       "         [ 0.7938,  0.8623],\n",
       "         ...,\n",
       "         [ 0.8048, -1.0643],\n",
       "         [ 0.6602, -1.3112],\n",
       "         [ 0.1318,  0.9350]],\n",
       "\n",
       "        [[-0.5524, -1.5529],\n",
       "         [ 1.6352, -0.6827],\n",
       "         [-1.2308,  0.8934],\n",
       "         ...,\n",
       "         [-0.3484,  0.6689],\n",
       "         [ 0.1468,  1.1483],\n",
       "         [-0.4605, -1.1084]]])"
      ]
     },
     "execution_count": 36,
     "metadata": {},
     "output_type": "execute_result"
    }
   ],
   "source": [
    "x_torch"
   ]
  },
  {
   "cell_type": "code",
   "execution_count": null,
   "metadata": {
    "colab": {
     "base_uri": "https://localhost:8080/"
    },
    "id": "RcMpqZlfklWx",
    "outputId": "af58fae5-c763-4f13-d070-a89ea585203f"
   },
   "outputs": [
    {
     "data": {
      "text/plain": [
       "array([[1., 1., 1., ..., 1., 1., 1.],\n",
       "       [1., 1., 1., ..., 1., 1., 1.],\n",
       "       [1., 1., 1., ..., 1., 1., 1.],\n",
       "       ...,\n",
       "       [1., 1., 1., ..., 1., 1., 1.],\n",
       "       [1., 1., 1., ..., 1., 1., 1.],\n",
       "       [1., 1., 1., ..., 1., 1., 1.]])"
      ]
     },
     "execution_count": 37,
     "metadata": {},
     "output_type": "execute_result"
    }
   ],
   "source": [
    "np.ones((N, D_in))"
   ]
  },
  {
   "cell_type": "code",
   "execution_count": null,
   "metadata": {
    "colab": {
     "base_uri": "https://localhost:8080/"
    },
    "id": "szfEFIIVZ_y-",
    "outputId": "0de3316f-9617-4478-9051-719f2e18176d"
   },
   "outputs": [
    {
     "data": {
      "text/plain": [
       "tensor([[1., 1., 1.,  ..., 1., 1., 1.],\n",
       "        [1., 1., 1.,  ..., 1., 1., 1.],\n",
       "        [1., 1., 1.,  ..., 1., 1., 1.],\n",
       "        ...,\n",
       "        [1., 1., 1.,  ..., 1., 1., 1.],\n",
       "        [1., 1., 1.,  ..., 1., 1., 1.],\n",
       "        [1., 1., 1.,  ..., 1., 1., 1.]])"
      ]
     },
     "execution_count": 38,
     "metadata": {},
     "output_type": "execute_result"
    }
   ],
   "source": [
    "x_torch = torch.Tensor(np.ones((N, D_in)))\n",
    "x_torch"
   ]
  },
  {
   "cell_type": "markdown",
   "metadata": {
    "id": "bojAY0khbQ5n"
   },
   "source": [
    "На [странице](https://pytorch.org/docs/stable/tensors.html) приведено описания различных численных форматов `torch.Tensor`"
   ]
  },
  {
   "cell_type": "code",
   "execution_count": null,
   "metadata": {
    "colab": {
     "base_uri": "https://localhost:8080/"
    },
    "id": "NUgf-nbeZ_y_",
    "outputId": "e8660e98-1667-47ee-97d4-cbe6518fc6a0"
   },
   "outputs": [
    {
     "data": {
      "text/plain": [
       "tensor([1., 2., 3.])"
      ]
     },
     "execution_count": 39,
     "metadata": {},
     "output_type": "execute_result"
    }
   ],
   "source": [
    "x_torch = torch.FloatTensor([1, 2, 3])\n",
    "x_torch"
   ]
  },
  {
   "cell_type": "code",
   "execution_count": null,
   "metadata": {
    "id": "zHa1ITl_Z_zA"
   },
   "outputs": [],
   "source": [
    "x1 = torch.IntTensor([1, 2, 3])\n",
    "x2 = torch.FloatTensor([3, 4, 5])"
   ]
  },
  {
   "cell_type": "code",
   "execution_count": null,
   "metadata": {
    "colab": {
     "base_uri": "https://localhost:8080/"
    },
    "id": "cs3M8Sifk0-6",
    "outputId": "937b7ef0-1eb4-4abb-b306-b41d254d3b6f"
   },
   "outputs": [
    {
     "data": {
      "text/plain": [
       "(tensor([1, 2, 3], dtype=torch.int32), tensor([3., 4., 5.]))"
      ]
     },
     "execution_count": 41,
     "metadata": {},
     "output_type": "execute_result"
    }
   ],
   "source": [
    "x1, x2"
   ]
  },
  {
   "cell_type": "markdown",
   "metadata": {
    "id": "4XN-1y_GZ_zB"
   },
   "source": [
    "В PyTorch можно найти много операций, которые похожи на то, что есть в numpy :\n",
    "```\n",
    "- torch.add (np.add) -> сложение тензоров (поэлементное)\n",
    "- torch.sub (np.subtract) -> вычитание (поэлементное)\n",
    "- torch.mul (np.multiply) -> умнажение скаляров / матриц (поэлементное)\n",
    "- torch.mm (np.matmul) -> перемножение матриц\n",
    "- torch.ones (np.ones) -> создание тензора из единиц\n",
    "```"
   ]
  },
  {
   "cell_type": "markdown",
   "metadata": {
    "id": "AGIRBUF4bUBO"
   },
   "source": [
    "Давайте попробуем вышепересчисленные операции"
   ]
  },
  {
   "cell_type": "code",
   "execution_count": null,
   "metadata": {
    "colab": {
     "base_uri": "https://localhost:8080/"
    },
    "id": "5PF3LZ9gmHya",
    "outputId": "8e5b65fa-8a84-41ad-c5b1-068fa4699867"
   },
   "outputs": [
    {
     "name": "stdout",
     "output_type": "stream",
     "text": [
      "tensor([1, 2, 3]) tensor([1, 1, 1])\n"
     ]
    },
    {
     "data": {
      "text/plain": [
       "(tensor([2, 3, 4]), tensor([2, 3, 4]))"
      ]
     },
     "execution_count": 17,
     "metadata": {},
     "output_type": "execute_result"
    }
   ],
   "source": [
    "a = torch.tensor([1,2,3])\n",
    "b = torch.ones_like(a)\n",
    "print(a, b)\n",
    "torch.add(a, b), a.add(b)"
   ]
  },
  {
   "cell_type": "code",
   "execution_count": null,
   "metadata": {
    "colab": {
     "base_uri": "https://localhost:8080/"
    },
    "id": "dzdwnhQfZ_zB",
    "outputId": "f8cfbcc0-8ca0-4b4b-8a8c-b74517da8c24"
   },
   "outputs": [
    {
     "data": {
      "text/plain": [
       "tensor([[1., 2., 3.],\n",
       "        [4., 5., 6.]])"
      ]
     },
     "execution_count": 43,
     "metadata": {},
     "output_type": "execute_result"
    }
   ],
   "source": [
    "x1 = torch.FloatTensor([[1, 2, 3], [4, 5, 6]])\n",
    "x1"
   ]
  },
  {
   "cell_type": "code",
   "execution_count": null,
   "metadata": {
    "colab": {
     "base_uri": "https://localhost:8080/"
    },
    "id": "EBM-74viZ_zC",
    "outputId": "33c968a2-6a78-4451-f9b6-6f171aee528b"
   },
   "outputs": [
    {
     "data": {
      "text/plain": [
       "tensor([[7., 8.],\n",
       "        [9., 1.],\n",
       "        [2., 3.]])"
      ]
     },
     "execution_count": 44,
     "metadata": {},
     "output_type": "execute_result"
    }
   ],
   "source": [
    "x2 = torch.FloatTensor([[7, 8], [9, 1], [2, 3]])\n",
    "x2"
   ]
  },
  {
   "cell_type": "code",
   "execution_count": null,
   "metadata": {
    "colab": {
     "base_uri": "https://localhost:8080/"
    },
    "id": "0J0qOFUPZ_zC",
    "outputId": "6db815f6-16fb-4fe8-8e6f-13a93255cd8b"
   },
   "outputs": [
    {
     "data": {
      "text/plain": [
       "tensor([[31., 19.],\n",
       "        [85., 55.]])"
      ]
     },
     "execution_count": 45,
     "metadata": {},
     "output_type": "execute_result"
    }
   ],
   "source": [
    "out = torch.mm(x1, x2)\n",
    "out"
   ]
  },
  {
   "cell_type": "code",
   "execution_count": null,
   "metadata": {
    "colab": {
     "base_uri": "https://localhost:8080/"
    },
    "id": "AWf0t6QTREH5",
    "outputId": "c3c69560-a081-4f11-c040-fb3dda04274e"
   },
   "outputs": [
    {
     "data": {
      "text/plain": [
       "tensor([[1., 1., 1.],\n",
       "        [1., 1., 1.],\n",
       "        [1., 1., 1.]])"
      ]
     },
     "execution_count": 46,
     "metadata": {},
     "output_type": "execute_result"
    }
   ],
   "source": [
    "torch.ones((3, 3))"
   ]
  },
  {
   "cell_type": "code",
   "execution_count": null,
   "metadata": {
    "colab": {
     "base_uri": "https://localhost:8080/"
    },
    "id": "walRvfIVRG87",
    "outputId": "10235ad4-6977-42b8-990f-f9794269b67d"
   },
   "outputs": [
    {
     "name": "stdout",
     "output_type": "stream",
     "text": [
      "tensor([[1., 1., 1.],\n",
      "        [1., 1., 1.]])\n",
      "\n",
      "tensor([[1., 1.],\n",
      "        [1., 1.],\n",
      "        [1., 1.]])\n"
     ]
    }
   ],
   "source": [
    "print(torch.ones_like(x1))\n",
    "print()\n",
    "print(torch.ones_like(x2))"
   ]
  },
  {
   "cell_type": "markdown",
   "metadata": {
    "id": "o-Bgo2ILx7tW"
   },
   "source": [
    "Reshaping Tensors\n",
    "~~~~~~~~~~~~~~~~~\n",
    "\n",
    "Use the .view() method to reshape a tensor. This method receives heavy\n",
    "use, because many neural network components expect their inputs to have\n",
    "a certain shape. Often you will need to reshape before passing your data\n",
    "to the component.\n",
    "\n",
    "\n"
   ]
  },
  {
   "cell_type": "code",
   "execution_count": null,
   "metadata": {
    "colab": {
     "base_uri": "https://localhost:8080/"
    },
    "id": "NUTS5moEDU-W",
    "outputId": "dc77a9d0-0f89-4f1e-9fa8-38778abfcd82"
   },
   "outputs": [
    {
     "name": "stdout",
     "output_type": "stream",
     "text": [
      "torch.Size([2, 2, 3])\n"
     ]
    },
    {
     "data": {
      "text/plain": [
       "tensor([[1, 2, 3, 3],\n",
       "        [4, 5, 1, 2],\n",
       "        [3, 3, 4, 5]])"
      ]
     },
     "execution_count": 51,
     "metadata": {},
     "output_type": "execute_result"
    }
   ],
   "source": [
    "x = torch.tensor([[[1,2,3],\n",
    "                  [3,4,5]],\n",
    "                \n",
    "                [[1,2,3],\n",
    "                  [3,4,5]]])\n",
    "print(x.shape)\n",
    "x.view(3, -1)\n",
    "# x.shape"
   ]
  },
  {
   "cell_type": "code",
   "execution_count": null,
   "metadata": {
    "colab": {
     "base_uri": "https://localhost:8080/"
    },
    "id": "1V8gCNAlx7tW",
    "outputId": "beee8e6e-4044-4911-d042-86d4f608b07c"
   },
   "outputs": [
    {
     "name": "stdout",
     "output_type": "stream",
     "text": [
      "tensor([[[ 1.6730,  1.2731,  0.4292, -1.1909],\n",
      "         [-0.3623,  0.9516, -0.8904,  1.5802],\n",
      "         [-0.0746, -0.2861,  1.0203, -1.3425]],\n",
      "\n",
      "        [[ 0.3347,  0.5698,  0.4372, -0.5147],\n",
      "         [-0.0286, -1.6158,  0.2189, -0.0166],\n",
      "         [ 0.0526, -0.3196, -0.0254, -0.4843]]]) \n",
      "\n",
      "\n",
      "tensor([[ 1.6730,  1.2731,  0.4292, -1.1909, -0.3623,  0.9516, -0.8904,  1.5802,\n",
      "         -0.0746, -0.2861,  1.0203, -1.3425],\n",
      "        [ 0.3347,  0.5698,  0.4372, -0.5147, -0.0286, -1.6158,  0.2189, -0.0166,\n",
      "          0.0526, -0.3196, -0.0254, -0.4843]])\n",
      "tensor([[ 1.6730,  1.2731,  0.4292, -1.1909, -0.3623,  0.9516, -0.8904,  1.5802,\n",
      "         -0.0746, -0.2861,  1.0203, -1.3425],\n",
      "        [ 0.3347,  0.5698,  0.4372, -0.5147, -0.0286, -1.6158,  0.2189, -0.0166,\n",
      "          0.0526, -0.3196, -0.0254, -0.4843]])\n"
     ]
    }
   ],
   "source": [
    "x = torch.randn(2, 3, 4)\n",
    "print(x, '\\n\\n')\n",
    "print(x.view(2, 12))  # Reshape to 2 rows, 12 columns\n",
    "# Same as above.  If one of the dimensions is -1, its size can be inferred\n",
    "print(x.view(2, -1))"
   ]
  },
  {
   "cell_type": "markdown",
   "metadata": {
    "id": "LN2Ym9jPZ_zD"
   },
   "source": [
    "```\n",
    "- torch.reshape или tensor.view (где tensor-это объект torch.tensor) -> изменения порядка элементов в тензоре, не путать с транспонированием.\n",
    "```"
   ]
  },
  {
   "cell_type": "code",
   "execution_count": null,
   "metadata": {
    "colab": {
     "base_uri": "https://localhost:8080/"
    },
    "id": "2gB1HMmUlUa4",
    "outputId": "33f2d089-a606-4225-ddd4-6a44b4518fc7"
   },
   "outputs": [
    {
     "name": "stdout",
     "output_type": "stream",
     "text": [
      "tensor([[1., 2., 3.],\n",
      "        [4., 5., 6.]]) \n",
      "\n",
      "\n"
     ]
    },
    {
     "data": {
      "text/plain": [
       "tensor([[1., 4.],\n",
       "        [2., 5.],\n",
       "        [3., 6.]])"
      ]
     },
     "execution_count": 53,
     "metadata": {},
     "output_type": "execute_result"
    }
   ],
   "source": [
    "print(x1, '\\n\\n')\n",
    "x1.t()"
   ]
  },
  {
   "cell_type": "code",
   "execution_count": null,
   "metadata": {
    "colab": {
     "base_uri": "https://localhost:8080/"
    },
    "id": "nP2iVynzDwmd",
    "outputId": "635794bd-aae5-4f7b-92df-3d01f11727d3"
   },
   "outputs": [
    {
     "data": {
      "text/plain": [
       "tensor([[1., 2.],\n",
       "        [3., 4.],\n",
       "        [5., 6.]])"
      ]
     },
     "execution_count": 54,
     "metadata": {},
     "output_type": "execute_result"
    }
   ],
   "source": [
    "x1.view(3, 2)"
   ]
  },
  {
   "cell_type": "code",
   "execution_count": null,
   "metadata": {
    "colab": {
     "base_uri": "https://localhost:8080/"
    },
    "id": "YBWetyXVPeJy",
    "outputId": "26a5789e-f617-4a16-f663-62bdc80d0f3b"
   },
   "outputs": [
    {
     "data": {
      "text/plain": [
       "tensor([[1., 2.],\n",
       "        [3., 4.],\n",
       "        [5., 6.]])"
      ]
     },
     "execution_count": 56,
     "metadata": {},
     "output_type": "execute_result"
    }
   ],
   "source": [
    "torch.reshape(x1, (-1, 2))"
   ]
  },
  {
   "cell_type": "code",
   "execution_count": null,
   "metadata": {
    "colab": {
     "base_uri": "https://localhost:8080/"
    },
    "id": "00DJZIqPP1py",
    "outputId": "40dd7355-8371-47e7-c29a-1895e206f45b"
   },
   "outputs": [
    {
     "data": {
      "text/plain": [
       "tensor([[1., 2.],\n",
       "        [3., 4.],\n",
       "        [5., 6.]])"
      ]
     },
     "execution_count": 57,
     "metadata": {},
     "output_type": "execute_result"
    }
   ],
   "source": [
    "x1.view((-1, 2))"
   ]
  },
  {
   "cell_type": "code",
   "execution_count": null,
   "metadata": {
    "colab": {
     "base_uri": "https://localhost:8080/"
    },
    "id": "cZjgQ2LgQCkI",
    "outputId": "85320270-e674-44e6-91ff-8fb202542fc2"
   },
   "outputs": [
    {
     "data": {
      "text/plain": [
       "tensor([[1., 2.],\n",
       "        [3., 4.],\n",
       "        [5., 6.]])"
      ]
     },
     "execution_count": 58,
     "metadata": {},
     "output_type": "execute_result"
    }
   ],
   "source": [
    "x1 = x1.reshape_as(x2)\n",
    "x1"
   ]
  },
  {
   "cell_type": "code",
   "execution_count": null,
   "metadata": {
    "colab": {
     "base_uri": "https://localhost:8080/"
    },
    "id": "4Jui05AGQJ-_",
    "outputId": "f63332d0-6080-4e7d-bf92-e1513373f5bb"
   },
   "outputs": [
    {
     "name": "stdout",
     "output_type": "stream",
     "text": [
      "x1 type: torch.int32 \n",
      "x2 type: torch.float32 \n",
      "\n",
      "\n"
     ]
    },
    {
     "data": {
      "text/plain": [
       "tensor([[ 8., 10.],\n",
       "        [12.,  5.],\n",
       "        [ 7.,  9.]])"
      ]
     },
     "execution_count": 61,
     "metadata": {},
     "output_type": "execute_result"
    }
   ],
   "source": [
    "x1 = x1.type(torch.int)\n",
    "\n",
    "print(f'x1 type: {x1.dtype} \\nx2 type: {x2.dtype} \\n\\n')\n",
    "x1 + x2"
   ]
  },
  {
   "cell_type": "code",
   "execution_count": null,
   "metadata": {
    "id": "NKRBko_2Ew2J"
   },
   "outputs": [],
   "source": []
  }
 ],
 "metadata": {
  "colab": {
   "collapsed_sections": [],
   "name": "PyTorch_tutorial.ipynb",
   "provenance": []
  },
  "kernelspec": {
   "display_name": "Python 3",
   "language": "python",
   "name": "python3"
  },
  "language_info": {
   "codemirror_mode": {
    "name": "ipython",
    "version": 3
   },
   "file_extension": ".py",
   "mimetype": "text/x-python",
   "name": "python",
   "nbconvert_exporter": "python",
   "pygments_lexer": "ipython3",
   "version": "3.6.13"
  }
 },
 "nbformat": 4,
 "nbformat_minor": 4
}
