{
  "nbformat": 4,
  "nbformat_minor": 0,
  "metadata": {
    "kernelspec": {
      "display_name": "Python 3",
      "language": "python",
      "name": "python3"
    },
    "language_info": {
      "codemirror_mode": {
        "name": "ipython",
        "version": 3
      },
      "file_extension": ".py",
      "mimetype": "text/x-python",
      "name": "python",
      "nbconvert_exporter": "python",
      "pygments_lexer": "ipython3",
      "version": "3.7.2"
    },
    "colab": {
      "name": "Manifold_learning_PyTorch.ipynb",
      "provenance": [],
      "collapsed_sections": []
    },
    "accelerator": "GPU",
    "widgets": {
      "application/vnd.jupyter.widget-state+json": {
        "3cfa2792de2242eeb0dc53f7ef177fc5": {
          "model_module": "@jupyter-widgets/controls",
          "model_name": "HBoxModel",
          "model_module_version": "1.5.0",
          "state": {
            "_dom_classes": [],
            "_model_module": "@jupyter-widgets/controls",
            "_model_module_version": "1.5.0",
            "_model_name": "HBoxModel",
            "_view_count": null,
            "_view_module": "@jupyter-widgets/controls",
            "_view_module_version": "1.5.0",
            "_view_name": "HBoxView",
            "box_style": "",
            "children": [
              "IPY_MODEL_725f1334e8d648329eb5c69d7709e8bf",
              "IPY_MODEL_c529473c08d143e6bac4f715d7e1e2a6",
              "IPY_MODEL_4639713d815245cbb63835d0395fb05e"
            ],
            "layout": "IPY_MODEL_a64d0ddec7eb47b697d15b3c2708f0fa"
          }
        },
        "725f1334e8d648329eb5c69d7709e8bf": {
          "model_module": "@jupyter-widgets/controls",
          "model_name": "HTMLModel",
          "model_module_version": "1.5.0",
          "state": {
            "_dom_classes": [],
            "_model_module": "@jupyter-widgets/controls",
            "_model_module_version": "1.5.0",
            "_model_name": "HTMLModel",
            "_view_count": null,
            "_view_module": "@jupyter-widgets/controls",
            "_view_module_version": "1.5.0",
            "_view_name": "HTMLView",
            "description": "",
            "description_tooltip": null,
            "layout": "IPY_MODEL_530db333cce0439ba01e251241a53f1a",
            "placeholder": "​",
            "style": "IPY_MODEL_ffa5fa33411e40fb8fdae13c8612677b",
            "value": "100%"
          }
        },
        "c529473c08d143e6bac4f715d7e1e2a6": {
          "model_module": "@jupyter-widgets/controls",
          "model_name": "FloatProgressModel",
          "model_module_version": "1.5.0",
          "state": {
            "_dom_classes": [],
            "_model_module": "@jupyter-widgets/controls",
            "_model_module_version": "1.5.0",
            "_model_name": "FloatProgressModel",
            "_view_count": null,
            "_view_module": "@jupyter-widgets/controls",
            "_view_module_version": "1.5.0",
            "_view_name": "ProgressView",
            "bar_style": "success",
            "description": "",
            "description_tooltip": null,
            "layout": "IPY_MODEL_285b9168c812481581caf5b1d40a1048",
            "max": 100,
            "min": 0,
            "orientation": "horizontal",
            "style": "IPY_MODEL_bffdd244ca2240199cb00b0da8e4951a",
            "value": 100
          }
        },
        "4639713d815245cbb63835d0395fb05e": {
          "model_module": "@jupyter-widgets/controls",
          "model_name": "HTMLModel",
          "model_module_version": "1.5.0",
          "state": {
            "_dom_classes": [],
            "_model_module": "@jupyter-widgets/controls",
            "_model_module_version": "1.5.0",
            "_model_name": "HTMLModel",
            "_view_count": null,
            "_view_module": "@jupyter-widgets/controls",
            "_view_module_version": "1.5.0",
            "_view_name": "HTMLView",
            "description": "",
            "description_tooltip": null,
            "layout": "IPY_MODEL_1f538e8991e64699bf2a3a62da2493ba",
            "placeholder": "​",
            "style": "IPY_MODEL_38ef65974aaf4a8d8f23d3ee83de373d",
            "value": " 100/100 [00:16&lt;00:00,  7.52it/s]"
          }
        },
        "a64d0ddec7eb47b697d15b3c2708f0fa": {
          "model_module": "@jupyter-widgets/base",
          "model_name": "LayoutModel",
          "model_module_version": "1.2.0",
          "state": {
            "_model_module": "@jupyter-widgets/base",
            "_model_module_version": "1.2.0",
            "_model_name": "LayoutModel",
            "_view_count": null,
            "_view_module": "@jupyter-widgets/base",
            "_view_module_version": "1.2.0",
            "_view_name": "LayoutView",
            "align_content": null,
            "align_items": null,
            "align_self": null,
            "border": null,
            "bottom": null,
            "display": null,
            "flex": null,
            "flex_flow": null,
            "grid_area": null,
            "grid_auto_columns": null,
            "grid_auto_flow": null,
            "grid_auto_rows": null,
            "grid_column": null,
            "grid_gap": null,
            "grid_row": null,
            "grid_template_areas": null,
            "grid_template_columns": null,
            "grid_template_rows": null,
            "height": null,
            "justify_content": null,
            "justify_items": null,
            "left": null,
            "margin": null,
            "max_height": null,
            "max_width": null,
            "min_height": null,
            "min_width": null,
            "object_fit": null,
            "object_position": null,
            "order": null,
            "overflow": null,
            "overflow_x": null,
            "overflow_y": null,
            "padding": null,
            "right": null,
            "top": null,
            "visibility": null,
            "width": null
          }
        },
        "530db333cce0439ba01e251241a53f1a": {
          "model_module": "@jupyter-widgets/base",
          "model_name": "LayoutModel",
          "model_module_version": "1.2.0",
          "state": {
            "_model_module": "@jupyter-widgets/base",
            "_model_module_version": "1.2.0",
            "_model_name": "LayoutModel",
            "_view_count": null,
            "_view_module": "@jupyter-widgets/base",
            "_view_module_version": "1.2.0",
            "_view_name": "LayoutView",
            "align_content": null,
            "align_items": null,
            "align_self": null,
            "border": null,
            "bottom": null,
            "display": null,
            "flex": null,
            "flex_flow": null,
            "grid_area": null,
            "grid_auto_columns": null,
            "grid_auto_flow": null,
            "grid_auto_rows": null,
            "grid_column": null,
            "grid_gap": null,
            "grid_row": null,
            "grid_template_areas": null,
            "grid_template_columns": null,
            "grid_template_rows": null,
            "height": null,
            "justify_content": null,
            "justify_items": null,
            "left": null,
            "margin": null,
            "max_height": null,
            "max_width": null,
            "min_height": null,
            "min_width": null,
            "object_fit": null,
            "object_position": null,
            "order": null,
            "overflow": null,
            "overflow_x": null,
            "overflow_y": null,
            "padding": null,
            "right": null,
            "top": null,
            "visibility": null,
            "width": null
          }
        },
        "ffa5fa33411e40fb8fdae13c8612677b": {
          "model_module": "@jupyter-widgets/controls",
          "model_name": "DescriptionStyleModel",
          "model_module_version": "1.5.0",
          "state": {
            "_model_module": "@jupyter-widgets/controls",
            "_model_module_version": "1.5.0",
            "_model_name": "DescriptionStyleModel",
            "_view_count": null,
            "_view_module": "@jupyter-widgets/base",
            "_view_module_version": "1.2.0",
            "_view_name": "StyleView",
            "description_width": ""
          }
        },
        "285b9168c812481581caf5b1d40a1048": {
          "model_module": "@jupyter-widgets/base",
          "model_name": "LayoutModel",
          "model_module_version": "1.2.0",
          "state": {
            "_model_module": "@jupyter-widgets/base",
            "_model_module_version": "1.2.0",
            "_model_name": "LayoutModel",
            "_view_count": null,
            "_view_module": "@jupyter-widgets/base",
            "_view_module_version": "1.2.0",
            "_view_name": "LayoutView",
            "align_content": null,
            "align_items": null,
            "align_self": null,
            "border": null,
            "bottom": null,
            "display": null,
            "flex": null,
            "flex_flow": null,
            "grid_area": null,
            "grid_auto_columns": null,
            "grid_auto_flow": null,
            "grid_auto_rows": null,
            "grid_column": null,
            "grid_gap": null,
            "grid_row": null,
            "grid_template_areas": null,
            "grid_template_columns": null,
            "grid_template_rows": null,
            "height": null,
            "justify_content": null,
            "justify_items": null,
            "left": null,
            "margin": null,
            "max_height": null,
            "max_width": null,
            "min_height": null,
            "min_width": null,
            "object_fit": null,
            "object_position": null,
            "order": null,
            "overflow": null,
            "overflow_x": null,
            "overflow_y": null,
            "padding": null,
            "right": null,
            "top": null,
            "visibility": null,
            "width": null
          }
        },
        "bffdd244ca2240199cb00b0da8e4951a": {
          "model_module": "@jupyter-widgets/controls",
          "model_name": "ProgressStyleModel",
          "model_module_version": "1.5.0",
          "state": {
            "_model_module": "@jupyter-widgets/controls",
            "_model_module_version": "1.5.0",
            "_model_name": "ProgressStyleModel",
            "_view_count": null,
            "_view_module": "@jupyter-widgets/base",
            "_view_module_version": "1.2.0",
            "_view_name": "StyleView",
            "bar_color": null,
            "description_width": ""
          }
        },
        "1f538e8991e64699bf2a3a62da2493ba": {
          "model_module": "@jupyter-widgets/base",
          "model_name": "LayoutModel",
          "model_module_version": "1.2.0",
          "state": {
            "_model_module": "@jupyter-widgets/base",
            "_model_module_version": "1.2.0",
            "_model_name": "LayoutModel",
            "_view_count": null,
            "_view_module": "@jupyter-widgets/base",
            "_view_module_version": "1.2.0",
            "_view_name": "LayoutView",
            "align_content": null,
            "align_items": null,
            "align_self": null,
            "border": null,
            "bottom": null,
            "display": null,
            "flex": null,
            "flex_flow": null,
            "grid_area": null,
            "grid_auto_columns": null,
            "grid_auto_flow": null,
            "grid_auto_rows": null,
            "grid_column": null,
            "grid_gap": null,
            "grid_row": null,
            "grid_template_areas": null,
            "grid_template_columns": null,
            "grid_template_rows": null,
            "height": null,
            "justify_content": null,
            "justify_items": null,
            "left": null,
            "margin": null,
            "max_height": null,
            "max_width": null,
            "min_height": null,
            "min_width": null,
            "object_fit": null,
            "object_position": null,
            "order": null,
            "overflow": null,
            "overflow_x": null,
            "overflow_y": null,
            "padding": null,
            "right": null,
            "top": null,
            "visibility": null,
            "width": null
          }
        },
        "38ef65974aaf4a8d8f23d3ee83de373d": {
          "model_module": "@jupyter-widgets/controls",
          "model_name": "DescriptionStyleModel",
          "model_module_version": "1.5.0",
          "state": {
            "_model_module": "@jupyter-widgets/controls",
            "_model_module_version": "1.5.0",
            "_model_name": "DescriptionStyleModel",
            "_view_count": null,
            "_view_module": "@jupyter-widgets/base",
            "_view_module_version": "1.2.0",
            "_view_name": "StyleView",
            "description_width": ""
          }
        },
        "c1901600e4614fcc869b58507bc9c9d2": {
          "model_module": "@jupyter-widgets/controls",
          "model_name": "HBoxModel",
          "model_module_version": "1.5.0",
          "state": {
            "_dom_classes": [],
            "_model_module": "@jupyter-widgets/controls",
            "_model_module_version": "1.5.0",
            "_model_name": "HBoxModel",
            "_view_count": null,
            "_view_module": "@jupyter-widgets/controls",
            "_view_module_version": "1.5.0",
            "_view_name": "HBoxView",
            "box_style": "",
            "children": [
              "IPY_MODEL_4721c98a3ef34036996a2603589c9b3c",
              "IPY_MODEL_3bec17c0ad484f0ab52be4037efd9070",
              "IPY_MODEL_95419251164948599265a8648940059e"
            ],
            "layout": "IPY_MODEL_994e37836330441ea1a8062a543e1a07"
          }
        },
        "4721c98a3ef34036996a2603589c9b3c": {
          "model_module": "@jupyter-widgets/controls",
          "model_name": "HTMLModel",
          "model_module_version": "1.5.0",
          "state": {
            "_dom_classes": [],
            "_model_module": "@jupyter-widgets/controls",
            "_model_module_version": "1.5.0",
            "_model_name": "HTMLModel",
            "_view_count": null,
            "_view_module": "@jupyter-widgets/controls",
            "_view_module_version": "1.5.0",
            "_view_name": "HTMLView",
            "description": "",
            "description_tooltip": null,
            "layout": "IPY_MODEL_5a87814988f74ed49fb09c8bdfbad3e5",
            "placeholder": "​",
            "style": "IPY_MODEL_ca7da97595724fbc9485be9fb3644c73",
            "value": "100%"
          }
        },
        "3bec17c0ad484f0ab52be4037efd9070": {
          "model_module": "@jupyter-widgets/controls",
          "model_name": "FloatProgressModel",
          "model_module_version": "1.5.0",
          "state": {
            "_dom_classes": [],
            "_model_module": "@jupyter-widgets/controls",
            "_model_module_version": "1.5.0",
            "_model_name": "FloatProgressModel",
            "_view_count": null,
            "_view_module": "@jupyter-widgets/controls",
            "_view_module_version": "1.5.0",
            "_view_name": "ProgressView",
            "bar_style": "success",
            "description": "",
            "description_tooltip": null,
            "layout": "IPY_MODEL_e38d4a70f83748e280cdbf63bbd54ed0",
            "max": 100,
            "min": 0,
            "orientation": "horizontal",
            "style": "IPY_MODEL_b7bc6312ce8945ee825f179d981ed513",
            "value": 100
          }
        },
        "95419251164948599265a8648940059e": {
          "model_module": "@jupyter-widgets/controls",
          "model_name": "HTMLModel",
          "model_module_version": "1.5.0",
          "state": {
            "_dom_classes": [],
            "_model_module": "@jupyter-widgets/controls",
            "_model_module_version": "1.5.0",
            "_model_name": "HTMLModel",
            "_view_count": null,
            "_view_module": "@jupyter-widgets/controls",
            "_view_module_version": "1.5.0",
            "_view_name": "HTMLView",
            "description": "",
            "description_tooltip": null,
            "layout": "IPY_MODEL_0bde7eca60b047368d59afdd871fc2a4",
            "placeholder": "​",
            "style": "IPY_MODEL_819b046c9bd84389ab95541b6d1f177b",
            "value": " 100/100 [00:19&lt;00:00,  5.28it/s]"
          }
        },
        "994e37836330441ea1a8062a543e1a07": {
          "model_module": "@jupyter-widgets/base",
          "model_name": "LayoutModel",
          "model_module_version": "1.2.0",
          "state": {
            "_model_module": "@jupyter-widgets/base",
            "_model_module_version": "1.2.0",
            "_model_name": "LayoutModel",
            "_view_count": null,
            "_view_module": "@jupyter-widgets/base",
            "_view_module_version": "1.2.0",
            "_view_name": "LayoutView",
            "align_content": null,
            "align_items": null,
            "align_self": null,
            "border": null,
            "bottom": null,
            "display": null,
            "flex": null,
            "flex_flow": null,
            "grid_area": null,
            "grid_auto_columns": null,
            "grid_auto_flow": null,
            "grid_auto_rows": null,
            "grid_column": null,
            "grid_gap": null,
            "grid_row": null,
            "grid_template_areas": null,
            "grid_template_columns": null,
            "grid_template_rows": null,
            "height": null,
            "justify_content": null,
            "justify_items": null,
            "left": null,
            "margin": null,
            "max_height": null,
            "max_width": null,
            "min_height": null,
            "min_width": null,
            "object_fit": null,
            "object_position": null,
            "order": null,
            "overflow": null,
            "overflow_x": null,
            "overflow_y": null,
            "padding": null,
            "right": null,
            "top": null,
            "visibility": null,
            "width": null
          }
        },
        "5a87814988f74ed49fb09c8bdfbad3e5": {
          "model_module": "@jupyter-widgets/base",
          "model_name": "LayoutModel",
          "model_module_version": "1.2.0",
          "state": {
            "_model_module": "@jupyter-widgets/base",
            "_model_module_version": "1.2.0",
            "_model_name": "LayoutModel",
            "_view_count": null,
            "_view_module": "@jupyter-widgets/base",
            "_view_module_version": "1.2.0",
            "_view_name": "LayoutView",
            "align_content": null,
            "align_items": null,
            "align_self": null,
            "border": null,
            "bottom": null,
            "display": null,
            "flex": null,
            "flex_flow": null,
            "grid_area": null,
            "grid_auto_columns": null,
            "grid_auto_flow": null,
            "grid_auto_rows": null,
            "grid_column": null,
            "grid_gap": null,
            "grid_row": null,
            "grid_template_areas": null,
            "grid_template_columns": null,
            "grid_template_rows": null,
            "height": null,
            "justify_content": null,
            "justify_items": null,
            "left": null,
            "margin": null,
            "max_height": null,
            "max_width": null,
            "min_height": null,
            "min_width": null,
            "object_fit": null,
            "object_position": null,
            "order": null,
            "overflow": null,
            "overflow_x": null,
            "overflow_y": null,
            "padding": null,
            "right": null,
            "top": null,
            "visibility": null,
            "width": null
          }
        },
        "ca7da97595724fbc9485be9fb3644c73": {
          "model_module": "@jupyter-widgets/controls",
          "model_name": "DescriptionStyleModel",
          "model_module_version": "1.5.0",
          "state": {
            "_model_module": "@jupyter-widgets/controls",
            "_model_module_version": "1.5.0",
            "_model_name": "DescriptionStyleModel",
            "_view_count": null,
            "_view_module": "@jupyter-widgets/base",
            "_view_module_version": "1.2.0",
            "_view_name": "StyleView",
            "description_width": ""
          }
        },
        "e38d4a70f83748e280cdbf63bbd54ed0": {
          "model_module": "@jupyter-widgets/base",
          "model_name": "LayoutModel",
          "model_module_version": "1.2.0",
          "state": {
            "_model_module": "@jupyter-widgets/base",
            "_model_module_version": "1.2.0",
            "_model_name": "LayoutModel",
            "_view_count": null,
            "_view_module": "@jupyter-widgets/base",
            "_view_module_version": "1.2.0",
            "_view_name": "LayoutView",
            "align_content": null,
            "align_items": null,
            "align_self": null,
            "border": null,
            "bottom": null,
            "display": null,
            "flex": null,
            "flex_flow": null,
            "grid_area": null,
            "grid_auto_columns": null,
            "grid_auto_flow": null,
            "grid_auto_rows": null,
            "grid_column": null,
            "grid_gap": null,
            "grid_row": null,
            "grid_template_areas": null,
            "grid_template_columns": null,
            "grid_template_rows": null,
            "height": null,
            "justify_content": null,
            "justify_items": null,
            "left": null,
            "margin": null,
            "max_height": null,
            "max_width": null,
            "min_height": null,
            "min_width": null,
            "object_fit": null,
            "object_position": null,
            "order": null,
            "overflow": null,
            "overflow_x": null,
            "overflow_y": null,
            "padding": null,
            "right": null,
            "top": null,
            "visibility": null,
            "width": null
          }
        },
        "b7bc6312ce8945ee825f179d981ed513": {
          "model_module": "@jupyter-widgets/controls",
          "model_name": "ProgressStyleModel",
          "model_module_version": "1.5.0",
          "state": {
            "_model_module": "@jupyter-widgets/controls",
            "_model_module_version": "1.5.0",
            "_model_name": "ProgressStyleModel",
            "_view_count": null,
            "_view_module": "@jupyter-widgets/base",
            "_view_module_version": "1.2.0",
            "_view_name": "StyleView",
            "bar_color": null,
            "description_width": ""
          }
        },
        "0bde7eca60b047368d59afdd871fc2a4": {
          "model_module": "@jupyter-widgets/base",
          "model_name": "LayoutModel",
          "model_module_version": "1.2.0",
          "state": {
            "_model_module": "@jupyter-widgets/base",
            "_model_module_version": "1.2.0",
            "_model_name": "LayoutModel",
            "_view_count": null,
            "_view_module": "@jupyter-widgets/base",
            "_view_module_version": "1.2.0",
            "_view_name": "LayoutView",
            "align_content": null,
            "align_items": null,
            "align_self": null,
            "border": null,
            "bottom": null,
            "display": null,
            "flex": null,
            "flex_flow": null,
            "grid_area": null,
            "grid_auto_columns": null,
            "grid_auto_flow": null,
            "grid_auto_rows": null,
            "grid_column": null,
            "grid_gap": null,
            "grid_row": null,
            "grid_template_areas": null,
            "grid_template_columns": null,
            "grid_template_rows": null,
            "height": null,
            "justify_content": null,
            "justify_items": null,
            "left": null,
            "margin": null,
            "max_height": null,
            "max_width": null,
            "min_height": null,
            "min_width": null,
            "object_fit": null,
            "object_position": null,
            "order": null,
            "overflow": null,
            "overflow_x": null,
            "overflow_y": null,
            "padding": null,
            "right": null,
            "top": null,
            "visibility": null,
            "width": null
          }
        },
        "819b046c9bd84389ab95541b6d1f177b": {
          "model_module": "@jupyter-widgets/controls",
          "model_name": "DescriptionStyleModel",
          "model_module_version": "1.5.0",
          "state": {
            "_model_module": "@jupyter-widgets/controls",
            "_model_module_version": "1.5.0",
            "_model_name": "DescriptionStyleModel",
            "_view_count": null,
            "_view_module": "@jupyter-widgets/base",
            "_view_module_version": "1.2.0",
            "_view_name": "StyleView",
            "description_width": ""
          }
        },
        "87d5a3b0a3c34df7b16686406d2b9932": {
          "model_module": "@jupyter-widgets/controls",
          "model_name": "HBoxModel",
          "model_module_version": "1.5.0",
          "state": {
            "_dom_classes": [],
            "_model_module": "@jupyter-widgets/controls",
            "_model_module_version": "1.5.0",
            "_model_name": "HBoxModel",
            "_view_count": null,
            "_view_module": "@jupyter-widgets/controls",
            "_view_module_version": "1.5.0",
            "_view_name": "HBoxView",
            "box_style": "",
            "children": [
              "IPY_MODEL_3ab43c9904c7447a91c83e031dbf6516",
              "IPY_MODEL_d677460efa5a4c2c92c7d4b0cb34f55b",
              "IPY_MODEL_194e68293dce4d9797a6f95c9a9c8515"
            ],
            "layout": "IPY_MODEL_7159f84786fb417f9da3bda35f87a47b"
          }
        },
        "3ab43c9904c7447a91c83e031dbf6516": {
          "model_module": "@jupyter-widgets/controls",
          "model_name": "HTMLModel",
          "model_module_version": "1.5.0",
          "state": {
            "_dom_classes": [],
            "_model_module": "@jupyter-widgets/controls",
            "_model_module_version": "1.5.0",
            "_model_name": "HTMLModel",
            "_view_count": null,
            "_view_module": "@jupyter-widgets/controls",
            "_view_module_version": "1.5.0",
            "_view_name": "HTMLView",
            "description": "",
            "description_tooltip": null,
            "layout": "IPY_MODEL_42fb77481601415382030c9cba29bf6d",
            "placeholder": "​",
            "style": "IPY_MODEL_64e73b09200f481085d1941023aa27b5",
            "value": "100%"
          }
        },
        "d677460efa5a4c2c92c7d4b0cb34f55b": {
          "model_module": "@jupyter-widgets/controls",
          "model_name": "FloatProgressModel",
          "model_module_version": "1.5.0",
          "state": {
            "_dom_classes": [],
            "_model_module": "@jupyter-widgets/controls",
            "_model_module_version": "1.5.0",
            "_model_name": "FloatProgressModel",
            "_view_count": null,
            "_view_module": "@jupyter-widgets/controls",
            "_view_module_version": "1.5.0",
            "_view_name": "ProgressView",
            "bar_style": "success",
            "description": "",
            "description_tooltip": null,
            "layout": "IPY_MODEL_8fd40681fa34462f8716b985a148d371",
            "max": 9912422,
            "min": 0,
            "orientation": "horizontal",
            "style": "IPY_MODEL_ff87d3a30a0f432a91c1ca1a419db1c9",
            "value": 9912422
          }
        },
        "194e68293dce4d9797a6f95c9a9c8515": {
          "model_module": "@jupyter-widgets/controls",
          "model_name": "HTMLModel",
          "model_module_version": "1.5.0",
          "state": {
            "_dom_classes": [],
            "_model_module": "@jupyter-widgets/controls",
            "_model_module_version": "1.5.0",
            "_model_name": "HTMLModel",
            "_view_count": null,
            "_view_module": "@jupyter-widgets/controls",
            "_view_module_version": "1.5.0",
            "_view_name": "HTMLView",
            "description": "",
            "description_tooltip": null,
            "layout": "IPY_MODEL_b1cae01a8fb541f6a9f19c72fba2ab72",
            "placeholder": "​",
            "style": "IPY_MODEL_97263095e9ed44b18fb3a604d1b59ce8",
            "value": " 9912422/9912422 [00:00&lt;00:00, 117597990.74it/s]"
          }
        },
        "7159f84786fb417f9da3bda35f87a47b": {
          "model_module": "@jupyter-widgets/base",
          "model_name": "LayoutModel",
          "model_module_version": "1.2.0",
          "state": {
            "_model_module": "@jupyter-widgets/base",
            "_model_module_version": "1.2.0",
            "_model_name": "LayoutModel",
            "_view_count": null,
            "_view_module": "@jupyter-widgets/base",
            "_view_module_version": "1.2.0",
            "_view_name": "LayoutView",
            "align_content": null,
            "align_items": null,
            "align_self": null,
            "border": null,
            "bottom": null,
            "display": null,
            "flex": null,
            "flex_flow": null,
            "grid_area": null,
            "grid_auto_columns": null,
            "grid_auto_flow": null,
            "grid_auto_rows": null,
            "grid_column": null,
            "grid_gap": null,
            "grid_row": null,
            "grid_template_areas": null,
            "grid_template_columns": null,
            "grid_template_rows": null,
            "height": null,
            "justify_content": null,
            "justify_items": null,
            "left": null,
            "margin": null,
            "max_height": null,
            "max_width": null,
            "min_height": null,
            "min_width": null,
            "object_fit": null,
            "object_position": null,
            "order": null,
            "overflow": null,
            "overflow_x": null,
            "overflow_y": null,
            "padding": null,
            "right": null,
            "top": null,
            "visibility": null,
            "width": null
          }
        },
        "42fb77481601415382030c9cba29bf6d": {
          "model_module": "@jupyter-widgets/base",
          "model_name": "LayoutModel",
          "model_module_version": "1.2.0",
          "state": {
            "_model_module": "@jupyter-widgets/base",
            "_model_module_version": "1.2.0",
            "_model_name": "LayoutModel",
            "_view_count": null,
            "_view_module": "@jupyter-widgets/base",
            "_view_module_version": "1.2.0",
            "_view_name": "LayoutView",
            "align_content": null,
            "align_items": null,
            "align_self": null,
            "border": null,
            "bottom": null,
            "display": null,
            "flex": null,
            "flex_flow": null,
            "grid_area": null,
            "grid_auto_columns": null,
            "grid_auto_flow": null,
            "grid_auto_rows": null,
            "grid_column": null,
            "grid_gap": null,
            "grid_row": null,
            "grid_template_areas": null,
            "grid_template_columns": null,
            "grid_template_rows": null,
            "height": null,
            "justify_content": null,
            "justify_items": null,
            "left": null,
            "margin": null,
            "max_height": null,
            "max_width": null,
            "min_height": null,
            "min_width": null,
            "object_fit": null,
            "object_position": null,
            "order": null,
            "overflow": null,
            "overflow_x": null,
            "overflow_y": null,
            "padding": null,
            "right": null,
            "top": null,
            "visibility": null,
            "width": null
          }
        },
        "64e73b09200f481085d1941023aa27b5": {
          "model_module": "@jupyter-widgets/controls",
          "model_name": "DescriptionStyleModel",
          "model_module_version": "1.5.0",
          "state": {
            "_model_module": "@jupyter-widgets/controls",
            "_model_module_version": "1.5.0",
            "_model_name": "DescriptionStyleModel",
            "_view_count": null,
            "_view_module": "@jupyter-widgets/base",
            "_view_module_version": "1.2.0",
            "_view_name": "StyleView",
            "description_width": ""
          }
        },
        "8fd40681fa34462f8716b985a148d371": {
          "model_module": "@jupyter-widgets/base",
          "model_name": "LayoutModel",
          "model_module_version": "1.2.0",
          "state": {
            "_model_module": "@jupyter-widgets/base",
            "_model_module_version": "1.2.0",
            "_model_name": "LayoutModel",
            "_view_count": null,
            "_view_module": "@jupyter-widgets/base",
            "_view_module_version": "1.2.0",
            "_view_name": "LayoutView",
            "align_content": null,
            "align_items": null,
            "align_self": null,
            "border": null,
            "bottom": null,
            "display": null,
            "flex": null,
            "flex_flow": null,
            "grid_area": null,
            "grid_auto_columns": null,
            "grid_auto_flow": null,
            "grid_auto_rows": null,
            "grid_column": null,
            "grid_gap": null,
            "grid_row": null,
            "grid_template_areas": null,
            "grid_template_columns": null,
            "grid_template_rows": null,
            "height": null,
            "justify_content": null,
            "justify_items": null,
            "left": null,
            "margin": null,
            "max_height": null,
            "max_width": null,
            "min_height": null,
            "min_width": null,
            "object_fit": null,
            "object_position": null,
            "order": null,
            "overflow": null,
            "overflow_x": null,
            "overflow_y": null,
            "padding": null,
            "right": null,
            "top": null,
            "visibility": null,
            "width": null
          }
        },
        "ff87d3a30a0f432a91c1ca1a419db1c9": {
          "model_module": "@jupyter-widgets/controls",
          "model_name": "ProgressStyleModel",
          "model_module_version": "1.5.0",
          "state": {
            "_model_module": "@jupyter-widgets/controls",
            "_model_module_version": "1.5.0",
            "_model_name": "ProgressStyleModel",
            "_view_count": null,
            "_view_module": "@jupyter-widgets/base",
            "_view_module_version": "1.2.0",
            "_view_name": "StyleView",
            "bar_color": null,
            "description_width": ""
          }
        },
        "b1cae01a8fb541f6a9f19c72fba2ab72": {
          "model_module": "@jupyter-widgets/base",
          "model_name": "LayoutModel",
          "model_module_version": "1.2.0",
          "state": {
            "_model_module": "@jupyter-widgets/base",
            "_model_module_version": "1.2.0",
            "_model_name": "LayoutModel",
            "_view_count": null,
            "_view_module": "@jupyter-widgets/base",
            "_view_module_version": "1.2.0",
            "_view_name": "LayoutView",
            "align_content": null,
            "align_items": null,
            "align_self": null,
            "border": null,
            "bottom": null,
            "display": null,
            "flex": null,
            "flex_flow": null,
            "grid_area": null,
            "grid_auto_columns": null,
            "grid_auto_flow": null,
            "grid_auto_rows": null,
            "grid_column": null,
            "grid_gap": null,
            "grid_row": null,
            "grid_template_areas": null,
            "grid_template_columns": null,
            "grid_template_rows": null,
            "height": null,
            "justify_content": null,
            "justify_items": null,
            "left": null,
            "margin": null,
            "max_height": null,
            "max_width": null,
            "min_height": null,
            "min_width": null,
            "object_fit": null,
            "object_position": null,
            "order": null,
            "overflow": null,
            "overflow_x": null,
            "overflow_y": null,
            "padding": null,
            "right": null,
            "top": null,
            "visibility": null,
            "width": null
          }
        },
        "97263095e9ed44b18fb3a604d1b59ce8": {
          "model_module": "@jupyter-widgets/controls",
          "model_name": "DescriptionStyleModel",
          "model_module_version": "1.5.0",
          "state": {
            "_model_module": "@jupyter-widgets/controls",
            "_model_module_version": "1.5.0",
            "_model_name": "DescriptionStyleModel",
            "_view_count": null,
            "_view_module": "@jupyter-widgets/base",
            "_view_module_version": "1.2.0",
            "_view_name": "StyleView",
            "description_width": ""
          }
        },
        "4a01a9ef21d54f4b9433ba682e4a2d15": {
          "model_module": "@jupyter-widgets/controls",
          "model_name": "HBoxModel",
          "model_module_version": "1.5.0",
          "state": {
            "_dom_classes": [],
            "_model_module": "@jupyter-widgets/controls",
            "_model_module_version": "1.5.0",
            "_model_name": "HBoxModel",
            "_view_count": null,
            "_view_module": "@jupyter-widgets/controls",
            "_view_module_version": "1.5.0",
            "_view_name": "HBoxView",
            "box_style": "",
            "children": [
              "IPY_MODEL_cbf4d8eb578240cab5327fc6c9be0d03",
              "IPY_MODEL_08fc2ddae8954196becacf68083b7a85",
              "IPY_MODEL_d2c263333da34dedae80ce3965f3c837"
            ],
            "layout": "IPY_MODEL_720548a8937c4546a6dc05e8457036fe"
          }
        },
        "cbf4d8eb578240cab5327fc6c9be0d03": {
          "model_module": "@jupyter-widgets/controls",
          "model_name": "HTMLModel",
          "model_module_version": "1.5.0",
          "state": {
            "_dom_classes": [],
            "_model_module": "@jupyter-widgets/controls",
            "_model_module_version": "1.5.0",
            "_model_name": "HTMLModel",
            "_view_count": null,
            "_view_module": "@jupyter-widgets/controls",
            "_view_module_version": "1.5.0",
            "_view_name": "HTMLView",
            "description": "",
            "description_tooltip": null,
            "layout": "IPY_MODEL_b8a539e6f4a546eb9fc34fb71ded8b4d",
            "placeholder": "​",
            "style": "IPY_MODEL_a5c9c89565a14fd7927e4968433c3017",
            "value": "100%"
          }
        },
        "08fc2ddae8954196becacf68083b7a85": {
          "model_module": "@jupyter-widgets/controls",
          "model_name": "FloatProgressModel",
          "model_module_version": "1.5.0",
          "state": {
            "_dom_classes": [],
            "_model_module": "@jupyter-widgets/controls",
            "_model_module_version": "1.5.0",
            "_model_name": "FloatProgressModel",
            "_view_count": null,
            "_view_module": "@jupyter-widgets/controls",
            "_view_module_version": "1.5.0",
            "_view_name": "ProgressView",
            "bar_style": "success",
            "description": "",
            "description_tooltip": null,
            "layout": "IPY_MODEL_f7decbee88194e7cb9b3888ef1e34c93",
            "max": 28881,
            "min": 0,
            "orientation": "horizontal",
            "style": "IPY_MODEL_c600e7f0bffc4d92aa53d506d3271535",
            "value": 28881
          }
        },
        "d2c263333da34dedae80ce3965f3c837": {
          "model_module": "@jupyter-widgets/controls",
          "model_name": "HTMLModel",
          "model_module_version": "1.5.0",
          "state": {
            "_dom_classes": [],
            "_model_module": "@jupyter-widgets/controls",
            "_model_module_version": "1.5.0",
            "_model_name": "HTMLModel",
            "_view_count": null,
            "_view_module": "@jupyter-widgets/controls",
            "_view_module_version": "1.5.0",
            "_view_name": "HTMLView",
            "description": "",
            "description_tooltip": null,
            "layout": "IPY_MODEL_7039f1db241b4c3a96040b5761a78a91",
            "placeholder": "​",
            "style": "IPY_MODEL_690a4ce3e08d481ba1f8c97020d4d92d",
            "value": " 28881/28881 [00:00&lt;00:00, 758762.62it/s]"
          }
        },
        "720548a8937c4546a6dc05e8457036fe": {
          "model_module": "@jupyter-widgets/base",
          "model_name": "LayoutModel",
          "model_module_version": "1.2.0",
          "state": {
            "_model_module": "@jupyter-widgets/base",
            "_model_module_version": "1.2.0",
            "_model_name": "LayoutModel",
            "_view_count": null,
            "_view_module": "@jupyter-widgets/base",
            "_view_module_version": "1.2.0",
            "_view_name": "LayoutView",
            "align_content": null,
            "align_items": null,
            "align_self": null,
            "border": null,
            "bottom": null,
            "display": null,
            "flex": null,
            "flex_flow": null,
            "grid_area": null,
            "grid_auto_columns": null,
            "grid_auto_flow": null,
            "grid_auto_rows": null,
            "grid_column": null,
            "grid_gap": null,
            "grid_row": null,
            "grid_template_areas": null,
            "grid_template_columns": null,
            "grid_template_rows": null,
            "height": null,
            "justify_content": null,
            "justify_items": null,
            "left": null,
            "margin": null,
            "max_height": null,
            "max_width": null,
            "min_height": null,
            "min_width": null,
            "object_fit": null,
            "object_position": null,
            "order": null,
            "overflow": null,
            "overflow_x": null,
            "overflow_y": null,
            "padding": null,
            "right": null,
            "top": null,
            "visibility": null,
            "width": null
          }
        },
        "b8a539e6f4a546eb9fc34fb71ded8b4d": {
          "model_module": "@jupyter-widgets/base",
          "model_name": "LayoutModel",
          "model_module_version": "1.2.0",
          "state": {
            "_model_module": "@jupyter-widgets/base",
            "_model_module_version": "1.2.0",
            "_model_name": "LayoutModel",
            "_view_count": null,
            "_view_module": "@jupyter-widgets/base",
            "_view_module_version": "1.2.0",
            "_view_name": "LayoutView",
            "align_content": null,
            "align_items": null,
            "align_self": null,
            "border": null,
            "bottom": null,
            "display": null,
            "flex": null,
            "flex_flow": null,
            "grid_area": null,
            "grid_auto_columns": null,
            "grid_auto_flow": null,
            "grid_auto_rows": null,
            "grid_column": null,
            "grid_gap": null,
            "grid_row": null,
            "grid_template_areas": null,
            "grid_template_columns": null,
            "grid_template_rows": null,
            "height": null,
            "justify_content": null,
            "justify_items": null,
            "left": null,
            "margin": null,
            "max_height": null,
            "max_width": null,
            "min_height": null,
            "min_width": null,
            "object_fit": null,
            "object_position": null,
            "order": null,
            "overflow": null,
            "overflow_x": null,
            "overflow_y": null,
            "padding": null,
            "right": null,
            "top": null,
            "visibility": null,
            "width": null
          }
        },
        "a5c9c89565a14fd7927e4968433c3017": {
          "model_module": "@jupyter-widgets/controls",
          "model_name": "DescriptionStyleModel",
          "model_module_version": "1.5.0",
          "state": {
            "_model_module": "@jupyter-widgets/controls",
            "_model_module_version": "1.5.0",
            "_model_name": "DescriptionStyleModel",
            "_view_count": null,
            "_view_module": "@jupyter-widgets/base",
            "_view_module_version": "1.2.0",
            "_view_name": "StyleView",
            "description_width": ""
          }
        },
        "f7decbee88194e7cb9b3888ef1e34c93": {
          "model_module": "@jupyter-widgets/base",
          "model_name": "LayoutModel",
          "model_module_version": "1.2.0",
          "state": {
            "_model_module": "@jupyter-widgets/base",
            "_model_module_version": "1.2.0",
            "_model_name": "LayoutModel",
            "_view_count": null,
            "_view_module": "@jupyter-widgets/base",
            "_view_module_version": "1.2.0",
            "_view_name": "LayoutView",
            "align_content": null,
            "align_items": null,
            "align_self": null,
            "border": null,
            "bottom": null,
            "display": null,
            "flex": null,
            "flex_flow": null,
            "grid_area": null,
            "grid_auto_columns": null,
            "grid_auto_flow": null,
            "grid_auto_rows": null,
            "grid_column": null,
            "grid_gap": null,
            "grid_row": null,
            "grid_template_areas": null,
            "grid_template_columns": null,
            "grid_template_rows": null,
            "height": null,
            "justify_content": null,
            "justify_items": null,
            "left": null,
            "margin": null,
            "max_height": null,
            "max_width": null,
            "min_height": null,
            "min_width": null,
            "object_fit": null,
            "object_position": null,
            "order": null,
            "overflow": null,
            "overflow_x": null,
            "overflow_y": null,
            "padding": null,
            "right": null,
            "top": null,
            "visibility": null,
            "width": null
          }
        },
        "c600e7f0bffc4d92aa53d506d3271535": {
          "model_module": "@jupyter-widgets/controls",
          "model_name": "ProgressStyleModel",
          "model_module_version": "1.5.0",
          "state": {
            "_model_module": "@jupyter-widgets/controls",
            "_model_module_version": "1.5.0",
            "_model_name": "ProgressStyleModel",
            "_view_count": null,
            "_view_module": "@jupyter-widgets/base",
            "_view_module_version": "1.2.0",
            "_view_name": "StyleView",
            "bar_color": null,
            "description_width": ""
          }
        },
        "7039f1db241b4c3a96040b5761a78a91": {
          "model_module": "@jupyter-widgets/base",
          "model_name": "LayoutModel",
          "model_module_version": "1.2.0",
          "state": {
            "_model_module": "@jupyter-widgets/base",
            "_model_module_version": "1.2.0",
            "_model_name": "LayoutModel",
            "_view_count": null,
            "_view_module": "@jupyter-widgets/base",
            "_view_module_version": "1.2.0",
            "_view_name": "LayoutView",
            "align_content": null,
            "align_items": null,
            "align_self": null,
            "border": null,
            "bottom": null,
            "display": null,
            "flex": null,
            "flex_flow": null,
            "grid_area": null,
            "grid_auto_columns": null,
            "grid_auto_flow": null,
            "grid_auto_rows": null,
            "grid_column": null,
            "grid_gap": null,
            "grid_row": null,
            "grid_template_areas": null,
            "grid_template_columns": null,
            "grid_template_rows": null,
            "height": null,
            "justify_content": null,
            "justify_items": null,
            "left": null,
            "margin": null,
            "max_height": null,
            "max_width": null,
            "min_height": null,
            "min_width": null,
            "object_fit": null,
            "object_position": null,
            "order": null,
            "overflow": null,
            "overflow_x": null,
            "overflow_y": null,
            "padding": null,
            "right": null,
            "top": null,
            "visibility": null,
            "width": null
          }
        },
        "690a4ce3e08d481ba1f8c97020d4d92d": {
          "model_module": "@jupyter-widgets/controls",
          "model_name": "DescriptionStyleModel",
          "model_module_version": "1.5.0",
          "state": {
            "_model_module": "@jupyter-widgets/controls",
            "_model_module_version": "1.5.0",
            "_model_name": "DescriptionStyleModel",
            "_view_count": null,
            "_view_module": "@jupyter-widgets/base",
            "_view_module_version": "1.2.0",
            "_view_name": "StyleView",
            "description_width": ""
          }
        },
        "a60291c7cd0943358ed0df48ea11b815": {
          "model_module": "@jupyter-widgets/controls",
          "model_name": "HBoxModel",
          "model_module_version": "1.5.0",
          "state": {
            "_dom_classes": [],
            "_model_module": "@jupyter-widgets/controls",
            "_model_module_version": "1.5.0",
            "_model_name": "HBoxModel",
            "_view_count": null,
            "_view_module": "@jupyter-widgets/controls",
            "_view_module_version": "1.5.0",
            "_view_name": "HBoxView",
            "box_style": "",
            "children": [
              "IPY_MODEL_c9ba0fa0aef141bc98e69782a4589f2f",
              "IPY_MODEL_b3d782b17d1f475a84901317a1897e86",
              "IPY_MODEL_5d1d2d83e57449f0a14c6e52cd72300e"
            ],
            "layout": "IPY_MODEL_cd89d8cc549347a78d7f0e1b966b583f"
          }
        },
        "c9ba0fa0aef141bc98e69782a4589f2f": {
          "model_module": "@jupyter-widgets/controls",
          "model_name": "HTMLModel",
          "model_module_version": "1.5.0",
          "state": {
            "_dom_classes": [],
            "_model_module": "@jupyter-widgets/controls",
            "_model_module_version": "1.5.0",
            "_model_name": "HTMLModel",
            "_view_count": null,
            "_view_module": "@jupyter-widgets/controls",
            "_view_module_version": "1.5.0",
            "_view_name": "HTMLView",
            "description": "",
            "description_tooltip": null,
            "layout": "IPY_MODEL_52efe370e5264643970f534defcf2773",
            "placeholder": "​",
            "style": "IPY_MODEL_bbb485b0ac4145ec9605cf99343e5896",
            "value": "100%"
          }
        },
        "b3d782b17d1f475a84901317a1897e86": {
          "model_module": "@jupyter-widgets/controls",
          "model_name": "FloatProgressModel",
          "model_module_version": "1.5.0",
          "state": {
            "_dom_classes": [],
            "_model_module": "@jupyter-widgets/controls",
            "_model_module_version": "1.5.0",
            "_model_name": "FloatProgressModel",
            "_view_count": null,
            "_view_module": "@jupyter-widgets/controls",
            "_view_module_version": "1.5.0",
            "_view_name": "ProgressView",
            "bar_style": "success",
            "description": "",
            "description_tooltip": null,
            "layout": "IPY_MODEL_8c4ded70179348d592f87b7abae14c60",
            "max": 1648877,
            "min": 0,
            "orientation": "horizontal",
            "style": "IPY_MODEL_fefebb1f29754173b2c86303638b77a4",
            "value": 1648877
          }
        },
        "5d1d2d83e57449f0a14c6e52cd72300e": {
          "model_module": "@jupyter-widgets/controls",
          "model_name": "HTMLModel",
          "model_module_version": "1.5.0",
          "state": {
            "_dom_classes": [],
            "_model_module": "@jupyter-widgets/controls",
            "_model_module_version": "1.5.0",
            "_model_name": "HTMLModel",
            "_view_count": null,
            "_view_module": "@jupyter-widgets/controls",
            "_view_module_version": "1.5.0",
            "_view_name": "HTMLView",
            "description": "",
            "description_tooltip": null,
            "layout": "IPY_MODEL_94ea8532ff83423dacb0d58e0b6c6bd1",
            "placeholder": "​",
            "style": "IPY_MODEL_2b1ad63783594f2ab7082e98ff5ab7ce",
            "value": " 1648877/1648877 [00:00&lt;00:00, 27120823.66it/s]"
          }
        },
        "cd89d8cc549347a78d7f0e1b966b583f": {
          "model_module": "@jupyter-widgets/base",
          "model_name": "LayoutModel",
          "model_module_version": "1.2.0",
          "state": {
            "_model_module": "@jupyter-widgets/base",
            "_model_module_version": "1.2.0",
            "_model_name": "LayoutModel",
            "_view_count": null,
            "_view_module": "@jupyter-widgets/base",
            "_view_module_version": "1.2.0",
            "_view_name": "LayoutView",
            "align_content": null,
            "align_items": null,
            "align_self": null,
            "border": null,
            "bottom": null,
            "display": null,
            "flex": null,
            "flex_flow": null,
            "grid_area": null,
            "grid_auto_columns": null,
            "grid_auto_flow": null,
            "grid_auto_rows": null,
            "grid_column": null,
            "grid_gap": null,
            "grid_row": null,
            "grid_template_areas": null,
            "grid_template_columns": null,
            "grid_template_rows": null,
            "height": null,
            "justify_content": null,
            "justify_items": null,
            "left": null,
            "margin": null,
            "max_height": null,
            "max_width": null,
            "min_height": null,
            "min_width": null,
            "object_fit": null,
            "object_position": null,
            "order": null,
            "overflow": null,
            "overflow_x": null,
            "overflow_y": null,
            "padding": null,
            "right": null,
            "top": null,
            "visibility": null,
            "width": null
          }
        },
        "52efe370e5264643970f534defcf2773": {
          "model_module": "@jupyter-widgets/base",
          "model_name": "LayoutModel",
          "model_module_version": "1.2.0",
          "state": {
            "_model_module": "@jupyter-widgets/base",
            "_model_module_version": "1.2.0",
            "_model_name": "LayoutModel",
            "_view_count": null,
            "_view_module": "@jupyter-widgets/base",
            "_view_module_version": "1.2.0",
            "_view_name": "LayoutView",
            "align_content": null,
            "align_items": null,
            "align_self": null,
            "border": null,
            "bottom": null,
            "display": null,
            "flex": null,
            "flex_flow": null,
            "grid_area": null,
            "grid_auto_columns": null,
            "grid_auto_flow": null,
            "grid_auto_rows": null,
            "grid_column": null,
            "grid_gap": null,
            "grid_row": null,
            "grid_template_areas": null,
            "grid_template_columns": null,
            "grid_template_rows": null,
            "height": null,
            "justify_content": null,
            "justify_items": null,
            "left": null,
            "margin": null,
            "max_height": null,
            "max_width": null,
            "min_height": null,
            "min_width": null,
            "object_fit": null,
            "object_position": null,
            "order": null,
            "overflow": null,
            "overflow_x": null,
            "overflow_y": null,
            "padding": null,
            "right": null,
            "top": null,
            "visibility": null,
            "width": null
          }
        },
        "bbb485b0ac4145ec9605cf99343e5896": {
          "model_module": "@jupyter-widgets/controls",
          "model_name": "DescriptionStyleModel",
          "model_module_version": "1.5.0",
          "state": {
            "_model_module": "@jupyter-widgets/controls",
            "_model_module_version": "1.5.0",
            "_model_name": "DescriptionStyleModel",
            "_view_count": null,
            "_view_module": "@jupyter-widgets/base",
            "_view_module_version": "1.2.0",
            "_view_name": "StyleView",
            "description_width": ""
          }
        },
        "8c4ded70179348d592f87b7abae14c60": {
          "model_module": "@jupyter-widgets/base",
          "model_name": "LayoutModel",
          "model_module_version": "1.2.0",
          "state": {
            "_model_module": "@jupyter-widgets/base",
            "_model_module_version": "1.2.0",
            "_model_name": "LayoutModel",
            "_view_count": null,
            "_view_module": "@jupyter-widgets/base",
            "_view_module_version": "1.2.0",
            "_view_name": "LayoutView",
            "align_content": null,
            "align_items": null,
            "align_self": null,
            "border": null,
            "bottom": null,
            "display": null,
            "flex": null,
            "flex_flow": null,
            "grid_area": null,
            "grid_auto_columns": null,
            "grid_auto_flow": null,
            "grid_auto_rows": null,
            "grid_column": null,
            "grid_gap": null,
            "grid_row": null,
            "grid_template_areas": null,
            "grid_template_columns": null,
            "grid_template_rows": null,
            "height": null,
            "justify_content": null,
            "justify_items": null,
            "left": null,
            "margin": null,
            "max_height": null,
            "max_width": null,
            "min_height": null,
            "min_width": null,
            "object_fit": null,
            "object_position": null,
            "order": null,
            "overflow": null,
            "overflow_x": null,
            "overflow_y": null,
            "padding": null,
            "right": null,
            "top": null,
            "visibility": null,
            "width": null
          }
        },
        "fefebb1f29754173b2c86303638b77a4": {
          "model_module": "@jupyter-widgets/controls",
          "model_name": "ProgressStyleModel",
          "model_module_version": "1.5.0",
          "state": {
            "_model_module": "@jupyter-widgets/controls",
            "_model_module_version": "1.5.0",
            "_model_name": "ProgressStyleModel",
            "_view_count": null,
            "_view_module": "@jupyter-widgets/base",
            "_view_module_version": "1.2.0",
            "_view_name": "StyleView",
            "bar_color": null,
            "description_width": ""
          }
        },
        "94ea8532ff83423dacb0d58e0b6c6bd1": {
          "model_module": "@jupyter-widgets/base",
          "model_name": "LayoutModel",
          "model_module_version": "1.2.0",
          "state": {
            "_model_module": "@jupyter-widgets/base",
            "_model_module_version": "1.2.0",
            "_model_name": "LayoutModel",
            "_view_count": null,
            "_view_module": "@jupyter-widgets/base",
            "_view_module_version": "1.2.0",
            "_view_name": "LayoutView",
            "align_content": null,
            "align_items": null,
            "align_self": null,
            "border": null,
            "bottom": null,
            "display": null,
            "flex": null,
            "flex_flow": null,
            "grid_area": null,
            "grid_auto_columns": null,
            "grid_auto_flow": null,
            "grid_auto_rows": null,
            "grid_column": null,
            "grid_gap": null,
            "grid_row": null,
            "grid_template_areas": null,
            "grid_template_columns": null,
            "grid_template_rows": null,
            "height": null,
            "justify_content": null,
            "justify_items": null,
            "left": null,
            "margin": null,
            "max_height": null,
            "max_width": null,
            "min_height": null,
            "min_width": null,
            "object_fit": null,
            "object_position": null,
            "order": null,
            "overflow": null,
            "overflow_x": null,
            "overflow_y": null,
            "padding": null,
            "right": null,
            "top": null,
            "visibility": null,
            "width": null
          }
        },
        "2b1ad63783594f2ab7082e98ff5ab7ce": {
          "model_module": "@jupyter-widgets/controls",
          "model_name": "DescriptionStyleModel",
          "model_module_version": "1.5.0",
          "state": {
            "_model_module": "@jupyter-widgets/controls",
            "_model_module_version": "1.5.0",
            "_model_name": "DescriptionStyleModel",
            "_view_count": null,
            "_view_module": "@jupyter-widgets/base",
            "_view_module_version": "1.2.0",
            "_view_name": "StyleView",
            "description_width": ""
          }
        },
        "e9eccd2bc3664a4eb667a944062fa2e6": {
          "model_module": "@jupyter-widgets/controls",
          "model_name": "HBoxModel",
          "model_module_version": "1.5.0",
          "state": {
            "_dom_classes": [],
            "_model_module": "@jupyter-widgets/controls",
            "_model_module_version": "1.5.0",
            "_model_name": "HBoxModel",
            "_view_count": null,
            "_view_module": "@jupyter-widgets/controls",
            "_view_module_version": "1.5.0",
            "_view_name": "HBoxView",
            "box_style": "",
            "children": [
              "IPY_MODEL_3323fa04c2f04a769434d9707c984d45",
              "IPY_MODEL_59c5ff2fbaef416d87a8dd8954913c68",
              "IPY_MODEL_2bf689e6eb604c7e838ad9fd3530cc6d"
            ],
            "layout": "IPY_MODEL_ab6099c282de42ad9f7695720e7e1f2c"
          }
        },
        "3323fa04c2f04a769434d9707c984d45": {
          "model_module": "@jupyter-widgets/controls",
          "model_name": "HTMLModel",
          "model_module_version": "1.5.0",
          "state": {
            "_dom_classes": [],
            "_model_module": "@jupyter-widgets/controls",
            "_model_module_version": "1.5.0",
            "_model_name": "HTMLModel",
            "_view_count": null,
            "_view_module": "@jupyter-widgets/controls",
            "_view_module_version": "1.5.0",
            "_view_name": "HTMLView",
            "description": "",
            "description_tooltip": null,
            "layout": "IPY_MODEL_3b06cc4da760494cb8d4c873849af1ed",
            "placeholder": "​",
            "style": "IPY_MODEL_b2aba70123344f42a8e407803625b89c",
            "value": "100%"
          }
        },
        "59c5ff2fbaef416d87a8dd8954913c68": {
          "model_module": "@jupyter-widgets/controls",
          "model_name": "FloatProgressModel",
          "model_module_version": "1.5.0",
          "state": {
            "_dom_classes": [],
            "_model_module": "@jupyter-widgets/controls",
            "_model_module_version": "1.5.0",
            "_model_name": "FloatProgressModel",
            "_view_count": null,
            "_view_module": "@jupyter-widgets/controls",
            "_view_module_version": "1.5.0",
            "_view_name": "ProgressView",
            "bar_style": "success",
            "description": "",
            "description_tooltip": null,
            "layout": "IPY_MODEL_79e9774b539944b28855b239179c4a75",
            "max": 4542,
            "min": 0,
            "orientation": "horizontal",
            "style": "IPY_MODEL_365533426b064b33a02560f21f52790e",
            "value": 4542
          }
        },
        "2bf689e6eb604c7e838ad9fd3530cc6d": {
          "model_module": "@jupyter-widgets/controls",
          "model_name": "HTMLModel",
          "model_module_version": "1.5.0",
          "state": {
            "_dom_classes": [],
            "_model_module": "@jupyter-widgets/controls",
            "_model_module_version": "1.5.0",
            "_model_name": "HTMLModel",
            "_view_count": null,
            "_view_module": "@jupyter-widgets/controls",
            "_view_module_version": "1.5.0",
            "_view_name": "HTMLView",
            "description": "",
            "description_tooltip": null,
            "layout": "IPY_MODEL_e46e2b13325a4a12896aa439f5e1a3e6",
            "placeholder": "​",
            "style": "IPY_MODEL_d284560a98a64f8082b619c4595d0fcd",
            "value": " 4542/4542 [00:00&lt;00:00, 151060.40it/s]"
          }
        },
        "ab6099c282de42ad9f7695720e7e1f2c": {
          "model_module": "@jupyter-widgets/base",
          "model_name": "LayoutModel",
          "model_module_version": "1.2.0",
          "state": {
            "_model_module": "@jupyter-widgets/base",
            "_model_module_version": "1.2.0",
            "_model_name": "LayoutModel",
            "_view_count": null,
            "_view_module": "@jupyter-widgets/base",
            "_view_module_version": "1.2.0",
            "_view_name": "LayoutView",
            "align_content": null,
            "align_items": null,
            "align_self": null,
            "border": null,
            "bottom": null,
            "display": null,
            "flex": null,
            "flex_flow": null,
            "grid_area": null,
            "grid_auto_columns": null,
            "grid_auto_flow": null,
            "grid_auto_rows": null,
            "grid_column": null,
            "grid_gap": null,
            "grid_row": null,
            "grid_template_areas": null,
            "grid_template_columns": null,
            "grid_template_rows": null,
            "height": null,
            "justify_content": null,
            "justify_items": null,
            "left": null,
            "margin": null,
            "max_height": null,
            "max_width": null,
            "min_height": null,
            "min_width": null,
            "object_fit": null,
            "object_position": null,
            "order": null,
            "overflow": null,
            "overflow_x": null,
            "overflow_y": null,
            "padding": null,
            "right": null,
            "top": null,
            "visibility": null,
            "width": null
          }
        },
        "3b06cc4da760494cb8d4c873849af1ed": {
          "model_module": "@jupyter-widgets/base",
          "model_name": "LayoutModel",
          "model_module_version": "1.2.0",
          "state": {
            "_model_module": "@jupyter-widgets/base",
            "_model_module_version": "1.2.0",
            "_model_name": "LayoutModel",
            "_view_count": null,
            "_view_module": "@jupyter-widgets/base",
            "_view_module_version": "1.2.0",
            "_view_name": "LayoutView",
            "align_content": null,
            "align_items": null,
            "align_self": null,
            "border": null,
            "bottom": null,
            "display": null,
            "flex": null,
            "flex_flow": null,
            "grid_area": null,
            "grid_auto_columns": null,
            "grid_auto_flow": null,
            "grid_auto_rows": null,
            "grid_column": null,
            "grid_gap": null,
            "grid_row": null,
            "grid_template_areas": null,
            "grid_template_columns": null,
            "grid_template_rows": null,
            "height": null,
            "justify_content": null,
            "justify_items": null,
            "left": null,
            "margin": null,
            "max_height": null,
            "max_width": null,
            "min_height": null,
            "min_width": null,
            "object_fit": null,
            "object_position": null,
            "order": null,
            "overflow": null,
            "overflow_x": null,
            "overflow_y": null,
            "padding": null,
            "right": null,
            "top": null,
            "visibility": null,
            "width": null
          }
        },
        "b2aba70123344f42a8e407803625b89c": {
          "model_module": "@jupyter-widgets/controls",
          "model_name": "DescriptionStyleModel",
          "model_module_version": "1.5.0",
          "state": {
            "_model_module": "@jupyter-widgets/controls",
            "_model_module_version": "1.5.0",
            "_model_name": "DescriptionStyleModel",
            "_view_count": null,
            "_view_module": "@jupyter-widgets/base",
            "_view_module_version": "1.2.0",
            "_view_name": "StyleView",
            "description_width": ""
          }
        },
        "79e9774b539944b28855b239179c4a75": {
          "model_module": "@jupyter-widgets/base",
          "model_name": "LayoutModel",
          "model_module_version": "1.2.0",
          "state": {
            "_model_module": "@jupyter-widgets/base",
            "_model_module_version": "1.2.0",
            "_model_name": "LayoutModel",
            "_view_count": null,
            "_view_module": "@jupyter-widgets/base",
            "_view_module_version": "1.2.0",
            "_view_name": "LayoutView",
            "align_content": null,
            "align_items": null,
            "align_self": null,
            "border": null,
            "bottom": null,
            "display": null,
            "flex": null,
            "flex_flow": null,
            "grid_area": null,
            "grid_auto_columns": null,
            "grid_auto_flow": null,
            "grid_auto_rows": null,
            "grid_column": null,
            "grid_gap": null,
            "grid_row": null,
            "grid_template_areas": null,
            "grid_template_columns": null,
            "grid_template_rows": null,
            "height": null,
            "justify_content": null,
            "justify_items": null,
            "left": null,
            "margin": null,
            "max_height": null,
            "max_width": null,
            "min_height": null,
            "min_width": null,
            "object_fit": null,
            "object_position": null,
            "order": null,
            "overflow": null,
            "overflow_x": null,
            "overflow_y": null,
            "padding": null,
            "right": null,
            "top": null,
            "visibility": null,
            "width": null
          }
        },
        "365533426b064b33a02560f21f52790e": {
          "model_module": "@jupyter-widgets/controls",
          "model_name": "ProgressStyleModel",
          "model_module_version": "1.5.0",
          "state": {
            "_model_module": "@jupyter-widgets/controls",
            "_model_module_version": "1.5.0",
            "_model_name": "ProgressStyleModel",
            "_view_count": null,
            "_view_module": "@jupyter-widgets/base",
            "_view_module_version": "1.2.0",
            "_view_name": "StyleView",
            "bar_color": null,
            "description_width": ""
          }
        },
        "e46e2b13325a4a12896aa439f5e1a3e6": {
          "model_module": "@jupyter-widgets/base",
          "model_name": "LayoutModel",
          "model_module_version": "1.2.0",
          "state": {
            "_model_module": "@jupyter-widgets/base",
            "_model_module_version": "1.2.0",
            "_model_name": "LayoutModel",
            "_view_count": null,
            "_view_module": "@jupyter-widgets/base",
            "_view_module_version": "1.2.0",
            "_view_name": "LayoutView",
            "align_content": null,
            "align_items": null,
            "align_self": null,
            "border": null,
            "bottom": null,
            "display": null,
            "flex": null,
            "flex_flow": null,
            "grid_area": null,
            "grid_auto_columns": null,
            "grid_auto_flow": null,
            "grid_auto_rows": null,
            "grid_column": null,
            "grid_gap": null,
            "grid_row": null,
            "grid_template_areas": null,
            "grid_template_columns": null,
            "grid_template_rows": null,
            "height": null,
            "justify_content": null,
            "justify_items": null,
            "left": null,
            "margin": null,
            "max_height": null,
            "max_width": null,
            "min_height": null,
            "min_width": null,
            "object_fit": null,
            "object_position": null,
            "order": null,
            "overflow": null,
            "overflow_x": null,
            "overflow_y": null,
            "padding": null,
            "right": null,
            "top": null,
            "visibility": null,
            "width": null
          }
        },
        "d284560a98a64f8082b619c4595d0fcd": {
          "model_module": "@jupyter-widgets/controls",
          "model_name": "DescriptionStyleModel",
          "model_module_version": "1.5.0",
          "state": {
            "_model_module": "@jupyter-widgets/controls",
            "_model_module_version": "1.5.0",
            "_model_name": "DescriptionStyleModel",
            "_view_count": null,
            "_view_module": "@jupyter-widgets/base",
            "_view_module_version": "1.2.0",
            "_view_name": "StyleView",
            "description_width": ""
          }
        },
        "dd9ee4d98fd7414cb23cf8ad53036f90": {
          "model_module": "@jupyter-widgets/controls",
          "model_name": "HBoxModel",
          "model_module_version": "1.5.0",
          "state": {
            "_dom_classes": [],
            "_model_module": "@jupyter-widgets/controls",
            "_model_module_version": "1.5.0",
            "_model_name": "HBoxModel",
            "_view_count": null,
            "_view_module": "@jupyter-widgets/controls",
            "_view_module_version": "1.5.0",
            "_view_name": "HBoxView",
            "box_style": "",
            "children": [
              "IPY_MODEL_1f597f7dba8c478bbef0f7fdbfb13e04",
              "IPY_MODEL_6f6b591af73544ac892e024be9729605",
              "IPY_MODEL_7ff0124b839841ddace2e50fe4615227"
            ],
            "layout": "IPY_MODEL_9bd4547344194fe2979ed4cff6c8ff4a"
          }
        },
        "1f597f7dba8c478bbef0f7fdbfb13e04": {
          "model_module": "@jupyter-widgets/controls",
          "model_name": "HTMLModel",
          "model_module_version": "1.5.0",
          "state": {
            "_dom_classes": [],
            "_model_module": "@jupyter-widgets/controls",
            "_model_module_version": "1.5.0",
            "_model_name": "HTMLModel",
            "_view_count": null,
            "_view_module": "@jupyter-widgets/controls",
            "_view_module_version": "1.5.0",
            "_view_name": "HTMLView",
            "description": "",
            "description_tooltip": null,
            "layout": "IPY_MODEL_7bed2bc1793d4907aee437892e56cf41",
            "placeholder": "​",
            "style": "IPY_MODEL_2b383fd977a64b4397344c601b1e3243",
            "value": "100%"
          }
        },
        "6f6b591af73544ac892e024be9729605": {
          "model_module": "@jupyter-widgets/controls",
          "model_name": "FloatProgressModel",
          "model_module_version": "1.5.0",
          "state": {
            "_dom_classes": [],
            "_model_module": "@jupyter-widgets/controls",
            "_model_module_version": "1.5.0",
            "_model_name": "FloatProgressModel",
            "_view_count": null,
            "_view_module": "@jupyter-widgets/controls",
            "_view_module_version": "1.5.0",
            "_view_name": "ProgressView",
            "bar_style": "success",
            "description": "",
            "description_tooltip": null,
            "layout": "IPY_MODEL_8e183206764048dcb858c3777cbe5cca",
            "max": 450,
            "min": 0,
            "orientation": "horizontal",
            "style": "IPY_MODEL_9a379356e1bc42818fc5773353e05e88",
            "value": 450
          }
        },
        "7ff0124b839841ddace2e50fe4615227": {
          "model_module": "@jupyter-widgets/controls",
          "model_name": "HTMLModel",
          "model_module_version": "1.5.0",
          "state": {
            "_dom_classes": [],
            "_model_module": "@jupyter-widgets/controls",
            "_model_module_version": "1.5.0",
            "_model_name": "HTMLModel",
            "_view_count": null,
            "_view_module": "@jupyter-widgets/controls",
            "_view_module_version": "1.5.0",
            "_view_name": "HTMLView",
            "description": "",
            "description_tooltip": null,
            "layout": "IPY_MODEL_66a613e16bad4dc2a6a24b317abaaede",
            "placeholder": "​",
            "style": "IPY_MODEL_bb4ebd1c56ef4888bda4d8f48898f87f",
            "value": " 450/450 [17:53&lt;00:00,  2.32s/it]"
          }
        },
        "9bd4547344194fe2979ed4cff6c8ff4a": {
          "model_module": "@jupyter-widgets/base",
          "model_name": "LayoutModel",
          "model_module_version": "1.2.0",
          "state": {
            "_model_module": "@jupyter-widgets/base",
            "_model_module_version": "1.2.0",
            "_model_name": "LayoutModel",
            "_view_count": null,
            "_view_module": "@jupyter-widgets/base",
            "_view_module_version": "1.2.0",
            "_view_name": "LayoutView",
            "align_content": null,
            "align_items": null,
            "align_self": null,
            "border": null,
            "bottom": null,
            "display": null,
            "flex": null,
            "flex_flow": null,
            "grid_area": null,
            "grid_auto_columns": null,
            "grid_auto_flow": null,
            "grid_auto_rows": null,
            "grid_column": null,
            "grid_gap": null,
            "grid_row": null,
            "grid_template_areas": null,
            "grid_template_columns": null,
            "grid_template_rows": null,
            "height": null,
            "justify_content": null,
            "justify_items": null,
            "left": null,
            "margin": null,
            "max_height": null,
            "max_width": null,
            "min_height": null,
            "min_width": null,
            "object_fit": null,
            "object_position": null,
            "order": null,
            "overflow": null,
            "overflow_x": null,
            "overflow_y": null,
            "padding": null,
            "right": null,
            "top": null,
            "visibility": null,
            "width": null
          }
        },
        "7bed2bc1793d4907aee437892e56cf41": {
          "model_module": "@jupyter-widgets/base",
          "model_name": "LayoutModel",
          "model_module_version": "1.2.0",
          "state": {
            "_model_module": "@jupyter-widgets/base",
            "_model_module_version": "1.2.0",
            "_model_name": "LayoutModel",
            "_view_count": null,
            "_view_module": "@jupyter-widgets/base",
            "_view_module_version": "1.2.0",
            "_view_name": "LayoutView",
            "align_content": null,
            "align_items": null,
            "align_self": null,
            "border": null,
            "bottom": null,
            "display": null,
            "flex": null,
            "flex_flow": null,
            "grid_area": null,
            "grid_auto_columns": null,
            "grid_auto_flow": null,
            "grid_auto_rows": null,
            "grid_column": null,
            "grid_gap": null,
            "grid_row": null,
            "grid_template_areas": null,
            "grid_template_columns": null,
            "grid_template_rows": null,
            "height": null,
            "justify_content": null,
            "justify_items": null,
            "left": null,
            "margin": null,
            "max_height": null,
            "max_width": null,
            "min_height": null,
            "min_width": null,
            "object_fit": null,
            "object_position": null,
            "order": null,
            "overflow": null,
            "overflow_x": null,
            "overflow_y": null,
            "padding": null,
            "right": null,
            "top": null,
            "visibility": null,
            "width": null
          }
        },
        "2b383fd977a64b4397344c601b1e3243": {
          "model_module": "@jupyter-widgets/controls",
          "model_name": "DescriptionStyleModel",
          "model_module_version": "1.5.0",
          "state": {
            "_model_module": "@jupyter-widgets/controls",
            "_model_module_version": "1.5.0",
            "_model_name": "DescriptionStyleModel",
            "_view_count": null,
            "_view_module": "@jupyter-widgets/base",
            "_view_module_version": "1.2.0",
            "_view_name": "StyleView",
            "description_width": ""
          }
        },
        "8e183206764048dcb858c3777cbe5cca": {
          "model_module": "@jupyter-widgets/base",
          "model_name": "LayoutModel",
          "model_module_version": "1.2.0",
          "state": {
            "_model_module": "@jupyter-widgets/base",
            "_model_module_version": "1.2.0",
            "_model_name": "LayoutModel",
            "_view_count": null,
            "_view_module": "@jupyter-widgets/base",
            "_view_module_version": "1.2.0",
            "_view_name": "LayoutView",
            "align_content": null,
            "align_items": null,
            "align_self": null,
            "border": null,
            "bottom": null,
            "display": null,
            "flex": null,
            "flex_flow": null,
            "grid_area": null,
            "grid_auto_columns": null,
            "grid_auto_flow": null,
            "grid_auto_rows": null,
            "grid_column": null,
            "grid_gap": null,
            "grid_row": null,
            "grid_template_areas": null,
            "grid_template_columns": null,
            "grid_template_rows": null,
            "height": null,
            "justify_content": null,
            "justify_items": null,
            "left": null,
            "margin": null,
            "max_height": null,
            "max_width": null,
            "min_height": null,
            "min_width": null,
            "object_fit": null,
            "object_position": null,
            "order": null,
            "overflow": null,
            "overflow_x": null,
            "overflow_y": null,
            "padding": null,
            "right": null,
            "top": null,
            "visibility": null,
            "width": null
          }
        },
        "9a379356e1bc42818fc5773353e05e88": {
          "model_module": "@jupyter-widgets/controls",
          "model_name": "ProgressStyleModel",
          "model_module_version": "1.5.0",
          "state": {
            "_model_module": "@jupyter-widgets/controls",
            "_model_module_version": "1.5.0",
            "_model_name": "ProgressStyleModel",
            "_view_count": null,
            "_view_module": "@jupyter-widgets/base",
            "_view_module_version": "1.2.0",
            "_view_name": "StyleView",
            "bar_color": null,
            "description_width": ""
          }
        },
        "66a613e16bad4dc2a6a24b317abaaede": {
          "model_module": "@jupyter-widgets/base",
          "model_name": "LayoutModel",
          "model_module_version": "1.2.0",
          "state": {
            "_model_module": "@jupyter-widgets/base",
            "_model_module_version": "1.2.0",
            "_model_name": "LayoutModel",
            "_view_count": null,
            "_view_module": "@jupyter-widgets/base",
            "_view_module_version": "1.2.0",
            "_view_name": "LayoutView",
            "align_content": null,
            "align_items": null,
            "align_self": null,
            "border": null,
            "bottom": null,
            "display": null,
            "flex": null,
            "flex_flow": null,
            "grid_area": null,
            "grid_auto_columns": null,
            "grid_auto_flow": null,
            "grid_auto_rows": null,
            "grid_column": null,
            "grid_gap": null,
            "grid_row": null,
            "grid_template_areas": null,
            "grid_template_columns": null,
            "grid_template_rows": null,
            "height": null,
            "justify_content": null,
            "justify_items": null,
            "left": null,
            "margin": null,
            "max_height": null,
            "max_width": null,
            "min_height": null,
            "min_width": null,
            "object_fit": null,
            "object_position": null,
            "order": null,
            "overflow": null,
            "overflow_x": null,
            "overflow_y": null,
            "padding": null,
            "right": null,
            "top": null,
            "visibility": null,
            "width": null
          }
        },
        "bb4ebd1c56ef4888bda4d8f48898f87f": {
          "model_module": "@jupyter-widgets/controls",
          "model_name": "DescriptionStyleModel",
          "model_module_version": "1.5.0",
          "state": {
            "_model_module": "@jupyter-widgets/controls",
            "_model_module_version": "1.5.0",
            "_model_name": "DescriptionStyleModel",
            "_view_count": null,
            "_view_module": "@jupyter-widgets/base",
            "_view_module_version": "1.2.0",
            "_view_name": "StyleView",
            "description_width": ""
          }
        }
      }
    }
  },
  "cells": [
    {
      "cell_type": "markdown",
      "metadata": {
        "id": "eXss--ATrRlk"
      },
      "source": [
        "## Немного об апроксимации\n",
        "Из-за бутылочного горлышка в автокодировщиках, мы теряем часть информации. \n",
        "У нас всегда есть трейд-офф - какую часть информации мы готовы потерять при снижении размерности. Что нам важнее - мало факторов или снижение информации. Чем меньше будет факторов в латентном пространстве - тем более средние величины мы будем восстанавливать.\n",
        "\n",
        "Чем больше размерность кодов, тем больше вариаций в данных автоэнкодер сможет передать. Если размерность кодов слишком мала, автоэнкодер запомнит нечто среднее по недостающим вариациям в заданной метрике (это одна из причин, почему mnist цифры все более размытые при снижении размерности кода в автоэнкодерах).\n",
        "\n"
      ]
    },
    {
      "cell_type": "markdown",
      "metadata": {
        "id": "DFdonAZSyYXj"
      },
      "source": [
        "## Manifold hypothesis\n",
        "\n",
        "Гипотеза о многообразие гласит, что многомерны данные из реального мира (например, изображения) лежат на многообразиях низкой размерности, вложенных в пространство большой размерности.\n",
        "\n",
        "Более подробно на эту тему написано в [статье](https://bjlkeng.github.io/posts/manifolds/).\n",
        "\n",
        "Здесь я приведу небольшую цитату из нее:\\\n",
        "*The main idea here is that even though our real-world data is high-dimensional, there is actually some lower-dimensional representation. For example, all \"cat images\" might lie on a lower-dimensional manifold compared to say their original 256x256x3 image dimensions. This makes sense because we are empirically able to the learn these things in a capacity limited neural network. Otherwise learning an arbitrary 256x256x3 function would be intractable*\n",
        "\n",
        "Семинарский ноутбук составлен на основе другой [статьи](https://habr.com/ru/post/331500/)"
      ]
    },
    {
      "cell_type": "code",
      "metadata": {
        "id": "EJs-sQGtrRlm"
      },
      "source": [
        " # Импорт необходимых библиотек\n",
        "import numpy as np\n",
        "import matplotlib.pyplot as plt\n",
        "%matplotlib inline\n",
        "import seaborn as sns\n",
        "\n",
        "# Создание датасета\n",
        "x1 = np.linspace(-2.2, 2.2, 1000)\n",
        "fx = np.cos(x1)+np.sin(x1-3)\n",
        "dots = np.vstack([x1, fx]).T\n",
        "noise = 0.06 * np.random.randn(*dots.shape)\n",
        "dots += noise\n",
        "\n",
        "# Цветные точки для отдельной визуализации позже\n",
        "from itertools import cycle\n",
        "size = 25\n",
        "colors = [\"r\", \"g\", \"c\", \"y\", \"m\"]\n",
        "idxs = range(0, x1.shape[0], x1.shape[0]//size)\n",
        "vx1 = x1[idxs]\n",
        "vdots = dots[idxs]"
      ],
      "execution_count": 1,
      "outputs": []
    },
    {
      "cell_type": "code",
      "metadata": {
        "colab": {
          "base_uri": "https://localhost:8080/"
        },
        "id": "0na8p1DosYVl",
        "outputId": "aaf04f51-479f-4330-e1d0-79af95ec8ab0"
      },
      "source": [
        "len(x1), len(fx), np.vstack([x1, fx]).T.shape, noise.shape, len(idxs)"
      ],
      "execution_count": 2,
      "outputs": [
        {
          "output_type": "execute_result",
          "data": {
            "text/plain": [
              "(1000, 1000, (1000, 2), (1000, 2), 25)"
            ]
          },
          "metadata": {},
          "execution_count": 2
        }
      ]
    },
    {
      "cell_type": "code",
      "metadata": {
        "colab": {
          "base_uri": "https://localhost:8080/"
        },
        "id": "HKI5vGcl3FXN",
        "outputId": "f0580eb7-00c2-4606-e14d-656a8ffcfb05"
      },
      "source": [
        "dots.shape"
      ],
      "execution_count": 3,
      "outputs": [
        {
          "output_type": "execute_result",
          "data": {
            "text/plain": [
              "(1000, 2)"
            ]
          },
          "metadata": {},
          "execution_count": 3
        }
      ]
    },
    {
      "cell_type": "code",
      "metadata": {
        "colab": {
          "base_uri": "https://localhost:8080/",
          "height": 592
        },
        "id": "fdewCymJrRln",
        "outputId": "59c0f5d4-61da-4a97-e1a0-7aa15685f3d5"
      },
      "source": [
        "# Визуализация\n",
        "plt.figure(figsize=(12, 10))\n",
        "plt.xlim([-2.5, 2.5])\n",
        "plt.scatter(dots[:, 0], dots[:, 1])\n",
        "plt.plot(x1, fx,  color=\"red\", linewidth=4)\n",
        "plt.grid(False)"
      ],
      "execution_count": 4,
      "outputs": [
        {
          "output_type": "display_data",
          "data": {
            "text/plain": [
              "<Figure size 864x720 with 1 Axes>"
            ],
            "image/png": "[encoded data removed]"
          },
          "metadata": {
            "needs_background": "light"
          }
        }
      ]
    },
    {
      "cell_type": "markdown",
      "metadata": {
        "id": "F19xTPsKrRlo"
      },
      "source": [
        "Перепишем наш автоэнкодер под новые данные"
      ]
    },
    {
      "cell_type": "code",
      "metadata": {
        "id": "QOR1ttaY41G1"
      },
      "source": [
        "import torch\n",
        "import torch.nn as nn\n",
        "import torch.nn.functional as F\n",
        "import torch.optim as optim\n",
        "from torch.utils.data import TensorDataset, DataLoader\n",
        "\n",
        "from tqdm.auto import tqdm"
      ],
      "execution_count": 5,
      "outputs": []
    },
    {
      "cell_type": "code",
      "metadata": {
        "id": "IktTm7dX3zWA"
      },
      "source": [
        "class PcaAutoencoder(nn.Module):\n",
        "\n",
        "    def __init__(self, inp_shape, code_size=1):\n",
        "        \"\"\"\n",
        "        code_size это размерность кодированного представления (фичей на выходе)\n",
        "        \"\"\"\n",
        "        super().__init__()\n",
        "\n",
        "        self.encoder = nn.Linear(inp_shape, code_size)\n",
        "        self.decoder = nn.Linear(code_size, inp_shape)\n",
        "\n",
        "    def forward(self, x):\n",
        "        init_shape = x.shape\n",
        "        x = torch.flatten(x, 1)\n",
        "        latent_code = self.encoder(x)\n",
        "        \n",
        "        reconstruction = self.decoder(latent_code)\n",
        "        reconstruction = reconstruction.reshape(init_shape)\n",
        "        \n",
        "        return reconstruction, latent_code"
      ],
      "execution_count": 6,
      "outputs": []
    },
    {
      "cell_type": "code",
      "metadata": {
        "colab": {
          "base_uri": "https://localhost:8080/"
        },
        "id": "Ljo3u863I61a",
        "outputId": "8b3006c9-1156-4057-df25-41cb147ce08c"
      },
      "source": [
        "DEVICE = torch.device('cuda' if torch.cuda.is_available() else 'cpu')\n",
        "print(DEVICE)\n",
        "\n",
        "EPOCHS = 40"
      ],
      "execution_count": 7,
      "outputs": [
        {
          "output_type": "stream",
          "name": "stdout",
          "text": [
            "cuda\n"
          ]
        }
      ]
    },
    {
      "cell_type": "code",
      "metadata": {
        "id": "jQsTbUli4rFO"
      },
      "source": [
        "# Train your autoencoder\n",
        "def train(model, train_loader, device=DEVICE, epochs=EPOCHS, path=''):\n",
        "    train_loss = []\n",
        "    train_loss_epoch = []\n",
        "\n",
        "    for epoch in tqdm(range(epochs)):\n",
        "        model.train()\n",
        "        for X in train_loader:\n",
        "            batch = X[0].to(device)  # [0] is needed due to X being a list of one element because no y in (X, y) \n",
        "            reconstruction, _ = model(batch)\n",
        "            loss = criterion(reconstruction, batch)\n",
        "            loss.backward()\n",
        "\n",
        "            optimizer.step()\n",
        "            optimizer.zero_grad()\n",
        "\n",
        "            train_loss.append(loss.detach().cpu().numpy())\n",
        "        \n",
        "        train_loss_epoch.append(np.mean(train_loss))\n",
        "\n",
        "        if epoch % 25 == 0:\n",
        "            print(f\"After {epoch} epochs, training loss: {train_loss_epoch[-1]:.6f}\")\n",
        "\n",
        "    return model, train_loss_epoch"
      ],
      "execution_count": 8,
      "outputs": []
    },
    {
      "cell_type": "code",
      "metadata": {
        "colab": {
          "base_uri": "https://localhost:8080/"
        },
        "id": "PfgGb_I15g8j",
        "outputId": "a79b10c0-6a35-4ba8-a344-e62cc33302df"
      },
      "source": [
        "input_shape = dots.shape[1]\n",
        "input_shape"
      ],
      "execution_count": 9,
      "outputs": [
        {
          "output_type": "execute_result",
          "data": {
            "text/plain": [
              "2"
            ]
          },
          "metadata": {},
          "execution_count": 9
        }
      ]
    },
    {
      "cell_type": "code",
      "metadata": {
        "id": "O1mapQiP4mUn"
      },
      "source": [
        "# Create MSE loss function\n",
        "criterion = torch.nn.MSELoss()\n",
        "\n",
        "autoencoder = PcaAutoencoder(input_shape, code_size=1)\n",
        "autoencoder.to(DEVICE)\n",
        "\n",
        "# Use Adam optimizer\n",
        "optimizer = optim.Adam(autoencoder.parameters(), lr=1e-3)"
      ],
      "execution_count": 10,
      "outputs": []
    },
    {
      "cell_type": "code",
      "metadata": {
        "id": "cHW1DWl45yfg"
      },
      "source": [
        "X_train = torch.tensor(dots, dtype=torch.float32)\n",
        "dataset_train = TensorDataset(X_train)\n",
        "\n",
        "BATCH_SIZE = 32\n",
        "\n",
        "train_loader = DataLoader(dataset_train, batch_size=BATCH_SIZE, shuffle=True, num_workers=1)\n",
        "test_loader = DataLoader(dataset_train, batch_size=BATCH_SIZE, shuffle=False, num_workers=1)"
      ],
      "execution_count": 11,
      "outputs": []
    },
    {
      "cell_type": "markdown",
      "metadata": {
        "id": "PwTwMlx7Xq7O"
      },
      "source": [
        "**Важно:** `test_loader` нужен для того, чтобы при инференсе не перемешивать данные"
      ]
    },
    {
      "cell_type": "code",
      "metadata": {
        "colab": {
          "base_uri": "https://localhost:8080/",
          "height": 120,
          "referenced_widgets": [
            "3cfa2792de2242eeb0dc53f7ef177fc5",
            "725f1334e8d648329eb5c69d7709e8bf",
            "c529473c08d143e6bac4f715d7e1e2a6",
            "4639713d815245cbb63835d0395fb05e",
            "a64d0ddec7eb47b697d15b3c2708f0fa",
            "530db333cce0439ba01e251241a53f1a",
            "ffa5fa33411e40fb8fdae13c8612677b",
            "285b9168c812481581caf5b1d40a1048",
            "bffdd244ca2240199cb00b0da8e4951a",
            "1f538e8991e64699bf2a3a62da2493ba",
            "38ef65974aaf4a8d8f23d3ee83de373d"
          ]
        },
        "id": "OMLhIyF1BI_B",
        "outputId": "e5ced931-0fe6-4504-b9a4-33ccdc064ff6"
      },
      "source": [
        "model, train_loss = train(autoencoder, \n",
        "                          train_loader, \n",
        "                          device=DEVICE, epochs=100)"
      ],
      "execution_count": 12,
      "outputs": [
        {
          "output_type": "display_data",
          "data": {
            "text/plain": [
              "  0%|          | 0/100 [00:00<?, ?it/s]"
            ],
            "application/vnd.jupyter.widget-view+json": {
              "version_major": 2,
              "version_minor": 0,
              "model_id": "3cfa2792de2242eeb0dc53f7ef177fc5"
            }
          },
          "metadata": {}
        },
        {
          "output_type": "stream",
          "name": "stdout",
          "text": [
            "After 0 epochs, training loss: 1.532453\n",
            "After 25 epochs, training loss: 0.879483\n",
            "After 50 epochs, training loss: 0.493034\n",
            "After 75 epochs, training loss: 0.359304\n"
          ]
        }
      ]
    },
    {
      "cell_type": "markdown",
      "metadata": {
        "id": "Y1cuTSJtKT0V"
      },
      "source": [
        "**Важно:** на [StackOverflow](https://stackoverflow.com/questions/55533116/pca-inverse-transform-in-sklearn) приведено хорошее пояснение того, как из двухмерного облака точек получается одномерная линия вследтвие выполнения `pca.inverse_transform(pca.fit_transform(dots))`, т.е. что из себя представляют оранжевая и черная линии ниже"
      ]
    },
    {
      "cell_type": "code",
      "metadata": {
        "colab": {
          "base_uri": "https://localhost:8080/",
          "height": 592
        },
        "id": "1qsJ8lwXBQht",
        "outputId": "5a232225-0426-429a-dc8d-a400f77bae12"
      },
      "source": [
        "# Применение линейного автоэнкодера\n",
        "res = []\n",
        "with torch.no_grad():\n",
        "    for X in test_loader:\n",
        "        batch = X[0].to(DEVICE)  # [0] is needed due to X being a list\n",
        "        reconstruction, _ = model(batch)\n",
        "        reconstruction = reconstruction.cpu()\n",
        "        res.append(reconstruction)\n",
        "pdots = torch.cat(res)\n",
        "vpdots = pdots[idxs]\n",
        "\n",
        "# Применение PCA\n",
        "from sklearn.decomposition import PCA\n",
        "pca = PCA(1)\n",
        "pdots_pca = pca.inverse_transform(pca.fit_transform(dots))\n",
        "\n",
        "# Визуализация\n",
        "plt.figure(figsize=(12, 10))\n",
        "plt.xlim([-2.5, 2.5])\n",
        "plt.scatter(dots[:, 0], dots[:, 1], zorder=1)\n",
        "plt.plot(x1, fx,  color=\"red\", linewidth=4, zorder=10)\n",
        "plt.plot(pdots[:,0], pdots[:,1], color='black', linewidth=12, zorder=3)  # autoencoder\n",
        "plt.plot(pdots_pca[:,0], pdots_pca[:,1], color='orange', linewidth=4, zorder=4)  # pca\n",
        "plt.scatter(vpdots[:,0], vpdots[:,1], color=colors*5, marker='*', s=150, zorder=5)  # stars\n",
        "plt.scatter(vdots[:,0], vdots[:,1], color=colors*5, s=150, zorder=6)  # colored circles on a blue cloud of dots\n",
        "plt.grid(False)"
      ],
      "execution_count": 13,
      "outputs": [
        {
          "output_type": "display_data",
          "data": {
            "text/plain": [
              "<Figure size 864x720 with 1 Axes>"
            ],
            "image/png": "[encoded data removed]"
          },
          "metadata": {
            "needs_background": "light"
          }
        }
      ]
    },
    {
      "cell_type": "markdown",
      "metadata": {
        "id": "vh6zWSI1rRlr"
      },
      "source": [
        "Мы видим, что достаточно простое многообразие мы нашли. Добавим слоев."
      ]
    },
    {
      "cell_type": "code",
      "metadata": {
        "id": "9u0ERid3MM4B"
      },
      "source": [
        "class DeepAutoencoder(nn.Module):\n",
        "\n",
        "    def __init__(self, inp_shape, code_size=1):\n",
        "        \"\"\"\n",
        "        code_size это размерность кодированного представления (фичей на выходе)\n",
        "        \"\"\"\n",
        "        super().__init__()\n",
        "\n",
        "        self.encoder = nn.Sequential(nn.Linear(inp_shape, 64),\n",
        "                                     nn.ELU(),\n",
        "                                     nn.Linear(64, 64),\n",
        "                                     nn.ELU(),\n",
        "                                     nn.Linear(64, code_size))\n",
        "        self.decoder = nn.Sequential(nn.Linear(code_size, 64),\n",
        "                                     nn.ELU(),\n",
        "                                     nn.Linear(64, 64),\n",
        "                                     nn.ELU(),\n",
        "                                     nn.Linear(64, inp_shape)\n",
        "                                     )\n",
        "\n",
        "    def forward(self, x):\n",
        "        init_shape = x.shape\n",
        "        x = torch.flatten(x, 1)\n",
        "        latent_code = self.encoder(x)\n",
        "        \n",
        "        reconstruction = self.decoder(latent_code)\n",
        "        reconstruction = reconstruction.reshape(init_shape)\n",
        "        \n",
        "        return reconstruction, latent_code"
      ],
      "execution_count": 15,
      "outputs": []
    },
    {
      "cell_type": "code",
      "metadata": {
        "colab": {
          "base_uri": "https://localhost:8080/",
          "height": 120,
          "referenced_widgets": [
            "c1901600e4614fcc869b58507bc9c9d2",
            "4721c98a3ef34036996a2603589c9b3c",
            "3bec17c0ad484f0ab52be4037efd9070",
            "95419251164948599265a8648940059e",
            "994e37836330441ea1a8062a543e1a07",
            "5a87814988f74ed49fb09c8bdfbad3e5",
            "ca7da97595724fbc9485be9fb3644c73",
            "e38d4a70f83748e280cdbf63bbd54ed0",
            "b7bc6312ce8945ee825f179d981ed513",
            "0bde7eca60b047368d59afdd871fc2a4",
            "819b046c9bd84389ab95541b6d1f177b"
          ]
        },
        "id": "iBSXT7nZDCjh",
        "outputId": "d27f840c-e941-43b7-c5d7-1532391dbc6e"
      },
      "source": [
        "# Create MSE loss function\n",
        "criterion = torch.nn.MSELoss()\n",
        "\n",
        "deep_autoencoder = DeepAutoencoder(input_shape, code_size=1)\n",
        "deep_autoencoder.to(DEVICE)\n",
        "\n",
        "# Use Adam optimizer\n",
        "optimizer = optim.Adam(deep_autoencoder.parameters(), lr=1e-3)\n",
        "\n",
        "deep_model, train_loss = train(deep_autoencoder, \n",
        "                                train_loader, \n",
        "                                device=DEVICE, epochs=100)"
      ],
      "execution_count": 16,
      "outputs": [
        {
          "output_type": "display_data",
          "data": {
            "text/plain": [
              "  0%|          | 0/100 [00:00<?, ?it/s]"
            ],
            "application/vnd.jupyter.widget-view+json": {
              "version_major": 2,
              "version_minor": 0,
              "model_id": "c1901600e4614fcc869b58507bc9c9d2"
            }
          },
          "metadata": {}
        },
        {
          "output_type": "stream",
          "name": "stdout",
          "text": [
            "After 0 epochs, training loss: 0.312806\n",
            "After 25 epochs, training loss: 0.019490\n",
            "After 50 epochs, training loss: 0.011264\n",
            "After 75 epochs, training loss: 0.008386\n"
          ]
        }
      ]
    },
    {
      "cell_type": "code",
      "metadata": {
        "id": "LprubZ71rRlu",
        "colab": {
          "base_uri": "https://localhost:8080/",
          "height": 592
        },
        "outputId": "3bce0b4b-2d73-4031-ae68-c62fbfcad1bf"
      },
      "source": [
        "res = []\n",
        "with torch.no_grad():\n",
        "    for X in test_loader:\n",
        "        batch = X[0].to(DEVICE)  # [0] is needed due to X being a list\n",
        "        reconstruction, _ = deep_model(batch)\n",
        "        reconstruction = reconstruction.cpu()\n",
        "        res.append(reconstruction)\n",
        "pdots_deep = torch.cat(res)\n",
        "vpdots_deep = pdots_deep[idxs]\n",
        "\n",
        "# Визуализация\n",
        "plt.figure(figsize=(12, 10))\n",
        "plt.xlim([-2.5, 2.5])\n",
        "plt.scatter(dots[:, 0], dots[:, 1], zorder=1)\n",
        "plt.plot(x1, fx,  color=\"red\", linewidth=4, zorder=10)\n",
        "plt.plot(pdots_deep[:,0], pdots_deep[:,1], color='black', linewidth=12, zorder=3)  # autoencoder\n",
        "plt.plot(pdots_pca[:,0], pdots_pca[:,1], color='orange', linewidth=4, zorder=4)  # pca\n",
        "plt.scatter(vpdots_deep[:,0], vpdots_deep[:,1], color=colors*5, marker='*', s=150, zorder=5)  # stars\n",
        "plt.scatter(vdots[:,0], vdots[:,1], color=colors*5, s=150, zorder=6)  # colored circles on a blue cloud of dots\n",
        "plt.grid(False)"
      ],
      "execution_count": 17,
      "outputs": [
        {
          "output_type": "display_data",
          "data": {
            "text/plain": [
              "<Figure size 864x720 with 1 Axes>"
            ],
            "image/png": "[encoded data removed]"
          },
          "metadata": {
            "needs_background": "light"
          }
        }
      ]
    },
    {
      "cell_type": "markdown",
      "metadata": {
        "id": "lGOFNy61Ycf3"
      },
      "source": [
        "У такого автоэнкодера практически идеально получилось построить определяющее многообразие: черная кривая почти совпадает с красной.\n",
        "\n",
        "Глубокий автоэнкодер теоретически сможет найти многообразие произвольной сложности, например, такое, около которого лежат цифры в 784-мерном пространстве.\n"
      ]
    },
    {
      "cell_type": "markdown",
      "metadata": {
        "id": "pZv5yjgxrRlu"
      },
      "source": [
        "Все же у достаточно сложного автоэнкодера есть возможность переобучиться. Продемонстрируем это!\n",
        "Мы берем и показываем одни и теже точки автоэнкодеру множество раз."
      ]
    },
    {
      "cell_type": "code",
      "metadata": {
        "colab": {
          "base_uri": "https://localhost:8080/"
        },
        "id": "W5vZCEx6Dk-h",
        "outputId": "c5303d06-7a8a-4b5d-ccfb-2f59dc0e018b"
      },
      "source": [
        "len(dots[idxs])"
      ],
      "execution_count": 18,
      "outputs": [
        {
          "output_type": "execute_result",
          "data": {
            "text/plain": [
              "25"
            ]
          },
          "metadata": {},
          "execution_count": 18
        }
      ]
    },
    {
      "cell_type": "code",
      "metadata": {
        "id": "9te4CUnXrRlv"
      },
      "source": [
        "dots_oft = np.vstack([dots[idxs]]*4000)\n",
        "\n",
        "X_train_oft = torch.tensor(dots_oft, dtype=torch.float32)\n",
        "X_test_oft = torch.tensor(dots[idxs], dtype=torch.float32)  # важно: в тесте только выбранные точки без повторений\n",
        "dataset_train_oft = TensorDataset(X_train_oft)\n",
        "dataset_test_oft = TensorDataset(X_test_oft)\n",
        "\n",
        "BATCH_SIZE = 32\n",
        "\n",
        "train_loader_oft = DataLoader(dataset_train_oft, batch_size=BATCH_SIZE, shuffle=True, num_workers=1)\n",
        "test_loader_oft = DataLoader(dataset_test_oft, batch_size=BATCH_SIZE, shuffle=False, num_workers=1)"
      ],
      "execution_count": 19,
      "outputs": []
    },
    {
      "cell_type": "code",
      "metadata": {
        "id": "BVpiynF2Yng6"
      },
      "source": [
        "# Create MSE loss function\n",
        "criterion = torch.nn.MSELoss()\n",
        "\n",
        "deep_autoencoder = DeepAutoencoder(input_shape, code_size=1)\n",
        "deep_autoencoder.to('cpu')\n",
        "\n",
        "# Use Adam optimizer\n",
        "optimizer = optim.Adam(deep_autoencoder.parameters(), lr=3e-4)\n",
        "\n",
        "overfit_model, train_loss = train(deep_autoencoder, \n",
        "                                  train_loader_oft, \n",
        "                                  device='cpu', epochs=50)"
      ],
      "execution_count": null,
      "outputs": []
    },
    {
      "cell_type": "code",
      "metadata": {
        "id": "xHDIHG26rRlv",
        "colab": {
          "base_uri": "https://localhost:8080/",
          "height": 592
        },
        "outputId": "7e70c5a1-ed2d-4cea-9c90-9bbd936d3b53"
      },
      "source": [
        "res = []\n",
        "with torch.no_grad():\n",
        "    for X in test_loader_oft:\n",
        "        batch = X[0].to('cpu')  # [0] is needed due to X being a list\n",
        "        reconstruction, _ = overfit_model(batch)\n",
        "        res.append(reconstruction)\n",
        "pdots_deep_oft = torch.cat(res)\n",
        "\n",
        "# Визуализация\n",
        "plt.figure(figsize=(12, 10))\n",
        "plt.xlim([-2.5, 2.5])\n",
        "plt.scatter(dots[:, 0], dots[:, 1], zorder=1)\n",
        "plt.plot(x1, fx,  color=\"red\", linewidth=4, zorder=10)\n",
        "plt.plot(pdots_deep_oft[:, 0], pdots_deep_oft[:, 1], color='black', linewidth=5, zorder=3)\n",
        "plt.plot(pdots_pca[:,0], pdots_pca[:,1], color='orange', linewidth=4, zorder=4)\n",
        "plt.scatter(vdots[:,0], vdots[:,1], color=colors*5, s=150, zorder=6)\n",
        "plt.grid(False)"
      ],
      "execution_count": 20,
      "outputs": [
        {
          "output_type": "display_data",
          "data": {
            "text/plain": [
              "<Figure size 864x720 with 1 Axes>"
            ],
            "image/png": "[encoded data removed]"
          },
          "metadata": {
            "needs_background": "light"
          }
        }
      ]
    },
    {
      "cell_type": "markdown",
      "metadata": {
        "id": "ISO283_yrRlw"
      },
      "source": [
        "Мы видим, что наша линия проходит через конкретные точки, и очень плохо описывает правильное многообразие."
      ]
    },
    {
      "cell_type": "markdown",
      "metadata": {
        "id": "dmi_RqLHrRlw"
      },
      "source": [
        "В теории мы можем апроксимизировать какое угодно распределение.\n",
        "Мы стремимся найти такое латентное пространство, \n",
        "где небольшие сдвиги в латентных переменных все равно остаются в том же классе.  \n",
        "\n",
        "**Важная мысль:** если взять два объекта и посмотреть на объекты, лежащие на произвольной кривой между ними, то скорее всего промежуточные объекты не будут принадлежать генеральной совокупности, т. к. многообразие на котором лежит генеральная совокупность может быть сильно искривленным и малоразмерным."
      ]
    },
    {
      "cell_type": "code",
      "metadata": {
        "id": "_delM-Q2t4G7",
        "colab": {
          "base_uri": "https://localhost:8080/",
          "height": 430,
          "referenced_widgets": [
            "87d5a3b0a3c34df7b16686406d2b9932",
            "3ab43c9904c7447a91c83e031dbf6516",
            "d677460efa5a4c2c92c7d4b0cb34f55b",
            "194e68293dce4d9797a6f95c9a9c8515",
            "7159f84786fb417f9da3bda35f87a47b",
            "42fb77481601415382030c9cba29bf6d",
            "64e73b09200f481085d1941023aa27b5",
            "8fd40681fa34462f8716b985a148d371",
            "ff87d3a30a0f432a91c1ca1a419db1c9",
            "b1cae01a8fb541f6a9f19c72fba2ab72",
            "97263095e9ed44b18fb3a604d1b59ce8",
            "4a01a9ef21d54f4b9433ba682e4a2d15",
            "cbf4d8eb578240cab5327fc6c9be0d03",
            "08fc2ddae8954196becacf68083b7a85",
            "d2c263333da34dedae80ce3965f3c837",
            "720548a8937c4546a6dc05e8457036fe",
            "b8a539e6f4a546eb9fc34fb71ded8b4d",
            "a5c9c89565a14fd7927e4968433c3017",
            "f7decbee88194e7cb9b3888ef1e34c93",
            "c600e7f0bffc4d92aa53d506d3271535",
            "7039f1db241b4c3a96040b5761a78a91",
            "690a4ce3e08d481ba1f8c97020d4d92d",
            "a60291c7cd0943358ed0df48ea11b815",
            "c9ba0fa0aef141bc98e69782a4589f2f",
            "b3d782b17d1f475a84901317a1897e86",
            "5d1d2d83e57449f0a14c6e52cd72300e",
            "cd89d8cc549347a78d7f0e1b966b583f",
            "52efe370e5264643970f534defcf2773",
            "bbb485b0ac4145ec9605cf99343e5896",
            "8c4ded70179348d592f87b7abae14c60",
            "fefebb1f29754173b2c86303638b77a4",
            "94ea8532ff83423dacb0d58e0b6c6bd1",
            "2b1ad63783594f2ab7082e98ff5ab7ce",
            "e9eccd2bc3664a4eb667a944062fa2e6",
            "3323fa04c2f04a769434d9707c984d45",
            "59c5ff2fbaef416d87a8dd8954913c68",
            "2bf689e6eb604c7e838ad9fd3530cc6d",
            "ab6099c282de42ad9f7695720e7e1f2c",
            "3b06cc4da760494cb8d4c873849af1ed",
            "b2aba70123344f42a8e407803625b89c",
            "79e9774b539944b28855b239179c4a75",
            "365533426b064b33a02560f21f52790e",
            "e46e2b13325a4a12896aa439f5e1a3e6",
            "d284560a98a64f8082b619c4595d0fcd"
          ]
        },
        "outputId": "4b8e4c4b-c17d-42bf-b41a-388220a29778"
      },
      "source": [
        "from torchvision import datasets\n",
        "from torchvision.transforms import ToTensor\n",
        "\n",
        "train_data = datasets.MNIST(\n",
        "    root = 'data',\n",
        "    train = True,                         \n",
        "    transform = ToTensor(), \n",
        "    download = True,            \n",
        ")\n",
        "test_data = datasets.MNIST(\n",
        "    root = 'data', \n",
        "    train = False, \n",
        "    transform = ToTensor()\n",
        ")"
      ],
      "execution_count": 21,
      "outputs": [
        {
          "output_type": "stream",
          "name": "stdout",
          "text": [
            "Downloading http://yann.lecun.com/exdb/mnist/train-images-idx3-ubyte.gz\n",
            "Downloading http://yann.lecun.com/exdb/mnist/train-images-idx3-ubyte.gz to data/MNIST/raw/train-images-idx3-ubyte.gz\n"
          ]
        },
        {
          "output_type": "display_data",
          "data": {
            "text/plain": [
              "  0%|          | 0/9912422 [00:00<?, ?it/s]"
            ],
            "application/vnd.jupyter.widget-view+json": {
              "version_major": 2,
              "version_minor": 0,
              "model_id": "87d5a3b0a3c34df7b16686406d2b9932"
            }
          },
          "metadata": {}
        },
        {
          "output_type": "stream",
          "name": "stdout",
          "text": [
            "Extracting data/MNIST/raw/train-images-idx3-ubyte.gz to data/MNIST/raw\n",
            "\n",
            "Downloading http://yann.lecun.com/exdb/mnist/train-labels-idx1-ubyte.gz\n",
            "Downloading http://yann.lecun.com/exdb/mnist/train-labels-idx1-ubyte.gz to data/MNIST/raw/train-labels-idx1-ubyte.gz\n"
          ]
        },
        {
          "output_type": "display_data",
          "data": {
            "text/plain": [
              "  0%|          | 0/28881 [00:00<?, ?it/s]"
            ],
            "application/vnd.jupyter.widget-view+json": {
              "version_major": 2,
              "version_minor": 0,
              "model_id": "4a01a9ef21d54f4b9433ba682e4a2d15"
            }
          },
          "metadata": {}
        },
        {
          "output_type": "stream",
          "name": "stdout",
          "text": [
            "Extracting data/MNIST/raw/train-labels-idx1-ubyte.gz to data/MNIST/raw\n",
            "\n",
            "Downloading http://yann.lecun.com/exdb/mnist/t10k-images-idx3-ubyte.gz\n",
            "Downloading http://yann.lecun.com/exdb/mnist/t10k-images-idx3-ubyte.gz to data/MNIST/raw/t10k-images-idx3-ubyte.gz\n"
          ]
        },
        {
          "output_type": "display_data",
          "data": {
            "text/plain": [
              "  0%|          | 0/1648877 [00:00<?, ?it/s]"
            ],
            "application/vnd.jupyter.widget-view+json": {
              "version_major": 2,
              "version_minor": 0,
              "model_id": "a60291c7cd0943358ed0df48ea11b815"
            }
          },
          "metadata": {}
        },
        {
          "output_type": "stream",
          "name": "stdout",
          "text": [
            "Extracting data/MNIST/raw/t10k-images-idx3-ubyte.gz to data/MNIST/raw\n",
            "\n",
            "Downloading http://yann.lecun.com/exdb/mnist/t10k-labels-idx1-ubyte.gz\n",
            "Downloading http://yann.lecun.com/exdb/mnist/t10k-labels-idx1-ubyte.gz to data/MNIST/raw/t10k-labels-idx1-ubyte.gz\n"
          ]
        },
        {
          "output_type": "display_data",
          "data": {
            "text/plain": [
              "  0%|          | 0/4542 [00:00<?, ?it/s]"
            ],
            "application/vnd.jupyter.widget-view+json": {
              "version_major": 2,
              "version_minor": 0,
              "model_id": "e9eccd2bc3664a4eb667a944062fa2e6"
            }
          },
          "metadata": {}
        },
        {
          "output_type": "stream",
          "name": "stdout",
          "text": [
            "Extracting data/MNIST/raw/t10k-labels-idx1-ubyte.gz to data/MNIST/raw\n",
            "\n"
          ]
        }
      ]
    },
    {
      "cell_type": "code",
      "source": [
        "train_data.data.shape"
      ],
      "metadata": {
        "colab": {
          "base_uri": "https://localhost:8080/"
        },
        "id": "oizgjYwG3Q3Z",
        "outputId": "fa48f14b-9534-4c4d-e152-6b5c0b758ac7"
      },
      "execution_count": 22,
      "outputs": [
        {
          "output_type": "execute_result",
          "data": {
            "text/plain": [
              "torch.Size([60000, 28, 28])"
            ]
          },
          "metadata": {},
          "execution_count": 22
        }
      ]
    },
    {
      "cell_type": "code",
      "metadata": {
        "colab": {
          "base_uri": "https://localhost:8080/"
        },
        "id": "jGUPv8ULGyEU",
        "outputId": "32707ca1-eb56-4c55-e275-0b3fbdb41007"
      },
      "source": [
        "train_data = train_data.data[:, None, :, :]\n",
        "test_data = test_data.data[:, None, :, :]\n",
        "\n",
        "X_train = torch.tensor(train_data, dtype=torch.float32)\n",
        "X_test = torch.tensor(test_data, dtype=torch.float32)\n",
        "\n",
        "dataset_train = TensorDataset(X_train)\n",
        "dataset_test = TensorDataset(X_test)\n",
        "\n",
        "loaders = {\n",
        "    'train' : torch.utils.data.DataLoader(dataset_train, \n",
        "                                          batch_size=256, \n",
        "                                          shuffle=True, \n",
        "                                          num_workers=1),\n",
        "    \n",
        "    'test'  : torch.utils.data.DataLoader(dataset_test, \n",
        "                                          batch_size=256, \n",
        "                                          shuffle=False, \n",
        "                                          num_workers=1),\n",
        "}"
      ],
      "execution_count": 23,
      "outputs": [
        {
          "output_type": "stream",
          "name": "stderr",
          "text": [
            "/usr/local/lib/python3.7/dist-packages/ipykernel_launcher.py:4: UserWarning: To copy construct from a tensor, it is recommended to use sourceTensor.clone().detach() or sourceTensor.clone().detach().requires_grad_(True), rather than torch.tensor(sourceTensor).\n",
            "  after removing the cwd from sys.path.\n",
            "/usr/local/lib/python3.7/dist-packages/ipykernel_launcher.py:5: UserWarning: To copy construct from a tensor, it is recommended to use sourceTensor.clone().detach() or sourceTensor.clone().detach().requires_grad_(True), rather than torch.tensor(sourceTensor).\n",
            "  \"\"\"\n"
          ]
        }
      ]
    },
    {
      "cell_type": "code",
      "source": [
        "train_data.shape"
      ],
      "metadata": {
        "colab": {
          "base_uri": "https://localhost:8080/"
        },
        "id": "xDNJ0hUzbXUp",
        "outputId": "b873ee5c-7306-4cbe-aa77-aa380ca0a746"
      },
      "execution_count": 24,
      "outputs": [
        {
          "output_type": "execute_result",
          "data": {
            "text/plain": [
              "torch.Size([60000, 1, 28, 28])"
            ]
          },
          "metadata": {},
          "execution_count": 24
        }
      ]
    },
    {
      "cell_type": "code",
      "metadata": {
        "colab": {
          "base_uri": "https://localhost:8080/"
        },
        "id": "gh8n2--gIIy6",
        "outputId": "81536f29-cdff-4d91-f6ec-a03699d965e5"
      },
      "source": [
        "iter(loaders['train']).next()[0].shape"
      ],
      "execution_count": 26,
      "outputs": [
        {
          "output_type": "execute_result",
          "data": {
            "text/plain": [
              "torch.Size([256, 1, 28, 28])"
            ]
          },
          "metadata": {},
          "execution_count": 26
        }
      ]
    },
    {
      "cell_type": "markdown",
      "source": [
        "## Домашнее задание:\n",
        "Написать арх-ру автоэнкодера и обучить ее так, чтобы получить низкую ошибку и качественный переход от одного реального изображения к другому на картинках ниже. "
      ],
      "metadata": {
        "id": "WYeZPKAeIDrk"
      }
    },
    {
      "cell_type": "code",
      "source": [
        "# write your code here\n",
        "# create an autoencoder of complex architecture \n",
        "\n",
        "class ConvAutoencoder(...)\n",
        "    ..."
      ],
      "metadata": {
        "id": "HkjHBy1yH2g-"
      },
      "execution_count": null,
      "outputs": []
    },
    {
      "cell_type": "code",
      "source": [
        ""
      ],
      "metadata": {
        "id": "HFWDizJMIZnB"
      },
      "execution_count": null,
      "outputs": []
    },
    {
      "cell_type": "code",
      "source": [
        "# Create MSE loss function\n",
        "criterion = torch.nn.MSELoss()\n",
        "\n",
        "conv_autoencoder = ConvAutoencoder()\n",
        "conv_autoencoder.to(DEVICE)\n",
        "\n",
        "# Use Adam optimizer\n",
        "optimizer = optim.Adam(conv_autoencoder.parameters(), lr=1e-1, weight_decay=1e-5)\n",
        "\n",
        "conv_model, train_loss = train(conv_autoencoder, \n",
        "                               loaders['train'], \n",
        "                               device=DEVICE, epochs=450)"
      ],
      "metadata": {
        "colab": {
          "base_uri": "https://localhost:8080/",
          "height": 370,
          "referenced_widgets": [
            "dd9ee4d98fd7414cb23cf8ad53036f90",
            "1f597f7dba8c478bbef0f7fdbfb13e04",
            "6f6b591af73544ac892e024be9729605",
            "7ff0124b839841ddace2e50fe4615227",
            "9bd4547344194fe2979ed4cff6c8ff4a",
            "7bed2bc1793d4907aee437892e56cf41",
            "2b383fd977a64b4397344c601b1e3243",
            "8e183206764048dcb858c3777cbe5cca",
            "9a379356e1bc42818fc5773353e05e88",
            "66a613e16bad4dc2a6a24b317abaaede",
            "bb4ebd1c56ef4888bda4d8f48898f87f"
          ]
        },
        "id": "kVpcyy5XcwHZ",
        "outputId": "e5139e1c-5e66-4d8a-f449-0f57287fa785"
      },
      "execution_count": 27,
      "outputs": [
        {
          "output_type": "display_data",
          "data": {
            "text/plain": [
              "  0%|          | 0/450 [00:00<?, ?it/s]"
            ],
            "application/vnd.jupyter.widget-view+json": {
              "version_major": 2,
              "version_minor": 0,
              "model_id": "dd9ee4d98fd7414cb23cf8ad53036f90"
            }
          },
          "metadata": {}
        },
        {
          "output_type": "stream",
          "name": "stdout",
          "text": [
            "After 0 epochs, training loss: 5519.490234\n",
            "After 25 epochs, training loss: 563.738037\n",
            "After 50 epochs, training loss: 354.824188\n",
            "After 75 epochs, training loss: 277.813171\n",
            "After 100 epochs, training loss: 237.142700\n",
            "After 125 epochs, training loss: 211.770920\n",
            "After 150 epochs, training loss: 194.369232\n",
            "After 175 epochs, training loss: 181.623276\n",
            "After 200 epochs, training loss: 171.801514\n",
            "After 225 epochs, training loss: 164.021347\n",
            "After 250 epochs, training loss: 157.705032\n",
            "After 275 epochs, training loss: 152.500092\n",
            "After 300 epochs, training loss: 148.095947\n",
            "After 325 epochs, training loss: 144.328598\n",
            "After 350 epochs, training loss: 141.087921\n",
            "After 375 epochs, training loss: 138.262634\n",
            "After 400 epochs, training loss: 135.760681\n",
            "After 425 epochs, training loss: 133.537964\n"
          ]
        }
      ]
    },
    {
      "cell_type": "code",
      "metadata": {
        "id": "UVA_1k5xrRlx"
      },
      "source": [
        "def plot_digits(args):\n",
        "    n = min([x.shape[0] for x in args])\n",
        "    \n",
        "    plt.figure(figsize=(40, 60))\n",
        "    for j in range(n):\n",
        "        for i in range(len(args)):\n",
        "            plt.subplot(n, len(args), i*n + j + 1)\n",
        "            plt.imshow(args[i][j])\n",
        "            plt.gray()\n",
        "\n",
        "    plt.show()\n",
        "\n",
        "# Гомотопия по прямой между объектами или между кодами\n",
        "def plot_homotopy(frm, to, n=10, decode=False, model=conv_model, device=DEVICE):\n",
        "    z = []\n",
        "    for i, weight in enumerate(np.linspace(0., 1., n)):\n",
        "        z.append(frm * (1-weight) + to * weight)\n",
        "    if decode:\n",
        "        with torch.no_grad():\n",
        "            print(len(z[0]))\n",
        "            z = [elem[None, :].to(device) for elem in z]\n",
        "            z = torch.cat(z)\n",
        "            reconstruction = model.decoder(z)\n",
        "            reconstruction = reconstruction.cpu()\n",
        "        plot_digits(reconstruction)\n",
        "    else:\n",
        "        plot_digits(z)"
      ],
      "execution_count": 36,
      "outputs": []
    },
    {
      "cell_type": "code",
      "metadata": {
        "id": "2QqBC_f-ZyXR",
        "colab": {
          "base_uri": "https://localhost:8080/",
          "height": 158
        },
        "outputId": "3217952a-6deb-4f84-ffb7-efc0653a5809"
      },
      "source": [
        "# Гомотопия между первыми двумя восьмерками\n",
        "\n",
        "# 61 и 84 выбраны не случайно, под такими индексами в тестовых данных хранятся восьмерки\n",
        "\n",
        "frm = dataset_test[61][0]\n",
        "to = dataset_test[84][0]\n",
        "plot_homotopy(frm, to)"
      ],
      "execution_count": 29,
      "outputs": [
        {
          "output_type": "display_data",
          "data": {
            "text/plain": [
              "<Figure size 2880x4320 with 10 Axes>"
            ],
            "image/png": "[encoded data removed]"
          },
          "metadata": {
            "needs_background": "light"
          }
        }
      ]
    },
    {
      "cell_type": "markdown",
      "metadata": {
        "id": "h4lP6cDBrRlz"
      },
      "source": [
        "Если наше латентное пространтсво корректное, мы нашли правильно параметаризованное латентное пространство, \n",
        "то небольшие сдвиги в этом пространстве должны давать разумные результаты: \n",
        "\n",
        "**Можно сказать то же самое, но завернуть это более витиевато:** Если же двигаться по кривой между кодами (и если многообразие кодов хорошо параметризовано), то декодер переведет эту кривую из пространства кодов, в кривую, не покидающую определяющее многообразие в пространстве объектов. То есть промежуточные объекты на кривой будут принадлежать генеральной совокупности."
      ]
    },
    {
      "cell_type": "code",
      "metadata": {
        "id": "JQ7BLsOITDDm",
        "colab": {
          "base_uri": "https://localhost:8080/"
        },
        "outputId": "0a5de0fc-bc8a-4e13-ec4a-dab4434bcd72"
      },
      "source": [
        "conv_model.encoder(frm[None, :, :, :].to(DEVICE)).shape"
      ],
      "execution_count": 30,
      "outputs": [
        {
          "output_type": "execute_result",
          "data": {
            "text/plain": [
              "torch.Size([1, 128])"
            ]
          },
          "metadata": {},
          "execution_count": 30
        }
      ]
    },
    {
      "cell_type": "code",
      "metadata": {
        "id": "wvX2SXY7Z33M",
        "colab": {
          "base_uri": "https://localhost:8080/",
          "height": 176
        },
        "outputId": "2e48dcce-4898-4699-cd8a-1b78952c2a43"
      },
      "source": [
        "frm = dataset_test[61][0]\n",
        "to = dataset_test[84][0]\n",
        "\n",
        "with torch.no_grad():\n",
        "    frm_enc = conv_model.encoder(frm[None, :, :, :].to(DEVICE))\n",
        "    to_enc = conv_model.encoder(to[None, :, :, :].to(DEVICE))\n",
        "    codes = torch.cat([frm_enc, to_enc])\n",
        "\n",
        "plot_homotopy(codes[0], codes[1], n=10, decode=True)\n",
        "# plot_homotopy(frm, to, n=10, decode=True)"
      ],
      "execution_count": 37,
      "outputs": [
        {
          "output_type": "stream",
          "name": "stdout",
          "text": [
            "128\n"
          ]
        },
        {
          "output_type": "display_data",
          "data": {
            "text/plain": [
              "<Figure size 2880x4320 with 10 Axes>"
            ],
            "image/png": "[encoded data removed]"
          },
          "metadata": {
            "needs_background": "light"
          }
        }
      ]
    }
  ]
}