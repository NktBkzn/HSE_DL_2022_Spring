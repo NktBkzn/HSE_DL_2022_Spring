{
  "cells": [
    {
      "cell_type": "markdown",
      "metadata": {
        "id": "29lluO49LPvW"
      },
      "source": [
        "[![Open In Colab](https://colab.research.google.com/assets/colab-badge.svg)](https://github.com/NktBkzn/HSE_DL_2021/blob/master/12_week/Weather_forecast_RNN.ipynb)"
      ]
    },
    {
      "cell_type": "code",
      "execution_count": 4,
      "metadata": {
        "id": "Clab0evvLjDn",
        "colab": {
          "base_uri": "https://localhost:8080/"
        },
        "outputId": "8b8f014c-57f1-4700-cd8c-56a0da839663"
      },
      "outputs": [
        {
          "output_type": "stream",
          "name": "stdout",
          "text": [
            "Mounted at /content/gdrive\n",
            "/content/gdrive/My Drive/HSE_DL_2021/12_week\n"
          ]
        }
      ],
      "source": [
        "from google.colab import drive\n",
        "drive.mount('/content/gdrive')\n",
        "\n",
        "%cd /content/gdrive/My Drive/HSE_DL_2021/12_week"
      ]
    },
    {
      "cell_type": "markdown",
      "metadata": {
        "id": "iwMKuwx6HjSn"
      },
      "source": [
        "## Задача прогнозирования температуры\n",
        "\n",
        "Во всех наших примерах в этом разделе мы будем играть с погодой\n",
        "набором  временных рядов, записанных на метеостанции в Институте биогеохимии им. Макса Планка в Йене, Германия: http://www.bgc-jena.mpg.de/wetter/.\n",
        "\n",
        "В этом наборе данных записано четырнадцать различных величин (таких как температура воздуха, атмосферное давление, влажность, направление ветра и т. Д.)\n",
        "каждые десять минут, в течение нескольких лет. Исходные данные относятся к 2003 году, но мы ограничиваемся данными за 2009-2016 годы. Этот набор данных\n",
        "идеально подходит для обучения работе с числовыми временными рядами. Мы будем использовать его для построения модели, которая принимает в качестве входных данных некоторые данные из недавнего прошлого (\n",
        "несколько дней стоит данных) и прогнозирует температуру воздуха на 24 часа в будущем.\n"
      ]
    },
    {
      "cell_type": "markdown",
      "metadata": {
        "id": "utHHOeplHjSr"
      },
      "source": [
        "Посмотрим на данные!"
      ]
    },
    {
      "cell_type": "code",
      "execution_count": 6,
      "metadata": {
        "id": "KGPFQxMBHjSr",
        "colab": {
          "base_uri": "https://localhost:8080/"
        },
        "outputId": "be4890d0-24d6-4be4-e2df-30061c643d2b"
      },
      "outputs": [
        {
          "output_type": "stream",
          "name": "stdout",
          "text": [
            "['\"Date Time\"', '\"p (mbar)\"', '\"T (degC)\"', '\"Tpot (K)\"', '\"Tdew (degC)\"', '\"rh (%)\"', '\"VPmax (mbar)\"', '\"VPact (mbar)\"', '\"VPdef (mbar)\"', '\"sh (g/kg)\"', '\"H2OC (mmol/mol)\"', '\"rho (g/m**3)\"', '\"wv (m/s)\"', '\"max. wv (m/s)\"', '\"wd (deg)\"']\n",
            "420551\n"
          ]
        }
      ],
      "source": [
        "import os\n",
        "\n",
        "\n",
        "fname = 'data/jena_climate_2009_2016.csv'\n",
        "\n",
        "f = open(fname)\n",
        "data = f.read()\n",
        "f.close()\n",
        "\n",
        "lines = data.split('\\n')\n",
        "header = lines[0].split(',')\n",
        "lines = lines[1:]\n",
        "\n",
        "print(header)\n",
        "print(len(lines))"
      ]
    },
    {
      "cell_type": "code",
      "execution_count": 7,
      "metadata": {
        "id": "U6o3XyoNMf2E",
        "colab": {
          "base_uri": "https://localhost:8080/",
          "height": 81
        },
        "outputId": "a31b5367-146e-40c5-d42f-c07eb8065d5c"
      },
      "outputs": [
        {
          "output_type": "execute_result",
          "data": {
            "text/plain": [
              "             Date Time  p (mbar)  T (degC)  Tpot (K)  Tdew (degC)  rh (%)  \\\n",
              "0  01.01.2009 00:10:00    996.52     -8.02     265.4         -8.9    93.3   \n",
              "\n",
              "   VPmax (mbar)  VPact (mbar)  VPdef (mbar)  sh (g/kg)  H2OC (mmol/mol)  \\\n",
              "0          3.33          3.11          0.22       1.94             3.12   \n",
              "\n",
              "   rho (g/m**3)  wv (m/s)  max. wv (m/s)  wd (deg)  \n",
              "0       1307.75      1.03           1.75     152.3  "
            ],
            "text/html": [
              "\n",
              "  <div id=\"df-a0d5e09d-3748-4a35-95dd-2090a2fc28eb\">\n",
              "    <div class=\"colab-df-container\">\n",
              "      <div>\n",
              "<style scoped>\n",
              "    .dataframe tbody tr th:only-of-type {\n",
              "        vertical-align: middle;\n",
              "    }\n",
              "\n",
              "    .dataframe tbody tr th {\n",
              "        vertical-align: top;\n",
              "    }\n",
              "\n",
              "    .dataframe thead th {\n",
              "        text-align: right;\n",
              "    }\n",
              "</style>\n",
              "<table border=\"1\" class=\"dataframe\">\n",
              "  <thead>\n",
              "    <tr style=\"text-align: right;\">\n",
              "      <th></th>\n",
              "      <th>Date Time</th>\n",
              "      <th>p (mbar)</th>\n",
              "      <th>T (degC)</th>\n",
              "      <th>Tpot (K)</th>\n",
              "      <th>Tdew (degC)</th>\n",
              "      <th>rh (%)</th>\n",
              "      <th>VPmax (mbar)</th>\n",
              "      <th>VPact (mbar)</th>\n",
              "      <th>VPdef (mbar)</th>\n",
              "      <th>sh (g/kg)</th>\n",
              "      <th>H2OC (mmol/mol)</th>\n",
              "      <th>rho (g/m**3)</th>\n",
              "      <th>wv (m/s)</th>\n",
              "      <th>max. wv (m/s)</th>\n",
              "      <th>wd (deg)</th>\n",
              "    </tr>\n",
              "  </thead>\n",
              "  <tbody>\n",
              "    <tr>\n",
              "      <th>0</th>\n",
              "      <td>01.01.2009 00:10:00</td>\n",
              "      <td>996.52</td>\n",
              "      <td>-8.02</td>\n",
              "      <td>265.4</td>\n",
              "      <td>-8.9</td>\n",
              "      <td>93.3</td>\n",
              "      <td>3.33</td>\n",
              "      <td>3.11</td>\n",
              "      <td>0.22</td>\n",
              "      <td>1.94</td>\n",
              "      <td>3.12</td>\n",
              "      <td>1307.75</td>\n",
              "      <td>1.03</td>\n",
              "      <td>1.75</td>\n",
              "      <td>152.3</td>\n",
              "    </tr>\n",
              "  </tbody>\n",
              "</table>\n",
              "</div>\n",
              "      <button class=\"colab-df-convert\" onclick=\"convertToInteractive('df-a0d5e09d-3748-4a35-95dd-2090a2fc28eb')\"\n",
              "              title=\"Convert this dataframe to an interactive table.\"\n",
              "              style=\"display:none;\">\n",
              "        \n",
              "  <svg xmlns=\"http://www.w3.org/2000/svg\" height=\"24px\"viewBox=\"0 0 24 24\"\n",
              "       width=\"24px\">\n",
              "    <path d=\"M0 0h24v24H0V0z\" fill=\"none\"/>\n",
              "    <path d=\"M18.56 5.44l.94 2.06.94-2.06 2.06-.94-2.06-.94-.94-2.06-.94 2.06-2.06.94zm-11 1L8.5 8.5l.94-2.06 2.06-.94-2.06-.94L8.5 2.5l-.94 2.06-2.06.94zm10 10l.94 2.06.94-2.06 2.06-.94-2.06-.94-.94-2.06-.94 2.06-2.06.94z\"/><path d=\"M17.41 7.96l-1.37-1.37c-.4-.4-.92-.59-1.43-.59-.52 0-1.04.2-1.43.59L10.3 9.45l-7.72 7.72c-.78.78-.78 2.05 0 2.83L4 21.41c.39.39.9.59 1.41.59.51 0 1.02-.2 1.41-.59l7.78-7.78 2.81-2.81c.8-.78.8-2.07 0-2.86zM5.41 20L4 18.59l7.72-7.72 1.47 1.35L5.41 20z\"/>\n",
              "  </svg>\n",
              "      </button>\n",
              "      \n",
              "  <style>\n",
              "    .colab-df-container {\n",
              "      display:flex;\n",
              "      flex-wrap:wrap;\n",
              "      gap: 12px;\n",
              "    }\n",
              "\n",
              "    .colab-df-convert {\n",
              "      background-color: #E8F0FE;\n",
              "      border: none;\n",
              "      border-radius: 50%;\n",
              "      cursor: pointer;\n",
              "      display: none;\n",
              "      fill: #1967D2;\n",
              "      height: 32px;\n",
              "      padding: 0 0 0 0;\n",
              "      width: 32px;\n",
              "    }\n",
              "\n",
              "    .colab-df-convert:hover {\n",
              "      background-color: #E2EBFA;\n",
              "      box-shadow: 0px 1px 2px rgba(60, 64, 67, 0.3), 0px 1px 3px 1px rgba(60, 64, 67, 0.15);\n",
              "      fill: #174EA6;\n",
              "    }\n",
              "\n",
              "    [theme=dark] .colab-df-convert {\n",
              "      background-color: #3B4455;\n",
              "      fill: #D2E3FC;\n",
              "    }\n",
              "\n",
              "    [theme=dark] .colab-df-convert:hover {\n",
              "      background-color: #434B5C;\n",
              "      box-shadow: 0px 1px 3px 1px rgba(0, 0, 0, 0.15);\n",
              "      filter: drop-shadow(0px 1px 2px rgba(0, 0, 0, 0.3));\n",
              "      fill: #FFFFFF;\n",
              "    }\n",
              "  </style>\n",
              "\n",
              "      <script>\n",
              "        const buttonEl =\n",
              "          document.querySelector('#df-a0d5e09d-3748-4a35-95dd-2090a2fc28eb button.colab-df-convert');\n",
              "        buttonEl.style.display =\n",
              "          google.colab.kernel.accessAllowed ? 'block' : 'none';\n",
              "\n",
              "        async function convertToInteractive(key) {\n",
              "          const element = document.querySelector('#df-a0d5e09d-3748-4a35-95dd-2090a2fc28eb');\n",
              "          const dataTable =\n",
              "            await google.colab.kernel.invokeFunction('convertToInteractive',\n",
              "                                                     [key], {});\n",
              "          if (!dataTable) return;\n",
              "\n",
              "          const docLinkHtml = 'Like what you see? Visit the ' +\n",
              "            '<a target=\"_blank\" href=https://colab.research.google.com/notebooks/data_table.ipynb>data table notebook</a>'\n",
              "            + ' to learn more about interactive tables.';\n",
              "          element.innerHTML = '';\n",
              "          dataTable['output_type'] = 'display_data';\n",
              "          await google.colab.output.renderOutput(dataTable, element);\n",
              "          const docLink = document.createElement('div');\n",
              "          docLink.innerHTML = docLinkHtml;\n",
              "          element.appendChild(docLink);\n",
              "        }\n",
              "      </script>\n",
              "    </div>\n",
              "  </div>\n",
              "  "
            ]
          },
          "metadata": {},
          "execution_count": 7
        }
      ],
      "source": [
        "import pandas as pd\n",
        "\n",
        "tmp = pd.read_csv(fname)\n",
        "tmp.head(1)"
      ]
    },
    {
      "cell_type": "markdown",
      "metadata": {
        "id": "B9LNMpm5HjSt"
      },
      "source": [
        "переведем все в numpy array"
      ]
    },
    {
      "cell_type": "code",
      "execution_count": 8,
      "metadata": {
        "id": "8nyG1tcuHjSu"
      },
      "outputs": [],
      "source": [
        "import numpy as np\n",
        "\n",
        "float_data = np.zeros((len(lines), len(header) - 1))\n",
        "for i, line in enumerate(lines):\n",
        "    values = [float(x) for x in line.split(',')[1:]]\n",
        "    float_data[i, :] = values"
      ]
    },
    {
      "cell_type": "code",
      "execution_count": 9,
      "metadata": {
        "id": "UaZ527WsM977",
        "colab": {
          "base_uri": "https://localhost:8080/"
        },
        "outputId": "149fc768-8834-4afa-85ab-808097590912"
      },
      "outputs": [
        {
          "output_type": "execute_result",
          "data": {
            "text/plain": [
              "(420551, 14)"
            ]
          },
          "metadata": {},
          "execution_count": 9
        }
      ],
      "source": [
        "float_data.shape"
      ]
    },
    {
      "cell_type": "markdown",
      "metadata": {
        "id": "upJF6kP8HjSu"
      },
      "source": [
        "нарисуем график температуры"
      ]
    },
    {
      "cell_type": "code",
      "execution_count": 10,
      "metadata": {
        "id": "ZX1RW8CUHjSv",
        "colab": {
          "base_uri": "https://localhost:8080/",
          "height": 268
        },
        "outputId": "0d141872-3d0c-4b09-8df7-115772c44303"
      },
      "outputs": [
        {
          "output_type": "display_data",
          "data": {
            "text/plain": [
              "<Figure size 432x288 with 1 Axes>"
            ],
            "image/png": "[encoded data removed]"
          },
          "metadata": {
            "needs_background": "light"
          }
        }
      ],
      "source": [
        "from matplotlib import pyplot as plt\n",
        "%matplotlib inline\n",
        "\n",
        "temp = float_data[:, 1]  # температура\n",
        "plt.plot(range(len(temp)), temp)\n",
        "plt.show()"
      ]
    },
    {
      "cell_type": "markdown",
      "metadata": {
        "id": "uFVXzFHBHjSw"
      },
      "source": [
        "На этом графике вы можете четко увидеть годовую периодичность температуры.\n",
        "\n",
        "Вот более узкий график данных о температуре за первые десять дней (поскольку данные записываются каждые десять минут, мы получаем 144 точки данных\n",
        "в день):"
      ]
    },
    {
      "cell_type": "code",
      "execution_count": 11,
      "metadata": {
        "id": "8eW_Kx2FHjSw",
        "colab": {
          "base_uri": "https://localhost:8080/",
          "height": 265
        },
        "outputId": "56c29d04-fa30-419d-9611-47c0e85c7f6c"
      },
      "outputs": [
        {
          "output_type": "display_data",
          "data": {
            "text/plain": [
              "<Figure size 432x288 with 1 Axes>"
            ],
            "image/png": "[encoded data removed]"
          },
          "metadata": {
            "needs_background": "light"
          }
        }
      ],
      "source": [
        "plt.plot(range(1440), temp[:1440])\n",
        "plt.show()"
      ]
    },
    {
      "cell_type": "markdown",
      "metadata": {
        "id": "EkfFwcEuHjSx"
      },
      "source": [
        "На этом графике вы можете увидеть ежедневную периодичность, особенно заметную за последние 4 дня. Мы также можем отметить, что этот десятидневный период должен быть\n",
        "взят из довольно холодного зимнего месяца.\n",
        "\n",
        "Если бы мы пытались предсказать среднюю температуру для следующего месяца, учитывая данные за несколько месяцев, проблема была бы легкой из-за\n",
        "достоверной годовой периодичности данных. Но, глядя на данные в масштабе дней, температура выглядит намного более хаотичной. \n"
      ]
    },
    {
      "cell_type": "code",
      "execution_count": 12,
      "metadata": {
        "id": "agBqL3WEXsKi"
      },
      "outputs": [],
      "source": [
        "TRAIN_VAL_TH = 200000\n",
        "VAL_TEST_TH = 300000"
      ]
    },
    {
      "cell_type": "code",
      "execution_count": 13,
      "metadata": {
        "id": "dw9kvdmTHjSy"
      },
      "outputs": [],
      "source": [
        "mean = float_data[:TRAIN_VAL_TH].mean(axis=0)\n",
        "float_data -= mean\n",
        "std = float_data[:TRAIN_VAL_TH].std(axis=0)\n",
        "float_data /= std"
      ]
    },
    {
      "cell_type": "code",
      "execution_count": 14,
      "metadata": {
        "colab": {
          "base_uri": "https://localhost:8080/"
        },
        "id": "DdskTCGXCljm",
        "outputId": "84008566-f881-42c9-9ad5-76de56df664b"
      },
      "outputs": [
        {
          "output_type": "execute_result",
          "data": {
            "text/plain": [
              "(420551, 14)"
            ]
          },
          "metadata": {},
          "execution_count": 14
        }
      ],
      "source": [
        "float_data.shape"
      ]
    },
    {
      "cell_type": "markdown",
      "metadata": {
        "id": "f91dQ6MAHjSz"
      },
      "source": [
        "Рассмотрим генератор данных, который мы будем использовать. Он возвращает кортеж `(samples, target)`, где `samples` - один батч данных, а\n",
        "`target` -  массив целевых температур. Требуются следующие аргументы:\n",
        "\n",
        "* `data`: исходный массив данных с плавающей запятой, который мы только что нормализовали в приведенном выше фрагменте кода.\n",
        "* `lookback`: Сколько временных шагов назад должны пройти наши входные данные. Выбираем значение, равное 1440 (в нашем случае это кол-во прошедших минут).\n",
        "* `delay`: через сколько шагов прогнозим\n",
        "* `min_index` и` max_index`: индексы в массиве `data`, которые разграничивают временные шаги для отрисовки. \n",
        "* `shuffle`: перетасовать наши батчи или нарисовать их в хронологическом порядке.\n",
        "* `batch_size`: количество данных на батч.\n",
        "* `step`: период во временных шагах, с каким мы производим выборку данных. Мы установим его на 6, чтобы рисовать одну точку данных каждый час. Тогда длина полследовательности будет 1440:6= 240 (т.е. 240 10-ти минутных интервалов)"
      ]
    },
    {
      "cell_type": "code",
      "execution_count": 15,
      "metadata": {
        "id": "tIZSLwM2HjSz"
      },
      "outputs": [],
      "source": [
        "def generator(data, lookback, delay, min_index, max_index,\n",
        "              shuffle=False, batch_size=128, step=6):\n",
        "    if max_index is None:\n",
        "        max_index = len(data) - delay - 1\n",
        "    i = min_index + lookback\n",
        "    while 1:\n",
        "        if shuffle:\n",
        "            rows = np.random.randint(\n",
        "                min_index + lookback, max_index, size=batch_size)\n",
        "        else:\n",
        "            if i + batch_size >= max_index:\n",
        "                i = min_index + lookback\n",
        "            rows = np.arange(i, min(i + batch_size, max_index))\n",
        "            i += len(rows)\n",
        "\n",
        "        samples = np.zeros((len(rows),       # batch size\n",
        "                           lookback // step, # seq_len\n",
        "                           data.shape[-1]))  # features number\n",
        "        targets = np.zeros((len(rows),))\n",
        "        for j, row in enumerate(rows):  # loop of batch size len\n",
        "            indices = range(row - lookback, row, step) # indices form a sequence (total number of sequences = batch size)\n",
        "            # print('indices', len(list(indices)), list(indices))\n",
        "            # print(row + delay - step, '\\n')\n",
        "            samples[j] = data[indices]\n",
        "            # [1] below means that temperature is being a target\n",
        "            targets[j] = data[row + delay - step][1]\n",
        "        yield samples, targets"
      ]
    },
    {
      "cell_type": "markdown",
      "metadata": {
        "id": "MIM47-PVHjS0"
      },
      "source": [
        "\n",
        "Теперь давайте использовать нашу функцию абстрактного генератора для создания трех генераторов, одного для обучения, одного для проверки и одного для тестирования.\n"
      ]
    },
    {
      "cell_type": "code",
      "execution_count": 16,
      "metadata": {
        "colab": {
          "base_uri": "https://localhost:8080/"
        },
        "id": "uaeGV0UdvWz9",
        "outputId": "737d1727-47b0-4c5b-e26a-8bd39ea2aea6"
      },
      "outputs": [
        {
          "output_type": "execute_result",
          "data": {
            "text/plain": [
              "(420551, 14)"
            ]
          },
          "metadata": {},
          "execution_count": 16
        }
      ],
      "source": [
        "float_data.shape"
      ]
    },
    {
      "cell_type": "code",
      "execution_count": 17,
      "metadata": {
        "colab": {
          "base_uri": "https://localhost:8080/"
        },
        "id": "59Xdn_cPHjS0",
        "outputId": "a729f5f5-da8a-44b8-d5bc-d260d6d6d441"
      },
      "outputs": [
        {
          "output_type": "stream",
          "name": "stdout",
          "text": [
            "769 930\n"
          ]
        }
      ],
      "source": [
        "lookback = 1440 \n",
        "step = 6\n",
        "delay = 144\n",
        "batch_size = 128\n",
        "\n",
        "train_gen = generator(float_data,\n",
        "                      lookback=lookback,\n",
        "                      delay=delay,\n",
        "                      min_index=0,\n",
        "                      max_index=TRAIN_VAL_TH,\n",
        "                      shuffle=True,\n",
        "                      step=step, \n",
        "                      batch_size=batch_size)\n",
        "val_gen = generator(float_data,\n",
        "                    lookback=lookback,\n",
        "                    delay=delay,\n",
        "                    min_index=TRAIN_VAL_TH+1,\n",
        "                    max_index=VAL_TEST_TH,\n",
        "                    step=step,\n",
        "                    batch_size=batch_size)\n",
        "test_gen = generator(float_data,\n",
        "                     lookback=lookback,\n",
        "                     delay=delay,\n",
        "                     min_index=VAL_TEST_TH+1,\n",
        "                     max_index=None,\n",
        "                     step=step,\n",
        "                     batch_size=batch_size)\n",
        "\n",
        "# number of steps needed to cover the whole datasets\n",
        "train_steps = (TRAIN_VAL_TH - 0 - lookback) // batch_size\n",
        "val_steps = (VAL_TEST_TH - (TRAIN_VAL_TH+1) - lookback) // batch_size\n",
        "test_steps = (len(float_data) - (VAL_TEST_TH+1) - lookback) // batch_size\n",
        "\n",
        "print(val_steps, test_steps)"
      ]
    },
    {
      "cell_type": "code",
      "execution_count": 18,
      "metadata": {
        "colab": {
          "base_uri": "https://localhost:8080/"
        },
        "id": "V7Yv5FL3Q68w",
        "outputId": "587ea05a-97fd-4541-8707-90fc8b0248b5"
      },
      "outputs": [
        {
          "output_type": "execute_result",
          "data": {
            "text/plain": [
              "((128, 240, 14), (128,))"
            ]
          },
          "metadata": {},
          "execution_count": 18
        }
      ],
      "source": [
        "samples, targets = next(val_gen)\n",
        "\n",
        "samples.shape, targets.shape"
      ]
    },
    {
      "cell_type": "markdown",
      "metadata": {
        "id": "zlOP0eDN4Ny3"
      },
      "source": [
        "Немного разберемся с процедурой формирования батча\\\n",
        "Создадим generator с небольшими значениями параметров, чтобы все можно было увидеть глазами"
      ]
    },
    {
      "cell_type": "code",
      "execution_count": 19,
      "metadata": {
        "id": "9zTR4k4z4M2g"
      },
      "outputs": [],
      "source": [
        "lookback = 1440\n",
        "step = 6\n",
        "delay = 144\n",
        "batch_size = 8\n",
        "\n",
        "tmp_gen = generator(float_data,\n",
        "                      lookback=lookback,\n",
        "                      delay=delay,\n",
        "                      min_index=0,\n",
        "                      max_index=200000,\n",
        "                      shuffle=False,\n",
        "                      step=step, \n",
        "                      batch_size=batch_size)\n",
        "\n",
        "samples, targets = next(tmp_gen)"
      ]
    },
    {
      "cell_type": "markdown",
      "metadata": {
        "id": "Iz29yH-65JE8"
      },
      "source": [
        "Посмотрим на значения, которые вернул генератор, а именно на 0 и 6 элемент в батче (ВАЖНО: элементы в батче не перемешивались). 0 и 6 выбраны потому, что step=6, значит значения в `samples` под указанными индексами должны быть одинаковыми, только сдвинутыми на 1 относительно друг друга\n",
        "\n",
        "`samples` имеет вид $bs \\times SeqLen \\times \\#features$"
      ]
    },
    {
      "cell_type": "code",
      "execution_count": 20,
      "metadata": {
        "colab": {
          "base_uri": "https://localhost:8080/"
        },
        "id": "qHPikmbX3rpk",
        "outputId": "ff256f57-f6ed-4486-a989-bd4b3d79062c"
      },
      "outputs": [
        {
          "output_type": "stream",
          "name": "stdout",
          "text": [
            "[-1.93135845 -1.88617347 -2.02511729 -2.02398767 -2.06804302]\n",
            "[-1.88617347 -2.02511729 -2.02398767 -2.06804302 -2.1177465 ]\n"
          ]
        }
      ],
      "source": [
        "idx1, idx2 = 0, 6\n",
        "seqlen = 5\n",
        "feature = 1\n",
        "\n",
        "print(samples[idx1, :seqlen, feature])\n",
        "print(samples[idx2, :seqlen, feature])"
      ]
    },
    {
      "cell_type": "code",
      "execution_count": 21,
      "metadata": {
        "colab": {
          "base_uri": "https://localhost:8080/"
        },
        "id": "0nMQTkkz6ZxP",
        "outputId": "4c689ed8-e04f-458c-a1c9-127bc4894ebd"
      },
      "outputs": [
        {
          "output_type": "execute_result",
          "data": {
            "text/plain": [
              "array([-2.08385776, -2.04770978, -2.01495067, -2.04770978, -2.05900603])"
            ]
          },
          "metadata": {},
          "execution_count": 21
        }
      ],
      "source": [
        "targets[:seqlen]"
      ]
    },
    {
      "cell_type": "markdown",
      "metadata": {
        "id": "nxw92Mjw6wGl"
      },
      "source": [
        "### Вывод:\n",
        "В семинарском ноутбуке мы учили модель POS tagger, которая предсказывала для каждого слова (токена) в предложении его tag, т.е. часть речи. Поэтому в конструкции `nn.LSTM().forward()`, которая возвращает *`Outputs: output, (h_n, c_n)`*, нас интересовала только первая часть `output`. Она представляет собой последовательность выходов ячеек LSTM для каждого токена. \n",
        "\n",
        "Напротив, в рассматриваемой задаче нам нужно по временному ряду метеоролигических показателей (например, температура) получить 1 число: прогноз температуры через 24 часа. Соответственно теперь нас будет интересовать h_n среди выходов слоя `nn.LSTM`\n",
        "\n",
        "Перед тем как реализовать реккурентную архитектуру сделаем бэйслайн прогноз"
      ]
    },
    {
      "cell_type": "markdown",
      "metadata": {
        "id": "h9meg6YsHjS1"
      },
      "source": [
        "## Здравый смысл, бейзлайн\n",
        "\n",
        "\n",
        "\n",
        "В нашем случае температурные временные ряды можно смело считать периодическими (завтра температура, вероятно, будет близка к\n",
        "температура сегодня). Таким образом, подход здравого смысла будет всегда предсказывать, что температура через\n",
        "24 часа будут равны температуре прямо сейчас. Давайте оценим этот подход, используя метрику средней абсолютной ошибки (MAE).\n"
      ]
    },
    {
      "cell_type": "code",
      "execution_count": 23,
      "metadata": {
        "colab": {
          "base_uri": "https://localhost:8080/"
        },
        "id": "qrOTJaNmHjS1",
        "outputId": "3482cf1a-3ac2-4f87-879e-632e16e29f50"
      },
      "outputs": [
        {
          "output_type": "stream",
          "name": "stderr",
          "text": [
            "100%|██████████| 769/769 [00:03<00:00, 222.63it/s]"
          ]
        },
        {
          "output_type": "stream",
          "name": "stdout",
          "text": [
            "MAE = 0.2780\n"
          ]
        },
        {
          "output_type": "stream",
          "name": "stderr",
          "text": [
            "\n"
          ]
        }
      ],
      "source": [
        "from tqdm import tqdm\n",
        "\n",
        "def evaluate_naive_method():\n",
        "    batch_maes = []\n",
        "    for step in tqdm(range(val_steps)):\n",
        "        samples, targets = next(val_gen)\n",
        "        preds = samples[:, -1, 1] # (все объекты выборки; время, соотвествующее моменту \"сейчас\"; столбец температура)\n",
        "        mae = np.mean(np.abs(preds - targets))\n",
        "        batch_maes.append(mae)\n",
        "    print(f'MAE = {np.mean(batch_maes):.4f}')\n",
        "    \n",
        "evaluate_naive_method()"
      ]
    },
    {
      "cell_type": "markdown",
      "metadata": {
        "id": "exHIH-3OHjS1"
      },
      "source": [
        "## Реккурентная сетка\n",
        "### Домашнее задание: \n",
        "Написать и обучить свою реккурентную сеть. Предлагается применить все возможные методы: bidirectional, num_layers ...\n",
        "\n",
        "Жестких критериев, по которым будет оцениваться работа, нет\n",
        "- Необходимо обучить модель и получить достойное качество\n",
        "- Необходимо реализовать сеть через класс\n",
        "- Нужно выделить на данных как train, так и val датасеты\n",
        "- При появлении симптомов переобучения воспользоваться техникой early stopping. \n",
        "- Нужно построить графики для качества модели и Loss\n",
        "- Может помочь [Dropout](https://towardsdatascience.com/12-main-dropout-methods-mathematical-and-visual-explanation-58cdc2112293) (не факт)\n",
        "\n",
        "Для начала нам нужно предобработать данные:\n",
        "\n",
        "* Предварительная обработка данных до формата, который нейронная сеть может принять. Каждый временной ряд в данных имеет разный масштаб (например, температура обычно составляет от -20 до +30, но\n",
        "давление, измеренное в мбар, составляет около 1000). Поэтому нужно всё нормализовывать\n",
        "\n"
      ]
    },
    {
      "cell_type": "code",
      "execution_count": null,
      "metadata": {
        "id": "j1A-zYOgrykO"
      },
      "outputs": [],
      "source": [
        ""
      ]
    },
    {
      "cell_type": "code",
      "execution_count": null,
      "metadata": {
        "id": "85rknkpCrym5"
      },
      "outputs": [],
      "source": [
        ""
      ]
    },
    {
      "cell_type": "code",
      "execution_count": null,
      "metadata": {
        "id": "hab7Kpp_rypd"
      },
      "outputs": [],
      "source": [
        ""
      ]
    }
  ],
  "metadata": {
    "accelerator": "GPU",
    "colab": {
      "collapsed_sections": [],
      "name": "HW03_Weather_forecast_RNN.ipynb",
      "provenance": []
    },
    "kernelspec": {
      "display_name": "Python 3",
      "language": "python",
      "name": "python3"
    },
    "language_info": {
      "codemirror_mode": {
        "name": "ipython",
        "version": 3
      },
      "file_extension": ".py",
      "mimetype": "text/x-python",
      "name": "python",
      "nbconvert_exporter": "python",
      "pygments_lexer": "ipython3",
      "version": "3.7.4"
    }
  },
  "nbformat": 4,
  "nbformat_minor": 0
}