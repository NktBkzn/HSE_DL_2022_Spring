{
  "cells": [
    {
      "cell_type": "markdown",
      "metadata": {
        "id": "zet3pkYvswFj"
      },
      "source": [
        "Семинар заимствован с отличного курса [МФТИ](https://ml-mipt.github.io/)"
      ]
    },
    {
      "cell_type": "code",
      "execution_count": null,
      "metadata": {
        "id": "s2hYoYWkRK72"
      },
      "outputs": [],
      "source": [
        "from google.colab import drive \n",
        "drive.mount('/content/drive')\n",
        "\n",
        "%cd /content/drive/MyDrive/HSE_DL_2021/14_week"
      ]
    },
    {
      "cell_type": "markdown",
      "metadata": {
        "id": "My_n1lIjsaFt"
      },
      "source": [
        "## Practice: Attention Basics\n",
        "Original notebook is provided by Udacity at [github](https://github.com/udacity/deep-learning-v2-pytorch/blob/master/attention/Attention_Basics.ipynb).\n",
        "\n",
        "In this notebook, we look at how attention is implemented. We will focus on implementing attention in isolation from a larger model. That's because when implementing attention in a real-world model, a lot of the focus goes into piping the data and juggling the various vectors rather than the concepts of attention themselves.\n",
        "\n",
        "We will implement attention scoring as well as calculating an attention context vector.\n",
        "\n",
        "## Attention Scoring\n",
        "### Inputs to the scoring function\n",
        "Let's start by looking at the inputs we'll give to the scoring function. We will assume we're in the first step in the decoding phase. The first input to the scoring function is the hidden state of decoder (assuming a toy RNN with three hidden nodes -- not usable in real life, but easier to illustrate):"
      ]
    },
    {
      "cell_type": "code",
      "execution_count": null,
      "metadata": {
        "id": "QOoL01t2saFy"
      },
      "outputs": [],
      "source": [
        "dec_hidden_state = [5,1,20]"
      ]
    },
    {
      "cell_type": "markdown",
      "metadata": {
        "id": "lZofwd8gsaF0"
      },
      "source": [
        "Let's visualize this vector:"
      ]
    },
    {
      "cell_type": "code",
      "execution_count": null,
      "metadata": {
        "colab": {
          "background_save": true
        },
        "id": "Z7rhLGf4saF0"
      },
      "outputs": [],
      "source": [
        "%matplotlib inline\n",
        "import numpy as np\n",
        "import matplotlib.pyplot as plt\n",
        "import seaborn as sns\n",
        "\n",
        "# Let's visualize our decoder hidden state\n",
        "plt.figure(figsize=(1.5, 4.5))\n",
        "sns.heatmap(np.transpose(np.matrix(dec_hidden_state)), annot=True, cmap=sns.light_palette(\"purple\", as_cmap=True), linewidths=1)"
      ]
    },
    {
      "cell_type": "markdown",
      "metadata": {
        "id": "BJNo7lzpsaF2"
      },
      "source": [
        "Our first scoring function will score a single annotation (encoder hidden state), which looks like this:"
      ]
    },
    {
      "cell_type": "code",
      "execution_count": null,
      "metadata": {
        "colab": {
          "background_save": true
        },
        "id": "208LXbsYsaF2"
      },
      "outputs": [],
      "source": [
        "annotation = [3,12,45] #e.g. Encoder hidden state"
      ]
    },
    {
      "cell_type": "code",
      "execution_count": null,
      "metadata": {
        "id": "MGqg7yXvsaF3"
      },
      "outputs": [],
      "source": [
        "# Let's visualize the single annotation\n",
        "plt.figure(figsize=(1.5, 4.5))\n",
        "sns.heatmap(np.transpose(np.matrix(annotation)), annot=True, cmap=sns.light_palette(\"orange\", as_cmap=True), linewidths=1)"
      ]
    },
    {
      "cell_type": "markdown",
      "metadata": {
        "id": "BXfeQcWzsaF4"
      },
      "source": [
        "### IMPLEMENT: Scoring a Single Annotation\n",
        "Let's calculate the dot product of a single annotation. NumPy's [dot()](https://docs.scipy.org/doc/numpy/reference/generated/numpy.dot.html) is a good candidate for this operation"
      ]
    },
    {
      "cell_type": "code",
      "execution_count": null,
      "metadata": {
        "id": "cANmJv8gsaF4"
      },
      "outputs": [],
      "source": [
        "def single_dot_attention_score(dec_hidden_state, enc_hidden_state):\n",
        "    return np.dot(dec_hidden_state, enc_hidden_state)\n",
        "    \n",
        "single_dot_attention_score(dec_hidden_state, annotation)"
      ]
    },
    {
      "cell_type": "markdown",
      "metadata": {
        "id": "oTcsPaaEsaF5"
      },
      "source": [
        "\n",
        "### Annotations Matrix\n",
        "Let's now look at scoring all the annotations at once. To do that, here's our annotation matrix:"
      ]
    },
    {
      "cell_type": "code",
      "execution_count": null,
      "metadata": {
        "id": "oOfVKZNssaF5"
      },
      "outputs": [],
      "source": [
        "annotations = np.transpose([[3,12,45], [59,2,5], [1,43,5], [4,3,45.3]])"
      ]
    },
    {
      "cell_type": "markdown",
      "metadata": {
        "id": "cK_5oLaAsaF5"
      },
      "source": [
        "And it can be visualized like this (each column is a hidden state of an encoder time step):"
      ]
    },
    {
      "cell_type": "code",
      "execution_count": null,
      "metadata": {
        "id": "ESkMX_xnsaF6"
      },
      "outputs": [],
      "source": [
        "# Let's visualize our annotation (each column is an annotation)\n",
        "ax = sns.heatmap(annotations, annot=True, cmap=sns.light_palette(\"orange\", as_cmap=True), linewidths=1)"
      ]
    },
    {
      "cell_type": "markdown",
      "metadata": {
        "id": "-4Uq9Dy8saF6"
      },
      "source": [
        "### IMPLEMENT: Scoring All Annotations at Once\n",
        "Let's calculate the scores of all the annotations in one step using matrix multiplication. Let's continue to us the dot scoring method"
      ]
    },
    {
      "cell_type": "code",
      "execution_count": null,
      "metadata": {
        "id": "hIoqLb4eRAer"
      },
      "outputs": [],
      "source": [
        "from IPython.display import Image\n",
        "Image('img/scoring_functions.png')"
      ]
    },
    {
      "cell_type": "markdown",
      "metadata": {
        "id": "zrHD4Y5bQ_tZ"
      },
      "source": [
        "To do that, we'll have to transpose `dec_hidden_state` and [matrix multiply](https://docs.scipy.org/doc/numpy/reference/generated/numpy.matmul.html) it with `annotations`."
      ]
    },
    {
      "cell_type": "code",
      "execution_count": null,
      "metadata": {
        "id": "_IT8LMV9saF6"
      },
      "outputs": [],
      "source": [
        "def dot_attention_score(dec_hidden_state, annotations):\n",
        "    # return the product of dec_hidden_state transpose and enc_hidden_states\n",
        "    print(len(dec_hidden_state), annotations.shape)\n",
        "    return np.transpose(dec_hidden_state) @ annotations\n",
        "    \n",
        "attention_weights_raw = dot_attention_score(dec_hidden_state, annotations)\n",
        "attention_weights_raw"
      ]
    },
    {
      "cell_type": "code",
      "execution_count": null,
      "metadata": {
        "id": "LiEXWJe6UjzF"
      },
      "outputs": [],
      "source": [
        "np.transpose(dec_hidden_state), dec_hidden_state"
      ]
    },
    {
      "cell_type": "markdown",
      "metadata": {
        "id": "VL6osOBpsaF7"
      },
      "source": [
        "Looking at these scores, can you guess which of the four vectors will get the most attention from the decoder at this time step?\n",
        "\n",
        "## Softmax\n",
        "Now that we have our scores, let's apply softmax:"
      ]
    },
    {
      "cell_type": "code",
      "execution_count": null,
      "metadata": {
        "id": "Yr783-q_Wqzc"
      },
      "outputs": [],
      "source": [
        "Image('img/softmax.png')"
      ]
    },
    {
      "cell_type": "code",
      "execution_count": null,
      "metadata": {
        "id": "xT_bP_ziWxqK"
      },
      "outputs": [],
      "source": [
        "attention_weights_raw"
      ]
    },
    {
      "cell_type": "code",
      "execution_count": null,
      "metadata": {
        "id": "AEsAslgosaF7"
      },
      "outputs": [],
      "source": [
        "def softmax(x):\n",
        "    x = np.array(x, dtype=np.float128)\n",
        "    e_x = np.exp(x)\n",
        "    return e_x / e_x.sum(axis=0) \n",
        "\n",
        "attention_weights = softmax(attention_weights_raw)\n",
        "attention_weights"
      ]
    },
    {
      "cell_type": "markdown",
      "metadata": {
        "id": "tOO-Uq7HsaF7"
      },
      "source": [
        "Even when knowing which annotation will get the most focus, it's interesting to see how drastic softmax makes the end score become. The first and last annotation had the respective scores of 927 and 929. But after softmax, the attention they'll get is 0.12 and 0.88 respectively.\n",
        "\n",
        "# Applying the scores back on the annotations\n",
        "Now that we have our scores, let's multiply each annotation by its score to proceed closer to the attention context vector. This is the multiplication part of this formula (we'll tackle the summation part in the latter cells)"
      ]
    },
    {
      "cell_type": "code",
      "execution_count": null,
      "metadata": {
        "id": "TG6KyDz3XF4C"
      },
      "outputs": [],
      "source": [
        "Image('img/Context_vector.png')"
      ]
    },
    {
      "cell_type": "code",
      "execution_count": null,
      "metadata": {
        "id": "-xxq3B5ksaF8"
      },
      "outputs": [],
      "source": [
        "def apply_attention_scores(attention_weights, annotations):\n",
        "    # Multiple the annotations by their weights\n",
        "    return annotations * attention_weights\n",
        "\n",
        "applied_attention = apply_attention_scores(attention_weights, annotations)\n",
        "applied_attention"
      ]
    },
    {
      "cell_type": "markdown",
      "metadata": {
        "id": "8IOFePeCsaF8"
      },
      "source": [
        "Let's visualize how the context vector looks now that we've applied the attention scores back on it:"
      ]
    },
    {
      "cell_type": "code",
      "execution_count": null,
      "metadata": {
        "id": "ZJMFiMI_saF8"
      },
      "outputs": [],
      "source": [
        "# Let's visualize our annotations after applying attention to them\n",
        "ax = sns.heatmap(applied_attention, annot=True, cmap=sns.light_palette(\"orange\", as_cmap=True), linewidths=1)"
      ]
    },
    {
      "cell_type": "markdown",
      "metadata": {
        "id": "XlpB9ztosaF9"
      },
      "source": [
        "Contrast this with the raw annotations visualized earlier in the notebook, and we can see that the second and third annotations (columns) have been nearly wiped out. The first annotation maintains some of its value, and the fourth annotation is the most pronounced.\n",
        "\n",
        "# Calculating the Attention Context Vector\n",
        "All that remains to produce our attention context vector now is to sum up the four columns to produce a single attention context vector\n"
      ]
    },
    {
      "cell_type": "code",
      "execution_count": null,
      "metadata": {
        "id": "3Nt3xDyQsaF9"
      },
      "outputs": [],
      "source": [
        "def calculate_attention_vector(applied_attention):\n",
        "    return np.sum(applied_attention, axis=1)\n",
        "\n",
        "attention_vector = calculate_attention_vector(applied_attention)\n",
        "attention_vector"
      ]
    },
    {
      "cell_type": "code",
      "execution_count": null,
      "metadata": {
        "id": "FbkOmXmzsaF9",
        "scrolled": false
      },
      "outputs": [],
      "source": [
        "# Let's visualize the attention context vector\n",
        "plt.figure(figsize=(1.5, 4.5))\n",
        "sns.heatmap(np.transpose(np.matrix(attention_vector)), annot=True, cmap=sns.light_palette(\"Blue\", as_cmap=True), linewidths=1)"
      ]
    },
    {
      "cell_type": "markdown",
      "metadata": {
        "id": "7GHj2E7KsaF9"
      },
      "source": [
        "Now that we have the context vector, we can concatenate it with the hidden state and pass it through a hidden layer to produce the the result of this decoding time step."
      ]
    },
    {
      "cell_type": "markdown",
      "metadata": {
        "id": "O3zbqiLVsaF9"
      },
      "source": [
        "### Your turn:\n",
        "Now implement the _general_ and _concat_ attention scores and check it below."
      ]
    },
    {
      "cell_type": "code",
      "execution_count": null,
      "metadata": {
        "id": "k-L00kqtsaF9"
      },
      "outputs": [],
      "source": [
        "# Yeah, you need to initialize the matrix first (just use random, the main idea is the dimentionality)\n",
        "Wa = # <YOUR CODE HERE> \n",
        "def general_attention_score(dec_hidden_state, annotations, Wa):\n",
        "    # TODO: return the product of dec_hidden_state transpose and enc_hidden_states\n",
        "    return \n",
        "    \n",
        "attention_weights_raw = general_attention_score(dec_hidden_state, annotations, Wa)\n",
        "attention_weights_raw"
      ]
    },
    {
      "cell_type": "code",
      "execution_count": null,
      "metadata": {
        "id": "Ongfk_a_saF-"
      },
      "outputs": [],
      "source": [
        "# Some post-processing like above"
      ]
    },
    {
      "cell_type": "code",
      "execution_count": null,
      "metadata": {
        "id": "7C1rmzoDsaF-"
      },
      "outputs": [],
      "source": [
        "# And here you need to initialize both the vector v and the matrix Wa (\n",
        "# (again, random is fine)\n",
        "\n",
        "Wa = # <YOUR CODE HERE> \n",
        "va = # <YOUR CODE HERE> \n",
        "def concat_attention_score(dec_hidden_state, annotations, Wa, va):\n",
        "    # TODO: return the product of dec_hidden_state transpose and enc_hidden_states\n",
        "    return \n",
        "    \n",
        "attention_weights_raw = concat_attention_score(dec_hidden_state, annotations, Wa, va)\n",
        "attention_weights_raw"
      ]
    },
    {
      "cell_type": "code",
      "execution_count": null,
      "metadata": {
        "id": "8rkztDuasaF-"
      },
      "outputs": [],
      "source": [
        "# And again some post-processing"
      ]
    }
  ],
  "metadata": {
    "anaconda-cloud": {},
    "colab": {
      "collapsed_sections": [],
      "name": "Attention_basics.ipynb",
      "provenance": []
    },
    "kernelspec": {
      "display_name": "Python 3",
      "name": "python3"
    },
    "language_info": {
      "name": "python"
    }
  },
  "nbformat": 4,
  "nbformat_minor": 0
}