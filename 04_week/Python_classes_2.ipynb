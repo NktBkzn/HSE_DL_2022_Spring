{
  "nbformat": 4,
  "nbformat_minor": 0,
  "metadata": {
    "colab": {
      "name": "Python_classes_2.ipynb",
      "provenance": [],
      "collapsed_sections": []
    },
    "kernelspec": {
      "name": "python3",
      "display_name": "Python 3"
    },
    "language_info": {
      "name": "python"
    }
  },
  "cells": [
    {
      "cell_type": "markdown",
      "metadata": {
        "id": "mV8UbrE4Z_zV"
      },
      "source": [
        "## Создание сети через класс в Python"
      ]
    },
    {
      "cell_type": "markdown",
      "metadata": {
        "id": "sD__jTmK17Ab"
      },
      "source": [
        "Создадим простейший класс в Питоне. Затем инициализирцем новый объект класса и сохраним в локальную переменную `c`"
      ]
    },
    {
      "cell_type": "code",
      "metadata": {
        "id": "AA5QQhVg15nZ"
      },
      "source": [
        "class Example:\n",
        "    \n",
        "  \"A basic example class that returns a function object\"\n",
        "  def b(self):\n",
        "    return \"this is an example class\"\n",
        "\n",
        "c = Example()"
      ],
      "execution_count": null,
      "outputs": []
    },
    {
      "cell_type": "markdown",
      "metadata": {
        "id": "EUMtJFaE2itD"
      },
      "source": [
        "Все атрибуты или поля класса удобно задавать через специальную функцию, называемую конструктор `__init__`. Все атрибуты класса должны начинаться с `self.<name>`. Удобство использования атрибутов в классе заключается в том, что атрибуты видны в любом месте внутри класса. Так, `self.length` и `self.width` создаются в конструкторе, а используются в функции `area`"
      ]
    },
    {
      "cell_type": "code",
      "metadata": {
        "id": "0LHj6bwR15qP"
      },
      "source": [
        "class Square:\n",
        "\n",
        "   def __init__(self, length, width):\n",
        "       self.length = length\n",
        "       self.width = width\n",
        "\n",
        "   def area(self):\n",
        "       return self.width * self.length\n",
        "\n",
        "       \n",
        "r = Square(20, 2000)\n",
        "print(\"Rectangle Area: %d\" % (r.area()))"
      ],
      "execution_count": null,
      "outputs": []
    },
    {
      "cell_type": "markdown",
      "metadata": {
        "id": "1xdmkb8GKeKU"
      },
      "source": [
        "Конечно, основная причина использования классов в Python заключается в том, что это позволяет создавать объекты кастомных типов. Например, задать точку в пространстве, указав ее координаты, создать объект животное со всеми описаниями конкретного вида и возможностями, присущими только ему и др.\n",
        "\n",
        "Ниже мы создаем несколько объектов класса \"Собака\". Каждый объект обладает собсвтенной породой и окрасом"
      ]
    },
    {
      "cell_type": "code",
      "metadata": {
        "id": "-SIxsLUJKHMM"
      },
      "source": [
        "class Dog:\n",
        "   \n",
        "    # Class Variable\n",
        "    animal = 'dog'            \n",
        "   \n",
        "    # The init method or constructor\n",
        "    def __init__(self, breed, color):\n",
        "     \n",
        "        # Instance Variable    \n",
        "        self.breed = breed\n",
        "        self.color = color\n",
        "    \n",
        "# Objects of Dog class\n",
        "Rodger = Dog(\"Pug\", \"brown\")\n",
        "Buzo = Dog(\"Bulldog\", \"black\")\n",
        " \n",
        "print('Rodger details:')  \n",
        "print('Rodger is a', Rodger.animal)\n",
        "print('Breed: ', Rodger.breed)\n",
        "print('Color: ', Rodger.color)\n",
        " \n",
        "print('\\nBuzo details:')  \n",
        "print('Buzo is a', Buzo.animal)\n",
        "print('Breed: ', Buzo.breed)\n",
        "print('Color: ', Buzo.color)\n",
        " \n",
        "# Class variables can be accessed using class name also\n",
        "print(\"\\nAccessing class variable using class name\")\n",
        "print(Dog.animal)"
      ],
      "execution_count": null,
      "outputs": []
    },
    {
      "cell_type": "code",
      "metadata": {
        "id": "f0Z6XwwnJzN9"
      },
      "source": [
        "class Dog:\n",
        "       \n",
        "    # Class Variable\n",
        "    animal = 'dog'     \n",
        "       \n",
        "    # The init method or constructor\n",
        "    def __init__(self, breed):\n",
        "           \n",
        "        # Instance Variable\n",
        "        self.breed = breed            \n",
        "   \n",
        "    # Adds an instance variable \n",
        "    def setColor(self, color):\n",
        "        self.color = color\n",
        "       \n",
        "    # Retrieves instance variable    \n",
        "    def getColor(self):    \n",
        "        return self.color   \n",
        "   \n",
        "Rodger = Dog(\"pug\")\n",
        "Rodger.setColor(\"brown\")\n",
        "print(Rodger.getColor()) "
      ],
      "execution_count": null,
      "outputs": []
    },
    {
      "cell_type": "markdown",
      "metadata": {
        "id": "UQ7jXhtk586I"
      },
      "source": [
        "[Источник](https://www.geeksforgeeks.org/python-classes-and-objects/) некоторых фрагментов кода"
      ]
    },
    {
      "cell_type": "markdown",
      "metadata": {
        "id": "Vdf3gBKM5y6g"
      },
      "source": [
        "### Наследование классов в Питоне"
      ]
    },
    {
      "cell_type": "markdown",
      "metadata": {
        "id": "D_sN86Fn6IsX"
      },
      "source": [
        "Наследование позволяет определить класс, который использует все поля и методы другого (базового или родительского) класса. Это ускоряет и упрощает процесс разработки. Нет необходимости каждый раз переписывать стнадартные операции. Очевидная аналогия - использование встроенных в Питон функций типа `sum` или `mean`. \\\n",
        "\n",
        "Терминология: \n",
        "- Parent class - класс, от которого другой класс наследует поля и методы\n",
        "- Child class - класс, который наследует поля и методы родительского класса"
      ]
    },
    {
      "cell_type": "markdown",
      "metadata": {
        "id": "lVevjQhf7H81"
      },
      "source": [
        "Любой класс в Питоне может быть ролительским, поэтому создание родительского класса ничем не отличается от создание обычного класса, т.е. от уже привычного нам способа"
      ]
    },
    {
      "cell_type": "code",
      "metadata": {
        "id": "mF_LKoCp7Eit"
      },
      "source": [
        "class Person:\n",
        "\n",
        "  def __init__(self, fname, lname):\n",
        "    self.firstname = fname\n",
        "    self.lastname = lname\n",
        "\n",
        "  def printname(self):\n",
        "    print(self.firstname, self.lastname)\n",
        "\n",
        "#Use the Person class to create an object, and then execute the printname method:\n",
        "x = Person(\"John\", \"Doe\")\n",
        "x.printname()"
      ],
      "execution_count": null,
      "outputs": []
    },
    {
      "cell_type": "markdown",
      "metadata": {
        "id": "fd_zOFwx7Vg8"
      },
      "source": [
        "Чтобы создать child class нужно передать в качестве парметра классу название родительского класса.\n",
        "\n",
        "Теперь класс `Student` обладает всеми методами и полями, что были у класса `Person`"
      ]
    },
    {
      "cell_type": "code",
      "metadata": {
        "id": "vndtyA7w7U5t"
      },
      "source": [
        "class Student(Person):\n",
        "    pass\n",
        "\n",
        "x = Student(\"Mike\", \"Olsen\")\n",
        "x.printname()"
      ],
      "execution_count": null,
      "outputs": []
    },
    {
      "cell_type": "markdown",
      "metadata": {
        "id": "Mj_V7aKX8MyP"
      },
      "source": [
        "В большинстве случаев мы не просто хотим использовать функционал родительского класса под новым названием, скорее мы хотим расширить этот функционал новыми методами, тем самым дав большую специализацию выбранному классу. Например, перейти от человека к студенту.\n",
        "\n",
        "Мы можем переопределять методы родительского класса для их использования в child классе. Если мы в child классе создали метод с идентичным названием методу из родительского класса, то метод функционал метода из родительского класса будет утрачен и изменен на вновь созданный функционал"
      ]
    },
    {
      "cell_type": "code",
      "metadata": {
        "id": "MpAPRpgP8NA5"
      },
      "source": [
        "class Student(Person):\n",
        "    def __init__(self, fname, lname):\n",
        "        #add properties etc."
      ],
      "execution_count": null,
      "outputs": []
    },
    {
      "cell_type": "markdown",
      "metadata": {
        "id": "C6KSBpCe9NOf"
      },
      "source": [
        "Тем не менее, бывает, что мы хотим сохранить возможности родительского метода и добавить кое-что от себя в этот же метод. В таком случае можно переопределить уже существующий метод, но внутри него вызвать метод родительского класса"
      ]
    },
    {
      "cell_type": "code",
      "metadata": {
        "id": "2QIVITBr9NZi"
      },
      "source": [
        "class Student(Person):\n",
        "    def __init__(self, fname, lname):\n",
        "        Person.__init__(self, fname, lname)\n",
        "        #add properties etc."
      ],
      "execution_count": null,
      "outputs": []
    },
    {
      "cell_type": "markdown",
      "metadata": {
        "id": "YKX1QEth9336"
      },
      "source": [
        "#### super() функция\n",
        "В Питоне есть функция super(), которая позволяет унаследовать и \"заимпортировать\" все методы и поля родительского класса. Ее нужно вызываьт внутри конструктора `__init__`"
      ]
    },
    {
      "cell_type": "code",
      "metadata": {
        "id": "LimxdPqU-AOi"
      },
      "source": [
        "class Student(Person):\n",
        "    def __init__(self, fname, lname):\n",
        "        super().__init__(fname, lname)"
      ],
      "execution_count": null,
      "outputs": []
    },
    {
      "cell_type": "markdown",
      "metadata": {
        "id": "1JpTBF8sCVyb"
      },
      "source": [
        "Устаревшая форма записи функции super() через подачу в нее аргументов - название создаваемого класса и ключевое слово `self`. "
      ]
    },
    {
      "cell_type": "code",
      "metadata": {
        "id": "GeWiTKfrCTlA"
      },
      "source": [
        "class Student(Person):\n",
        "    def __init__(self, fname, lname):\n",
        "        super(Student, self).__init__(fname, lname)"
      ],
      "execution_count": null,
      "outputs": []
    },
    {
      "cell_type": "markdown",
      "metadata": {
        "id": "uH1fshyM-2JE"
      },
      "source": [
        "Рассмотрим ниже пример использования функции `super()`. Здесь мы использовали констурктор родительского класса `Person`. Дополнили его полем `self.graduationyear`, а затем добавили новый метод `welcome()`"
      ]
    },
    {
      "cell_type": "code",
      "metadata": {
        "id": "YFvNVare-AWK"
      },
      "source": [
        "class Student(Person):\n",
        "    def __init__(self, fname, lname, year):\n",
        "        super().__init__(fname, lname) # иначе при потпытке вызова st.printname() будет AttributeError: 'Student' object has no attribute 'firstname'\n",
        "        self.graduationyear = year\n",
        "\n",
        "    def welcome(self):\n",
        "        print(\"Welcome\", self.firstname, self.lastname, \"to the class of\", self.graduationyear)"
      ],
      "execution_count": null,
      "outputs": []
    },
    {
      "cell_type": "code",
      "metadata": {
        "id": "EW19kugQ_DTe"
      },
      "source": [
        "pers = Person(\"Mike\", \"Olsen\")\n",
        "pers.printname()"
      ],
      "execution_count": null,
      "outputs": []
    },
    {
      "cell_type": "code",
      "metadata": {
        "id": "Ag8x87WR_No8"
      },
      "source": [
        "st = Student(\"Mike\", \"Olsen\", 2021)\n",
        "st.printname()\n",
        "st.welcome()"
      ],
      "execution_count": null,
      "outputs": []
    },
    {
      "cell_type": "markdown",
      "metadata": {
        "id": "4RHxnj5MA2mw"
      },
      "source": [
        " ## Создание нейронной сети через класс"
      ]
    },
    {
      "cell_type": "code",
      "metadata": {
        "id": "7e5HsGDNCFm3"
      },
      "source": [
        "from google.colab import drive\n",
        "drive.mount('/content/gdrive')"
      ],
      "execution_count": null,
      "outputs": []
    },
    {
      "cell_type": "code",
      "metadata": {
        "id": "kBuD4smvCHgY"
      },
      "source": [
        "%cd /content/gdrive/My Drive/HSE_DL_2021/04_week"
      ],
      "execution_count": null,
      "outputs": []
    },
    {
      "cell_type": "markdown",
      "metadata": {
        "id": "OrSiL9icD_t9"
      },
      "source": [
        "### Архитектура сети"
      ]
    },
    {
      "cell_type": "markdown",
      "metadata": {
        "id": "I2IThX_aZ_zV"
      },
      "source": [
        "Раньше мы задавали архитектуру сети, используя последовательной способ объявления слоев сети `nn.Sequential`, задавая его внутри функции `build_model`\n",
        "\n",
        "Но еще можно это сделать более гибким методом:"
      ]
    },
    {
      "cell_type": "code",
      "metadata": {
        "id": "BjK4gO0pBs3r"
      },
      "source": [
        "from IPython import display\n",
        "display.Image('images/nn_module.png')"
      ],
      "execution_count": null,
      "outputs": []
    },
    {
      "cell_type": "code",
      "metadata": {
        "id": "-8AuBAsyZ_zV"
      },
      "source": [
        "import torch\n",
        "from torch import nn\n",
        "\n",
        "class TwoLayerNet(nn.Module):\n",
        "    def __init__(self, input_size, hidden_size, output_size):\n",
        "        \"\"\"\n",
        "        TwoLayerNet наследуется от nn.Module и тем самым полчаем возможность\n",
        "        переопределять методы класса.\n",
        "        В конструктуре создаем слои (обучаемые веса) и другие нужные перменные/функции,\n",
        "        которые нужны для модели\n",
        "        \"\"\"\n",
        "        super(TwoLayerNet, self).__init__() # super().__init__()\n",
        "        self.linear1 = torch.nn.Linear(input_size, hidden_size)\n",
        "        self.linear2 = torch.nn.Linear(hidden_size, output_size)\n",
        "\n",
        "    def forward(self, x):\n",
        "        \"\"\"\n",
        "        Метод forward отвечает за прямое распростронение модели, \n",
        "        поэтому данный метод нужно переопределять обязательно, \n",
        "        чтобы задать логику прямого распростронения. \n",
        "        Именно в этот момент начинает строится динамический граф\n",
        "        \"\"\"\n",
        "        h_relu = self.linear1(x).clamp(min=0)\n",
        "        y_pred = self.linear2(h_relu)\n",
        "        \n",
        "        return y_pred"
      ],
      "execution_count": null,
      "outputs": []
    },
    {
      "cell_type": "code",
      "metadata": {
        "id": "WS81-idSZ_zV"
      },
      "source": [
        "batch_size = 64\n",
        "input_size = 1000\n",
        "hidden_size = 100\n",
        "output_size = 10\n",
        "\n",
        "device = torch.device('cuda: 0' if torch.cuda.is_available() else 'cpu')\n",
        "\n",
        "x = torch.randn(batch_size, input_size, device=device)\n",
        "y = torch.randn(batch_size, output_size, device=device)\n",
        "\n",
        "model = TwoLayerNet(input_size, hidden_size, output_size)\n",
        "\n",
        "loss_fn = torch.nn.MSELoss(reduction='sum')\n",
        "optimizer = torch.optim.SGD(model.parameters(), lr=1e-4)\n",
        "\n",
        "for t in range(500):\n",
        "    y_pred = model(x)\n",
        "\n",
        "    loss = loss_fn(y_pred, y)\n",
        "    if t % 100 == 99:\n",
        "        print(t, loss.item())\n",
        "\n",
        "    optimizer.zero_grad()\n",
        "    loss.backward()\n",
        "    optimizer.step()"
      ],
      "execution_count": null,
      "outputs": []
    },
    {
      "cell_type": "code",
      "metadata": {
        "id": "2R0qnKSNbtlj"
      },
      "source": [
        ""
      ],
      "execution_count": null,
      "outputs": []
    }
  ]
}